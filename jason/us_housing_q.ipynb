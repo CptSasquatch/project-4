{
 "cells": [
  {
   "attachments": {},
   "cell_type": "markdown",
   "metadata": {},
   "source": [
    "# US Housing Market Analysis"
   ]
  },
  {
   "cell_type": "code",
   "execution_count": 72,
   "metadata": {},
   "outputs": [],
   "source": [
    "#import dependencies\n",
    "import pandas as pd\n",
    "import numpy as np\n",
    "import matplotlib.pyplot as plt\n",
    "from pathlib import Path\n",
    "from sklearn.ensemble import RandomForestClassifier\n",
    "from sklearn.preprocessing import StandardScaler\n",
    "from sklearn.model_selection import train_test_split\n",
    "from sklearn.metrics import confusion_matrix, accuracy_score, classification_report"
   ]
  },
  {
   "attachments": {},
   "cell_type": "markdown",
   "metadata": {},
   "source": [
    "# Loading and cleaning data\n",
    "We will be using data from [US Housing Market Analysis: Supply-Demand Dynamics](https://www.kaggle.com/datasets/utkarshx27/factors-influence-house-price-in-us) on Kaggle. There are 2 csv files in this dataset: `supply.csv' and `demand.csv`. "
   ]
  },
  {
   "cell_type": "code",
   "execution_count": 73,
   "metadata": {},
   "outputs": [
    {
     "data": {
      "text/html": [
       "<div>\n",
       "<style scoped>\n",
       "    .dataframe tbody tr th:only-of-type {\n",
       "        vertical-align: middle;\n",
       "    }\n",
       "\n",
       "    .dataframe tbody tr th {\n",
       "        vertical-align: top;\n",
       "    }\n",
       "\n",
       "    .dataframe thead th {\n",
       "        text-align: right;\n",
       "    }\n",
       "</style>\n",
       "<table border=\"1\" class=\"dataframe\">\n",
       "  <thead>\n",
       "    <tr style=\"text-align: right;\">\n",
       "      <th></th>\n",
       "      <th>DATE</th>\n",
       "      <th>CSUSHPISA</th>\n",
       "      <th>MSACSR</th>\n",
       "      <th>PERMIT</th>\n",
       "      <th>TLRESCONS</th>\n",
       "      <th>EVACANTUSQ176N</th>\n",
       "    </tr>\n",
       "  </thead>\n",
       "  <tbody>\n",
       "    <tr>\n",
       "      <th>0</th>\n",
       "      <td>01-01-2003</td>\n",
       "      <td>129.321</td>\n",
       "      <td>4.2</td>\n",
       "      <td>1806.333333</td>\n",
       "      <td>421328.6667</td>\n",
       "      <td>14908</td>\n",
       "    </tr>\n",
       "    <tr>\n",
       "      <th>1</th>\n",
       "      <td>01-04-2003</td>\n",
       "      <td>131.756</td>\n",
       "      <td>3.833333333</td>\n",
       "      <td>1837.666667</td>\n",
       "      <td>429308.6667</td>\n",
       "      <td>15244</td>\n",
       "    </tr>\n",
       "    <tr>\n",
       "      <th>2</th>\n",
       "      <td>01-07-2003</td>\n",
       "      <td>135.013</td>\n",
       "      <td>3.633333333</td>\n",
       "      <td>1937.333333</td>\n",
       "      <td>458890</td>\n",
       "      <td>15614</td>\n",
       "    </tr>\n",
       "    <tr>\n",
       "      <th>3</th>\n",
       "      <td>01-10-2003</td>\n",
       "      <td>138.8356667</td>\n",
       "      <td>3.966666667</td>\n",
       "      <td>1972.333333</td>\n",
       "      <td>491437.3333</td>\n",
       "      <td>15654</td>\n",
       "    </tr>\n",
       "    <tr>\n",
       "      <th>4</th>\n",
       "      <td>01-01-2004</td>\n",
       "      <td>143.2986667</td>\n",
       "      <td>3.7</td>\n",
       "      <td>1994.666667</td>\n",
       "      <td>506856.3333</td>\n",
       "      <td>15895</td>\n",
       "    </tr>\n",
       "  </tbody>\n",
       "</table>\n",
       "</div>"
      ],
      "text/plain": [
       "         DATE    CSUSHPISA       MSACSR       PERMIT    TLRESCONS  \\\n",
       "0  01-01-2003      129.321          4.2  1806.333333  421328.6667   \n",
       "1  01-04-2003      131.756  3.833333333  1837.666667  429308.6667   \n",
       "2  01-07-2003      135.013  3.633333333  1937.333333       458890   \n",
       "3  01-10-2003  138.8356667  3.966666667  1972.333333  491437.3333   \n",
       "4  01-01-2004  143.2986667          3.7  1994.666667  506856.3333   \n",
       "\n",
       "  EVACANTUSQ176N  \n",
       "0          14908  \n",
       "1          15244  \n",
       "2          15614  \n",
       "3          15654  \n",
       "4          15895  "
      ]
     },
     "execution_count": 73,
     "metadata": {},
     "output_type": "execute_result"
    }
   ],
   "source": [
    "# Read in data\n",
    "file_path = Path(\"data/supply.csv\")\n",
    "supply_df = pd.read_csv(file_path)\n",
    "supply_df.head()"
   ]
  },
  {
   "cell_type": "code",
   "execution_count": 74,
   "metadata": {},
   "outputs": [
    {
     "data": {
      "text/html": [
       "<div>\n",
       "<style scoped>\n",
       "    .dataframe tbody tr th:only-of-type {\n",
       "        vertical-align: middle;\n",
       "    }\n",
       "\n",
       "    .dataframe tbody tr th {\n",
       "        vertical-align: top;\n",
       "    }\n",
       "\n",
       "    .dataframe thead th {\n",
       "        text-align: right;\n",
       "    }\n",
       "</style>\n",
       "<table border=\"1\" class=\"dataframe\">\n",
       "  <thead>\n",
       "    <tr style=\"text-align: right;\">\n",
       "      <th></th>\n",
       "      <th>DATE</th>\n",
       "      <th>CSUSHPISA</th>\n",
       "      <th>MORTGAGE30US</th>\n",
       "      <th>UMCSENT</th>\n",
       "      <th>INTDSRUSM193N</th>\n",
       "      <th>MSPUS</th>\n",
       "      <th>GDP</th>\n",
       "    </tr>\n",
       "  </thead>\n",
       "  <tbody>\n",
       "    <tr>\n",
       "      <th>0</th>\n",
       "      <td>01-01-2003</td>\n",
       "      <td>129.321000</td>\n",
       "      <td>5.840769</td>\n",
       "      <td>79.966667</td>\n",
       "      <td>2.250000</td>\n",
       "      <td>186000</td>\n",
       "      <td>11174.129</td>\n",
       "    </tr>\n",
       "    <tr>\n",
       "      <th>1</th>\n",
       "      <td>01-04-2003</td>\n",
       "      <td>131.756000</td>\n",
       "      <td>5.506923</td>\n",
       "      <td>89.266667</td>\n",
       "      <td>2.166667</td>\n",
       "      <td>191800</td>\n",
       "      <td>11312.766</td>\n",
       "    </tr>\n",
       "    <tr>\n",
       "      <th>2</th>\n",
       "      <td>01-07-2003</td>\n",
       "      <td>135.013000</td>\n",
       "      <td>6.033846</td>\n",
       "      <td>89.300000</td>\n",
       "      <td>2.000000</td>\n",
       "      <td>191900</td>\n",
       "      <td>11566.669</td>\n",
       "    </tr>\n",
       "    <tr>\n",
       "      <th>3</th>\n",
       "      <td>01-10-2003</td>\n",
       "      <td>138.835667</td>\n",
       "      <td>5.919286</td>\n",
       "      <td>91.966667</td>\n",
       "      <td>2.000000</td>\n",
       "      <td>198800</td>\n",
       "      <td>11772.234</td>\n",
       "    </tr>\n",
       "    <tr>\n",
       "      <th>4</th>\n",
       "      <td>01-01-2004</td>\n",
       "      <td>143.298667</td>\n",
       "      <td>5.597500</td>\n",
       "      <td>98.000000</td>\n",
       "      <td>2.000000</td>\n",
       "      <td>212700</td>\n",
       "      <td>11923.447</td>\n",
       "    </tr>\n",
       "  </tbody>\n",
       "</table>\n",
       "</div>"
      ],
      "text/plain": [
       "         DATE   CSUSHPISA  MORTGAGE30US    UMCSENT  INTDSRUSM193N   MSPUS  \\\n",
       "0  01-01-2003  129.321000      5.840769  79.966667       2.250000  186000   \n",
       "1  01-04-2003  131.756000      5.506923  89.266667       2.166667  191800   \n",
       "2  01-07-2003  135.013000      6.033846  89.300000       2.000000  191900   \n",
       "3  01-10-2003  138.835667      5.919286  91.966667       2.000000  198800   \n",
       "4  01-01-2004  143.298667      5.597500  98.000000       2.000000  212700   \n",
       "\n",
       "         GDP  \n",
       "0  11174.129  \n",
       "1  11312.766  \n",
       "2  11566.669  \n",
       "3  11772.234  \n",
       "4  11923.447  "
      ]
     },
     "execution_count": 74,
     "metadata": {},
     "output_type": "execute_result"
    }
   ],
   "source": [
    "# Read in data\n",
    "file_path = Path(\"data/demand.csv\")\n",
    "demand_df = pd.read_csv(file_path)\n",
    "demand_df.head()"
   ]
  },
  {
   "cell_type": "code",
   "execution_count": 75,
   "metadata": {},
   "outputs": [
    {
     "data": {
      "text/html": [
       "<div>\n",
       "<style scoped>\n",
       "    .dataframe tbody tr th:only-of-type {\n",
       "        vertical-align: middle;\n",
       "    }\n",
       "\n",
       "    .dataframe tbody tr th {\n",
       "        vertical-align: top;\n",
       "    }\n",
       "\n",
       "    .dataframe thead th {\n",
       "        text-align: right;\n",
       "    }\n",
       "</style>\n",
       "<table border=\"1\" class=\"dataframe\">\n",
       "  <thead>\n",
       "    <tr style=\"text-align: right;\">\n",
       "      <th></th>\n",
       "      <th>DATE</th>\n",
       "      <th>CSUSHPISA_x</th>\n",
       "      <th>MSACSR</th>\n",
       "      <th>PERMIT</th>\n",
       "      <th>TLRESCONS</th>\n",
       "      <th>EVACANTUSQ176N</th>\n",
       "      <th>CSUSHPISA_y</th>\n",
       "      <th>MORTGAGE30US</th>\n",
       "      <th>UMCSENT</th>\n",
       "      <th>INTDSRUSM193N</th>\n",
       "      <th>MSPUS</th>\n",
       "      <th>GDP</th>\n",
       "    </tr>\n",
       "  </thead>\n",
       "  <tbody>\n",
       "    <tr>\n",
       "      <th>0</th>\n",
       "      <td>01-01-2003</td>\n",
       "      <td>129.321</td>\n",
       "      <td>4.2</td>\n",
       "      <td>1806.333333</td>\n",
       "      <td>421328.6667</td>\n",
       "      <td>14908</td>\n",
       "      <td>129.321000</td>\n",
       "      <td>5.840769</td>\n",
       "      <td>79.966667</td>\n",
       "      <td>2.250000</td>\n",
       "      <td>186000</td>\n",
       "      <td>11174.129</td>\n",
       "    </tr>\n",
       "    <tr>\n",
       "      <th>1</th>\n",
       "      <td>01-04-2003</td>\n",
       "      <td>131.756</td>\n",
       "      <td>3.833333333</td>\n",
       "      <td>1837.666667</td>\n",
       "      <td>429308.6667</td>\n",
       "      <td>15244</td>\n",
       "      <td>131.756000</td>\n",
       "      <td>5.506923</td>\n",
       "      <td>89.266667</td>\n",
       "      <td>2.166667</td>\n",
       "      <td>191800</td>\n",
       "      <td>11312.766</td>\n",
       "    </tr>\n",
       "    <tr>\n",
       "      <th>2</th>\n",
       "      <td>01-07-2003</td>\n",
       "      <td>135.013</td>\n",
       "      <td>3.633333333</td>\n",
       "      <td>1937.333333</td>\n",
       "      <td>458890</td>\n",
       "      <td>15614</td>\n",
       "      <td>135.013000</td>\n",
       "      <td>6.033846</td>\n",
       "      <td>89.300000</td>\n",
       "      <td>2.000000</td>\n",
       "      <td>191900</td>\n",
       "      <td>11566.669</td>\n",
       "    </tr>\n",
       "    <tr>\n",
       "      <th>3</th>\n",
       "      <td>01-10-2003</td>\n",
       "      <td>138.8356667</td>\n",
       "      <td>3.966666667</td>\n",
       "      <td>1972.333333</td>\n",
       "      <td>491437.3333</td>\n",
       "      <td>15654</td>\n",
       "      <td>138.835667</td>\n",
       "      <td>5.919286</td>\n",
       "      <td>91.966667</td>\n",
       "      <td>2.000000</td>\n",
       "      <td>198800</td>\n",
       "      <td>11772.234</td>\n",
       "    </tr>\n",
       "    <tr>\n",
       "      <th>4</th>\n",
       "      <td>01-01-2004</td>\n",
       "      <td>143.2986667</td>\n",
       "      <td>3.7</td>\n",
       "      <td>1994.666667</td>\n",
       "      <td>506856.3333</td>\n",
       "      <td>15895</td>\n",
       "      <td>143.298667</td>\n",
       "      <td>5.597500</td>\n",
       "      <td>98.000000</td>\n",
       "      <td>2.000000</td>\n",
       "      <td>212700</td>\n",
       "      <td>11923.447</td>\n",
       "    </tr>\n",
       "  </tbody>\n",
       "</table>\n",
       "</div>"
      ],
      "text/plain": [
       "         DATE  CSUSHPISA_x       MSACSR       PERMIT    TLRESCONS  \\\n",
       "0  01-01-2003      129.321          4.2  1806.333333  421328.6667   \n",
       "1  01-04-2003      131.756  3.833333333  1837.666667  429308.6667   \n",
       "2  01-07-2003      135.013  3.633333333  1937.333333       458890   \n",
       "3  01-10-2003  138.8356667  3.966666667  1972.333333  491437.3333   \n",
       "4  01-01-2004  143.2986667          3.7  1994.666667  506856.3333   \n",
       "\n",
       "  EVACANTUSQ176N  CSUSHPISA_y  MORTGAGE30US    UMCSENT  INTDSRUSM193N   MSPUS  \\\n",
       "0          14908   129.321000      5.840769  79.966667       2.250000  186000   \n",
       "1          15244   131.756000      5.506923  89.266667       2.166667  191800   \n",
       "2          15614   135.013000      6.033846  89.300000       2.000000  191900   \n",
       "3          15654   138.835667      5.919286  91.966667       2.000000  198800   \n",
       "4          15895   143.298667      5.597500  98.000000       2.000000  212700   \n",
       "\n",
       "         GDP  \n",
       "0  11174.129  \n",
       "1  11312.766  \n",
       "2  11566.669  \n",
       "3  11772.234  \n",
       "4  11923.447  "
      ]
     },
     "execution_count": 75,
     "metadata": {},
     "output_type": "execute_result"
    }
   ],
   "source": [
    "# combine data\n",
    "combined_df = pd.merge(supply_df, demand_df, on=\"DATE\")\n",
    "combined_df.head()"
   ]
  },
  {
   "cell_type": "code",
   "execution_count": 76,
   "metadata": {},
   "outputs": [
    {
     "data": {
      "text/html": [
       "<div>\n",
       "<style scoped>\n",
       "    .dataframe tbody tr th:only-of-type {\n",
       "        vertical-align: middle;\n",
       "    }\n",
       "\n",
       "    .dataframe tbody tr th {\n",
       "        vertical-align: top;\n",
       "    }\n",
       "\n",
       "    .dataframe thead th {\n",
       "        text-align: right;\n",
       "    }\n",
       "</style>\n",
       "<table border=\"1\" class=\"dataframe\">\n",
       "  <thead>\n",
       "    <tr style=\"text-align: right;\">\n",
       "      <th></th>\n",
       "      <th>DATE</th>\n",
       "      <th>CSUSHPISA</th>\n",
       "      <th>MSACSR</th>\n",
       "      <th>PERMIT</th>\n",
       "      <th>TLRESCONS</th>\n",
       "      <th>EVACANTUSQ176N</th>\n",
       "      <th>MORTGAGE30US</th>\n",
       "      <th>UMCSENT</th>\n",
       "      <th>INTDSRUSM193N</th>\n",
       "      <th>MSPUS</th>\n",
       "      <th>GDP</th>\n",
       "    </tr>\n",
       "  </thead>\n",
       "  <tbody>\n",
       "    <tr>\n",
       "      <th>0</th>\n",
       "      <td>01-01-2003</td>\n",
       "      <td>129.321</td>\n",
       "      <td>4.2</td>\n",
       "      <td>1806.333333</td>\n",
       "      <td>421328.6667</td>\n",
       "      <td>14908</td>\n",
       "      <td>5.840769</td>\n",
       "      <td>79.966667</td>\n",
       "      <td>2.250000</td>\n",
       "      <td>186000</td>\n",
       "      <td>11174.129</td>\n",
       "    </tr>\n",
       "    <tr>\n",
       "      <th>1</th>\n",
       "      <td>01-04-2003</td>\n",
       "      <td>131.756</td>\n",
       "      <td>3.833333333</td>\n",
       "      <td>1837.666667</td>\n",
       "      <td>429308.6667</td>\n",
       "      <td>15244</td>\n",
       "      <td>5.506923</td>\n",
       "      <td>89.266667</td>\n",
       "      <td>2.166667</td>\n",
       "      <td>191800</td>\n",
       "      <td>11312.766</td>\n",
       "    </tr>\n",
       "    <tr>\n",
       "      <th>2</th>\n",
       "      <td>01-07-2003</td>\n",
       "      <td>135.013</td>\n",
       "      <td>3.633333333</td>\n",
       "      <td>1937.333333</td>\n",
       "      <td>458890</td>\n",
       "      <td>15614</td>\n",
       "      <td>6.033846</td>\n",
       "      <td>89.300000</td>\n",
       "      <td>2.000000</td>\n",
       "      <td>191900</td>\n",
       "      <td>11566.669</td>\n",
       "    </tr>\n",
       "    <tr>\n",
       "      <th>3</th>\n",
       "      <td>01-10-2003</td>\n",
       "      <td>138.8356667</td>\n",
       "      <td>3.966666667</td>\n",
       "      <td>1972.333333</td>\n",
       "      <td>491437.3333</td>\n",
       "      <td>15654</td>\n",
       "      <td>5.919286</td>\n",
       "      <td>91.966667</td>\n",
       "      <td>2.000000</td>\n",
       "      <td>198800</td>\n",
       "      <td>11772.234</td>\n",
       "    </tr>\n",
       "    <tr>\n",
       "      <th>4</th>\n",
       "      <td>01-01-2004</td>\n",
       "      <td>143.2986667</td>\n",
       "      <td>3.7</td>\n",
       "      <td>1994.666667</td>\n",
       "      <td>506856.3333</td>\n",
       "      <td>15895</td>\n",
       "      <td>5.597500</td>\n",
       "      <td>98.000000</td>\n",
       "      <td>2.000000</td>\n",
       "      <td>212700</td>\n",
       "      <td>11923.447</td>\n",
       "    </tr>\n",
       "  </tbody>\n",
       "</table>\n",
       "</div>"
      ],
      "text/plain": [
       "         DATE    CSUSHPISA       MSACSR       PERMIT    TLRESCONS  \\\n",
       "0  01-01-2003      129.321          4.2  1806.333333  421328.6667   \n",
       "1  01-04-2003      131.756  3.833333333  1837.666667  429308.6667   \n",
       "2  01-07-2003      135.013  3.633333333  1937.333333       458890   \n",
       "3  01-10-2003  138.8356667  3.966666667  1972.333333  491437.3333   \n",
       "4  01-01-2004  143.2986667          3.7  1994.666667  506856.3333   \n",
       "\n",
       "  EVACANTUSQ176N  MORTGAGE30US    UMCSENT  INTDSRUSM193N   MSPUS        GDP  \n",
       "0          14908      5.840769  79.966667       2.250000  186000  11174.129  \n",
       "1          15244      5.506923  89.266667       2.166667  191800  11312.766  \n",
       "2          15614      6.033846  89.300000       2.000000  191900  11566.669  \n",
       "3          15654      5.919286  91.966667       2.000000  198800  11772.234  \n",
       "4          15895      5.597500  98.000000       2.000000  212700  11923.447  "
      ]
     },
     "execution_count": 76,
     "metadata": {},
     "output_type": "execute_result"
    }
   ],
   "source": [
    "# rename CSUSHPISA_x to CSUSHPISA and drop CSUSHPISA_y\n",
    "combined_df = combined_df.rename(columns={\"CSUSHPISA_x\": \"CSUSHPISA\"})\n",
    "combined_df = combined_df.drop(columns=[\"CSUSHPISA_y\"])\n",
    "combined_df.head()"
   ]
  },
  {
   "cell_type": "code",
   "execution_count": 77,
   "metadata": {},
   "outputs": [],
   "source": [
    "# fill NaN values for INTDSRUSM193N with value from previous row\n",
    "combined_df[\"INTDSRUSM193N\"] = combined_df[\"INTDSRUSM193N\"].fillna(method=\"ffill\")\n"
   ]
  },
  {
   "cell_type": "code",
   "execution_count": 78,
   "metadata": {},
   "outputs": [
    {
     "data": {
      "text/html": [
       "<div>\n",
       "<style scoped>\n",
       "    .dataframe tbody tr th:only-of-type {\n",
       "        vertical-align: middle;\n",
       "    }\n",
       "\n",
       "    .dataframe tbody tr th {\n",
       "        vertical-align: top;\n",
       "    }\n",
       "\n",
       "    .dataframe thead th {\n",
       "        text-align: right;\n",
       "    }\n",
       "</style>\n",
       "<table border=\"1\" class=\"dataframe\">\n",
       "  <thead>\n",
       "    <tr style=\"text-align: right;\">\n",
       "      <th></th>\n",
       "      <th>DATE</th>\n",
       "      <th>CSUSHPISA</th>\n",
       "      <th>MSACSR</th>\n",
       "      <th>PERMIT</th>\n",
       "      <th>TLRESCONS</th>\n",
       "      <th>EVACANTUSQ176N</th>\n",
       "      <th>MORTGAGE30US</th>\n",
       "      <th>UMCSENT</th>\n",
       "      <th>INTDSRUSM193N</th>\n",
       "      <th>MSPUS</th>\n",
       "      <th>GDP</th>\n",
       "    </tr>\n",
       "  </thead>\n",
       "  <tbody>\n",
       "    <tr>\n",
       "      <th>76</th>\n",
       "      <td>01-01-2022</td>\n",
       "      <td>290.868</td>\n",
       "      <td>6.233333333</td>\n",
       "      <td>1864</td>\n",
       "      <td>910611</td>\n",
       "      <td>15166</td>\n",
       "      <td>3.822308</td>\n",
       "      <td>63.133333</td>\n",
       "      <td>0.25</td>\n",
       "      <td>433100</td>\n",
       "      <td>24740.480</td>\n",
       "    </tr>\n",
       "    <tr>\n",
       "      <th>77</th>\n",
       "      <td>01-04-2022</td>\n",
       "      <td>303.4226667</td>\n",
       "      <td>8.7</td>\n",
       "      <td>1734.666667</td>\n",
       "      <td>947300.3333</td>\n",
       "      <td>15286</td>\n",
       "      <td>5.266154</td>\n",
       "      <td>57.866667</td>\n",
       "      <td>0.25</td>\n",
       "      <td>449300</td>\n",
       "      <td>25248.476</td>\n",
       "    </tr>\n",
       "    <tr>\n",
       "      <th>78</th>\n",
       "      <td>01-07-2022</td>\n",
       "      <td>301.7263333</td>\n",
       "      <td>9.566666667</td>\n",
       "      <td>1610.666667</td>\n",
       "      <td>910346</td>\n",
       "      <td>15306</td>\n",
       "      <td>5.623077</td>\n",
       "      <td>56.100000</td>\n",
       "      <td>0.25</td>\n",
       "      <td>468000</td>\n",
       "      <td>25723.941</td>\n",
       "    </tr>\n",
       "    <tr>\n",
       "      <th>79</th>\n",
       "      <td>01-10-2022</td>\n",
       "      <td>297.8966667</td>\n",
       "      <td>9.2</td>\n",
       "      <td>1455.333333</td>\n",
       "      <td>870620.6667</td>\n",
       "      <td>14554</td>\n",
       "      <td>6.664615</td>\n",
       "      <td>58.800000</td>\n",
       "      <td>0.25</td>\n",
       "      <td>479500</td>\n",
       "      <td>26137.992</td>\n",
       "    </tr>\n",
       "    <tr>\n",
       "      <th>80</th>\n",
       "      <td>01-01-2023</td>\n",
       "      <td>.</td>\n",
       "      <td>8.033333333</td>\n",
       "      <td>1424.333333</td>\n",
       "      <td>842559.6667</td>\n",
       "      <td>15053</td>\n",
       "      <td>6.372308</td>\n",
       "      <td>64.633333</td>\n",
       "      <td>0.25</td>\n",
       "      <td>436800</td>\n",
       "      <td>26465.865</td>\n",
       "    </tr>\n",
       "  </tbody>\n",
       "</table>\n",
       "</div>"
      ],
      "text/plain": [
       "          DATE    CSUSHPISA       MSACSR       PERMIT    TLRESCONS  \\\n",
       "76  01-01-2022      290.868  6.233333333         1864       910611   \n",
       "77  01-04-2022  303.4226667          8.7  1734.666667  947300.3333   \n",
       "78  01-07-2022  301.7263333  9.566666667  1610.666667       910346   \n",
       "79  01-10-2022  297.8966667          9.2  1455.333333  870620.6667   \n",
       "80  01-01-2023            .  8.033333333  1424.333333  842559.6667   \n",
       "\n",
       "   EVACANTUSQ176N  MORTGAGE30US    UMCSENT  INTDSRUSM193N   MSPUS        GDP  \n",
       "76          15166      3.822308  63.133333           0.25  433100  24740.480  \n",
       "77          15286      5.266154  57.866667           0.25  449300  25248.476  \n",
       "78          15306      5.623077  56.100000           0.25  468000  25723.941  \n",
       "79          14554      6.664615  58.800000           0.25  479500  26137.992  \n",
       "80          15053      6.372308  64.633333           0.25  436800  26465.865  "
      ]
     },
     "execution_count": 78,
     "metadata": {},
     "output_type": "execute_result"
    }
   ],
   "source": [
    "combined_df.head()"
   ]
  },
  {
   "cell_type": "code",
   "execution_count": 79,
   "metadata": {},
   "outputs": [
    {
     "data": {
      "text/html": [
       "<div>\n",
       "<style scoped>\n",
       "    .dataframe tbody tr th:only-of-type {\n",
       "        vertical-align: middle;\n",
       "    }\n",
       "\n",
       "    .dataframe tbody tr th {\n",
       "        vertical-align: top;\n",
       "    }\n",
       "\n",
       "    .dataframe thead th {\n",
       "        text-align: right;\n",
       "    }\n",
       "</style>\n",
       "<table border=\"1\" class=\"dataframe\">\n",
       "  <thead>\n",
       "    <tr style=\"text-align: right;\">\n",
       "      <th></th>\n",
       "      <th>DATE</th>\n",
       "      <th>CSUSHPISA</th>\n",
       "      <th>MSACSR</th>\n",
       "      <th>PERMIT</th>\n",
       "      <th>TLRESCONS</th>\n",
       "      <th>EVACANTUSQ176N</th>\n",
       "      <th>MORTGAGE30US</th>\n",
       "      <th>UMCSENT</th>\n",
       "      <th>INTDSRUSM193N</th>\n",
       "      <th>MSPUS</th>\n",
       "      <th>GDP</th>\n",
       "    </tr>\n",
       "  </thead>\n",
       "  <tbody>\n",
       "    <tr>\n",
       "      <th>76</th>\n",
       "      <td>01-01-2022</td>\n",
       "      <td>290.868</td>\n",
       "      <td>6.233333333</td>\n",
       "      <td>1864</td>\n",
       "      <td>910611</td>\n",
       "      <td>15166</td>\n",
       "      <td>3.822308</td>\n",
       "      <td>63.133333</td>\n",
       "      <td>0.25</td>\n",
       "      <td>433100</td>\n",
       "      <td>24740.480</td>\n",
       "    </tr>\n",
       "    <tr>\n",
       "      <th>77</th>\n",
       "      <td>01-04-2022</td>\n",
       "      <td>303.4226667</td>\n",
       "      <td>8.7</td>\n",
       "      <td>1734.666667</td>\n",
       "      <td>947300.3333</td>\n",
       "      <td>15286</td>\n",
       "      <td>5.266154</td>\n",
       "      <td>57.866667</td>\n",
       "      <td>0.25</td>\n",
       "      <td>449300</td>\n",
       "      <td>25248.476</td>\n",
       "    </tr>\n",
       "    <tr>\n",
       "      <th>78</th>\n",
       "      <td>01-07-2022</td>\n",
       "      <td>301.7263333</td>\n",
       "      <td>9.566666667</td>\n",
       "      <td>1610.666667</td>\n",
       "      <td>910346</td>\n",
       "      <td>15306</td>\n",
       "      <td>5.623077</td>\n",
       "      <td>56.100000</td>\n",
       "      <td>0.25</td>\n",
       "      <td>468000</td>\n",
       "      <td>25723.941</td>\n",
       "    </tr>\n",
       "    <tr>\n",
       "      <th>79</th>\n",
       "      <td>01-10-2022</td>\n",
       "      <td>297.8966667</td>\n",
       "      <td>9.2</td>\n",
       "      <td>1455.333333</td>\n",
       "      <td>870620.6667</td>\n",
       "      <td>14554</td>\n",
       "      <td>6.664615</td>\n",
       "      <td>58.800000</td>\n",
       "      <td>0.25</td>\n",
       "      <td>479500</td>\n",
       "      <td>26137.992</td>\n",
       "    </tr>\n",
       "    <tr>\n",
       "      <th>80</th>\n",
       "      <td>01-01-2023</td>\n",
       "      <td>294.30366667</td>\n",
       "      <td>8.033333333</td>\n",
       "      <td>1424.333333</td>\n",
       "      <td>842559.6667</td>\n",
       "      <td>15053</td>\n",
       "      <td>6.372308</td>\n",
       "      <td>64.633333</td>\n",
       "      <td>0.25</td>\n",
       "      <td>436800</td>\n",
       "      <td>26465.865</td>\n",
       "    </tr>\n",
       "  </tbody>\n",
       "</table>\n",
       "</div>"
      ],
      "text/plain": [
       "          DATE     CSUSHPISA       MSACSR       PERMIT    TLRESCONS  \\\n",
       "76  01-01-2022       290.868  6.233333333         1864       910611   \n",
       "77  01-04-2022   303.4226667          8.7  1734.666667  947300.3333   \n",
       "78  01-07-2022   301.7263333  9.566666667  1610.666667       910346   \n",
       "79  01-10-2022   297.8966667          9.2  1455.333333  870620.6667   \n",
       "80  01-01-2023  294.30366667  8.033333333  1424.333333  842559.6667   \n",
       "\n",
       "   EVACANTUSQ176N  MORTGAGE30US    UMCSENT  INTDSRUSM193N   MSPUS        GDP  \n",
       "76          15166      3.822308  63.133333           0.25  433100  24740.480  \n",
       "77          15286      5.266154  57.866667           0.25  449300  25248.476  \n",
       "78          15306      5.623077  56.100000           0.25  468000  25723.941  \n",
       "79          14554      6.664615  58.800000           0.25  479500  26137.992  \n",
       "80          15053      6.372308  64.633333           0.25  436800  26465.865  "
      ]
     },
     "execution_count": 79,
     "metadata": {},
     "output_type": "execute_result"
    }
   ],
   "source": [
    "# replace the value of the last row of the 'CSUSHPISA' column with 294.30366667\n",
    "combined_df.loc[combined_df.index[-1], \"CSUSHPISA\"] = \"294.30366667\"\n",
    "combined_df.tail()"
   ]
  },
  {
   "cell_type": "code",
   "execution_count": 130,
   "metadata": {},
   "outputs": [
    {
     "data": {
      "text/html": [
       "<div>\n",
       "<style scoped>\n",
       "    .dataframe tbody tr th:only-of-type {\n",
       "        vertical-align: middle;\n",
       "    }\n",
       "\n",
       "    .dataframe tbody tr th {\n",
       "        vertical-align: top;\n",
       "    }\n",
       "\n",
       "    .dataframe thead th {\n",
       "        text-align: right;\n",
       "    }\n",
       "</style>\n",
       "<table border=\"1\" class=\"dataframe\">\n",
       "  <thead>\n",
       "    <tr style=\"text-align: right;\">\n",
       "      <th></th>\n",
       "      <th>DATE</th>\n",
       "      <th>CSUSHPISA</th>\n",
       "      <th>MSACSR</th>\n",
       "      <th>PERMIT</th>\n",
       "      <th>TLRESCONS</th>\n",
       "      <th>EVACANTUSQ176N</th>\n",
       "      <th>MORTGAGE30US</th>\n",
       "      <th>UMCSENT</th>\n",
       "      <th>INTDSRUSM193N</th>\n",
       "      <th>MSPUS</th>\n",
       "      <th>GDP</th>\n",
       "      <th>CSUSHPISA_NEXT_Q</th>\n",
       "      <th>PRICE_CHANGE_UP_DOWN</th>\n",
       "    </tr>\n",
       "  </thead>\n",
       "  <tbody>\n",
       "    <tr>\n",
       "      <th>0</th>\n",
       "      <td>01-01-2003</td>\n",
       "      <td>129.321</td>\n",
       "      <td>4.2</td>\n",
       "      <td>1806.333333</td>\n",
       "      <td>421328.6667</td>\n",
       "      <td>14908</td>\n",
       "      <td>5.840769</td>\n",
       "      <td>79.966667</td>\n",
       "      <td>2.250000</td>\n",
       "      <td>186000</td>\n",
       "      <td>11174.129</td>\n",
       "      <td>131.756</td>\n",
       "      <td>1</td>\n",
       "    </tr>\n",
       "    <tr>\n",
       "      <th>1</th>\n",
       "      <td>01-04-2003</td>\n",
       "      <td>131.756</td>\n",
       "      <td>3.833333333</td>\n",
       "      <td>1837.666667</td>\n",
       "      <td>429308.6667</td>\n",
       "      <td>15244</td>\n",
       "      <td>5.506923</td>\n",
       "      <td>89.266667</td>\n",
       "      <td>2.166667</td>\n",
       "      <td>191800</td>\n",
       "      <td>11312.766</td>\n",
       "      <td>135.013</td>\n",
       "      <td>1</td>\n",
       "    </tr>\n",
       "    <tr>\n",
       "      <th>2</th>\n",
       "      <td>01-07-2003</td>\n",
       "      <td>135.013</td>\n",
       "      <td>3.633333333</td>\n",
       "      <td>1937.333333</td>\n",
       "      <td>458890</td>\n",
       "      <td>15614</td>\n",
       "      <td>6.033846</td>\n",
       "      <td>89.300000</td>\n",
       "      <td>2.000000</td>\n",
       "      <td>191900</td>\n",
       "      <td>11566.669</td>\n",
       "      <td>138.8356667</td>\n",
       "      <td>1</td>\n",
       "    </tr>\n",
       "    <tr>\n",
       "      <th>3</th>\n",
       "      <td>01-10-2003</td>\n",
       "      <td>138.8356667</td>\n",
       "      <td>3.966666667</td>\n",
       "      <td>1972.333333</td>\n",
       "      <td>491437.3333</td>\n",
       "      <td>15654</td>\n",
       "      <td>5.919286</td>\n",
       "      <td>91.966667</td>\n",
       "      <td>2.000000</td>\n",
       "      <td>198800</td>\n",
       "      <td>11772.234</td>\n",
       "      <td>143.2986667</td>\n",
       "      <td>1</td>\n",
       "    </tr>\n",
       "    <tr>\n",
       "      <th>4</th>\n",
       "      <td>01-01-2004</td>\n",
       "      <td>143.2986667</td>\n",
       "      <td>3.7</td>\n",
       "      <td>1994.666667</td>\n",
       "      <td>506856.3333</td>\n",
       "      <td>15895</td>\n",
       "      <td>5.597500</td>\n",
       "      <td>98.000000</td>\n",
       "      <td>2.000000</td>\n",
       "      <td>212700</td>\n",
       "      <td>11923.447</td>\n",
       "      <td>148.209</td>\n",
       "      <td>1</td>\n",
       "    </tr>\n",
       "  </tbody>\n",
       "</table>\n",
       "</div>"
      ],
      "text/plain": [
       "         DATE    CSUSHPISA       MSACSR       PERMIT    TLRESCONS  \\\n",
       "0  01-01-2003      129.321          4.2  1806.333333  421328.6667   \n",
       "1  01-04-2003      131.756  3.833333333  1837.666667  429308.6667   \n",
       "2  01-07-2003      135.013  3.633333333  1937.333333       458890   \n",
       "3  01-10-2003  138.8356667  3.966666667  1972.333333  491437.3333   \n",
       "4  01-01-2004  143.2986667          3.7  1994.666667  506856.3333   \n",
       "\n",
       "  EVACANTUSQ176N  MORTGAGE30US    UMCSENT  INTDSRUSM193N   MSPUS        GDP  \\\n",
       "0          14908      5.840769  79.966667       2.250000  186000  11174.129   \n",
       "1          15244      5.506923  89.266667       2.166667  191800  11312.766   \n",
       "2          15614      6.033846  89.300000       2.000000  191900  11566.669   \n",
       "3          15654      5.919286  91.966667       2.000000  198800  11772.234   \n",
       "4          15895      5.597500  98.000000       2.000000  212700  11923.447   \n",
       "\n",
       "  CSUSHPISA_NEXT_Q  PRICE_CHANGE_UP_DOWN  \n",
       "0          131.756                     1  \n",
       "1          135.013                     1  \n",
       "2      138.8356667                     1  \n",
       "3      143.2986667                     1  \n",
       "4          148.209                     1  "
      ]
     },
     "execution_count": 130,
     "metadata": {},
     "output_type": "execute_result"
    }
   ],
   "source": [
    "# create a new column called 'PRICE_CHANGE_UP_DOWN' and set the values to 0 if the value of the 'CSUSHPISA' column is less than the value of the previous row, otherwise set the value to 1\n",
    "combined_df[\"PRICE_CHANGE_UP_DOWN\"] = np.where(combined_df[\"CSUSHPISA\"] < combined_df[\"CSUSHPISA\"].shift(1), 0, 1)\n",
    "combined_df.head()"
   ]
  },
  {
   "cell_type": "code",
   "execution_count": 103,
   "metadata": {},
   "outputs": [],
   "source": [
    "# create a new column for CSUSHPISA that is the value from the next row\n",
    "combined_df[\"CSUSHPISA_NEXT_Q\"] = combined_df[\"CSUSHPISA\"].shift(-1)"
   ]
  },
  {
   "cell_type": "code",
   "execution_count": 106,
   "metadata": {},
   "outputs": [
    {
     "data": {
      "text/plain": [
       "1    58\n",
       "0    23\n",
       "Name: PRICE_CHANGE_UP_DOWN, dtype: int64"
      ]
     },
     "execution_count": 106,
     "metadata": {},
     "output_type": "execute_result"
    }
   ],
   "source": [
    "# get the value counts for the PRICE_CHANGE_UP_DOWN column\n",
    "combined_df[\"PRICE_CHANGE_UP_DOWN\"].value_counts()"
   ]
  },
  {
   "attachments": {},
   "cell_type": "markdown",
   "metadata": {},
   "source": [
    "# Defining the feature and target variables"
   ]
  },
  {
   "cell_type": "code",
   "execution_count": 107,
   "metadata": {},
   "outputs": [
    {
     "data": {
      "text/html": [
       "<div>\n",
       "<style scoped>\n",
       "    .dataframe tbody tr th:only-of-type {\n",
       "        vertical-align: middle;\n",
       "    }\n",
       "\n",
       "    .dataframe tbody tr th {\n",
       "        vertical-align: top;\n",
       "    }\n",
       "\n",
       "    .dataframe thead th {\n",
       "        text-align: right;\n",
       "    }\n",
       "</style>\n",
       "<table border=\"1\" class=\"dataframe\">\n",
       "  <thead>\n",
       "    <tr style=\"text-align: right;\">\n",
       "      <th></th>\n",
       "      <th>MSACSR</th>\n",
       "      <th>PERMIT</th>\n",
       "      <th>TLRESCONS</th>\n",
       "      <th>EVACANTUSQ176N</th>\n",
       "      <th>MORTGAGE30US</th>\n",
       "      <th>UMCSENT</th>\n",
       "      <th>INTDSRUSM193N</th>\n",
       "      <th>MSPUS</th>\n",
       "      <th>GDP</th>\n",
       "    </tr>\n",
       "  </thead>\n",
       "  <tbody>\n",
       "    <tr>\n",
       "      <th>1</th>\n",
       "      <td>3.833333333</td>\n",
       "      <td>1837.666667</td>\n",
       "      <td>429308.6667</td>\n",
       "      <td>15244</td>\n",
       "      <td>5.506923</td>\n",
       "      <td>89.266667</td>\n",
       "      <td>2.166667</td>\n",
       "      <td>191800</td>\n",
       "      <td>11312.766</td>\n",
       "    </tr>\n",
       "    <tr>\n",
       "      <th>2</th>\n",
       "      <td>3.633333333</td>\n",
       "      <td>1937.333333</td>\n",
       "      <td>458890</td>\n",
       "      <td>15614</td>\n",
       "      <td>6.033846</td>\n",
       "      <td>89.300000</td>\n",
       "      <td>2.000000</td>\n",
       "      <td>191900</td>\n",
       "      <td>11566.669</td>\n",
       "    </tr>\n",
       "    <tr>\n",
       "      <th>3</th>\n",
       "      <td>3.966666667</td>\n",
       "      <td>1972.333333</td>\n",
       "      <td>491437.3333</td>\n",
       "      <td>15654</td>\n",
       "      <td>5.919286</td>\n",
       "      <td>91.966667</td>\n",
       "      <td>2.000000</td>\n",
       "      <td>198800</td>\n",
       "      <td>11772.234</td>\n",
       "    </tr>\n",
       "    <tr>\n",
       "      <th>4</th>\n",
       "      <td>3.7</td>\n",
       "      <td>1994.666667</td>\n",
       "      <td>506856.3333</td>\n",
       "      <td>15895</td>\n",
       "      <td>5.597500</td>\n",
       "      <td>98.000000</td>\n",
       "      <td>2.000000</td>\n",
       "      <td>212700</td>\n",
       "      <td>11923.447</td>\n",
       "    </tr>\n",
       "    <tr>\n",
       "      <th>5</th>\n",
       "      <td>3.9</td>\n",
       "      <td>2080</td>\n",
       "      <td>526483.3333</td>\n",
       "      <td>16079</td>\n",
       "      <td>6.106154</td>\n",
       "      <td>93.333333</td>\n",
       "      <td>2.083333</td>\n",
       "      <td>217600</td>\n",
       "      <td>12112.815</td>\n",
       "    </tr>\n",
       "  </tbody>\n",
       "</table>\n",
       "</div>"
      ],
      "text/plain": [
       "        MSACSR       PERMIT    TLRESCONS EVACANTUSQ176N  MORTGAGE30US  \\\n",
       "1  3.833333333  1837.666667  429308.6667          15244      5.506923   \n",
       "2  3.633333333  1937.333333       458890          15614      6.033846   \n",
       "3  3.966666667  1972.333333  491437.3333          15654      5.919286   \n",
       "4          3.7  1994.666667  506856.3333          15895      5.597500   \n",
       "5          3.9         2080  526483.3333          16079      6.106154   \n",
       "\n",
       "     UMCSENT  INTDSRUSM193N   MSPUS        GDP  \n",
       "1  89.266667       2.166667  191800  11312.766  \n",
       "2  89.300000       2.000000  191900  11566.669  \n",
       "3  91.966667       2.000000  198800  11772.234  \n",
       "4  98.000000       2.000000  212700  11923.447  \n",
       "5  93.333333       2.083333  217600  12112.815  "
      ]
     },
     "execution_count": 107,
     "metadata": {},
     "output_type": "execute_result"
    }
   ],
   "source": [
    "# Define features set\n",
    "X = combined_df.copy()\n",
    "X = X.drop(\"DATE\", axis=1)\n",
    "X = X.drop(\"CSUSHPISA\", axis=1)\n",
    "X = X.drop(\"CSUSHPISA_NEXT_Q\", axis=1)\n",
    "X = X.drop(\"PRICE_CHANGE_UP_DOWN\", axis=1)\n",
    "# drop first row\n",
    "X = X.iloc[1:]\n",
    "X.head()"
   ]
  },
  {
   "cell_type": "code",
   "execution_count": 108,
   "metadata": {},
   "outputs": [
    {
     "name": "stdout",
     "output_type": "stream",
     "text": [
      "(80, 9)\n",
      "MSACSR            0\n",
      "PERMIT            0\n",
      "TLRESCONS         0\n",
      "EVACANTUSQ176N    0\n",
      "MORTGAGE30US      0\n",
      "UMCSENT           0\n",
      "INTDSRUSM193N     0\n",
      "MSPUS             0\n",
      "GDP               0\n",
      "dtype: int64\n"
     ]
    }
   ],
   "source": [
    "# checking the shape of X and if there are any null values\n",
    "print(X.shape)\n",
    "print(X.isnull().sum())"
   ]
  },
  {
   "attachments": {},
   "cell_type": "markdown",
   "metadata": {},
   "source": [
    "# Creating the target vector CSUSHPISA = S&P/Case-Shiller U.S. National Home Price Index (Index Jan 2000=100, Seasonally Adjusted)"
   ]
  },
  {
   "cell_type": "code",
   "execution_count": 109,
   "metadata": {},
   "outputs": [
    {
     "data": {
      "text/plain": [
       "array([[1],\n",
       "       [1],\n",
       "       [1],\n",
       "       [1],\n",
       "       [1]])"
      ]
     },
     "execution_count": 109,
     "metadata": {},
     "output_type": "execute_result"
    }
   ],
   "source": [
    "# Define target vector 'PRICE_CHANGE_UP_DOWN' as y\n",
    "y = combined_df[\"PRICE_CHANGE_UP_DOWN\"].values.reshape(-1, 1)\n",
    "y = y[1:]\n",
    "y[:5]"
   ]
  },
  {
   "attachments": {},
   "cell_type": "markdown",
   "metadata": {},
   "source": [
    "# Splitting the data into training and testing sets"
   ]
  },
  {
   "cell_type": "code",
   "execution_count": 110,
   "metadata": {},
   "outputs": [],
   "source": [
    "# Splitting into Train and Test sets\n",
    "X_train, X_test, y_train, y_test = train_test_split(X, y, random_state=78)\n"
   ]
  },
  {
   "cell_type": "code",
   "execution_count": 111,
   "metadata": {},
   "outputs": [],
   "source": [
    "# Create a StandardScaler instance\n",
    "scaler = StandardScaler()"
   ]
  },
  {
   "cell_type": "code",
   "execution_count": 112,
   "metadata": {},
   "outputs": [],
   "source": [
    "# Fit the StandardScaler\n",
    "X_scaler = scaler.fit(X_train)"
   ]
  },
  {
   "cell_type": "code",
   "execution_count": 129,
   "metadata": {},
   "outputs": [
    {
     "data": {
      "text/plain": [
       "(20, 9)"
      ]
     },
     "execution_count": 129,
     "metadata": {},
     "output_type": "execute_result"
    }
   ],
   "source": [
    "# Scale the data\n",
    "X_train_scaled = X_scaler.transform(X_train)\n",
    "X_test_scaled = X_scaler.transform(X_test)\n",
    "X_test_scaled.shape"
   ]
  },
  {
   "attachments": {},
   "cell_type": "markdown",
   "metadata": {},
   "source": [
    "# Fitting the Random Forest model\n",
    "\n",
    "Having scaled the data, we can now fit the Random Forest model to the training data."
   ]
  },
  {
   "cell_type": "code",
   "execution_count": 114,
   "metadata": {},
   "outputs": [],
   "source": [
    "# create the random forrest classifier instance\n",
    "rf_model = RandomForestClassifier(n_estimators=500, random_state=78)\n",
    "# fit the model\n",
    "rf_model = rf_model.fit(X_train_scaled, y_train.ravel())"
   ]
  },
  {
   "attachments": {},
   "cell_type": "markdown",
   "metadata": {},
   "source": [
    "# Making predictions with the Random Forest model"
   ]
  },
  {
   "cell_type": "code",
   "execution_count": 127,
   "metadata": {},
   "outputs": [
    {
     "data": {
      "text/plain": [
       "array([1, 1, 1, 0, 0, 1, 1, 1, 1, 1, 1, 1, 1, 1, 0, 0, 1, 1, 1, 0])"
      ]
     },
     "execution_count": 127,
     "metadata": {},
     "output_type": "execute_result"
    }
   ],
   "source": [
    "# Making predictions using the testing data\n",
    "predictions = rf_model.predict(X_test_scaled)\n",
    "predictions"
   ]
  },
  {
   "cell_type": "code",
   "execution_count": 116,
   "metadata": {},
   "outputs": [
    {
     "name": "stdout",
     "output_type": "stream",
     "text": [
      "First 10 Predictions:   [1 1 1 0 0 1 1 1 1 1]\n",
      "First 10 Actual labels: [[1], [1], [1], [1], [0], [1], [1], [1], [1], [1]]\n"
     ]
    }
   ],
   "source": [
    "# compare predictions to actual values\n",
    "print(f\"First 10 Predictions:   {predictions[:10]}\")\n",
    "print(f\"First 10 Actual labels: {y_test[:10].tolist()}\")\n"
   ]
  },
  {
   "attachments": {},
   "cell_type": "markdown",
   "metadata": {},
   "source": [
    "# Evaluating the Random Forest model"
   ]
  },
  {
   "cell_type": "code",
   "execution_count": 117,
   "metadata": {},
   "outputs": [
    {
     "data": {
      "text/html": [
       "<div>\n",
       "<style scoped>\n",
       "    .dataframe tbody tr th:only-of-type {\n",
       "        vertical-align: middle;\n",
       "    }\n",
       "\n",
       "    .dataframe tbody tr th {\n",
       "        vertical-align: top;\n",
       "    }\n",
       "\n",
       "    .dataframe thead th {\n",
       "        text-align: right;\n",
       "    }\n",
       "</style>\n",
       "<table border=\"1\" class=\"dataframe\">\n",
       "  <thead>\n",
       "    <tr style=\"text-align: right;\">\n",
       "      <th></th>\n",
       "      <th>Prediction</th>\n",
       "      <th>Actual</th>\n",
       "      <th>Difference</th>\n",
       "      <th>Percent Difference</th>\n",
       "    </tr>\n",
       "  </thead>\n",
       "  <tbody>\n",
       "    <tr>\n",
       "      <th>0</th>\n",
       "      <td>1.0</td>\n",
       "      <td>1.0</td>\n",
       "      <td>0.0</td>\n",
       "      <td>0.0</td>\n",
       "    </tr>\n",
       "    <tr>\n",
       "      <th>1</th>\n",
       "      <td>1.0</td>\n",
       "      <td>1.0</td>\n",
       "      <td>0.0</td>\n",
       "      <td>0.0</td>\n",
       "    </tr>\n",
       "    <tr>\n",
       "      <th>2</th>\n",
       "      <td>1.0</td>\n",
       "      <td>1.0</td>\n",
       "      <td>0.0</td>\n",
       "      <td>0.0</td>\n",
       "    </tr>\n",
       "    <tr>\n",
       "      <th>3</th>\n",
       "      <td>0.0</td>\n",
       "      <td>1.0</td>\n",
       "      <td>1.0</td>\n",
       "      <td>100.0</td>\n",
       "    </tr>\n",
       "    <tr>\n",
       "      <th>4</th>\n",
       "      <td>0.0</td>\n",
       "      <td>0.0</td>\n",
       "      <td>0.0</td>\n",
       "      <td>NaN</td>\n",
       "    </tr>\n",
       "    <tr>\n",
       "      <th>5</th>\n",
       "      <td>1.0</td>\n",
       "      <td>1.0</td>\n",
       "      <td>0.0</td>\n",
       "      <td>0.0</td>\n",
       "    </tr>\n",
       "    <tr>\n",
       "      <th>6</th>\n",
       "      <td>1.0</td>\n",
       "      <td>1.0</td>\n",
       "      <td>0.0</td>\n",
       "      <td>0.0</td>\n",
       "    </tr>\n",
       "    <tr>\n",
       "      <th>7</th>\n",
       "      <td>1.0</td>\n",
       "      <td>1.0</td>\n",
       "      <td>0.0</td>\n",
       "      <td>0.0</td>\n",
       "    </tr>\n",
       "    <tr>\n",
       "      <th>8</th>\n",
       "      <td>1.0</td>\n",
       "      <td>1.0</td>\n",
       "      <td>0.0</td>\n",
       "      <td>0.0</td>\n",
       "    </tr>\n",
       "    <tr>\n",
       "      <th>9</th>\n",
       "      <td>1.0</td>\n",
       "      <td>1.0</td>\n",
       "      <td>0.0</td>\n",
       "      <td>0.0</td>\n",
       "    </tr>\n",
       "  </tbody>\n",
       "</table>\n",
       "</div>"
      ],
      "text/plain": [
       "   Prediction  Actual  Difference  Percent Difference\n",
       "0         1.0     1.0         0.0                 0.0\n",
       "1         1.0     1.0         0.0                 0.0\n",
       "2         1.0     1.0         0.0                 0.0\n",
       "3         0.0     1.0         1.0               100.0\n",
       "4         0.0     0.0         0.0                 NaN\n",
       "5         1.0     1.0         0.0                 0.0\n",
       "6         1.0     1.0         0.0                 0.0\n",
       "7         1.0     1.0         0.0                 0.0\n",
       "8         1.0     1.0         0.0                 0.0\n",
       "9         1.0     1.0         0.0                 0.0"
      ]
     },
     "execution_count": 117,
     "metadata": {},
     "output_type": "execute_result"
    }
   ],
   "source": [
    "# chart of predictions vs actual\n",
    "results_df = pd.DataFrame({\"Prediction\": predictions, \"Actual\": y_test.ravel()})\n",
    "# change the datatypes to float\n",
    "results_df = results_df.astype(\"float64\")\n",
    "# add a column for the difference between the prediction and actual\n",
    "results_df[\"Difference\"] = results_df[\"Actual\"] - results_df[\"Prediction\"]\n",
    "# add a column for the percent difference between the prediction and actual\n",
    "results_df[\"Percent Difference\"] = results_df[\"Difference\"] / results_df[\"Actual\"] * 100\n",
    "# find the highest percent difference\n",
    "results_df[\"Percent Difference\"].max()\n",
    "results_df.head(10)"
   ]
  },
  {
   "cell_type": "code",
   "execution_count": 118,
   "metadata": {},
   "outputs": [
    {
     "name": "stdout",
     "output_type": "stream",
     "text": [
      "Mean Absolute Error: 0.1\n"
     ]
    }
   ],
   "source": [
    "# calculate the mean absolute error (MAE)\n",
    "mae = results_df[\"Difference\"].mean()\n",
    "print(f\"Mean Absolute Error: {mae}\")\n"
   ]
  },
  {
   "cell_type": "code",
   "execution_count": 119,
   "metadata": {},
   "outputs": [
    {
     "name": "stdout",
     "output_type": "stream",
     "text": [
      "Mean Squared Error: 0.1\n"
     ]
    }
   ],
   "source": [
    "# calculate the mean squared error (MSE)\n",
    "mse = results_df[\"Difference\"].apply(lambda x: x**2).mean()\n",
    "print(f\"Mean Squared Error: {mse}\")\n"
   ]
  },
  {
   "cell_type": "code",
   "execution_count": 120,
   "metadata": {},
   "outputs": [
    {
     "name": "stdout",
     "output_type": "stream",
     "text": [
      "Root Mean Squared Error: 0.31622776601683794\n"
     ]
    }
   ],
   "source": [
    "# calculate the root mean squared error (RMSE)\n",
    "rmse = mse**(0.5)\n",
    "print(f\"Root Mean Squared Error: {rmse}\")\n"
   ]
  },
  {
   "cell_type": "code",
   "execution_count": 121,
   "metadata": {},
   "outputs": [
    {
     "name": "stdout",
     "output_type": "stream",
     "text": [
      "Mean Absolute Percent Error: 11.764705882352942\n"
     ]
    }
   ],
   "source": [
    "# calculate the mean absolute percent error (MAPE)\n",
    "mape = results_df[\"Percent Difference\"].abs().mean()\n",
    "print(f\"Mean Absolute Percent Error: {mape}\")\n"
   ]
  },
  {
   "cell_type": "code",
   "execution_count": 123,
   "metadata": {},
   "outputs": [
    {
     "name": "stdout",
     "output_type": "stream",
     "text": [
      "Accuracy Score : 0.9\n"
     ]
    }
   ],
   "source": [
    "# Evaluating the Random Forest model\n",
    "acc_score = accuracy_score(y_test, predictions)\n",
    "print(f\"Accuracy Score : {acc_score}\")\n"
   ]
  },
  {
   "attachments": {},
   "cell_type": "markdown",
   "metadata": {},
   "source": [
    "# Feature importance"
   ]
  },
  {
   "cell_type": "code",
   "execution_count": 124,
   "metadata": {},
   "outputs": [
    {
     "name": "stdout",
     "output_type": "stream",
     "text": [
      "MSACSR: (0.25664006790211197)\n",
      "PERMIT: (0.11164066591076488)\n",
      "TLRESCONS: (0.07325751261982695)\n",
      "EVACANTUSQ176N: (0.11803463009754364)\n",
      "MORTGAGE30US: (0.06817880933848895)\n",
      "UMCSENT: (0.1965653540613848)\n",
      "INTDSRUSM193N: (0.01785101593239683)\n",
      "MSPUS: (0.10289310777007477)\n",
      "GDP: (0.05493883636740716)\n"
     ]
    }
   ],
   "source": [
    "# get the feature importance array\n",
    "importances = rf_model.feature_importances_\n",
    "# list of features\n",
    "feature_list = list(X.columns)\n",
    "# sort the features by their importance\n",
    "sorted(zip(rf_model.feature_importances_, feature_list), reverse=True)\n",
    "# print the feature importance\n",
    "for feature in zip(feature_list, rf_model.feature_importances_):\n",
    "    print(f\"{feature[0]}: ({feature[1]})\")\n",
    "    "
   ]
  },
  {
   "cell_type": "code",
   "execution_count": 132,
   "metadata": {},
   "outputs": [
    {
     "data": {
      "image/png": "[encoded data removed]",
      "text/plain": [
       "<Figure size 432x288 with 1 Axes>"
      ]
     },
     "metadata": {
      "needs_background": "light"
     },
     "output_type": "display_data"
    }
   ],
   "source": [
    "# add the feature importance to a dataframe\n",
    "feature_importance_df = pd.DataFrame({\"feature\": feature_list, \"importance\": importances})\n",
    "# sort the dataframe by the importance\n",
    "feature_importance_df = feature_importance_df.sort_values(\"importance\", ascending=False)\n",
    "# set the index to be the feature\n",
    "feature_importance_df = feature_importance_df.set_index(\"feature\", drop=True)\n",
    "# plot the feature importance\n",
    "feature_importance_df.plot(kind=\"bar\")\n",
    "# save the graph\n",
    "plt.savefig(\"images/feature_importance2.png\", size=(20, 10))\n",
    "plt.show()"
   ]
  },
  {
   "cell_type": "code",
   "execution_count": 131,
   "metadata": {},
   "outputs": [
    {
     "data": {
      "text/html": [
       "<div>\n",
       "<style scoped>\n",
       "    .dataframe tbody tr th:only-of-type {\n",
       "        vertical-align: middle;\n",
       "    }\n",
       "\n",
       "    .dataframe tbody tr th {\n",
       "        vertical-align: top;\n",
       "    }\n",
       "\n",
       "    .dataframe thead th {\n",
       "        text-align: right;\n",
       "    }\n",
       "</style>\n",
       "<table border=\"1\" class=\"dataframe\">\n",
       "  <thead>\n",
       "    <tr style=\"text-align: right;\">\n",
       "      <th></th>\n",
       "      <th>Predicted 0</th>\n",
       "      <th>Predicted 1</th>\n",
       "    </tr>\n",
       "  </thead>\n",
       "  <tbody>\n",
       "    <tr>\n",
       "      <th>Actual 0</th>\n",
       "      <td>3</td>\n",
       "      <td>0</td>\n",
       "    </tr>\n",
       "    <tr>\n",
       "      <th>Actual 1</th>\n",
       "      <td>2</td>\n",
       "      <td>15</td>\n",
       "    </tr>\n",
       "  </tbody>\n",
       "</table>\n",
       "</div>"
      ],
      "text/plain": [
       "          Predicted 0  Predicted 1\n",
       "Actual 0            3            0\n",
       "Actual 1            2           15"
      ]
     },
     "metadata": {},
     "output_type": "display_data"
    },
    {
     "data": {
      "text/plain": [
       "<Figure size 432x288 with 0 Axes>"
      ]
     },
     "metadata": {},
     "output_type": "display_data"
    }
   ],
   "source": [
    "\n",
    "# create a confusion matrix\n",
    "cm = confusion_matrix(y_test, predictions)\n",
    "# create a dataframe from the confusion matrix\n",
    "cm_df = pd.DataFrame(\n",
    "    cm, index=[\"Actual 0\", \"Actual 1\"], columns=[\"Predicted 0\", \"Predicted 1\"]\n",
    ")\n",
    "# display the confusion matrix\n",
    "display(cm_df)\n",
    "\n",
    "# output the confusion matrix as a table\n",
    "\n"
   ]
  }
 ],
 "metadata": {
  "kernelspec": {
   "display_name": "PythonData",
   "language": "python",
   "name": "python3"
  },
  "language_info": {
   "codemirror_mode": {
    "name": "ipython",
    "version": 3
   },
   "file_extension": ".py",
   "mimetype": "text/x-python",
   "name": "python",
   "nbconvert_exporter": "python",
   "pygments_lexer": "ipython3",
   "version": "3.7.7"
  },
  "orig_nbformat": 4
 },
 "nbformat": 4,
 "nbformat_minor": 2
}
