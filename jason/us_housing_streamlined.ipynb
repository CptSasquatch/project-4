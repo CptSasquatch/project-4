{
 "cells": [
  {
   "attachments": {},
   "cell_type": "markdown",
   "metadata": {},
   "source": [
    "# US Housing Market Analysis"
   ]
  },
  {
   "cell_type": "code",
   "execution_count": 1,
   "metadata": {},
   "outputs": [],
   "source": [
    "#import dependencies\n",
    "import pandas as pd\n",
    "import numpy as np\n",
    "import matplotlib.pyplot as plt\n",
    "import plotly.express as px\n",
    "from kaleido.scopes.plotly import PlotlyScope\n",
    "from bokeh.io import export_png\n",
    "from bokeh.models import ColumnDataSource, DataTable, TableColumn\n",
    "from pathlib import Path\n",
    "from sklearn.ensemble import RandomForestClassifier\n",
    "from sklearn.preprocessing import StandardScaler\n",
    "from sklearn.model_selection import train_test_split\n",
    "from sklearn.metrics import confusion_matrix, accuracy_score, classification_report"
   ]
  },
  {
   "attachments": {},
   "cell_type": "markdown",
   "metadata": {},
   "source": [
    "# Loading and cleaning data\n",
    "We will be using data from [US Housing Market Analysis: Supply-Demand Dynamics](https://www.kaggle.com/datasets/utkarshx27/factors-influence-house-price-in-us) on Kaggle. There are 2 csv files in this dataset: `supply.csv' and `demand.csv`. "
   ]
  },
  {
   "cell_type": "code",
   "execution_count": 2,
   "metadata": {},
   "outputs": [
    {
     "data": {
      "text/html": [
       "<div>\n",
       "<style scoped>\n",
       "    .dataframe tbody tr th:only-of-type {\n",
       "        vertical-align: middle;\n",
       "    }\n",
       "\n",
       "    .dataframe tbody tr th {\n",
       "        vertical-align: top;\n",
       "    }\n",
       "\n",
       "    .dataframe thead th {\n",
       "        text-align: right;\n",
       "    }\n",
       "</style>\n",
       "<table border=\"1\" class=\"dataframe\">\n",
       "  <thead>\n",
       "    <tr style=\"text-align: right;\">\n",
       "      <th></th>\n",
       "      <th>Date</th>\n",
       "      <th>Price Index</th>\n",
       "      <th>GDP</th>\n",
       "      <th>30-Year Rate Avg</th>\n",
       "      <th>Monthly Supply</th>\n",
       "      <th>Median Price</th>\n",
       "      <th>Permits</th>\n",
       "      <th>Sentiment Index</th>\n",
       "    </tr>\n",
       "  </thead>\n",
       "  <tbody>\n",
       "    <tr>\n",
       "      <th>0</th>\n",
       "      <td>1987-01-01</td>\n",
       "      <td>63.734</td>\n",
       "      <td>4722.156</td>\n",
       "      <td>9.2040</td>\n",
       "      <td>6.0</td>\n",
       "      <td>97900.0</td>\n",
       "      <td>1690.0</td>\n",
       "      <td>90.4</td>\n",
       "    </tr>\n",
       "    <tr>\n",
       "      <th>1</th>\n",
       "      <td>1987-02-01</td>\n",
       "      <td>64.134</td>\n",
       "      <td>4722.156</td>\n",
       "      <td>9.0825</td>\n",
       "      <td>6.2</td>\n",
       "      <td>97900.0</td>\n",
       "      <td>1689.0</td>\n",
       "      <td>90.2</td>\n",
       "    </tr>\n",
       "    <tr>\n",
       "      <th>2</th>\n",
       "      <td>1987-03-01</td>\n",
       "      <td>64.469</td>\n",
       "      <td>4722.156</td>\n",
       "      <td>9.0350</td>\n",
       "      <td>6.0</td>\n",
       "      <td>97900.0</td>\n",
       "      <td>1704.0</td>\n",
       "      <td>90.8</td>\n",
       "    </tr>\n",
       "    <tr>\n",
       "      <th>3</th>\n",
       "      <td>1987-04-01</td>\n",
       "      <td>64.973</td>\n",
       "      <td>4806.160</td>\n",
       "      <td>9.8325</td>\n",
       "      <td>6.0</td>\n",
       "      <td>103400.0</td>\n",
       "      <td>1601.0</td>\n",
       "      <td>92.8</td>\n",
       "    </tr>\n",
       "    <tr>\n",
       "      <th>4</th>\n",
       "      <td>1987-05-01</td>\n",
       "      <td>65.547</td>\n",
       "      <td>4806.160</td>\n",
       "      <td>10.5960</td>\n",
       "      <td>6.7</td>\n",
       "      <td>103400.0</td>\n",
       "      <td>1500.0</td>\n",
       "      <td>91.1</td>\n",
       "    </tr>\n",
       "  </tbody>\n",
       "</table>\n",
       "</div>"
      ],
      "text/plain": [
       "         Date  Price Index       GDP  30-Year Rate Avg  Monthly Supply  \\\n",
       "0  1987-01-01       63.734  4722.156            9.2040             6.0   \n",
       "1  1987-02-01       64.134  4722.156            9.0825             6.2   \n",
       "2  1987-03-01       64.469  4722.156            9.0350             6.0   \n",
       "3  1987-04-01       64.973  4806.160            9.8325             6.0   \n",
       "4  1987-05-01       65.547  4806.160           10.5960             6.7   \n",
       "\n",
       "   Median Price  Permits  Sentiment Index  \n",
       "0       97900.0   1690.0             90.4  \n",
       "1       97900.0   1689.0             90.2  \n",
       "2       97900.0   1704.0             90.8  \n",
       "3      103400.0   1601.0             92.8  \n",
       "4      103400.0   1500.0             91.1  "
      ]
     },
     "execution_count": 2,
     "metadata": {},
     "output_type": "execute_result"
    }
   ],
   "source": [
    "# Read in data\n",
    "file_path = Path(\"data/housing_data2.csv\")\n",
    "df = pd.read_csv(file_path)\n",
    "df.head()"
   ]
  },
  {
   "cell_type": "code",
   "execution_count": 3,
   "metadata": {},
   "outputs": [
    {
     "data": {
      "text/html": [
       "<div>\n",
       "<style scoped>\n",
       "    .dataframe tbody tr th:only-of-type {\n",
       "        vertical-align: middle;\n",
       "    }\n",
       "\n",
       "    .dataframe tbody tr th {\n",
       "        vertical-align: top;\n",
       "    }\n",
       "\n",
       "    .dataframe thead th {\n",
       "        text-align: right;\n",
       "    }\n",
       "</style>\n",
       "<table border=\"1\" class=\"dataframe\">\n",
       "  <thead>\n",
       "    <tr style=\"text-align: right;\">\n",
       "      <th></th>\n",
       "      <th>Date</th>\n",
       "      <th>Price Index</th>\n",
       "      <th>GDP</th>\n",
       "      <th>30-Year Rate Avg</th>\n",
       "      <th>Monthly Supply</th>\n",
       "      <th>Median Price</th>\n",
       "      <th>Permits</th>\n",
       "      <th>Sentiment Index</th>\n",
       "    </tr>\n",
       "  </thead>\n",
       "  <tbody>\n",
       "    <tr>\n",
       "      <th>428</th>\n",
       "      <td>2022-09-01</td>\n",
       "      <td>300.451</td>\n",
       "      <td>25723.941</td>\n",
       "      <td>6.1120</td>\n",
       "      <td>9.7</td>\n",
       "      <td>468000.0</td>\n",
       "      <td>1588.0</td>\n",
       "      <td>58.6</td>\n",
       "    </tr>\n",
       "    <tr>\n",
       "      <th>429</th>\n",
       "      <td>2022-10-01</td>\n",
       "      <td>298.672</td>\n",
       "      <td>26137.992</td>\n",
       "      <td>6.9000</td>\n",
       "      <td>9.7</td>\n",
       "      <td>479500.0</td>\n",
       "      <td>1555.0</td>\n",
       "      <td>59.9</td>\n",
       "    </tr>\n",
       "    <tr>\n",
       "      <th>430</th>\n",
       "      <td>2022-11-01</td>\n",
       "      <td>296.809</td>\n",
       "      <td>26137.992</td>\n",
       "      <td>6.8050</td>\n",
       "      <td>9.4</td>\n",
       "      <td>479500.0</td>\n",
       "      <td>1402.0</td>\n",
       "      <td>56.8</td>\n",
       "    </tr>\n",
       "    <tr>\n",
       "      <th>431</th>\n",
       "      <td>2022-12-01</td>\n",
       "      <td>294.266</td>\n",
       "      <td>26137.992</td>\n",
       "      <td>6.3640</td>\n",
       "      <td>8.5</td>\n",
       "      <td>479500.0</td>\n",
       "      <td>1409.0</td>\n",
       "      <td>59.7</td>\n",
       "    </tr>\n",
       "    <tr>\n",
       "      <th>432</th>\n",
       "      <td>2023-01-01</td>\n",
       "      <td>292.444</td>\n",
       "      <td>26486.287</td>\n",
       "      <td>6.2725</td>\n",
       "      <td>8.1</td>\n",
       "      <td>436800.0</td>\n",
       "      <td>1354.0</td>\n",
       "      <td>64.9</td>\n",
       "    </tr>\n",
       "  </tbody>\n",
       "</table>\n",
       "</div>"
      ],
      "text/plain": [
       "           Date  Price Index        GDP  30-Year Rate Avg  Monthly Supply  \\\n",
       "428  2022-09-01      300.451  25723.941            6.1120             9.7   \n",
       "429  2022-10-01      298.672  26137.992            6.9000             9.7   \n",
       "430  2022-11-01      296.809  26137.992            6.8050             9.4   \n",
       "431  2022-12-01      294.266  26137.992            6.3640             8.5   \n",
       "432  2023-01-01      292.444  26486.287            6.2725             8.1   \n",
       "\n",
       "     Median Price  Permits  Sentiment Index  \n",
       "428      468000.0   1588.0             58.6  \n",
       "429      479500.0   1555.0             59.9  \n",
       "430      479500.0   1402.0             56.8  \n",
       "431      479500.0   1409.0             59.7  \n",
       "432      436800.0   1354.0             64.9  "
      ]
     },
     "execution_count": 3,
     "metadata": {},
     "output_type": "execute_result"
    }
   ],
   "source": [
    "df.tail()"
   ]
  },
  {
   "cell_type": "code",
   "execution_count": 4,
   "metadata": {},
   "outputs": [
    {
     "data": {
      "text/html": [
       "<div>\n",
       "<style scoped>\n",
       "    .dataframe tbody tr th:only-of-type {\n",
       "        vertical-align: middle;\n",
       "    }\n",
       "\n",
       "    .dataframe tbody tr th {\n",
       "        vertical-align: top;\n",
       "    }\n",
       "\n",
       "    .dataframe thead th {\n",
       "        text-align: right;\n",
       "    }\n",
       "</style>\n",
       "<table border=\"1\" class=\"dataframe\">\n",
       "  <thead>\n",
       "    <tr style=\"text-align: right;\">\n",
       "      <th></th>\n",
       "      <th>Date</th>\n",
       "      <th>Price Index</th>\n",
       "      <th>GDP</th>\n",
       "      <th>30-Year Rate Avg</th>\n",
       "      <th>Monthly Supply</th>\n",
       "      <th>Median Price</th>\n",
       "      <th>Permits</th>\n",
       "      <th>Sentiment Index</th>\n",
       "      <th>Price Change</th>\n",
       "    </tr>\n",
       "  </thead>\n",
       "  <tbody>\n",
       "    <tr>\n",
       "      <th>423</th>\n",
       "      <td>2022-04-01</td>\n",
       "      <td>301.789</td>\n",
       "      <td>25248.476</td>\n",
       "      <td>4.9825</td>\n",
       "      <td>8.5</td>\n",
       "      <td>449300.0</td>\n",
       "      <td>1795.0</td>\n",
       "      <td>65.2</td>\n",
       "      <td>1</td>\n",
       "    </tr>\n",
       "    <tr>\n",
       "      <th>424</th>\n",
       "      <td>2022-05-01</td>\n",
       "      <td>306.569</td>\n",
       "      <td>25248.476</td>\n",
       "      <td>5.2300</td>\n",
       "      <td>8.3</td>\n",
       "      <td>449300.0</td>\n",
       "      <td>1708.0</td>\n",
       "      <td>58.4</td>\n",
       "      <td>1</td>\n",
       "    </tr>\n",
       "    <tr>\n",
       "      <th>425</th>\n",
       "      <td>2022-06-01</td>\n",
       "      <td>308.334</td>\n",
       "      <td>25248.476</td>\n",
       "      <td>5.5220</td>\n",
       "      <td>9.5</td>\n",
       "      <td>449300.0</td>\n",
       "      <td>1701.0</td>\n",
       "      <td>50.0</td>\n",
       "      <td>1</td>\n",
       "    </tr>\n",
       "    <tr>\n",
       "      <th>426</th>\n",
       "      <td>2022-07-01</td>\n",
       "      <td>307.135</td>\n",
       "      <td>25723.941</td>\n",
       "      <td>5.4125</td>\n",
       "      <td>10.1</td>\n",
       "      <td>468000.0</td>\n",
       "      <td>1658.0</td>\n",
       "      <td>51.5</td>\n",
       "      <td>0</td>\n",
       "    </tr>\n",
       "    <tr>\n",
       "      <th>427</th>\n",
       "      <td>2022-08-01</td>\n",
       "      <td>303.649</td>\n",
       "      <td>25723.941</td>\n",
       "      <td>5.2225</td>\n",
       "      <td>8.7</td>\n",
       "      <td>468000.0</td>\n",
       "      <td>1586.0</td>\n",
       "      <td>58.2</td>\n",
       "      <td>0</td>\n",
       "    </tr>\n",
       "    <tr>\n",
       "      <th>428</th>\n",
       "      <td>2022-09-01</td>\n",
       "      <td>300.451</td>\n",
       "      <td>25723.941</td>\n",
       "      <td>6.1120</td>\n",
       "      <td>9.7</td>\n",
       "      <td>468000.0</td>\n",
       "      <td>1588.0</td>\n",
       "      <td>58.6</td>\n",
       "      <td>0</td>\n",
       "    </tr>\n",
       "    <tr>\n",
       "      <th>429</th>\n",
       "      <td>2022-10-01</td>\n",
       "      <td>298.672</td>\n",
       "      <td>26137.992</td>\n",
       "      <td>6.9000</td>\n",
       "      <td>9.7</td>\n",
       "      <td>479500.0</td>\n",
       "      <td>1555.0</td>\n",
       "      <td>59.9</td>\n",
       "      <td>0</td>\n",
       "    </tr>\n",
       "    <tr>\n",
       "      <th>430</th>\n",
       "      <td>2022-11-01</td>\n",
       "      <td>296.809</td>\n",
       "      <td>26137.992</td>\n",
       "      <td>6.8050</td>\n",
       "      <td>9.4</td>\n",
       "      <td>479500.0</td>\n",
       "      <td>1402.0</td>\n",
       "      <td>56.8</td>\n",
       "      <td>0</td>\n",
       "    </tr>\n",
       "    <tr>\n",
       "      <th>431</th>\n",
       "      <td>2022-12-01</td>\n",
       "      <td>294.266</td>\n",
       "      <td>26137.992</td>\n",
       "      <td>6.3640</td>\n",
       "      <td>8.5</td>\n",
       "      <td>479500.0</td>\n",
       "      <td>1409.0</td>\n",
       "      <td>59.7</td>\n",
       "      <td>0</td>\n",
       "    </tr>\n",
       "    <tr>\n",
       "      <th>432</th>\n",
       "      <td>2023-01-01</td>\n",
       "      <td>292.444</td>\n",
       "      <td>26486.287</td>\n",
       "      <td>6.2725</td>\n",
       "      <td>8.1</td>\n",
       "      <td>436800.0</td>\n",
       "      <td>1354.0</td>\n",
       "      <td>64.9</td>\n",
       "      <td>0</td>\n",
       "    </tr>\n",
       "  </tbody>\n",
       "</table>\n",
       "</div>"
      ],
      "text/plain": [
       "           Date  Price Index        GDP  30-Year Rate Avg  Monthly Supply  \\\n",
       "423  2022-04-01      301.789  25248.476            4.9825             8.5   \n",
       "424  2022-05-01      306.569  25248.476            5.2300             8.3   \n",
       "425  2022-06-01      308.334  25248.476            5.5220             9.5   \n",
       "426  2022-07-01      307.135  25723.941            5.4125            10.1   \n",
       "427  2022-08-01      303.649  25723.941            5.2225             8.7   \n",
       "428  2022-09-01      300.451  25723.941            6.1120             9.7   \n",
       "429  2022-10-01      298.672  26137.992            6.9000             9.7   \n",
       "430  2022-11-01      296.809  26137.992            6.8050             9.4   \n",
       "431  2022-12-01      294.266  26137.992            6.3640             8.5   \n",
       "432  2023-01-01      292.444  26486.287            6.2725             8.1   \n",
       "\n",
       "     Median Price  Permits  Sentiment Index  Price Change  \n",
       "423      449300.0   1795.0             65.2             1  \n",
       "424      449300.0   1708.0             58.4             1  \n",
       "425      449300.0   1701.0             50.0             1  \n",
       "426      468000.0   1658.0             51.5             0  \n",
       "427      468000.0   1586.0             58.2             0  \n",
       "428      468000.0   1588.0             58.6             0  \n",
       "429      479500.0   1555.0             59.9             0  \n",
       "430      479500.0   1402.0             56.8             0  \n",
       "431      479500.0   1409.0             59.7             0  \n",
       "432      436800.0   1354.0             64.9             0  "
      ]
     },
     "execution_count": 4,
     "metadata": {},
     "output_type": "execute_result"
    }
   ],
   "source": [
    "# create a new column called 'PRICE_CHANGE_UP_DOWN' and set the values to 0 if the value of the 'CSUSHPISA' column is less than the value of the previous row, otherwise set the value to 1\n",
    "df[\"Price Change\"] = np.where(df[\"Price Index\"] < df[\"Price Index\"].shift(1), 0, 1)\n",
    "df.tail(10)"
   ]
  },
  {
   "cell_type": "code",
   "execution_count": 5,
   "metadata": {},
   "outputs": [
    {
     "data": {
      "text/plain": [
       "1    317\n",
       "0    116\n",
       "Name: Price Change, dtype: int64"
      ]
     },
     "execution_count": 5,
     "metadata": {},
     "output_type": "execute_result"
    }
   ],
   "source": [
    "# get the value counts for the PRICE_CHANGE_UP_DOWN column\n",
    "df[\"Price Change\"].value_counts()"
   ]
  },
  {
   "attachments": {},
   "cell_type": "markdown",
   "metadata": {},
   "source": [
    "# Defining the feature and target variables"
   ]
  },
  {
   "cell_type": "code",
   "execution_count": 6,
   "metadata": {},
   "outputs": [
    {
     "data": {
      "text/html": [
       "<div>\n",
       "<style scoped>\n",
       "    .dataframe tbody tr th:only-of-type {\n",
       "        vertical-align: middle;\n",
       "    }\n",
       "\n",
       "    .dataframe tbody tr th {\n",
       "        vertical-align: top;\n",
       "    }\n",
       "\n",
       "    .dataframe thead th {\n",
       "        text-align: right;\n",
       "    }\n",
       "</style>\n",
       "<table border=\"1\" class=\"dataframe\">\n",
       "  <thead>\n",
       "    <tr style=\"text-align: right;\">\n",
       "      <th></th>\n",
       "      <th>GDP</th>\n",
       "      <th>30-Year Rate Avg</th>\n",
       "      <th>Monthly Supply</th>\n",
       "      <th>Median Price</th>\n",
       "      <th>Permits</th>\n",
       "      <th>Sentiment Index</th>\n",
       "    </tr>\n",
       "  </thead>\n",
       "  <tbody>\n",
       "    <tr>\n",
       "      <th>1</th>\n",
       "      <td>4722.156</td>\n",
       "      <td>9.0825</td>\n",
       "      <td>6.2</td>\n",
       "      <td>97900.0</td>\n",
       "      <td>1689.0</td>\n",
       "      <td>90.2</td>\n",
       "    </tr>\n",
       "    <tr>\n",
       "      <th>2</th>\n",
       "      <td>4722.156</td>\n",
       "      <td>9.0350</td>\n",
       "      <td>6.0</td>\n",
       "      <td>97900.0</td>\n",
       "      <td>1704.0</td>\n",
       "      <td>90.8</td>\n",
       "    </tr>\n",
       "    <tr>\n",
       "      <th>3</th>\n",
       "      <td>4806.160</td>\n",
       "      <td>9.8325</td>\n",
       "      <td>6.0</td>\n",
       "      <td>103400.0</td>\n",
       "      <td>1601.0</td>\n",
       "      <td>92.8</td>\n",
       "    </tr>\n",
       "    <tr>\n",
       "      <th>4</th>\n",
       "      <td>4806.160</td>\n",
       "      <td>10.5960</td>\n",
       "      <td>6.7</td>\n",
       "      <td>103400.0</td>\n",
       "      <td>1500.0</td>\n",
       "      <td>91.1</td>\n",
       "    </tr>\n",
       "    <tr>\n",
       "      <th>5</th>\n",
       "      <td>4806.160</td>\n",
       "      <td>10.5375</td>\n",
       "      <td>6.9</td>\n",
       "      <td>103400.0</td>\n",
       "      <td>1522.0</td>\n",
       "      <td>91.5</td>\n",
       "    </tr>\n",
       "  </tbody>\n",
       "</table>\n",
       "</div>"
      ],
      "text/plain": [
       "        GDP  30-Year Rate Avg  Monthly Supply  Median Price  Permits  \\\n",
       "1  4722.156            9.0825             6.2       97900.0   1689.0   \n",
       "2  4722.156            9.0350             6.0       97900.0   1704.0   \n",
       "3  4806.160            9.8325             6.0      103400.0   1601.0   \n",
       "4  4806.160           10.5960             6.7      103400.0   1500.0   \n",
       "5  4806.160           10.5375             6.9      103400.0   1522.0   \n",
       "\n",
       "   Sentiment Index  \n",
       "1             90.2  \n",
       "2             90.8  \n",
       "3             92.8  \n",
       "4             91.1  \n",
       "5             91.5  "
      ]
     },
     "execution_count": 6,
     "metadata": {},
     "output_type": "execute_result"
    }
   ],
   "source": [
    "# Define features set\n",
    "X = df.copy()\n",
    "X = X.drop(\"Date\", axis=1)\n",
    "X = X.drop(\"Price Index\", axis=1)\n",
    "X = X.drop(\"Price Change\", axis=1)\n",
    "# drop first row\n",
    "X = X.iloc[1:]\n",
    "X.head()"
   ]
  },
  {
   "cell_type": "code",
   "execution_count": 7,
   "metadata": {},
   "outputs": [
    {
     "name": "stdout",
     "output_type": "stream",
     "text": [
      "(432, 6)\n",
      "GDP                 0\n",
      "30-Year Rate Avg    0\n",
      "Monthly Supply      0\n",
      "Median Price        0\n",
      "Permits             0\n",
      "Sentiment Index     0\n",
      "dtype: int64\n"
     ]
    }
   ],
   "source": [
    "# checking the shape of X and if there are any null values\n",
    "print(X.shape)\n",
    "print(X.isnull().sum())"
   ]
  },
  {
   "attachments": {},
   "cell_type": "markdown",
   "metadata": {},
   "source": [
    "# Creating the target vector CSUSHPISA = S&P/Case-Shiller U.S. National Home Price Index (Index Jan 2000=100, Seasonally Adjusted)"
   ]
  },
  {
   "cell_type": "code",
   "execution_count": 8,
   "metadata": {},
   "outputs": [
    {
     "data": {
      "text/plain": [
       "array([[1],\n",
       "       [1],\n",
       "       [1],\n",
       "       [1],\n",
       "       [1]])"
      ]
     },
     "execution_count": 8,
     "metadata": {},
     "output_type": "execute_result"
    }
   ],
   "source": [
    "# Define target vector 'PRICE_CHANGE_UP_DOWN' as y\n",
    "y = df[\"Price Change\"].values.reshape(-1, 1)\n",
    "y = y[1:]\n",
    "y[:5]"
   ]
  },
  {
   "attachments": {},
   "cell_type": "markdown",
   "metadata": {},
   "source": [
    "# Splitting the data into training and testing sets"
   ]
  },
  {
   "cell_type": "code",
   "execution_count": 9,
   "metadata": {},
   "outputs": [],
   "source": [
    "# Splitting into Train and Test sets\n",
    "X_train, X_test, y_train, y_test = train_test_split(X, y, random_state=78)\n"
   ]
  },
  {
   "cell_type": "code",
   "execution_count": 10,
   "metadata": {},
   "outputs": [],
   "source": [
    "# Create a StandardScaler instance\n",
    "scaler = StandardScaler()"
   ]
  },
  {
   "cell_type": "code",
   "execution_count": 11,
   "metadata": {},
   "outputs": [],
   "source": [
    "# Fit the StandardScaler\n",
    "X_scaler = scaler.fit(X_train)"
   ]
  },
  {
   "cell_type": "code",
   "execution_count": 12,
   "metadata": {},
   "outputs": [
    {
     "data": {
      "text/plain": [
       "(108, 6)"
      ]
     },
     "execution_count": 12,
     "metadata": {},
     "output_type": "execute_result"
    }
   ],
   "source": [
    "# Scale the data\n",
    "X_train_scaled = X_scaler.transform(X_train)\n",
    "X_test_scaled = X_scaler.transform(X_test)\n",
    "X_test_scaled.shape"
   ]
  },
  {
   "attachments": {},
   "cell_type": "markdown",
   "metadata": {},
   "source": [
    "# Fitting the Random Forest model\n",
    "\n",
    "Having scaled the data, we can now fit the Random Forest model to the training data."
   ]
  },
  {
   "cell_type": "code",
   "execution_count": 13,
   "metadata": {},
   "outputs": [],
   "source": [
    "# create the random forrest classifier instance\n",
    "rf_model = RandomForestClassifier(n_estimators=500, random_state=78)\n",
    "# fit the model\n",
    "rf_model = rf_model.fit(X_train_scaled, y_train.ravel())"
   ]
  },
  {
   "attachments": {},
   "cell_type": "markdown",
   "metadata": {},
   "source": [
    "# Making predictions with the Random Forest model"
   ]
  },
  {
   "cell_type": "code",
   "execution_count": 14,
   "metadata": {},
   "outputs": [
    {
     "data": {
      "text/plain": [
       "array([1, 1, 1, 0, 0, 1, 1, 0, 1, 1, 1, 1, 1, 0, 0, 1, 1, 1, 1, 1, 1, 1,\n",
       "       1, 1, 1, 1, 1, 1, 1, 1, 1, 1, 1, 1, 0, 1, 1, 1, 1, 1, 0, 1, 0, 1,\n",
       "       1, 1, 1, 0, 1, 1, 1, 1, 1, 1, 1, 1, 1, 1, 1, 1, 0, 1, 0, 1, 1, 1,\n",
       "       1, 1, 1, 1, 0, 1, 1, 0, 1, 0, 0, 0, 1, 1, 1, 0, 1, 0, 0, 1, 1, 1,\n",
       "       1, 0, 1, 1, 1, 0, 1, 1, 0, 0, 0, 1, 1, 0, 0, 1, 1, 0, 0, 1])"
      ]
     },
     "execution_count": 14,
     "metadata": {},
     "output_type": "execute_result"
    }
   ],
   "source": [
    "# Making predictions using the testing data\n",
    "predictions = rf_model.predict(X_test_scaled)\n",
    "predictions"
   ]
  },
  {
   "cell_type": "code",
   "execution_count": 15,
   "metadata": {},
   "outputs": [
    {
     "name": "stdout",
     "output_type": "stream",
     "text": [
      "First 10 Predictions:   [1 1 1 0 0 1 1 0 1 1]\n",
      "First 10 Actual labels: [[1], [1], [1], [0], [1], [1], [1], [0], [1], [1]]\n"
     ]
    }
   ],
   "source": [
    "# compare predictions to actual values\n",
    "print(f\"First 10 Predictions:   {predictions[:10]}\")\n",
    "print(f\"First 10 Actual labels: {y_test[:10].tolist()}\")\n"
   ]
  },
  {
   "attachments": {},
   "cell_type": "markdown",
   "metadata": {},
   "source": [
    "# Evaluating the Random Forest model"
   ]
  },
  {
   "cell_type": "code",
   "execution_count": 16,
   "metadata": {},
   "outputs": [
    {
     "data": {
      "text/html": [
       "<div>\n",
       "<style scoped>\n",
       "    .dataframe tbody tr th:only-of-type {\n",
       "        vertical-align: middle;\n",
       "    }\n",
       "\n",
       "    .dataframe tbody tr th {\n",
       "        vertical-align: top;\n",
       "    }\n",
       "\n",
       "    .dataframe thead th {\n",
       "        text-align: right;\n",
       "    }\n",
       "</style>\n",
       "<table border=\"1\" class=\"dataframe\">\n",
       "  <thead>\n",
       "    <tr style=\"text-align: right;\">\n",
       "      <th></th>\n",
       "      <th>Prediction</th>\n",
       "      <th>Actual</th>\n",
       "      <th>Difference</th>\n",
       "      <th>Percent Difference</th>\n",
       "    </tr>\n",
       "  </thead>\n",
       "  <tbody>\n",
       "    <tr>\n",
       "      <th>0</th>\n",
       "      <td>1.0</td>\n",
       "      <td>1.0</td>\n",
       "      <td>0.0</td>\n",
       "      <td>0.0</td>\n",
       "    </tr>\n",
       "    <tr>\n",
       "      <th>1</th>\n",
       "      <td>1.0</td>\n",
       "      <td>1.0</td>\n",
       "      <td>0.0</td>\n",
       "      <td>0.0</td>\n",
       "    </tr>\n",
       "    <tr>\n",
       "      <th>2</th>\n",
       "      <td>1.0</td>\n",
       "      <td>1.0</td>\n",
       "      <td>0.0</td>\n",
       "      <td>0.0</td>\n",
       "    </tr>\n",
       "    <tr>\n",
       "      <th>3</th>\n",
       "      <td>0.0</td>\n",
       "      <td>0.0</td>\n",
       "      <td>0.0</td>\n",
       "      <td>NaN</td>\n",
       "    </tr>\n",
       "    <tr>\n",
       "      <th>4</th>\n",
       "      <td>0.0</td>\n",
       "      <td>1.0</td>\n",
       "      <td>1.0</td>\n",
       "      <td>100.0</td>\n",
       "    </tr>\n",
       "    <tr>\n",
       "      <th>5</th>\n",
       "      <td>1.0</td>\n",
       "      <td>1.0</td>\n",
       "      <td>0.0</td>\n",
       "      <td>0.0</td>\n",
       "    </tr>\n",
       "    <tr>\n",
       "      <th>6</th>\n",
       "      <td>1.0</td>\n",
       "      <td>1.0</td>\n",
       "      <td>0.0</td>\n",
       "      <td>0.0</td>\n",
       "    </tr>\n",
       "    <tr>\n",
       "      <th>7</th>\n",
       "      <td>0.0</td>\n",
       "      <td>0.0</td>\n",
       "      <td>0.0</td>\n",
       "      <td>NaN</td>\n",
       "    </tr>\n",
       "    <tr>\n",
       "      <th>8</th>\n",
       "      <td>1.0</td>\n",
       "      <td>1.0</td>\n",
       "      <td>0.0</td>\n",
       "      <td>0.0</td>\n",
       "    </tr>\n",
       "    <tr>\n",
       "      <th>9</th>\n",
       "      <td>1.0</td>\n",
       "      <td>1.0</td>\n",
       "      <td>0.0</td>\n",
       "      <td>0.0</td>\n",
       "    </tr>\n",
       "  </tbody>\n",
       "</table>\n",
       "</div>"
      ],
      "text/plain": [
       "   Prediction  Actual  Difference  Percent Difference\n",
       "0         1.0     1.0         0.0                 0.0\n",
       "1         1.0     1.0         0.0                 0.0\n",
       "2         1.0     1.0         0.0                 0.0\n",
       "3         0.0     0.0         0.0                 NaN\n",
       "4         0.0     1.0         1.0               100.0\n",
       "5         1.0     1.0         0.0                 0.0\n",
       "6         1.0     1.0         0.0                 0.0\n",
       "7         0.0     0.0         0.0                 NaN\n",
       "8         1.0     1.0         0.0                 0.0\n",
       "9         1.0     1.0         0.0                 0.0"
      ]
     },
     "execution_count": 16,
     "metadata": {},
     "output_type": "execute_result"
    }
   ],
   "source": [
    "# chart of predictions vs actual\n",
    "results_df = pd.DataFrame({\"Prediction\": predictions, \"Actual\": y_test.ravel()})\n",
    "# change the datatypes to float\n",
    "results_df = results_df.astype(\"float64\")\n",
    "# add a column for the difference between the prediction and actual\n",
    "results_df[\"Difference\"] = results_df[\"Actual\"] - results_df[\"Prediction\"]\n",
    "# add a column for the percent difference between the prediction and actual\n",
    "results_df[\"Percent Difference\"] = results_df[\"Difference\"] / results_df[\"Actual\"] * 100\n",
    "# find the highest percent difference\n",
    "results_df[\"Percent Difference\"].max()\n",
    "results_df.head(10)"
   ]
  },
  {
   "cell_type": "code",
   "execution_count": 17,
   "metadata": {},
   "outputs": [
    {
     "name": "stdout",
     "output_type": "stream",
     "text": [
      "Mean Absolute Error: -0.009259259259259259\n"
     ]
    }
   ],
   "source": [
    "# calculate the mean absolute error (MAE)\n",
    "mae = results_df[\"Difference\"].mean()\n",
    "print(f\"Mean Absolute Error: {mae}\")\n"
   ]
  },
  {
   "cell_type": "code",
   "execution_count": 18,
   "metadata": {},
   "outputs": [
    {
     "name": "stdout",
     "output_type": "stream",
     "text": [
      "Mean Squared Error: 0.1388888888888889\n"
     ]
    }
   ],
   "source": [
    "# calculate the mean squared error (MSE)\n",
    "mse = results_df[\"Difference\"].apply(lambda x: x**2).mean()\n",
    "print(f\"Mean Squared Error: {mse}\")\n"
   ]
  },
  {
   "cell_type": "code",
   "execution_count": 19,
   "metadata": {},
   "outputs": [
    {
     "name": "stdout",
     "output_type": "stream",
     "text": [
      "Root Mean Squared Error: 0.37267799624996495\n"
     ]
    }
   ],
   "source": [
    "# calculate the root mean squared error (RMSE)\n",
    "rmse = mse**(0.5)\n",
    "print(f\"Root Mean Squared Error: {rmse}\")\n"
   ]
  },
  {
   "cell_type": "code",
   "execution_count": 20,
   "metadata": {},
   "outputs": [
    {
     "name": "stdout",
     "output_type": "stream",
     "text": [
      "Mean Absolute Percent Error: inf\n"
     ]
    }
   ],
   "source": [
    "# calculate the mean absolute percent error (MAPE)\n",
    "mape = results_df[\"Percent Difference\"].abs().mean()\n",
    "print(f\"Mean Absolute Percent Error: {mape}\")\n"
   ]
  },
  {
   "cell_type": "code",
   "execution_count": 21,
   "metadata": {},
   "outputs": [
    {
     "name": "stdout",
     "output_type": "stream",
     "text": [
      "Accuracy Score : 0.8611111111111112\n"
     ]
    }
   ],
   "source": [
    "# Evaluating the Random Forest model\n",
    "acc_score = accuracy_score(y_test, predictions)\n",
    "print(f\"Accuracy Score : {acc_score}\")\n"
   ]
  },
  {
   "attachments": {},
   "cell_type": "markdown",
   "metadata": {},
   "source": [
    "# Feature importance"
   ]
  },
  {
   "cell_type": "code",
   "execution_count": 22,
   "metadata": {},
   "outputs": [
    {
     "name": "stdout",
     "output_type": "stream",
     "text": [
      "GDP: (0.1531162515411095)\n",
      "30-Year Rate Avg: (0.14759841310381178)\n",
      "Monthly Supply: (0.23262162094745872)\n",
      "Median Price: (0.11558615068521687)\n",
      "Permits: (0.16320473979967115)\n",
      "Sentiment Index: (0.1878728239227319)\n"
     ]
    }
   ],
   "source": [
    "# get the feature importance array\n",
    "importances = rf_model.feature_importances_\n",
    "# list of features\n",
    "feature_list = list(X.columns)\n",
    "# sort the features by their importance\n",
    "sorted(zip(rf_model.feature_importances_, feature_list), reverse=True)\n",
    "# print the feature importance\n",
    "for feature in zip(feature_list, rf_model.feature_importances_):\n",
    "    print(f\"{feature[0]}: ({feature[1]})\")\n",
    "    "
   ]
  },
  {
   "cell_type": "code",
   "execution_count": 23,
   "metadata": {},
   "outputs": [
    {
     "data": {
      "image/png": "[encoded data removed]",
      "text/plain": [
       "<Figure size 432x288 with 1 Axes>"
      ]
     },
     "metadata": {
      "needs_background": "light"
     },
     "output_type": "display_data"
    }
   ],
   "source": [
    "# add the feature importance to a dataframe\n",
    "feature_importance_df = pd.DataFrame({\"feature\": feature_list, \"importance\": importances})\n",
    "# sort the dataframe by the importance\n",
    "feature_importance_df = feature_importance_df.sort_values(\"importance\", ascending=False)\n",
    "# set the index to be the feature\n",
    "feature_importance_df = feature_importance_df.set_index(\"feature\", drop=True)\n",
    "# plot the feature importance\n",
    "feature_importance_df.plot(kind=\"bar\")\n",
    "plt.show()"
   ]
  },
  {
   "cell_type": "code",
   "execution_count": 24,
   "metadata": {},
   "outputs": [
    {
     "data": {
      "application/vnd.plotly.v1+json": {
       "config": {
        "plotlyServerURL": "https://plot.ly"
       },
       "data": [
        {
         "alignmentgroup": "True",
         "hovertemplate": "feature=%{x}<br>importance=%{y}<extra></extra>",
         "legendgroup": "",
         "marker": {
          "color": "#636efa",
          "pattern": {
           "shape": ""
          }
         },
         "name": "",
         "offsetgroup": "",
         "orientation": "v",
         "showlegend": false,
         "textposition": "auto",
         "type": "bar",
         "x": [
          "Monthly Supply",
          "Sentiment Index",
          "Permits",
          "GDP",
          "30-Year Rate Avg",
          "Median Price"
         ],
         "xaxis": "x",
         "y": [
          0.23262162094745872,
          0.1878728239227319,
          0.16320473979967115,
          0.1531162515411095,
          0.14759841310381178,
          0.11558615068521687
         ],
         "yaxis": "y"
        }
       ],
       "layout": {
        "barmode": "relative",
        "legend": {
         "tracegroupgap": 0
        },
        "template": {
         "data": {
          "bar": [
           {
            "error_x": {
             "color": "#2a3f5f"
            },
            "error_y": {
             "color": "#2a3f5f"
            },
            "marker": {
             "line": {
              "color": "#E5ECF6",
              "width": 0.5
             },
             "pattern": {
              "fillmode": "overlay",
              "size": 10,
              "solidity": 0.2
             }
            },
            "type": "bar"
           }
          ],
          "barpolar": [
           {
            "marker": {
             "line": {
              "color": "#E5ECF6",
              "width": 0.5
             },
             "pattern": {
              "fillmode": "overlay",
              "size": 10,
              "solidity": 0.2
             }
            },
            "type": "barpolar"
           }
          ],
          "carpet": [
           {
            "aaxis": {
             "endlinecolor": "#2a3f5f",
             "gridcolor": "white",
             "linecolor": "white",
             "minorgridcolor": "white",
             "startlinecolor": "#2a3f5f"
            },
            "baxis": {
             "endlinecolor": "#2a3f5f",
             "gridcolor": "white",
             "linecolor": "white",
             "minorgridcolor": "white",
             "startlinecolor": "#2a3f5f"
            },
            "type": "carpet"
           }
          ],
          "choropleth": [
           {
            "colorbar": {
             "outlinewidth": 0,
             "ticks": ""
            },
            "type": "choropleth"
           }
          ],
          "contour": [
           {
            "colorbar": {
             "outlinewidth": 0,
             "ticks": ""
            },
            "colorscale": [
             [
              0,
              "#0d0887"
             ],
             [
              0.1111111111111111,
              "#46039f"
             ],
             [
              0.2222222222222222,
              "#7201a8"
             ],
             [
              0.3333333333333333,
              "#9c179e"
             ],
             [
              0.4444444444444444,
              "#bd3786"
             ],
             [
              0.5555555555555556,
              "#d8576b"
             ],
             [
              0.6666666666666666,
              "#ed7953"
             ],
             [
              0.7777777777777778,
              "#fb9f3a"
             ],
             [
              0.8888888888888888,
              "#fdca26"
             ],
             [
              1,
              "#f0f921"
             ]
            ],
            "type": "contour"
           }
          ],
          "contourcarpet": [
           {
            "colorbar": {
             "outlinewidth": 0,
             "ticks": ""
            },
            "type": "contourcarpet"
           }
          ],
          "heatmap": [
           {
            "colorbar": {
             "outlinewidth": 0,
             "ticks": ""
            },
            "colorscale": [
             [
              0,
              "#0d0887"
             ],
             [
              0.1111111111111111,
              "#46039f"
             ],
             [
              0.2222222222222222,
              "#7201a8"
             ],
             [
              0.3333333333333333,
              "#9c179e"
             ],
             [
              0.4444444444444444,
              "#bd3786"
             ],
             [
              0.5555555555555556,
              "#d8576b"
             ],
             [
              0.6666666666666666,
              "#ed7953"
             ],
             [
              0.7777777777777778,
              "#fb9f3a"
             ],
             [
              0.8888888888888888,
              "#fdca26"
             ],
             [
              1,
              "#f0f921"
             ]
            ],
            "type": "heatmap"
           }
          ],
          "heatmapgl": [
           {
            "colorbar": {
             "outlinewidth": 0,
             "ticks": ""
            },
            "colorscale": [
             [
              0,
              "#0d0887"
             ],
             [
              0.1111111111111111,
              "#46039f"
             ],
             [
              0.2222222222222222,
              "#7201a8"
             ],
             [
              0.3333333333333333,
              "#9c179e"
             ],
             [
              0.4444444444444444,
              "#bd3786"
             ],
             [
              0.5555555555555556,
              "#d8576b"
             ],
             [
              0.6666666666666666,
              "#ed7953"
             ],
             [
              0.7777777777777778,
              "#fb9f3a"
             ],
             [
              0.8888888888888888,
              "#fdca26"
             ],
             [
              1,
              "#f0f921"
             ]
            ],
            "type": "heatmapgl"
           }
          ],
          "histogram": [
           {
            "marker": {
             "pattern": {
              "fillmode": "overlay",
              "size": 10,
              "solidity": 0.2
             }
            },
            "type": "histogram"
           }
          ],
          "histogram2d": [
           {
            "colorbar": {
             "outlinewidth": 0,
             "ticks": ""
            },
            "colorscale": [
             [
              0,
              "#0d0887"
             ],
             [
              0.1111111111111111,
              "#46039f"
             ],
             [
              0.2222222222222222,
              "#7201a8"
             ],
             [
              0.3333333333333333,
              "#9c179e"
             ],
             [
              0.4444444444444444,
              "#bd3786"
             ],
             [
              0.5555555555555556,
              "#d8576b"
             ],
             [
              0.6666666666666666,
              "#ed7953"
             ],
             [
              0.7777777777777778,
              "#fb9f3a"
             ],
             [
              0.8888888888888888,
              "#fdca26"
             ],
             [
              1,
              "#f0f921"
             ]
            ],
            "type": "histogram2d"
           }
          ],
          "histogram2dcontour": [
           {
            "colorbar": {
             "outlinewidth": 0,
             "ticks": ""
            },
            "colorscale": [
             [
              0,
              "#0d0887"
             ],
             [
              0.1111111111111111,
              "#46039f"
             ],
             [
              0.2222222222222222,
              "#7201a8"
             ],
             [
              0.3333333333333333,
              "#9c179e"
             ],
             [
              0.4444444444444444,
              "#bd3786"
             ],
             [
              0.5555555555555556,
              "#d8576b"
             ],
             [
              0.6666666666666666,
              "#ed7953"
             ],
             [
              0.7777777777777778,
              "#fb9f3a"
             ],
             [
              0.8888888888888888,
              "#fdca26"
             ],
             [
              1,
              "#f0f921"
             ]
            ],
            "type": "histogram2dcontour"
           }
          ],
          "mesh3d": [
           {
            "colorbar": {
             "outlinewidth": 0,
             "ticks": ""
            },
            "type": "mesh3d"
           }
          ],
          "parcoords": [
           {
            "line": {
             "colorbar": {
              "outlinewidth": 0,
              "ticks": ""
             }
            },
            "type": "parcoords"
           }
          ],
          "pie": [
           {
            "automargin": true,
            "type": "pie"
           }
          ],
          "scatter": [
           {
            "fillpattern": {
             "fillmode": "overlay",
             "size": 10,
             "solidity": 0.2
            },
            "type": "scatter"
           }
          ],
          "scatter3d": [
           {
            "line": {
             "colorbar": {
              "outlinewidth": 0,
              "ticks": ""
             }
            },
            "marker": {
             "colorbar": {
              "outlinewidth": 0,
              "ticks": ""
             }
            },
            "type": "scatter3d"
           }
          ],
          "scattercarpet": [
           {
            "marker": {
             "colorbar": {
              "outlinewidth": 0,
              "ticks": ""
             }
            },
            "type": "scattercarpet"
           }
          ],
          "scattergeo": [
           {
            "marker": {
             "colorbar": {
              "outlinewidth": 0,
              "ticks": ""
             }
            },
            "type": "scattergeo"
           }
          ],
          "scattergl": [
           {
            "marker": {
             "colorbar": {
              "outlinewidth": 0,
              "ticks": ""
             }
            },
            "type": "scattergl"
           }
          ],
          "scattermapbox": [
           {
            "marker": {
             "colorbar": {
              "outlinewidth": 0,
              "ticks": ""
             }
            },
            "type": "scattermapbox"
           }
          ],
          "scatterpolar": [
           {
            "marker": {
             "colorbar": {
              "outlinewidth": 0,
              "ticks": ""
             }
            },
            "type": "scatterpolar"
           }
          ],
          "scatterpolargl": [
           {
            "marker": {
             "colorbar": {
              "outlinewidth": 0,
              "ticks": ""
             }
            },
            "type": "scatterpolargl"
           }
          ],
          "scatterternary": [
           {
            "marker": {
             "colorbar": {
              "outlinewidth": 0,
              "ticks": ""
             }
            },
            "type": "scatterternary"
           }
          ],
          "surface": [
           {
            "colorbar": {
             "outlinewidth": 0,
             "ticks": ""
            },
            "colorscale": [
             [
              0,
              "#0d0887"
             ],
             [
              0.1111111111111111,
              "#46039f"
             ],
             [
              0.2222222222222222,
              "#7201a8"
             ],
             [
              0.3333333333333333,
              "#9c179e"
             ],
             [
              0.4444444444444444,
              "#bd3786"
             ],
             [
              0.5555555555555556,
              "#d8576b"
             ],
             [
              0.6666666666666666,
              "#ed7953"
             ],
             [
              0.7777777777777778,
              "#fb9f3a"
             ],
             [
              0.8888888888888888,
              "#fdca26"
             ],
             [
              1,
              "#f0f921"
             ]
            ],
            "type": "surface"
           }
          ],
          "table": [
           {
            "cells": {
             "fill": {
              "color": "#EBF0F8"
             },
             "line": {
              "color": "white"
             }
            },
            "header": {
             "fill": {
              "color": "#C8D4E3"
             },
             "line": {
              "color": "white"
             }
            },
            "type": "table"
           }
          ]
         },
         "layout": {
          "annotationdefaults": {
           "arrowcolor": "#2a3f5f",
           "arrowhead": 0,
           "arrowwidth": 1
          },
          "autotypenumbers": "strict",
          "coloraxis": {
           "colorbar": {
            "outlinewidth": 0,
            "ticks": ""
           }
          },
          "colorscale": {
           "diverging": [
            [
             0,
             "#8e0152"
            ],
            [
             0.1,
             "#c51b7d"
            ],
            [
             0.2,
             "#de77ae"
            ],
            [
             0.3,
             "#f1b6da"
            ],
            [
             0.4,
             "#fde0ef"
            ],
            [
             0.5,
             "#f7f7f7"
            ],
            [
             0.6,
             "#e6f5d0"
            ],
            [
             0.7,
             "#b8e186"
            ],
            [
             0.8,
             "#7fbc41"
            ],
            [
             0.9,
             "#4d9221"
            ],
            [
             1,
             "#276419"
            ]
           ],
           "sequential": [
            [
             0,
             "#0d0887"
            ],
            [
             0.1111111111111111,
             "#46039f"
            ],
            [
             0.2222222222222222,
             "#7201a8"
            ],
            [
             0.3333333333333333,
             "#9c179e"
            ],
            [
             0.4444444444444444,
             "#bd3786"
            ],
            [
             0.5555555555555556,
             "#d8576b"
            ],
            [
             0.6666666666666666,
             "#ed7953"
            ],
            [
             0.7777777777777778,
             "#fb9f3a"
            ],
            [
             0.8888888888888888,
             "#fdca26"
            ],
            [
             1,
             "#f0f921"
            ]
           ],
           "sequentialminus": [
            [
             0,
             "#0d0887"
            ],
            [
             0.1111111111111111,
             "#46039f"
            ],
            [
             0.2222222222222222,
             "#7201a8"
            ],
            [
             0.3333333333333333,
             "#9c179e"
            ],
            [
             0.4444444444444444,
             "#bd3786"
            ],
            [
             0.5555555555555556,
             "#d8576b"
            ],
            [
             0.6666666666666666,
             "#ed7953"
            ],
            [
             0.7777777777777778,
             "#fb9f3a"
            ],
            [
             0.8888888888888888,
             "#fdca26"
            ],
            [
             1,
             "#f0f921"
            ]
           ]
          },
          "colorway": [
           "#636efa",
           "#EF553B",
           "#00cc96",
           "#ab63fa",
           "#FFA15A",
           "#19d3f3",
           "#FF6692",
           "#B6E880",
           "#FF97FF",
           "#FECB52"
          ],
          "font": {
           "color": "#2a3f5f"
          },
          "geo": {
           "bgcolor": "white",
           "lakecolor": "white",
           "landcolor": "#E5ECF6",
           "showlakes": true,
           "showland": true,
           "subunitcolor": "white"
          },
          "hoverlabel": {
           "align": "left"
          },
          "hovermode": "closest",
          "mapbox": {
           "style": "light"
          },
          "paper_bgcolor": "white",
          "plot_bgcolor": "#E5ECF6",
          "polar": {
           "angularaxis": {
            "gridcolor": "white",
            "linecolor": "white",
            "ticks": ""
           },
           "bgcolor": "#E5ECF6",
           "radialaxis": {
            "gridcolor": "white",
            "linecolor": "white",
            "ticks": ""
           }
          },
          "scene": {
           "xaxis": {
            "backgroundcolor": "#E5ECF6",
            "gridcolor": "white",
            "gridwidth": 2,
            "linecolor": "white",
            "showbackground": true,
            "ticks": "",
            "zerolinecolor": "white"
           },
           "yaxis": {
            "backgroundcolor": "#E5ECF6",
            "gridcolor": "white",
            "gridwidth": 2,
            "linecolor": "white",
            "showbackground": true,
            "ticks": "",
            "zerolinecolor": "white"
           },
           "zaxis": {
            "backgroundcolor": "#E5ECF6",
            "gridcolor": "white",
            "gridwidth": 2,
            "linecolor": "white",
            "showbackground": true,
            "ticks": "",
            "zerolinecolor": "white"
           }
          },
          "shapedefaults": {
           "line": {
            "color": "#2a3f5f"
           }
          },
          "ternary": {
           "aaxis": {
            "gridcolor": "white",
            "linecolor": "white",
            "ticks": ""
           },
           "baxis": {
            "gridcolor": "white",
            "linecolor": "white",
            "ticks": ""
           },
           "bgcolor": "#E5ECF6",
           "caxis": {
            "gridcolor": "white",
            "linecolor": "white",
            "ticks": ""
           }
          },
          "title": {
           "x": 0.05
          },
          "xaxis": {
           "automargin": true,
           "gridcolor": "white",
           "linecolor": "white",
           "ticks": "",
           "title": {
            "standoff": 15
           },
           "zerolinecolor": "white",
           "zerolinewidth": 2
          },
          "yaxis": {
           "automargin": true,
           "gridcolor": "white",
           "linecolor": "white",
           "ticks": "",
           "title": {
            "standoff": 15
           },
           "zerolinecolor": "white",
           "zerolinewidth": 2
          }
         }
        },
        "title": {
         "text": "Feature Importance"
        },
        "xaxis": {
         "anchor": "y",
         "domain": [
          0,
          1
         ],
         "title": {
          "text": "feature"
         }
        },
        "yaxis": {
         "anchor": "x",
         "domain": [
          0,
          1
         ],
         "title": {
          "text": "importance"
         }
        }
       }
      }
     },
     "metadata": {},
     "output_type": "display_data"
    }
   ],
   "source": [
    "# use plotly to create a bar chart of the feature importance\n",
    "fig = px.bar(feature_importance_df, x=feature_importance_df.index, y=\"importance\", title=\"Feature Importance\")\n",
    "# save the graph\n",
    "fig.write_image(\"images/feature_importance_streamlined.png\")\n",
    "fig.show()"
   ]
  },
  {
   "cell_type": "code",
   "execution_count": 25,
   "metadata": {},
   "outputs": [
    {
     "data": {
      "text/html": [
       "<div>\n",
       "<style scoped>\n",
       "    .dataframe tbody tr th:only-of-type {\n",
       "        vertical-align: middle;\n",
       "    }\n",
       "\n",
       "    .dataframe tbody tr th {\n",
       "        vertical-align: top;\n",
       "    }\n",
       "\n",
       "    .dataframe thead th {\n",
       "        text-align: right;\n",
       "    }\n",
       "</style>\n",
       "<table border=\"1\" class=\"dataframe\">\n",
       "  <thead>\n",
       "    <tr style=\"text-align: right;\">\n",
       "      <th></th>\n",
       "      <th>Predicted 0</th>\n",
       "      <th>Predicted 1</th>\n",
       "    </tr>\n",
       "  </thead>\n",
       "  <tbody>\n",
       "    <tr>\n",
       "      <th>Actual 0</th>\n",
       "      <td>21</td>\n",
       "      <td>8</td>\n",
       "    </tr>\n",
       "    <tr>\n",
       "      <th>Actual 1</th>\n",
       "      <td>7</td>\n",
       "      <td>72</td>\n",
       "    </tr>\n",
       "  </tbody>\n",
       "</table>\n",
       "</div>"
      ],
      "text/plain": [
       "          Predicted 0  Predicted 1\n",
       "Actual 0           21            8\n",
       "Actual 1            7           72"
      ]
     },
     "metadata": {},
     "output_type": "display_data"
    }
   ],
   "source": [
    "# create a confusion matrix\n",
    "cm = confusion_matrix(y_test, predictions)\n",
    "# create a dataframe from the confusion matrix\n",
    "cm_df = pd.DataFrame(\n",
    "    cm, index=[\"Actual 0\", \"Actual 1\"], columns=[\"Predicted 0\", \"Predicted 1\"]\n",
    ")\n",
    "# display the confusion matrix\n",
    "display(cm_df)\n"
   ]
  },
  {
   "cell_type": "code",
   "execution_count": 26,
   "metadata": {},
   "outputs": [
    {
     "name": "stdout",
     "output_type": "stream",
     "text": [
      "Classification Report\n",
      "              precision    recall  f1-score   support\n",
      "\n",
      "           0       0.75      0.72      0.74        29\n",
      "           1       0.90      0.91      0.91        79\n",
      "\n",
      "    accuracy                           0.86       108\n",
      "   macro avg       0.82      0.82      0.82       108\n",
      "weighted avg       0.86      0.86      0.86       108\n",
      "\n"
     ]
    }
   ],
   "source": [
    "# print the classification report\n",
    "print(\"Classification Report\")\n",
    "print(classification_report(y_test, predictions))"
   ]
  },
  {
   "cell_type": "code",
   "execution_count": 27,
   "metadata": {},
   "outputs": [],
   "source": [
    "# define a function to output images of tables\n",
    "def save_df_as_image(df, filename):\n",
    "    source = ColumnDataSource(df)\n",
    "    columns = [TableColumn(field=Ci, title=Ci) for Ci in df.columns]  # bokeh columns\n",
    "    # add index column\n",
    "    columns.insert(0, TableColumn(field=\"index\", title=\"index\"))\n",
    "    # use df index as index column\n",
    "    source.add(df.index, \"index\")\n",
    "    data_table = DataTable(columns=columns, source=source, width=800, height=280)\n",
    "    export_png(data_table, filename=filename)"
   ]
  },
  {
   "cell_type": "code",
   "execution_count": 28,
   "metadata": {},
   "outputs": [],
   "source": [
    "# save a table of the feature importance\n",
    "save_df_as_image(feature_importance_df, \"images/feature_importance_streamlined_table.png\")"
   ]
  },
  {
   "cell_type": "code",
   "execution_count": 29,
   "metadata": {},
   "outputs": [],
   "source": [
    "# save a table of the confusion matrix\n",
    "save_df_as_image(cm_df, \"images/confusion_matrix_streamlined_table.png\")"
   ]
  },
  {
   "cell_type": "code",
   "execution_count": 30,
   "metadata": {},
   "outputs": [],
   "source": [
    "# save a table of the classification report\n",
    "classification_report_df = pd.DataFrame(classification_report(y_test, predictions, output_dict=True)).transpose()\n",
    "save_df_as_image(classification_report_df, \"images/classification_report_streamlined_table.png\")"
   ]
  }
 ],
 "metadata": {
  "kernelspec": {
   "display_name": "PythonData",
   "language": "python",
   "name": "python3"
  },
  "language_info": {
   "codemirror_mode": {
    "name": "ipython",
    "version": 3
   },
   "file_extension": ".py",
   "mimetype": "text/x-python",
   "name": "python",
   "nbconvert_exporter": "python",
   "pygments_lexer": "ipython3",
   "version": "3.7.7"
  },
  "orig_nbformat": 4
 },
 "nbformat": 4,
 "nbformat_minor": 2
}
