{
 "cells": [
  {
   "attachments": {},
   "cell_type": "markdown",
   "metadata": {},
   "source": [
    "# US Housing Market Analysis"
   ]
  },
  {
   "cell_type": "code",
   "execution_count": 98,
   "metadata": {},
   "outputs": [],
   "source": [
    "#import dependencies\n",
    "import pandas as pd\n",
    "import numpy as np\n",
    "import matplotlib.pyplot as plt\n",
    "import plotly.express as px\n",
    "from kaleido.scopes.plotly import PlotlyScope\n",
    "from bokeh.io import export_png\n",
    "from bokeh.models import ColumnDataSource, DataTable, TableColumn\n",
    "from pathlib import Path\n",
    "from sklearn.ensemble import RandomForestRegressor\n",
    "from sklearn.preprocessing import StandardScaler\n",
    "from sklearn.model_selection import train_test_split\n",
    "from sklearn.metrics import confusion_matrix, accuracy_score, classification_report"
   ]
  },
  {
   "attachments": {},
   "cell_type": "markdown",
   "metadata": {},
   "source": [
    "# Loading and cleaning data\n",
    "We will be using data from our custom dataset, but we will be isolating the features that will most effectively and efficiently train our model. After rigorous testing, we have found that the following features are the most effective in training our model:\n",
    "* 'Sentiment Index'\n",
    "* 'Construction'\n",
    "* 'Mortgage Rate'\n",
    "* 'NASDAQ'\n",
    "* 'Housing Starts'\n",
    "* 'NFCI(National Financial Conditions Index)'"
   ]
  },
  {
   "cell_type": "code",
   "execution_count": 99,
   "metadata": {},
   "outputs": [
    {
     "data": {
      "text/html": [
       "<div>\n",
       "<style scoped>\n",
       "    .dataframe tbody tr th:only-of-type {\n",
       "        vertical-align: middle;\n",
       "    }\n",
       "\n",
       "    .dataframe tbody tr th {\n",
       "        vertical-align: top;\n",
       "    }\n",
       "\n",
       "    .dataframe thead th {\n",
       "        text-align: right;\n",
       "    }\n",
       "</style>\n",
       "<table border=\"1\" class=\"dataframe\">\n",
       "  <thead>\n",
       "    <tr style=\"text-align: right;\">\n",
       "      <th></th>\n",
       "      <th>Date</th>\n",
       "      <th>Price Index</th>\n",
       "      <th>Mortgage Rate</th>\n",
       "      <th>Oil Price</th>\n",
       "      <th>NASDAQ</th>\n",
       "      <th>Lumber Price Index</th>\n",
       "      <th>Construction</th>\n",
       "      <th>Fed Funds Rate</th>\n",
       "    </tr>\n",
       "  </thead>\n",
       "  <tbody>\n",
       "    <tr>\n",
       "      <th>0</th>\n",
       "      <td>1987-01-01</td>\n",
       "      <td>63.734</td>\n",
       "      <td>125.90971</td>\n",
       "      <td>18.65</td>\n",
       "      <td>384.227143</td>\n",
       "      <td>108.1</td>\n",
       "      <td>1090.0</td>\n",
       "      <td>6.43</td>\n",
       "    </tr>\n",
       "    <tr>\n",
       "      <th>1</th>\n",
       "      <td>1987-02-01</td>\n",
       "      <td>64.134</td>\n",
       "      <td>124.24761</td>\n",
       "      <td>17.75</td>\n",
       "      <td>411.712632</td>\n",
       "      <td>109.4</td>\n",
       "      <td>1096.0</td>\n",
       "      <td>6.10</td>\n",
       "    </tr>\n",
       "    <tr>\n",
       "      <th>2</th>\n",
       "      <td>1987-03-01</td>\n",
       "      <td>64.469</td>\n",
       "      <td>123.59781</td>\n",
       "      <td>18.30</td>\n",
       "      <td>432.204545</td>\n",
       "      <td>110.6</td>\n",
       "      <td>1084.0</td>\n",
       "      <td>6.13</td>\n",
       "    </tr>\n",
       "    <tr>\n",
       "      <th>3</th>\n",
       "      <td>1987-04-01</td>\n",
       "      <td>64.973</td>\n",
       "      <td>134.50752</td>\n",
       "      <td>18.68</td>\n",
       "      <td>422.771429</td>\n",
       "      <td>110.7</td>\n",
       "      <td>1079.0</td>\n",
       "      <td>6.37</td>\n",
       "    </tr>\n",
       "    <tr>\n",
       "      <th>4</th>\n",
       "      <td>1987-05-01</td>\n",
       "      <td>65.547</td>\n",
       "      <td>144.95212</td>\n",
       "      <td>19.44</td>\n",
       "      <td>416.634000</td>\n",
       "      <td>110.7</td>\n",
       "      <td>1070.0</td>\n",
       "      <td>6.85</td>\n",
       "    </tr>\n",
       "  </tbody>\n",
       "</table>\n",
       "</div>"
      ],
      "text/plain": [
       "         Date  Price Index  Mortgage Rate  Oil Price      NASDAQ  \\\n",
       "0  1987-01-01       63.734      125.90971      18.65  384.227143   \n",
       "1  1987-02-01       64.134      124.24761      17.75  411.712632   \n",
       "2  1987-03-01       64.469      123.59781      18.30  432.204545   \n",
       "3  1987-04-01       64.973      134.50752      18.68  422.771429   \n",
       "4  1987-05-01       65.547      144.95212      19.44  416.634000   \n",
       "\n",
       "   Lumber Price Index  Construction  Fed Funds Rate  \n",
       "0               108.1        1090.0            6.43  \n",
       "1               109.4        1096.0            6.10  \n",
       "2               110.6        1084.0            6.13  \n",
       "3               110.7        1079.0            6.37  \n",
       "4               110.7        1070.0            6.85  "
      ]
     },
     "execution_count": 99,
     "metadata": {},
     "output_type": "execute_result"
    }
   ],
   "source": [
    "# Read in data\n",
    "file_path = Path(\"data/housing_data4.csv\")\n",
    "df = pd.read_csv(file_path)\n",
    "df.head()"
   ]
  },
  {
   "cell_type": "code",
   "execution_count": 100,
   "metadata": {},
   "outputs": [
    {
     "data": {
      "text/html": [
       "<div>\n",
       "<style scoped>\n",
       "    .dataframe tbody tr th:only-of-type {\n",
       "        vertical-align: middle;\n",
       "    }\n",
       "\n",
       "    .dataframe tbody tr th {\n",
       "        vertical-align: top;\n",
       "    }\n",
       "\n",
       "    .dataframe thead th {\n",
       "        text-align: right;\n",
       "    }\n",
       "</style>\n",
       "<table border=\"1\" class=\"dataframe\">\n",
       "  <thead>\n",
       "    <tr style=\"text-align: right;\">\n",
       "      <th></th>\n",
       "      <th>Date</th>\n",
       "      <th>Price Index</th>\n",
       "      <th>Mortgage Rate</th>\n",
       "      <th>Oil Price</th>\n",
       "      <th>NASDAQ</th>\n",
       "      <th>Lumber Price Index</th>\n",
       "      <th>Construction</th>\n",
       "      <th>Fed Funds Rate</th>\n",
       "    </tr>\n",
       "  </thead>\n",
       "  <tbody>\n",
       "    <tr>\n",
       "      <th>428</th>\n",
       "      <td>2022-09-01</td>\n",
       "      <td>300.451</td>\n",
       "      <td>83.61149</td>\n",
       "      <td>84.26</td>\n",
       "      <td>11402.850000</td>\n",
       "      <td>322.849</td>\n",
       "      <td>1698.0</td>\n",
       "      <td>2.56</td>\n",
       "    </tr>\n",
       "    <tr>\n",
       "      <th>429</th>\n",
       "      <td>2022-10-01</td>\n",
       "      <td>298.672</td>\n",
       "      <td>94.39124</td>\n",
       "      <td>87.55</td>\n",
       "      <td>10801.494286</td>\n",
       "      <td>317.617</td>\n",
       "      <td>1710.0</td>\n",
       "      <td>3.08</td>\n",
       "    </tr>\n",
       "    <tr>\n",
       "      <th>430</th>\n",
       "      <td>2022-11-01</td>\n",
       "      <td>296.809</td>\n",
       "      <td>93.09166</td>\n",
       "      <td>84.37</td>\n",
       "      <td>10973.638095</td>\n",
       "      <td>312.864</td>\n",
       "      <td>1695.0</td>\n",
       "      <td>3.78</td>\n",
       "    </tr>\n",
       "    <tr>\n",
       "      <th>431</th>\n",
       "      <td>2022-12-01</td>\n",
       "      <td>294.266</td>\n",
       "      <td>87.05882</td>\n",
       "      <td>76.44</td>\n",
       "      <td>10838.995714</td>\n",
       "      <td>308.076</td>\n",
       "      <td>1696.0</td>\n",
       "      <td>4.10</td>\n",
       "    </tr>\n",
       "    <tr>\n",
       "      <th>432</th>\n",
       "      <td>2023-01-01</td>\n",
       "      <td>292.444</td>\n",
       "      <td>85.80711</td>\n",
       "      <td>78.12</td>\n",
       "      <td>11013.991000</td>\n",
       "      <td>306.461</td>\n",
       "      <td>1695.0</td>\n",
       "      <td>4.33</td>\n",
       "    </tr>\n",
       "  </tbody>\n",
       "</table>\n",
       "</div>"
      ],
      "text/plain": [
       "           Date  Price Index  Mortgage Rate  Oil Price        NASDAQ  \\\n",
       "428  2022-09-01      300.451       83.61149      84.26  11402.850000   \n",
       "429  2022-10-01      298.672       94.39124      87.55  10801.494286   \n",
       "430  2022-11-01      296.809       93.09166      84.37  10973.638095   \n",
       "431  2022-12-01      294.266       87.05882      76.44  10838.995714   \n",
       "432  2023-01-01      292.444       85.80711      78.12  11013.991000   \n",
       "\n",
       "     Lumber Price Index  Construction  Fed Funds Rate  \n",
       "428             322.849        1698.0            2.56  \n",
       "429             317.617        1710.0            3.08  \n",
       "430             312.864        1695.0            3.78  \n",
       "431             308.076        1696.0            4.10  \n",
       "432             306.461        1695.0            4.33  "
      ]
     },
     "execution_count": 100,
     "metadata": {},
     "output_type": "execute_result"
    }
   ],
   "source": [
    "df.tail()"
   ]
  },
  {
   "attachments": {},
   "cell_type": "markdown",
   "metadata": {},
   "source": [
    "# Defining the feature and target variables"
   ]
  },
  {
   "cell_type": "code",
   "execution_count": 101,
   "metadata": {},
   "outputs": [
    {
     "data": {
      "text/html": [
       "<div>\n",
       "<style scoped>\n",
       "    .dataframe tbody tr th:only-of-type {\n",
       "        vertical-align: middle;\n",
       "    }\n",
       "\n",
       "    .dataframe tbody tr th {\n",
       "        vertical-align: top;\n",
       "    }\n",
       "\n",
       "    .dataframe thead th {\n",
       "        text-align: right;\n",
       "    }\n",
       "</style>\n",
       "<table border=\"1\" class=\"dataframe\">\n",
       "  <thead>\n",
       "    <tr style=\"text-align: right;\">\n",
       "      <th></th>\n",
       "      <th>Mortgage Rate</th>\n",
       "      <th>Oil Price</th>\n",
       "      <th>NASDAQ</th>\n",
       "      <th>Lumber Price Index</th>\n",
       "      <th>Construction</th>\n",
       "      <th>Fed Funds Rate</th>\n",
       "    </tr>\n",
       "  </thead>\n",
       "  <tbody>\n",
       "    <tr>\n",
       "      <th>1</th>\n",
       "      <td>124.24761</td>\n",
       "      <td>17.75</td>\n",
       "      <td>411.712632</td>\n",
       "      <td>109.4</td>\n",
       "      <td>1096.0</td>\n",
       "      <td>6.10</td>\n",
       "    </tr>\n",
       "    <tr>\n",
       "      <th>2</th>\n",
       "      <td>123.59781</td>\n",
       "      <td>18.30</td>\n",
       "      <td>432.204545</td>\n",
       "      <td>110.6</td>\n",
       "      <td>1084.0</td>\n",
       "      <td>6.13</td>\n",
       "    </tr>\n",
       "    <tr>\n",
       "      <th>3</th>\n",
       "      <td>134.50752</td>\n",
       "      <td>18.68</td>\n",
       "      <td>422.771429</td>\n",
       "      <td>110.7</td>\n",
       "      <td>1079.0</td>\n",
       "      <td>6.37</td>\n",
       "    </tr>\n",
       "    <tr>\n",
       "      <th>4</th>\n",
       "      <td>144.95212</td>\n",
       "      <td>19.44</td>\n",
       "      <td>416.634000</td>\n",
       "      <td>110.7</td>\n",
       "      <td>1070.0</td>\n",
       "      <td>6.85</td>\n",
       "    </tr>\n",
       "    <tr>\n",
       "      <th>5</th>\n",
       "      <td>144.15185</td>\n",
       "      <td>20.07</td>\n",
       "      <td>423.695909</td>\n",
       "      <td>111.4</td>\n",
       "      <td>1060.0</td>\n",
       "      <td>6.73</td>\n",
       "    </tr>\n",
       "  </tbody>\n",
       "</table>\n",
       "</div>"
      ],
      "text/plain": [
       "   Mortgage Rate  Oil Price      NASDAQ  Lumber Price Index  Construction  \\\n",
       "1      124.24761      17.75  411.712632               109.4        1096.0   \n",
       "2      123.59781      18.30  432.204545               110.6        1084.0   \n",
       "3      134.50752      18.68  422.771429               110.7        1079.0   \n",
       "4      144.95212      19.44  416.634000               110.7        1070.0   \n",
       "5      144.15185      20.07  423.695909               111.4        1060.0   \n",
       "\n",
       "   Fed Funds Rate  \n",
       "1            6.10  \n",
       "2            6.13  \n",
       "3            6.37  \n",
       "4            6.85  \n",
       "5            6.73  "
      ]
     },
     "execution_count": 101,
     "metadata": {},
     "output_type": "execute_result"
    }
   ],
   "source": [
    "# Define features set\n",
    "X = df.copy()\n",
    "X = X.drop(\"Date\", axis=1)\n",
    "X = X.drop(\"Price Index\", axis=1)\n",
    "# drop first row\n",
    "X = X.iloc[1:]\n",
    "X.head()"
   ]
  },
  {
   "cell_type": "code",
   "execution_count": 102,
   "metadata": {},
   "outputs": [
    {
     "name": "stdout",
     "output_type": "stream",
     "text": [
      "(432, 6)\n",
      "Mortgage Rate         0\n",
      "Oil Price             0\n",
      "NASDAQ                0\n",
      "Lumber Price Index    0\n",
      "Construction          0\n",
      "Fed Funds Rate        0\n",
      "dtype: int64\n"
     ]
    }
   ],
   "source": [
    "# checking the shape of X and if there are any null values\n",
    "print(X.shape)\n",
    "print(X.isnull().sum())"
   ]
  },
  {
   "attachments": {},
   "cell_type": "markdown",
   "metadata": {},
   "source": [
    "# Creating the target vector \n",
    "Price Index = S&P/Case-Shiller U.S. National Home Price Index (Index Jan 2000=100, Seasonally Adjusted)"
   ]
  },
  {
   "cell_type": "code",
   "execution_count": 103,
   "metadata": {},
   "outputs": [
    {
     "data": {
      "text/plain": [
       "array([[64.134],\n",
       "       [64.469],\n",
       "       [64.973],\n",
       "       [65.547],\n",
       "       [66.218]])"
      ]
     },
     "execution_count": 103,
     "metadata": {},
     "output_type": "execute_result"
    }
   ],
   "source": [
    "# Define target vector 'Price Change' as y\n",
    "y = df[\"Price Index\"].values.reshape(-1, 1)\n",
    "y = y[1:]\n",
    "y[:5]"
   ]
  },
  {
   "attachments": {},
   "cell_type": "markdown",
   "metadata": {},
   "source": [
    "# Splitting the data into training and testing sets"
   ]
  },
  {
   "cell_type": "code",
   "execution_count": 104,
   "metadata": {},
   "outputs": [],
   "source": [
    "# Splitting into Train and Test sets\n",
    "X_train, X_test, y_train, y_test = train_test_split(X, y, random_state=78)\n"
   ]
  },
  {
   "cell_type": "code",
   "execution_count": 105,
   "metadata": {},
   "outputs": [],
   "source": [
    "# Create a StandardScaler instance\n",
    "scaler = StandardScaler()"
   ]
  },
  {
   "cell_type": "code",
   "execution_count": 106,
   "metadata": {},
   "outputs": [],
   "source": [
    "# Fit the StandardScaler\n",
    "X_scaler = scaler.fit(X_train)"
   ]
  },
  {
   "cell_type": "code",
   "execution_count": 107,
   "metadata": {},
   "outputs": [
    {
     "data": {
      "text/plain": [
       "(108, 6)"
      ]
     },
     "execution_count": 107,
     "metadata": {},
     "output_type": "execute_result"
    }
   ],
   "source": [
    "# Scale the data\n",
    "X_train_scaled = X_scaler.transform(X_train)\n",
    "X_test_scaled = X_scaler.transform(X_test)\n",
    "X_test_scaled.shape"
   ]
  },
  {
   "attachments": {},
   "cell_type": "markdown",
   "metadata": {},
   "source": [
    "# Fitting the Random Forest model\n",
    "\n",
    "Having scaled the data, we can now fit the Random Forest model to the training data."
   ]
  },
  {
   "cell_type": "code",
   "execution_count": 108,
   "metadata": {},
   "outputs": [],
   "source": [
    "# create the random forrest classifier instance\n",
    "rf_model = RandomForestRegressor(n_estimators=500, random_state=78)\n",
    "# fit the model\n",
    "rf_model = rf_model.fit(X_train_scaled, y_train.ravel())"
   ]
  },
  {
   "attachments": {},
   "cell_type": "markdown",
   "metadata": {},
   "source": [
    "# Making predictions with the Random Forest model"
   ]
  },
  {
   "cell_type": "code",
   "execution_count": 109,
   "metadata": {},
   "outputs": [
    {
     "data": {
      "text/plain": [
       "array([107.033684, 274.537264,  92.83885 , 166.060936, 149.36926 ,\n",
       "       123.42648 , 150.525928, 182.216534,  79.831708,  87.531896,\n",
       "        82.864974,  76.488234, 168.744662,  76.612938,  77.104428,\n",
       "       129.44345 , 229.148406,  76.348466,  66.995272,  76.27736 ,\n",
       "       119.088666, 300.274154,  78.540378, 143.981416, 214.485486,\n",
       "       143.47369 , 162.222238, 194.730316, 141.200308,  96.514982,\n",
       "       150.370442, 153.377344, 252.80462 ,  82.967146, 147.512432,\n",
       "       184.545216, 299.731564,  76.756064,  79.859952, 103.417126,\n",
       "       148.878814, 129.475598,  79.8504  , 211.356166,  94.680954,\n",
       "        74.017978,  94.342832, 182.290994, 143.856514, 177.735156,\n",
       "        67.393864, 167.122792, 198.406318, 199.163464, 141.712436,\n",
       "        72.513976, 151.464732, 124.076166, 225.503376,  69.663274,\n",
       "       165.884666, 169.882978, 182.76071 ,  76.377768,  72.655164,\n",
       "       166.005194,  65.437166,  89.205638, 138.565872,  76.517942,\n",
       "       173.186418,  94.543634, 137.659016, 140.802644, 173.988558,\n",
       "        75.686206, 137.815874, 176.539264, 110.496856, 183.934896,\n",
       "       245.267526, 205.306276, 126.248306,  76.482616, 144.276544,\n",
       "        80.195896,  70.542046, 144.126342, 106.36914 , 179.17139 ,\n",
       "       184.074118,  72.753712,  79.856538, 176.772018,  76.790786,\n",
       "        88.130016, 159.20563 ,  76.927622, 168.13471 , 267.5964  ,\n",
       "       211.698464,  76.728076, 299.359924, 171.252632,  83.555236,\n",
       "       148.813246, 145.379642, 176.016518])"
      ]
     },
     "execution_count": 109,
     "metadata": {},
     "output_type": "execute_result"
    }
   ],
   "source": [
    "# Making predictions using the testing data\n",
    "predictions = rf_model.predict(X_test_scaled)\n",
    "predictions"
   ]
  },
  {
   "cell_type": "code",
   "execution_count": 110,
   "metadata": {},
   "outputs": [
    {
     "name": "stdout",
     "output_type": "stream",
     "text": [
      "First 10 Predictions:   [107.033684 274.537264  92.83885  166.060936 149.36926  123.42648\n",
      " 150.525928 182.216534  79.831708  87.531896]\n",
      "First 10 Actual labels: [[109.214], [276.07], [90.194], [164.278], [148.17], [123.68700000000001], [147.96], [182.472], [80.339], [86.31]]\n"
     ]
    }
   ],
   "source": [
    "# compare predictions to actual values\n",
    "print(f\"First 10 Predictions:   {predictions[:10]}\")\n",
    "print(f\"First 10 Actual labels: {y_test[:10].tolist()}\")\n"
   ]
  },
  {
   "attachments": {},
   "cell_type": "markdown",
   "metadata": {},
   "source": [
    "# Evaluating the Random Forest model"
   ]
  },
  {
   "cell_type": "code",
   "execution_count": 111,
   "metadata": {},
   "outputs": [
    {
     "data": {
      "text/html": [
       "<div>\n",
       "<style scoped>\n",
       "    .dataframe tbody tr th:only-of-type {\n",
       "        vertical-align: middle;\n",
       "    }\n",
       "\n",
       "    .dataframe tbody tr th {\n",
       "        vertical-align: top;\n",
       "    }\n",
       "\n",
       "    .dataframe thead th {\n",
       "        text-align: right;\n",
       "    }\n",
       "</style>\n",
       "<table border=\"1\" class=\"dataframe\">\n",
       "  <thead>\n",
       "    <tr style=\"text-align: right;\">\n",
       "      <th></th>\n",
       "      <th>Prediction</th>\n",
       "      <th>Actual</th>\n",
       "      <th>Difference</th>\n",
       "      <th>Percent Difference</th>\n",
       "    </tr>\n",
       "  </thead>\n",
       "  <tbody>\n",
       "    <tr>\n",
       "      <th>0</th>\n",
       "      <td>107.033684</td>\n",
       "      <td>109.214</td>\n",
       "      <td>2.180316</td>\n",
       "      <td>1.996370</td>\n",
       "    </tr>\n",
       "    <tr>\n",
       "      <th>1</th>\n",
       "      <td>274.537264</td>\n",
       "      <td>276.070</td>\n",
       "      <td>1.532736</td>\n",
       "      <td>0.555198</td>\n",
       "    </tr>\n",
       "    <tr>\n",
       "      <th>2</th>\n",
       "      <td>92.838850</td>\n",
       "      <td>90.194</td>\n",
       "      <td>-2.644850</td>\n",
       "      <td>-2.932401</td>\n",
       "    </tr>\n",
       "    <tr>\n",
       "      <th>3</th>\n",
       "      <td>166.060936</td>\n",
       "      <td>164.278</td>\n",
       "      <td>-1.782936</td>\n",
       "      <td>-1.085316</td>\n",
       "    </tr>\n",
       "    <tr>\n",
       "      <th>4</th>\n",
       "      <td>149.369260</td>\n",
       "      <td>148.170</td>\n",
       "      <td>-1.199260</td>\n",
       "      <td>-0.809381</td>\n",
       "    </tr>\n",
       "    <tr>\n",
       "      <th>5</th>\n",
       "      <td>123.426480</td>\n",
       "      <td>123.687</td>\n",
       "      <td>0.260520</td>\n",
       "      <td>0.210628</td>\n",
       "    </tr>\n",
       "    <tr>\n",
       "      <th>6</th>\n",
       "      <td>150.525928</td>\n",
       "      <td>147.960</td>\n",
       "      <td>-2.565928</td>\n",
       "      <td>-1.734204</td>\n",
       "    </tr>\n",
       "    <tr>\n",
       "      <th>7</th>\n",
       "      <td>182.216534</td>\n",
       "      <td>182.472</td>\n",
       "      <td>0.255466</td>\n",
       "      <td>0.140003</td>\n",
       "    </tr>\n",
       "    <tr>\n",
       "      <th>8</th>\n",
       "      <td>79.831708</td>\n",
       "      <td>80.339</td>\n",
       "      <td>0.507292</td>\n",
       "      <td>0.631439</td>\n",
       "    </tr>\n",
       "    <tr>\n",
       "      <th>9</th>\n",
       "      <td>87.531896</td>\n",
       "      <td>86.310</td>\n",
       "      <td>-1.221896</td>\n",
       "      <td>-1.415706</td>\n",
       "    </tr>\n",
       "  </tbody>\n",
       "</table>\n",
       "</div>"
      ],
      "text/plain": [
       "   Prediction   Actual  Difference  Percent Difference\n",
       "0  107.033684  109.214    2.180316            1.996370\n",
       "1  274.537264  276.070    1.532736            0.555198\n",
       "2   92.838850   90.194   -2.644850           -2.932401\n",
       "3  166.060936  164.278   -1.782936           -1.085316\n",
       "4  149.369260  148.170   -1.199260           -0.809381\n",
       "5  123.426480  123.687    0.260520            0.210628\n",
       "6  150.525928  147.960   -2.565928           -1.734204\n",
       "7  182.216534  182.472    0.255466            0.140003\n",
       "8   79.831708   80.339    0.507292            0.631439\n",
       "9   87.531896   86.310   -1.221896           -1.415706"
      ]
     },
     "execution_count": 111,
     "metadata": {},
     "output_type": "execute_result"
    }
   ],
   "source": [
    "# chart of predictions vs actual\n",
    "results_df = pd.DataFrame({\"Prediction\": predictions, \"Actual\": y_test.ravel()})\n",
    "# change the datatypes to float\n",
    "results_df = results_df.astype(\"float64\")\n",
    "# add a column for the difference between the prediction and actual\n",
    "results_df[\"Difference\"] = results_df[\"Actual\"] - results_df[\"Prediction\"]\n",
    "# add a column for the percent difference between the prediction and actual\n",
    "results_df[\"Percent Difference\"] = results_df[\"Difference\"] / results_df[\"Actual\"] * 100\n",
    "# find the highest percent difference\n",
    "results_df[\"Percent Difference\"].max()\n",
    "results_df.head(10)"
   ]
  },
  {
   "cell_type": "code",
   "execution_count": 122,
   "metadata": {},
   "outputs": [
    {
     "data": {
      "application/vnd.plotly.v1+json": {
       "config": {
        "plotlyServerURL": "https://plot.ly"
       },
       "data": [
        {
         "alignmentgroup": "True",
         "bingroup": "x",
         "hovertemplate": "Percent Difference=%{x}<br>count=%{y}<extra></extra>",
         "legendgroup": "",
         "marker": {
          "color": "#636efa",
          "pattern": {
           "shape": ""
          }
         },
         "name": "",
         "offsetgroup": "",
         "orientation": "v",
         "showlegend": false,
         "type": "histogram",
         "x": [
          1.9963704286995696,
          0.555198319266729,
          -2.9324012683775007,
          -1.0853163539848198,
          -0.8093811162853928,
          0.2106284411463926,
          -1.734203838874958,
          0.14000284975243787,
          0.6314392760674594,
          -1.4157061754144526,
          -0.9022624324195037,
          -0.11942091966971363,
          -6.349443499086021,
          0.018351233899291098,
          -0.9471308309658512,
          1.8170268281773414,
          -2.2664372740657854,
          0.2997388283839098,
          0.4069155182919211,
          -0.005716308523524155,
          1.4060569432146781,
          2.0533211120494843,
          -0.4378347272312343,
          -0.014181618633088835,
          -0.5864356226701553,
          0.5616076626654476,
          2.860353654812366,
          0.04911254144684912,
          0.412379306696752,
          -4.100807869446858,
          -5.873055502749379,
          -4.924335232830742,
          1.0487466925525462,
          0.8103939267138812,
          0.07151431397268909,
          0.06161844264263839,
          2.4104826867661093,
          -0.12531176624061469,
          0.5517203591395692,
          -2.8299668890636296,
          -1.3173910972281535,
          -1.4285698618112808,
          0.28422288268907037,
          -0.00007854047211084124,
          -2.6952948067164986,
          -0.06756705602385606,
          -2.8248542250225315,
          -0.053236659823782034,
          0.07813209788195878,
          -0.06990332805958753,
          0.3388432929621548,
          0.19779043797090828,
          -0.7604111543905553,
          -1.5518376504177203,
          -1.1011250704506195,
          0.7541558885923663,
          -5.125438645196826,
          0.5241994708576919,
          -1.7660435940249495,
          1.0577292353140881,
          -0.10359235545749407,
          3.081850700288144,
          -0.022827401638236593,
          0.14411672419183955,
          -0.1118361947805602,
          3.4937685666948464,
          -0.7143982885197464,
          0.1872623723043387,
          0.14350016214459332,
          -0.9897872452748308,
          -1.23243082102937,
          0.8560885067114267,
          1.0778921952587512,
          -1.7279291385799744,
          0.6075006283847623,
          -0.5810123722573297,
          -1.958196036073589,
          2.46072279038461,
          0.6743049250764832,
          0.007123752364674299,
          1.8376260210762643,
          0.036383112361807766,
          0.3108715907839929,
          -1.5503100312021267,
          -0.47322994212924996,
          0.2153865296320659,
          0.7386747716939882,
          0.1611662591179039,
          2.9850422283430955,
          -0.9251389913758359,
          -0.027778049483178063,
          0.09377385954787404,
          0.5720678320631577,
          -0.9197355575727808,
          0.3105465403088835,
          -0.8664186876957636,
          0.09874939603292959,
          0.8153403816402257,
          8.922895664844726,
          -0.7736629233795614,
          0.19919574205290214,
          -0.43599188428562796,
          1.4125111559725583,
          0.34761012510886874,
          -0.6107744918601193,
          0.3673986690058285,
          1.1285155638982052,
          -1.101975898631711
         ],
         "xaxis": "x",
         "yaxis": "y"
        }
       ],
       "layout": {
        "barmode": "relative",
        "legend": {
         "tracegroupgap": 0
        },
        "template": {
         "data": {
          "bar": [
           {
            "error_x": {
             "color": "#2a3f5f"
            },
            "error_y": {
             "color": "#2a3f5f"
            },
            "marker": {
             "line": {
              "color": "#E5ECF6",
              "width": 0.5
             },
             "pattern": {
              "fillmode": "overlay",
              "size": 10,
              "solidity": 0.2
             }
            },
            "type": "bar"
           }
          ],
          "barpolar": [
           {
            "marker": {
             "line": {
              "color": "#E5ECF6",
              "width": 0.5
             },
             "pattern": {
              "fillmode": "overlay",
              "size": 10,
              "solidity": 0.2
             }
            },
            "type": "barpolar"
           }
          ],
          "carpet": [
           {
            "aaxis": {
             "endlinecolor": "#2a3f5f",
             "gridcolor": "white",
             "linecolor": "white",
             "minorgridcolor": "white",
             "startlinecolor": "#2a3f5f"
            },
            "baxis": {
             "endlinecolor": "#2a3f5f",
             "gridcolor": "white",
             "linecolor": "white",
             "minorgridcolor": "white",
             "startlinecolor": "#2a3f5f"
            },
            "type": "carpet"
           }
          ],
          "choropleth": [
           {
            "colorbar": {
             "outlinewidth": 0,
             "ticks": ""
            },
            "type": "choropleth"
           }
          ],
          "contour": [
           {
            "colorbar": {
             "outlinewidth": 0,
             "ticks": ""
            },
            "colorscale": [
             [
              0,
              "#0d0887"
             ],
             [
              0.1111111111111111,
              "#46039f"
             ],
             [
              0.2222222222222222,
              "#7201a8"
             ],
             [
              0.3333333333333333,
              "#9c179e"
             ],
             [
              0.4444444444444444,
              "#bd3786"
             ],
             [
              0.5555555555555556,
              "#d8576b"
             ],
             [
              0.6666666666666666,
              "#ed7953"
             ],
             [
              0.7777777777777778,
              "#fb9f3a"
             ],
             [
              0.8888888888888888,
              "#fdca26"
             ],
             [
              1,
              "#f0f921"
             ]
            ],
            "type": "contour"
           }
          ],
          "contourcarpet": [
           {
            "colorbar": {
             "outlinewidth": 0,
             "ticks": ""
            },
            "type": "contourcarpet"
           }
          ],
          "heatmap": [
           {
            "colorbar": {
             "outlinewidth": 0,
             "ticks": ""
            },
            "colorscale": [
             [
              0,
              "#0d0887"
             ],
             [
              0.1111111111111111,
              "#46039f"
             ],
             [
              0.2222222222222222,
              "#7201a8"
             ],
             [
              0.3333333333333333,
              "#9c179e"
             ],
             [
              0.4444444444444444,
              "#bd3786"
             ],
             [
              0.5555555555555556,
              "#d8576b"
             ],
             [
              0.6666666666666666,
              "#ed7953"
             ],
             [
              0.7777777777777778,
              "#fb9f3a"
             ],
             [
              0.8888888888888888,
              "#fdca26"
             ],
             [
              1,
              "#f0f921"
             ]
            ],
            "type": "heatmap"
           }
          ],
          "heatmapgl": [
           {
            "colorbar": {
             "outlinewidth": 0,
             "ticks": ""
            },
            "colorscale": [
             [
              0,
              "#0d0887"
             ],
             [
              0.1111111111111111,
              "#46039f"
             ],
             [
              0.2222222222222222,
              "#7201a8"
             ],
             [
              0.3333333333333333,
              "#9c179e"
             ],
             [
              0.4444444444444444,
              "#bd3786"
             ],
             [
              0.5555555555555556,
              "#d8576b"
             ],
             [
              0.6666666666666666,
              "#ed7953"
             ],
             [
              0.7777777777777778,
              "#fb9f3a"
             ],
             [
              0.8888888888888888,
              "#fdca26"
             ],
             [
              1,
              "#f0f921"
             ]
            ],
            "type": "heatmapgl"
           }
          ],
          "histogram": [
           {
            "marker": {
             "pattern": {
              "fillmode": "overlay",
              "size": 10,
              "solidity": 0.2
             }
            },
            "type": "histogram"
           }
          ],
          "histogram2d": [
           {
            "colorbar": {
             "outlinewidth": 0,
             "ticks": ""
            },
            "colorscale": [
             [
              0,
              "#0d0887"
             ],
             [
              0.1111111111111111,
              "#46039f"
             ],
             [
              0.2222222222222222,
              "#7201a8"
             ],
             [
              0.3333333333333333,
              "#9c179e"
             ],
             [
              0.4444444444444444,
              "#bd3786"
             ],
             [
              0.5555555555555556,
              "#d8576b"
             ],
             [
              0.6666666666666666,
              "#ed7953"
             ],
             [
              0.7777777777777778,
              "#fb9f3a"
             ],
             [
              0.8888888888888888,
              "#fdca26"
             ],
             [
              1,
              "#f0f921"
             ]
            ],
            "type": "histogram2d"
           }
          ],
          "histogram2dcontour": [
           {
            "colorbar": {
             "outlinewidth": 0,
             "ticks": ""
            },
            "colorscale": [
             [
              0,
              "#0d0887"
             ],
             [
              0.1111111111111111,
              "#46039f"
             ],
             [
              0.2222222222222222,
              "#7201a8"
             ],
             [
              0.3333333333333333,
              "#9c179e"
             ],
             [
              0.4444444444444444,
              "#bd3786"
             ],
             [
              0.5555555555555556,
              "#d8576b"
             ],
             [
              0.6666666666666666,
              "#ed7953"
             ],
             [
              0.7777777777777778,
              "#fb9f3a"
             ],
             [
              0.8888888888888888,
              "#fdca26"
             ],
             [
              1,
              "#f0f921"
             ]
            ],
            "type": "histogram2dcontour"
           }
          ],
          "mesh3d": [
           {
            "colorbar": {
             "outlinewidth": 0,
             "ticks": ""
            },
            "type": "mesh3d"
           }
          ],
          "parcoords": [
           {
            "line": {
             "colorbar": {
              "outlinewidth": 0,
              "ticks": ""
             }
            },
            "type": "parcoords"
           }
          ],
          "pie": [
           {
            "automargin": true,
            "type": "pie"
           }
          ],
          "scatter": [
           {
            "fillpattern": {
             "fillmode": "overlay",
             "size": 10,
             "solidity": 0.2
            },
            "type": "scatter"
           }
          ],
          "scatter3d": [
           {
            "line": {
             "colorbar": {
              "outlinewidth": 0,
              "ticks": ""
             }
            },
            "marker": {
             "colorbar": {
              "outlinewidth": 0,
              "ticks": ""
             }
            },
            "type": "scatter3d"
           }
          ],
          "scattercarpet": [
           {
            "marker": {
             "colorbar": {
              "outlinewidth": 0,
              "ticks": ""
             }
            },
            "type": "scattercarpet"
           }
          ],
          "scattergeo": [
           {
            "marker": {
             "colorbar": {
              "outlinewidth": 0,
              "ticks": ""
             }
            },
            "type": "scattergeo"
           }
          ],
          "scattergl": [
           {
            "marker": {
             "colorbar": {
              "outlinewidth": 0,
              "ticks": ""
             }
            },
            "type": "scattergl"
           }
          ],
          "scattermapbox": [
           {
            "marker": {
             "colorbar": {
              "outlinewidth": 0,
              "ticks": ""
             }
            },
            "type": "scattermapbox"
           }
          ],
          "scatterpolar": [
           {
            "marker": {
             "colorbar": {
              "outlinewidth": 0,
              "ticks": ""
             }
            },
            "type": "scatterpolar"
           }
          ],
          "scatterpolargl": [
           {
            "marker": {
             "colorbar": {
              "outlinewidth": 0,
              "ticks": ""
             }
            },
            "type": "scatterpolargl"
           }
          ],
          "scatterternary": [
           {
            "marker": {
             "colorbar": {
              "outlinewidth": 0,
              "ticks": ""
             }
            },
            "type": "scatterternary"
           }
          ],
          "surface": [
           {
            "colorbar": {
             "outlinewidth": 0,
             "ticks": ""
            },
            "colorscale": [
             [
              0,
              "#0d0887"
             ],
             [
              0.1111111111111111,
              "#46039f"
             ],
             [
              0.2222222222222222,
              "#7201a8"
             ],
             [
              0.3333333333333333,
              "#9c179e"
             ],
             [
              0.4444444444444444,
              "#bd3786"
             ],
             [
              0.5555555555555556,
              "#d8576b"
             ],
             [
              0.6666666666666666,
              "#ed7953"
             ],
             [
              0.7777777777777778,
              "#fb9f3a"
             ],
             [
              0.8888888888888888,
              "#fdca26"
             ],
             [
              1,
              "#f0f921"
             ]
            ],
            "type": "surface"
           }
          ],
          "table": [
           {
            "cells": {
             "fill": {
              "color": "#EBF0F8"
             },
             "line": {
              "color": "white"
             }
            },
            "header": {
             "fill": {
              "color": "#C8D4E3"
             },
             "line": {
              "color": "white"
             }
            },
            "type": "table"
           }
          ]
         },
         "layout": {
          "annotationdefaults": {
           "arrowcolor": "#2a3f5f",
           "arrowhead": 0,
           "arrowwidth": 1
          },
          "autotypenumbers": "strict",
          "coloraxis": {
           "colorbar": {
            "outlinewidth": 0,
            "ticks": ""
           }
          },
          "colorscale": {
           "diverging": [
            [
             0,
             "#8e0152"
            ],
            [
             0.1,
             "#c51b7d"
            ],
            [
             0.2,
             "#de77ae"
            ],
            [
             0.3,
             "#f1b6da"
            ],
            [
             0.4,
             "#fde0ef"
            ],
            [
             0.5,
             "#f7f7f7"
            ],
            [
             0.6,
             "#e6f5d0"
            ],
            [
             0.7,
             "#b8e186"
            ],
            [
             0.8,
             "#7fbc41"
            ],
            [
             0.9,
             "#4d9221"
            ],
            [
             1,
             "#276419"
            ]
           ],
           "sequential": [
            [
             0,
             "#0d0887"
            ],
            [
             0.1111111111111111,
             "#46039f"
            ],
            [
             0.2222222222222222,
             "#7201a8"
            ],
            [
             0.3333333333333333,
             "#9c179e"
            ],
            [
             0.4444444444444444,
             "#bd3786"
            ],
            [
             0.5555555555555556,
             "#d8576b"
            ],
            [
             0.6666666666666666,
             "#ed7953"
            ],
            [
             0.7777777777777778,
             "#fb9f3a"
            ],
            [
             0.8888888888888888,
             "#fdca26"
            ],
            [
             1,
             "#f0f921"
            ]
           ],
           "sequentialminus": [
            [
             0,
             "#0d0887"
            ],
            [
             0.1111111111111111,
             "#46039f"
            ],
            [
             0.2222222222222222,
             "#7201a8"
            ],
            [
             0.3333333333333333,
             "#9c179e"
            ],
            [
             0.4444444444444444,
             "#bd3786"
            ],
            [
             0.5555555555555556,
             "#d8576b"
            ],
            [
             0.6666666666666666,
             "#ed7953"
            ],
            [
             0.7777777777777778,
             "#fb9f3a"
            ],
            [
             0.8888888888888888,
             "#fdca26"
            ],
            [
             1,
             "#f0f921"
            ]
           ]
          },
          "colorway": [
           "#636efa",
           "#EF553B",
           "#00cc96",
           "#ab63fa",
           "#FFA15A",
           "#19d3f3",
           "#FF6692",
           "#B6E880",
           "#FF97FF",
           "#FECB52"
          ],
          "font": {
           "color": "#2a3f5f"
          },
          "geo": {
           "bgcolor": "white",
           "lakecolor": "white",
           "landcolor": "#E5ECF6",
           "showlakes": true,
           "showland": true,
           "subunitcolor": "white"
          },
          "hoverlabel": {
           "align": "left"
          },
          "hovermode": "closest",
          "mapbox": {
           "style": "light"
          },
          "paper_bgcolor": "white",
          "plot_bgcolor": "#E5ECF6",
          "polar": {
           "angularaxis": {
            "gridcolor": "white",
            "linecolor": "white",
            "ticks": ""
           },
           "bgcolor": "#E5ECF6",
           "radialaxis": {
            "gridcolor": "white",
            "linecolor": "white",
            "ticks": ""
           }
          },
          "scene": {
           "xaxis": {
            "backgroundcolor": "#E5ECF6",
            "gridcolor": "white",
            "gridwidth": 2,
            "linecolor": "white",
            "showbackground": true,
            "ticks": "",
            "zerolinecolor": "white"
           },
           "yaxis": {
            "backgroundcolor": "#E5ECF6",
            "gridcolor": "white",
            "gridwidth": 2,
            "linecolor": "white",
            "showbackground": true,
            "ticks": "",
            "zerolinecolor": "white"
           },
           "zaxis": {
            "backgroundcolor": "#E5ECF6",
            "gridcolor": "white",
            "gridwidth": 2,
            "linecolor": "white",
            "showbackground": true,
            "ticks": "",
            "zerolinecolor": "white"
           }
          },
          "shapedefaults": {
           "line": {
            "color": "#2a3f5f"
           }
          },
          "ternary": {
           "aaxis": {
            "gridcolor": "white",
            "linecolor": "white",
            "ticks": ""
           },
           "baxis": {
            "gridcolor": "white",
            "linecolor": "white",
            "ticks": ""
           },
           "bgcolor": "#E5ECF6",
           "caxis": {
            "gridcolor": "white",
            "linecolor": "white",
            "ticks": ""
           }
          },
          "title": {
           "x": 0.05
          },
          "xaxis": {
           "automargin": true,
           "gridcolor": "white",
           "linecolor": "white",
           "ticks": "",
           "title": {
            "standoff": 15
           },
           "zerolinecolor": "white",
           "zerolinewidth": 2
          },
          "yaxis": {
           "automargin": true,
           "gridcolor": "white",
           "linecolor": "white",
           "ticks": "",
           "title": {
            "standoff": 15
           },
           "zerolinecolor": "white",
           "zerolinewidth": 2
          }
         }
        },
        "title": {
         "text": "Percent Difference Between Prediction and Actual"
        },
        "xaxis": {
         "anchor": "y",
         "domain": [
          0,
          1
         ],
         "title": {
          "text": "Percent Difference"
         }
        },
        "yaxis": {
         "anchor": "x",
         "domain": [
          0,
          1
         ],
         "title": {
          "text": "count"
         }
        }
       }
      }
     },
     "metadata": {},
     "output_type": "display_data"
    }
   ],
   "source": [
    "# use plotly express to create a histogram of the percent difference\n",
    "fig = px.histogram(results_df, x=\"Percent Difference\", title=\"Percent Difference Between Prediction and Actual\")\n",
    "fig.show()"
   ]
  },
  {
   "cell_type": "code",
   "execution_count": 123,
   "metadata": {},
   "outputs": [],
   "source": [
    "# save the plot as a png file\n",
    "scope = PlotlyScope()\n",
    "with open(\"images/percent_difference_streamlined.png\", \"wb\") as f:\n",
    "    f.write(scope.transform(fig, format=\"png\"))"
   ]
  },
  {
   "cell_type": "code",
   "execution_count": 112,
   "metadata": {},
   "outputs": [
    {
     "name": "stdout",
     "output_type": "stream",
     "text": [
      "Mean Absolute Error: -0.04492507407404139\n"
     ]
    }
   ],
   "source": [
    "# calculate the mean absolute error (MAE)\n",
    "mae = results_df[\"Difference\"].mean()\n",
    "print(f\"Mean Absolute Error: {mae}\")\n"
   ]
  },
  {
   "cell_type": "code",
   "execution_count": 113,
   "metadata": {},
   "outputs": [
    {
     "name": "stdout",
     "output_type": "stream",
     "text": [
      "Mean Squared Error: 9.18154073985065\n"
     ]
    }
   ],
   "source": [
    "# calculate the mean squared error (MSE)\n",
    "mse = results_df[\"Difference\"].apply(lambda x: x**2).mean()\n",
    "print(f\"Mean Squared Error: {mse}\")\n"
   ]
  },
  {
   "cell_type": "code",
   "execution_count": 114,
   "metadata": {},
   "outputs": [
    {
     "name": "stdout",
     "output_type": "stream",
     "text": [
      "Root Mean Squared Error: 3.030105730803902\n"
     ]
    }
   ],
   "source": [
    "# calculate the root mean squared error (RMSE)\n",
    "rmse = mse**(0.5)\n",
    "print(f\"Root Mean Squared Error: {rmse}\")\n"
   ]
  },
  {
   "cell_type": "code",
   "execution_count": 115,
   "metadata": {},
   "outputs": [
    {
     "name": "stdout",
     "output_type": "stream",
     "text": [
      "Mean Absolute Percent Error: 1.168926543401063\n"
     ]
    }
   ],
   "source": [
    "# calculate the mean absolute percent error (MAPE)\n",
    "mape = results_df[\"Percent Difference\"].abs().mean()\n",
    "print(f\"Mean Absolute Percent Error: {mape}\")\n"
   ]
  },
  {
   "cell_type": "code",
   "execution_count": 116,
   "metadata": {},
   "outputs": [
    {
     "data": {
      "text/plain": [
       "0.9973015645796661"
      ]
     },
     "execution_count": 116,
     "metadata": {},
     "output_type": "execute_result"
    }
   ],
   "source": [
    "#evaluate the model\n",
    "# score the model\n",
    "rf_model.score(X_test_scaled, y_test)\n"
   ]
  },
  {
   "attachments": {},
   "cell_type": "markdown",
   "metadata": {},
   "source": [
    "# Feature importance"
   ]
  },
  {
   "cell_type": "code",
   "execution_count": 117,
   "metadata": {},
   "outputs": [
    {
     "name": "stdout",
     "output_type": "stream",
     "text": [
      "Mortgage Rate: (0.23194425460679285)\n",
      "Oil Price: (0.14486465959028305)\n",
      "NASDAQ: (0.17568113883411107)\n",
      "Lumber Price Index: (0.36795128700330065)\n",
      "Construction: (0.04158292953848094)\n",
      "Fed Funds Rate: (0.037975730427031444)\n"
     ]
    }
   ],
   "source": [
    "# get the feature importance array\n",
    "importances = rf_model.feature_importances_\n",
    "# list of features\n",
    "feature_list = list(X.columns)\n",
    "# sort the features by their importance\n",
    "sorted(zip(rf_model.feature_importances_, feature_list), reverse=True)\n",
    "# print the feature importance\n",
    "for feature in zip(feature_list, rf_model.feature_importances_):\n",
    "    print(f\"{feature[0]}: ({feature[1]})\")\n",
    "    "
   ]
  },
  {
   "cell_type": "code",
   "execution_count": 118,
   "metadata": {},
   "outputs": [
    {
     "data": {
      "image/png": "[encoded data removed]",
      "text/plain": [
       "<Figure size 432x288 with 1 Axes>"
      ]
     },
     "metadata": {
      "needs_background": "light"
     },
     "output_type": "display_data"
    }
   ],
   "source": [
    "# add the feature importance to a dataframe\n",
    "feature_importance_df = pd.DataFrame({\"feature\": feature_list, \"importance\": importances})\n",
    "# sort the dataframe by the importance\n",
    "feature_importance_df = feature_importance_df.sort_values(\"importance\", ascending=False)\n",
    "# set the index to be the feature\n",
    "feature_importance_df = feature_importance_df.set_index(\"feature\", drop=True)\n",
    "# plot the feature importance\n",
    "feature_importance_df.plot(kind=\"bar\")\n",
    "plt.show()"
   ]
  },
  {
   "cell_type": "code",
   "execution_count": 119,
   "metadata": {},
   "outputs": [
    {
     "data": {
      "application/vnd.plotly.v1+json": {
       "config": {
        "plotlyServerURL": "https://plot.ly"
       },
       "data": [
        {
         "alignmentgroup": "True",
         "hovertemplate": "feature=%{x}<br>importance=%{marker.color}<extra></extra>",
         "legendgroup": "",
         "marker": {
          "color": [
           0.36795128700330065,
           0.23194425460679285,
           0.17568113883411107,
           0.14486465959028305,
           0.04158292953848094,
           0.037975730427031444
          ],
          "coloraxis": "coloraxis",
          "pattern": {
           "shape": ""
          }
         },
         "name": "",
         "offsetgroup": "",
         "orientation": "v",
         "showlegend": false,
         "textposition": "auto",
         "type": "bar",
         "x": [
          "Lumber Price Index",
          "Mortgage Rate",
          "NASDAQ",
          "Oil Price",
          "Construction",
          "Fed Funds Rate"
         ],
         "xaxis": "x",
         "y": [
          0.36795128700330065,
          0.23194425460679285,
          0.17568113883411107,
          0.14486465959028305,
          0.04158292953848094,
          0.037975730427031444
         ],
         "yaxis": "y"
        }
       ],
       "layout": {
        "barmode": "relative",
        "coloraxis": {
         "colorbar": {
          "title": {
           "text": "importance"
          }
         },
         "colorscale": [
          [
           0,
           "#fee838"
          ],
          [
           0.1111111111111111,
           "#e1cc55"
          ],
          [
           0.2222222222222222,
           "#c3b369"
          ],
          [
           0.3333333333333333,
           "#a59c74"
          ],
          [
           0.4444444444444444,
           "#8a8678"
          ],
          [
           0.5555555555555556,
           "#707173"
          ],
          [
           0.6666666666666666,
           "#575d6d"
          ],
          [
           0.7777777777777778,
           "#3b496c"
          ],
          [
           0.8888888888888888,
           "#123570"
          ],
          [
           1,
           "#00224e"
          ]
         ]
        },
        "legend": {
         "tracegroupgap": 0
        },
        "template": {
         "data": {
          "bar": [
           {
            "error_x": {
             "color": "#2a3f5f"
            },
            "error_y": {
             "color": "#2a3f5f"
            },
            "marker": {
             "line": {
              "color": "#E5ECF6",
              "width": 0.5
             },
             "pattern": {
              "fillmode": "overlay",
              "size": 10,
              "solidity": 0.2
             }
            },
            "type": "bar"
           }
          ],
          "barpolar": [
           {
            "marker": {
             "line": {
              "color": "#E5ECF6",
              "width": 0.5
             },
             "pattern": {
              "fillmode": "overlay",
              "size": 10,
              "solidity": 0.2
             }
            },
            "type": "barpolar"
           }
          ],
          "carpet": [
           {
            "aaxis": {
             "endlinecolor": "#2a3f5f",
             "gridcolor": "white",
             "linecolor": "white",
             "minorgridcolor": "white",
             "startlinecolor": "#2a3f5f"
            },
            "baxis": {
             "endlinecolor": "#2a3f5f",
             "gridcolor": "white",
             "linecolor": "white",
             "minorgridcolor": "white",
             "startlinecolor": "#2a3f5f"
            },
            "type": "carpet"
           }
          ],
          "choropleth": [
           {
            "colorbar": {
             "outlinewidth": 0,
             "ticks": ""
            },
            "type": "choropleth"
           }
          ],
          "contour": [
           {
            "colorbar": {
             "outlinewidth": 0,
             "ticks": ""
            },
            "colorscale": [
             [
              0,
              "#0d0887"
             ],
             [
              0.1111111111111111,
              "#46039f"
             ],
             [
              0.2222222222222222,
              "#7201a8"
             ],
             [
              0.3333333333333333,
              "#9c179e"
             ],
             [
              0.4444444444444444,
              "#bd3786"
             ],
             [
              0.5555555555555556,
              "#d8576b"
             ],
             [
              0.6666666666666666,
              "#ed7953"
             ],
             [
              0.7777777777777778,
              "#fb9f3a"
             ],
             [
              0.8888888888888888,
              "#fdca26"
             ],
             [
              1,
              "#f0f921"
             ]
            ],
            "type": "contour"
           }
          ],
          "contourcarpet": [
           {
            "colorbar": {
             "outlinewidth": 0,
             "ticks": ""
            },
            "type": "contourcarpet"
           }
          ],
          "heatmap": [
           {
            "colorbar": {
             "outlinewidth": 0,
             "ticks": ""
            },
            "colorscale": [
             [
              0,
              "#0d0887"
             ],
             [
              0.1111111111111111,
              "#46039f"
             ],
             [
              0.2222222222222222,
              "#7201a8"
             ],
             [
              0.3333333333333333,
              "#9c179e"
             ],
             [
              0.4444444444444444,
              "#bd3786"
             ],
             [
              0.5555555555555556,
              "#d8576b"
             ],
             [
              0.6666666666666666,
              "#ed7953"
             ],
             [
              0.7777777777777778,
              "#fb9f3a"
             ],
             [
              0.8888888888888888,
              "#fdca26"
             ],
             [
              1,
              "#f0f921"
             ]
            ],
            "type": "heatmap"
           }
          ],
          "heatmapgl": [
           {
            "colorbar": {
             "outlinewidth": 0,
             "ticks": ""
            },
            "colorscale": [
             [
              0,
              "#0d0887"
             ],
             [
              0.1111111111111111,
              "#46039f"
             ],
             [
              0.2222222222222222,
              "#7201a8"
             ],
             [
              0.3333333333333333,
              "#9c179e"
             ],
             [
              0.4444444444444444,
              "#bd3786"
             ],
             [
              0.5555555555555556,
              "#d8576b"
             ],
             [
              0.6666666666666666,
              "#ed7953"
             ],
             [
              0.7777777777777778,
              "#fb9f3a"
             ],
             [
              0.8888888888888888,
              "#fdca26"
             ],
             [
              1,
              "#f0f921"
             ]
            ],
            "type": "heatmapgl"
           }
          ],
          "histogram": [
           {
            "marker": {
             "pattern": {
              "fillmode": "overlay",
              "size": 10,
              "solidity": 0.2
             }
            },
            "type": "histogram"
           }
          ],
          "histogram2d": [
           {
            "colorbar": {
             "outlinewidth": 0,
             "ticks": ""
            },
            "colorscale": [
             [
              0,
              "#0d0887"
             ],
             [
              0.1111111111111111,
              "#46039f"
             ],
             [
              0.2222222222222222,
              "#7201a8"
             ],
             [
              0.3333333333333333,
              "#9c179e"
             ],
             [
              0.4444444444444444,
              "#bd3786"
             ],
             [
              0.5555555555555556,
              "#d8576b"
             ],
             [
              0.6666666666666666,
              "#ed7953"
             ],
             [
              0.7777777777777778,
              "#fb9f3a"
             ],
             [
              0.8888888888888888,
              "#fdca26"
             ],
             [
              1,
              "#f0f921"
             ]
            ],
            "type": "histogram2d"
           }
          ],
          "histogram2dcontour": [
           {
            "colorbar": {
             "outlinewidth": 0,
             "ticks": ""
            },
            "colorscale": [
             [
              0,
              "#0d0887"
             ],
             [
              0.1111111111111111,
              "#46039f"
             ],
             [
              0.2222222222222222,
              "#7201a8"
             ],
             [
              0.3333333333333333,
              "#9c179e"
             ],
             [
              0.4444444444444444,
              "#bd3786"
             ],
             [
              0.5555555555555556,
              "#d8576b"
             ],
             [
              0.6666666666666666,
              "#ed7953"
             ],
             [
              0.7777777777777778,
              "#fb9f3a"
             ],
             [
              0.8888888888888888,
              "#fdca26"
             ],
             [
              1,
              "#f0f921"
             ]
            ],
            "type": "histogram2dcontour"
           }
          ],
          "mesh3d": [
           {
            "colorbar": {
             "outlinewidth": 0,
             "ticks": ""
            },
            "type": "mesh3d"
           }
          ],
          "parcoords": [
           {
            "line": {
             "colorbar": {
              "outlinewidth": 0,
              "ticks": ""
             }
            },
            "type": "parcoords"
           }
          ],
          "pie": [
           {
            "automargin": true,
            "type": "pie"
           }
          ],
          "scatter": [
           {
            "fillpattern": {
             "fillmode": "overlay",
             "size": 10,
             "solidity": 0.2
            },
            "type": "scatter"
           }
          ],
          "scatter3d": [
           {
            "line": {
             "colorbar": {
              "outlinewidth": 0,
              "ticks": ""
             }
            },
            "marker": {
             "colorbar": {
              "outlinewidth": 0,
              "ticks": ""
             }
            },
            "type": "scatter3d"
           }
          ],
          "scattercarpet": [
           {
            "marker": {
             "colorbar": {
              "outlinewidth": 0,
              "ticks": ""
             }
            },
            "type": "scattercarpet"
           }
          ],
          "scattergeo": [
           {
            "marker": {
             "colorbar": {
              "outlinewidth": 0,
              "ticks": ""
             }
            },
            "type": "scattergeo"
           }
          ],
          "scattergl": [
           {
            "marker": {
             "colorbar": {
              "outlinewidth": 0,
              "ticks": ""
             }
            },
            "type": "scattergl"
           }
          ],
          "scattermapbox": [
           {
            "marker": {
             "colorbar": {
              "outlinewidth": 0,
              "ticks": ""
             }
            },
            "type": "scattermapbox"
           }
          ],
          "scatterpolar": [
           {
            "marker": {
             "colorbar": {
              "outlinewidth": 0,
              "ticks": ""
             }
            },
            "type": "scatterpolar"
           }
          ],
          "scatterpolargl": [
           {
            "marker": {
             "colorbar": {
              "outlinewidth": 0,
              "ticks": ""
             }
            },
            "type": "scatterpolargl"
           }
          ],
          "scatterternary": [
           {
            "marker": {
             "colorbar": {
              "outlinewidth": 0,
              "ticks": ""
             }
            },
            "type": "scatterternary"
           }
          ],
          "surface": [
           {
            "colorbar": {
             "outlinewidth": 0,
             "ticks": ""
            },
            "colorscale": [
             [
              0,
              "#0d0887"
             ],
             [
              0.1111111111111111,
              "#46039f"
             ],
             [
              0.2222222222222222,
              "#7201a8"
             ],
             [
              0.3333333333333333,
              "#9c179e"
             ],
             [
              0.4444444444444444,
              "#bd3786"
             ],
             [
              0.5555555555555556,
              "#d8576b"
             ],
             [
              0.6666666666666666,
              "#ed7953"
             ],
             [
              0.7777777777777778,
              "#fb9f3a"
             ],
             [
              0.8888888888888888,
              "#fdca26"
             ],
             [
              1,
              "#f0f921"
             ]
            ],
            "type": "surface"
           }
          ],
          "table": [
           {
            "cells": {
             "fill": {
              "color": "#EBF0F8"
             },
             "line": {
              "color": "white"
             }
            },
            "header": {
             "fill": {
              "color": "#C8D4E3"
             },
             "line": {
              "color": "white"
             }
            },
            "type": "table"
           }
          ]
         },
         "layout": {
          "annotationdefaults": {
           "arrowcolor": "#2a3f5f",
           "arrowhead": 0,
           "arrowwidth": 1
          },
          "autotypenumbers": "strict",
          "coloraxis": {
           "colorbar": {
            "outlinewidth": 0,
            "ticks": ""
           }
          },
          "colorscale": {
           "diverging": [
            [
             0,
             "#8e0152"
            ],
            [
             0.1,
             "#c51b7d"
            ],
            [
             0.2,
             "#de77ae"
            ],
            [
             0.3,
             "#f1b6da"
            ],
            [
             0.4,
             "#fde0ef"
            ],
            [
             0.5,
             "#f7f7f7"
            ],
            [
             0.6,
             "#e6f5d0"
            ],
            [
             0.7,
             "#b8e186"
            ],
            [
             0.8,
             "#7fbc41"
            ],
            [
             0.9,
             "#4d9221"
            ],
            [
             1,
             "#276419"
            ]
           ],
           "sequential": [
            [
             0,
             "#0d0887"
            ],
            [
             0.1111111111111111,
             "#46039f"
            ],
            [
             0.2222222222222222,
             "#7201a8"
            ],
            [
             0.3333333333333333,
             "#9c179e"
            ],
            [
             0.4444444444444444,
             "#bd3786"
            ],
            [
             0.5555555555555556,
             "#d8576b"
            ],
            [
             0.6666666666666666,
             "#ed7953"
            ],
            [
             0.7777777777777778,
             "#fb9f3a"
            ],
            [
             0.8888888888888888,
             "#fdca26"
            ],
            [
             1,
             "#f0f921"
            ]
           ],
           "sequentialminus": [
            [
             0,
             "#0d0887"
            ],
            [
             0.1111111111111111,
             "#46039f"
            ],
            [
             0.2222222222222222,
             "#7201a8"
            ],
            [
             0.3333333333333333,
             "#9c179e"
            ],
            [
             0.4444444444444444,
             "#bd3786"
            ],
            [
             0.5555555555555556,
             "#d8576b"
            ],
            [
             0.6666666666666666,
             "#ed7953"
            ],
            [
             0.7777777777777778,
             "#fb9f3a"
            ],
            [
             0.8888888888888888,
             "#fdca26"
            ],
            [
             1,
             "#f0f921"
            ]
           ]
          },
          "colorway": [
           "#636efa",
           "#EF553B",
           "#00cc96",
           "#ab63fa",
           "#FFA15A",
           "#19d3f3",
           "#FF6692",
           "#B6E880",
           "#FF97FF",
           "#FECB52"
          ],
          "font": {
           "color": "#2a3f5f"
          },
          "geo": {
           "bgcolor": "white",
           "lakecolor": "white",
           "landcolor": "#E5ECF6",
           "showlakes": true,
           "showland": true,
           "subunitcolor": "white"
          },
          "hoverlabel": {
           "align": "left"
          },
          "hovermode": "closest",
          "mapbox": {
           "style": "light"
          },
          "paper_bgcolor": "white",
          "plot_bgcolor": "#E5ECF6",
          "polar": {
           "angularaxis": {
            "gridcolor": "white",
            "linecolor": "white",
            "ticks": ""
           },
           "bgcolor": "#E5ECF6",
           "radialaxis": {
            "gridcolor": "white",
            "linecolor": "white",
            "ticks": ""
           }
          },
          "scene": {
           "xaxis": {
            "backgroundcolor": "#E5ECF6",
            "gridcolor": "white",
            "gridwidth": 2,
            "linecolor": "white",
            "showbackground": true,
            "ticks": "",
            "zerolinecolor": "white"
           },
           "yaxis": {
            "backgroundcolor": "#E5ECF6",
            "gridcolor": "white",
            "gridwidth": 2,
            "linecolor": "white",
            "showbackground": true,
            "ticks": "",
            "zerolinecolor": "white"
           },
           "zaxis": {
            "backgroundcolor": "#E5ECF6",
            "gridcolor": "white",
            "gridwidth": 2,
            "linecolor": "white",
            "showbackground": true,
            "ticks": "",
            "zerolinecolor": "white"
           }
          },
          "shapedefaults": {
           "line": {
            "color": "#2a3f5f"
           }
          },
          "ternary": {
           "aaxis": {
            "gridcolor": "white",
            "linecolor": "white",
            "ticks": ""
           },
           "baxis": {
            "gridcolor": "white",
            "linecolor": "white",
            "ticks": ""
           },
           "bgcolor": "#E5ECF6",
           "caxis": {
            "gridcolor": "white",
            "linecolor": "white",
            "ticks": ""
           }
          },
          "title": {
           "x": 0.05
          },
          "xaxis": {
           "automargin": true,
           "gridcolor": "white",
           "linecolor": "white",
           "ticks": "",
           "title": {
            "standoff": 15
           },
           "zerolinecolor": "white",
           "zerolinewidth": 2
          },
          "yaxis": {
           "automargin": true,
           "gridcolor": "white",
           "linecolor": "white",
           "ticks": "",
           "title": {
            "standoff": 15
           },
           "zerolinecolor": "white",
           "zerolinewidth": 2
          }
         }
        },
        "title": {
         "text": "Feature Importance"
        },
        "xaxis": {
         "anchor": "y",
         "domain": [
          0,
          1
         ],
         "title": {
          "text": "feature"
         }
        },
        "yaxis": {
         "anchor": "x",
         "domain": [
          0,
          1
         ],
         "title": {
          "text": "importance"
         }
        }
       }
      }
     },
     "metadata": {},
     "output_type": "display_data"
    }
   ],
   "source": [
    "# use plotly to create a bar chart of the feature importance\n",
    "fig = px.bar(feature_importance_df, x=feature_importance_df.index, y=\"importance\", title=\"Feature Importance\", color=\"importance\", color_continuous_scale=px.colors.sequential.Cividis_r)\n",
    "# save the graph\n",
    "fig.write_image(\"images/feature_importance_streamlined.png\")\n",
    "fig.show()"
   ]
  },
  {
   "cell_type": "code",
   "execution_count": 120,
   "metadata": {},
   "outputs": [],
   "source": [
    "# define a function to output images of tables\n",
    "def save_df_as_image(df, filename):\n",
    "    source = ColumnDataSource(df)\n",
    "    columns = [TableColumn(field=Ci, title=Ci) for Ci in df.columns]  # bokeh columns\n",
    "    # add index column\n",
    "    columns.insert(0, TableColumn(field=\"index\", title=\"index\"))\n",
    "    # use df index as index column\n",
    "    source.add(df.index, \"index\")\n",
    "    data_table = DataTable(columns=columns, source=source, width=800, height=280)\n",
    "    export_png(data_table, filename=filename)"
   ]
  },
  {
   "cell_type": "code",
   "execution_count": 121,
   "metadata": {},
   "outputs": [],
   "source": [
    "# save a table of the feature importance\n",
    "save_df_as_image(feature_importance_df, \"images/feature_importance_streamlined_table.png\")"
   ]
  }
 ],
 "metadata": {
  "kernelspec": {
   "display_name": "PythonData",
   "language": "python",
   "name": "python3"
  },
  "language_info": {
   "codemirror_mode": {
    "name": "ipython",
    "version": 3
   },
   "file_extension": ".py",
   "mimetype": "text/x-python",
   "name": "python",
   "nbconvert_exporter": "python",
   "pygments_lexer": "ipython3",
   "version": "3.7.7"
  },
  "orig_nbformat": 4
 },
 "nbformat": 4,
 "nbformat_minor": 2
}
