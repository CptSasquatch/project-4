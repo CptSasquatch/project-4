{
 "cells": [
  {
   "attachments": {},
   "cell_type": "markdown",
   "metadata": {},
   "source": [
    "# US Housing Market Analysis"
   ]
  },
  {
   "cell_type": "code",
   "execution_count": 1,
   "metadata": {},
   "outputs": [],
   "source": [
    "#import dependencies\n",
    "import pandas as pd\n",
    "import numpy as np\n",
    "import matplotlib.pyplot as plt\n",
    "import plotly.express as px\n",
    "from kaleido.scopes.plotly import PlotlyScope\n",
    "from bokeh.io import export_png\n",
    "from bokeh.models import ColumnDataSource, DataTable, TableColumn\n",
    "from pathlib import Path\n",
    "from sklearn.ensemble import RandomForestRegressor\n",
    "from sklearn.preprocessing import StandardScaler\n",
    "from sklearn.model_selection import train_test_split\n",
    "from sklearn.metrics import confusion_matrix, accuracy_score, classification_report"
   ]
  },
  {
   "attachments": {},
   "cell_type": "markdown",
   "metadata": {},
   "source": [
    "# Loading and cleaning data\n",
    "We will be using data from [FRED](https://fred.stlouisfed.org/), the Federal Reserve Economic Data, and [AlphaVantage](https://www.alphavantage.co/), a free API for stock market data. The data collected from AlphaVantage is mostly commodity prices, and the data from FRED is mostly economic indicators. "
   ]
  },
  {
   "cell_type": "code",
   "execution_count": 2,
   "metadata": {},
   "outputs": [
    {
     "data": {
      "text/html": [
       "<div>\n",
       "<style scoped>\n",
       "    .dataframe tbody tr th:only-of-type {\n",
       "        vertical-align: middle;\n",
       "    }\n",
       "\n",
       "    .dataframe tbody tr th {\n",
       "        vertical-align: top;\n",
       "    }\n",
       "\n",
       "    .dataframe thead th {\n",
       "        text-align: right;\n",
       "    }\n",
       "</style>\n",
       "<table border=\"1\" class=\"dataframe\">\n",
       "  <thead>\n",
       "    <tr style=\"text-align: right;\">\n",
       "      <th></th>\n",
       "      <th>Date</th>\n",
       "      <th>Price Index</th>\n",
       "      <th>Monthly Supply</th>\n",
       "      <th>Permits</th>\n",
       "      <th>Sentiment Index</th>\n",
       "      <th>Construction</th>\n",
       "      <th>Housing Starts</th>\n",
       "      <th>Lumber Price Index</th>\n",
       "      <th>Pair Count</th>\n",
       "      <th>Mortgage Rate</th>\n",
       "      <th>Units Completed</th>\n",
       "      <th>Sales Price</th>\n",
       "      <th>Oil Price</th>\n",
       "      <th>CPI</th>\n",
       "      <th>Fed Funds Rate</th>\n",
       "      <th>NASDAQ</th>\n",
       "      <th>NFCI</th>\n",
       "    </tr>\n",
       "  </thead>\n",
       "  <tbody>\n",
       "    <tr>\n",
       "      <th>0</th>\n",
       "      <td>1987-01-01</td>\n",
       "      <td>63.734</td>\n",
       "      <td>6.0</td>\n",
       "      <td>1690.0</td>\n",
       "      <td>90.4</td>\n",
       "      <td>1090.0</td>\n",
       "      <td>1774.0</td>\n",
       "      <td>108.1</td>\n",
       "      <td>58585</td>\n",
       "      <td>125.90971</td>\n",
       "      <td>1862.0</td>\n",
       "      <td>97900.0</td>\n",
       "      <td>18.65</td>\n",
       "      <td>111.2</td>\n",
       "      <td>6.43</td>\n",
       "      <td>384.227143</td>\n",
       "      <td>-0.506</td>\n",
       "    </tr>\n",
       "    <tr>\n",
       "      <th>1</th>\n",
       "      <td>1987-02-01</td>\n",
       "      <td>64.134</td>\n",
       "      <td>6.2</td>\n",
       "      <td>1689.0</td>\n",
       "      <td>90.2</td>\n",
       "      <td>1096.0</td>\n",
       "      <td>1784.0</td>\n",
       "      <td>109.4</td>\n",
       "      <td>53102</td>\n",
       "      <td>124.24761</td>\n",
       "      <td>1771.0</td>\n",
       "      <td>97900.0</td>\n",
       "      <td>17.75</td>\n",
       "      <td>111.6</td>\n",
       "      <td>6.10</td>\n",
       "      <td>411.712632</td>\n",
       "      <td>-0.495</td>\n",
       "    </tr>\n",
       "    <tr>\n",
       "      <th>2</th>\n",
       "      <td>1987-03-01</td>\n",
       "      <td>64.469</td>\n",
       "      <td>6.0</td>\n",
       "      <td>1704.0</td>\n",
       "      <td>90.8</td>\n",
       "      <td>1084.0</td>\n",
       "      <td>1726.0</td>\n",
       "      <td>110.6</td>\n",
       "      <td>43500</td>\n",
       "      <td>123.59781</td>\n",
       "      <td>1694.0</td>\n",
       "      <td>97900.0</td>\n",
       "      <td>18.30</td>\n",
       "      <td>112.1</td>\n",
       "      <td>6.13</td>\n",
       "      <td>432.204545</td>\n",
       "      <td>-0.335</td>\n",
       "    </tr>\n",
       "    <tr>\n",
       "      <th>3</th>\n",
       "      <td>1987-04-01</td>\n",
       "      <td>64.973</td>\n",
       "      <td>6.0</td>\n",
       "      <td>1601.0</td>\n",
       "      <td>92.8</td>\n",
       "      <td>1079.0</td>\n",
       "      <td>1614.0</td>\n",
       "      <td>110.7</td>\n",
       "      <td>54405</td>\n",
       "      <td>134.50752</td>\n",
       "      <td>1735.0</td>\n",
       "      <td>103400.0</td>\n",
       "      <td>18.68</td>\n",
       "      <td>112.7</td>\n",
       "      <td>6.37</td>\n",
       "      <td>422.771429</td>\n",
       "      <td>0.105</td>\n",
       "    </tr>\n",
       "    <tr>\n",
       "      <th>4</th>\n",
       "      <td>1987-05-01</td>\n",
       "      <td>65.547</td>\n",
       "      <td>6.7</td>\n",
       "      <td>1500.0</td>\n",
       "      <td>91.1</td>\n",
       "      <td>1070.0</td>\n",
       "      <td>1628.0</td>\n",
       "      <td>110.7</td>\n",
       "      <td>65151</td>\n",
       "      <td>144.95212</td>\n",
       "      <td>1713.0</td>\n",
       "      <td>103400.0</td>\n",
       "      <td>19.44</td>\n",
       "      <td>113.1</td>\n",
       "      <td>6.85</td>\n",
       "      <td>416.634000</td>\n",
       "      <td>0.540</td>\n",
       "    </tr>\n",
       "  </tbody>\n",
       "</table>\n",
       "</div>"
      ],
      "text/plain": [
       "         Date  Price Index  Monthly Supply  Permits  Sentiment Index  \\\n",
       "0  1987-01-01       63.734             6.0   1690.0             90.4   \n",
       "1  1987-02-01       64.134             6.2   1689.0             90.2   \n",
       "2  1987-03-01       64.469             6.0   1704.0             90.8   \n",
       "3  1987-04-01       64.973             6.0   1601.0             92.8   \n",
       "4  1987-05-01       65.547             6.7   1500.0             91.1   \n",
       "\n",
       "   Construction  Housing Starts  Lumber Price Index  Pair Count  \\\n",
       "0        1090.0          1774.0               108.1       58585   \n",
       "1        1096.0          1784.0               109.4       53102   \n",
       "2        1084.0          1726.0               110.6       43500   \n",
       "3        1079.0          1614.0               110.7       54405   \n",
       "4        1070.0          1628.0               110.7       65151   \n",
       "\n",
       "   Mortgage Rate  Units Completed  Sales Price  Oil Price    CPI  \\\n",
       "0      125.90971           1862.0      97900.0      18.65  111.2   \n",
       "1      124.24761           1771.0      97900.0      17.75  111.6   \n",
       "2      123.59781           1694.0      97900.0      18.30  112.1   \n",
       "3      134.50752           1735.0     103400.0      18.68  112.7   \n",
       "4      144.95212           1713.0     103400.0      19.44  113.1   \n",
       "\n",
       "   Fed Funds Rate      NASDAQ   NFCI  \n",
       "0            6.43  384.227143 -0.506  \n",
       "1            6.10  411.712632 -0.495  \n",
       "2            6.13  432.204545 -0.335  \n",
       "3            6.37  422.771429  0.105  \n",
       "4            6.85  416.634000  0.540  "
      ]
     },
     "execution_count": 2,
     "metadata": {},
     "output_type": "execute_result"
    }
   ],
   "source": [
    "# Read in data\n",
    "file_path = Path(\"data/housing_data3.csv\")\n",
    "df = pd.read_csv(file_path)\n",
    "df.head()"
   ]
  },
  {
   "cell_type": "code",
   "execution_count": 3,
   "metadata": {},
   "outputs": [
    {
     "data": {
      "text/html": [
       "<div>\n",
       "<style scoped>\n",
       "    .dataframe tbody tr th:only-of-type {\n",
       "        vertical-align: middle;\n",
       "    }\n",
       "\n",
       "    .dataframe tbody tr th {\n",
       "        vertical-align: top;\n",
       "    }\n",
       "\n",
       "    .dataframe thead th {\n",
       "        text-align: right;\n",
       "    }\n",
       "</style>\n",
       "<table border=\"1\" class=\"dataframe\">\n",
       "  <thead>\n",
       "    <tr style=\"text-align: right;\">\n",
       "      <th></th>\n",
       "      <th>Date</th>\n",
       "      <th>Price Index</th>\n",
       "      <th>Monthly Supply</th>\n",
       "      <th>Permits</th>\n",
       "      <th>Sentiment Index</th>\n",
       "      <th>Construction</th>\n",
       "      <th>Housing Starts</th>\n",
       "      <th>Lumber Price Index</th>\n",
       "      <th>Pair Count</th>\n",
       "      <th>Mortgage Rate</th>\n",
       "      <th>Units Completed</th>\n",
       "      <th>Sales Price</th>\n",
       "      <th>Oil Price</th>\n",
       "      <th>CPI</th>\n",
       "      <th>Fed Funds Rate</th>\n",
       "      <th>NASDAQ</th>\n",
       "      <th>NFCI</th>\n",
       "    </tr>\n",
       "  </thead>\n",
       "  <tbody>\n",
       "    <tr>\n",
       "      <th>428</th>\n",
       "      <td>2022-09-01</td>\n",
       "      <td>300.451</td>\n",
       "      <td>9.7</td>\n",
       "      <td>1588.0</td>\n",
       "      <td>58.6</td>\n",
       "      <td>1698.0</td>\n",
       "      <td>1463.0</td>\n",
       "      <td>322.849</td>\n",
       "      <td>72386</td>\n",
       "      <td>83.61149</td>\n",
       "      <td>1438.0</td>\n",
       "      <td>468000.0</td>\n",
       "      <td>84.26</td>\n",
       "      <td>296.81</td>\n",
       "      <td>2.56</td>\n",
       "      <td>11402.850000</td>\n",
       "      <td>-0.1320</td>\n",
       "    </tr>\n",
       "    <tr>\n",
       "      <th>429</th>\n",
       "      <td>2022-10-01</td>\n",
       "      <td>298.672</td>\n",
       "      <td>9.7</td>\n",
       "      <td>1555.0</td>\n",
       "      <td>59.9</td>\n",
       "      <td>1710.0</td>\n",
       "      <td>1432.0</td>\n",
       "      <td>317.617</td>\n",
       "      <td>65599</td>\n",
       "      <td>94.39124</td>\n",
       "      <td>1348.0</td>\n",
       "      <td>479500.0</td>\n",
       "      <td>87.55</td>\n",
       "      <td>298.01</td>\n",
       "      <td>3.08</td>\n",
       "      <td>10801.494286</td>\n",
       "      <td>-0.0925</td>\n",
       "    </tr>\n",
       "    <tr>\n",
       "      <th>430</th>\n",
       "      <td>2022-11-01</td>\n",
       "      <td>296.809</td>\n",
       "      <td>9.4</td>\n",
       "      <td>1402.0</td>\n",
       "      <td>56.8</td>\n",
       "      <td>1695.0</td>\n",
       "      <td>1427.0</td>\n",
       "      <td>312.864</td>\n",
       "      <td>55272</td>\n",
       "      <td>93.09166</td>\n",
       "      <td>1543.0</td>\n",
       "      <td>479500.0</td>\n",
       "      <td>84.37</td>\n",
       "      <td>297.71</td>\n",
       "      <td>3.78</td>\n",
       "      <td>10973.638095</td>\n",
       "      <td>-0.1725</td>\n",
       "    </tr>\n",
       "    <tr>\n",
       "      <th>431</th>\n",
       "      <td>2022-12-01</td>\n",
       "      <td>294.266</td>\n",
       "      <td>8.5</td>\n",
       "      <td>1409.0</td>\n",
       "      <td>59.7</td>\n",
       "      <td>1696.0</td>\n",
       "      <td>1357.0</td>\n",
       "      <td>308.076</td>\n",
       "      <td>47749</td>\n",
       "      <td>87.05882</td>\n",
       "      <td>1390.0</td>\n",
       "      <td>479500.0</td>\n",
       "      <td>76.44</td>\n",
       "      <td>296.80</td>\n",
       "      <td>4.10</td>\n",
       "      <td>10838.995714</td>\n",
       "      <td>-0.1960</td>\n",
       "    </tr>\n",
       "    <tr>\n",
       "      <th>432</th>\n",
       "      <td>2023-01-01</td>\n",
       "      <td>292.444</td>\n",
       "      <td>8.1</td>\n",
       "      <td>1354.0</td>\n",
       "      <td>64.9</td>\n",
       "      <td>1695.0</td>\n",
       "      <td>1340.0</td>\n",
       "      <td>306.461</td>\n",
       "      <td>40292</td>\n",
       "      <td>85.80711</td>\n",
       "      <td>1377.0</td>\n",
       "      <td>436800.0</td>\n",
       "      <td>78.12</td>\n",
       "      <td>299.17</td>\n",
       "      <td>4.33</td>\n",
       "      <td>11013.991000</td>\n",
       "      <td>-0.2825</td>\n",
       "    </tr>\n",
       "  </tbody>\n",
       "</table>\n",
       "</div>"
      ],
      "text/plain": [
       "           Date  Price Index  Monthly Supply  Permits  Sentiment Index  \\\n",
       "428  2022-09-01      300.451             9.7   1588.0             58.6   \n",
       "429  2022-10-01      298.672             9.7   1555.0             59.9   \n",
       "430  2022-11-01      296.809             9.4   1402.0             56.8   \n",
       "431  2022-12-01      294.266             8.5   1409.0             59.7   \n",
       "432  2023-01-01      292.444             8.1   1354.0             64.9   \n",
       "\n",
       "     Construction  Housing Starts  Lumber Price Index  Pair Count  \\\n",
       "428        1698.0          1463.0             322.849       72386   \n",
       "429        1710.0          1432.0             317.617       65599   \n",
       "430        1695.0          1427.0             312.864       55272   \n",
       "431        1696.0          1357.0             308.076       47749   \n",
       "432        1695.0          1340.0             306.461       40292   \n",
       "\n",
       "     Mortgage Rate  Units Completed  Sales Price  Oil Price     CPI  \\\n",
       "428       83.61149           1438.0     468000.0      84.26  296.81   \n",
       "429       94.39124           1348.0     479500.0      87.55  298.01   \n",
       "430       93.09166           1543.0     479500.0      84.37  297.71   \n",
       "431       87.05882           1390.0     479500.0      76.44  296.80   \n",
       "432       85.80711           1377.0     436800.0      78.12  299.17   \n",
       "\n",
       "     Fed Funds Rate        NASDAQ    NFCI  \n",
       "428            2.56  11402.850000 -0.1320  \n",
       "429            3.08  10801.494286 -0.0925  \n",
       "430            3.78  10973.638095 -0.1725  \n",
       "431            4.10  10838.995714 -0.1960  \n",
       "432            4.33  11013.991000 -0.2825  "
      ]
     },
     "execution_count": 3,
     "metadata": {},
     "output_type": "execute_result"
    }
   ],
   "source": [
    "df.tail()"
   ]
  },
  {
   "cell_type": "code",
   "execution_count": 4,
   "metadata": {},
   "outputs": [
    {
     "data": {
      "text/html": [
       "<div>\n",
       "<style scoped>\n",
       "    .dataframe tbody tr th:only-of-type {\n",
       "        vertical-align: middle;\n",
       "    }\n",
       "\n",
       "    .dataframe tbody tr th {\n",
       "        vertical-align: top;\n",
       "    }\n",
       "\n",
       "    .dataframe thead th {\n",
       "        text-align: right;\n",
       "    }\n",
       "</style>\n",
       "<table border=\"1\" class=\"dataframe\">\n",
       "  <thead>\n",
       "    <tr style=\"text-align: right;\">\n",
       "      <th></th>\n",
       "      <th>Date</th>\n",
       "      <th>Price Index</th>\n",
       "      <th>Monthly Supply</th>\n",
       "      <th>Permits</th>\n",
       "      <th>Sentiment Index</th>\n",
       "      <th>Construction</th>\n",
       "      <th>Housing Starts</th>\n",
       "      <th>Lumber Price Index</th>\n",
       "      <th>Pair Count</th>\n",
       "      <th>Mortgage Rate</th>\n",
       "      <th>Units Completed</th>\n",
       "      <th>Sales Price</th>\n",
       "      <th>Oil Price</th>\n",
       "      <th>CPI</th>\n",
       "      <th>Fed Funds Rate</th>\n",
       "      <th>NASDAQ</th>\n",
       "      <th>NFCI</th>\n",
       "      <th>Price Index 6 Months Later</th>\n",
       "    </tr>\n",
       "  </thead>\n",
       "  <tbody>\n",
       "    <tr>\n",
       "      <th>426</th>\n",
       "      <td>2022-07-01</td>\n",
       "      <td>307.135</td>\n",
       "      <td>10.1</td>\n",
       "      <td>1658.0</td>\n",
       "      <td>51.5</td>\n",
       "      <td>1683.0</td>\n",
       "      <td>1371.0</td>\n",
       "      <td>331.669</td>\n",
       "      <td>85499</td>\n",
       "      <td>74.04241</td>\n",
       "      <td>1396.0</td>\n",
       "      <td>468000.0</td>\n",
       "      <td>101.62</td>\n",
       "      <td>296.28</td>\n",
       "      <td>1.68</td>\n",
       "      <td>11622.631500</td>\n",
       "      <td>-0.1660</td>\n",
       "      <td>292.444</td>\n",
       "    </tr>\n",
       "    <tr>\n",
       "      <th>427</th>\n",
       "      <td>2022-08-01</td>\n",
       "      <td>303.649</td>\n",
       "      <td>8.7</td>\n",
       "      <td>1586.0</td>\n",
       "      <td>58.2</td>\n",
       "      <td>1702.0</td>\n",
       "      <td>1505.0</td>\n",
       "      <td>329.173</td>\n",
       "      <td>81651</td>\n",
       "      <td>71.44323</td>\n",
       "      <td>1355.0</td>\n",
       "      <td>468000.0</td>\n",
       "      <td>93.67</td>\n",
       "      <td>296.17</td>\n",
       "      <td>2.33</td>\n",
       "      <td>12570.260435</td>\n",
       "      <td>-0.2275</td>\n",
       "      <td>NaN</td>\n",
       "    </tr>\n",
       "    <tr>\n",
       "      <th>428</th>\n",
       "      <td>2022-09-01</td>\n",
       "      <td>300.451</td>\n",
       "      <td>9.7</td>\n",
       "      <td>1588.0</td>\n",
       "      <td>58.6</td>\n",
       "      <td>1698.0</td>\n",
       "      <td>1463.0</td>\n",
       "      <td>322.849</td>\n",
       "      <td>72386</td>\n",
       "      <td>83.61149</td>\n",
       "      <td>1438.0</td>\n",
       "      <td>468000.0</td>\n",
       "      <td>84.26</td>\n",
       "      <td>296.81</td>\n",
       "      <td>2.56</td>\n",
       "      <td>11402.850000</td>\n",
       "      <td>-0.1320</td>\n",
       "      <td>NaN</td>\n",
       "    </tr>\n",
       "    <tr>\n",
       "      <th>429</th>\n",
       "      <td>2022-10-01</td>\n",
       "      <td>298.672</td>\n",
       "      <td>9.7</td>\n",
       "      <td>1555.0</td>\n",
       "      <td>59.9</td>\n",
       "      <td>1710.0</td>\n",
       "      <td>1432.0</td>\n",
       "      <td>317.617</td>\n",
       "      <td>65599</td>\n",
       "      <td>94.39124</td>\n",
       "      <td>1348.0</td>\n",
       "      <td>479500.0</td>\n",
       "      <td>87.55</td>\n",
       "      <td>298.01</td>\n",
       "      <td>3.08</td>\n",
       "      <td>10801.494286</td>\n",
       "      <td>-0.0925</td>\n",
       "      <td>NaN</td>\n",
       "    </tr>\n",
       "    <tr>\n",
       "      <th>430</th>\n",
       "      <td>2022-11-01</td>\n",
       "      <td>296.809</td>\n",
       "      <td>9.4</td>\n",
       "      <td>1402.0</td>\n",
       "      <td>56.8</td>\n",
       "      <td>1695.0</td>\n",
       "      <td>1427.0</td>\n",
       "      <td>312.864</td>\n",
       "      <td>55272</td>\n",
       "      <td>93.09166</td>\n",
       "      <td>1543.0</td>\n",
       "      <td>479500.0</td>\n",
       "      <td>84.37</td>\n",
       "      <td>297.71</td>\n",
       "      <td>3.78</td>\n",
       "      <td>10973.638095</td>\n",
       "      <td>-0.1725</td>\n",
       "      <td>NaN</td>\n",
       "    </tr>\n",
       "    <tr>\n",
       "      <th>431</th>\n",
       "      <td>2022-12-01</td>\n",
       "      <td>294.266</td>\n",
       "      <td>8.5</td>\n",
       "      <td>1409.0</td>\n",
       "      <td>59.7</td>\n",
       "      <td>1696.0</td>\n",
       "      <td>1357.0</td>\n",
       "      <td>308.076</td>\n",
       "      <td>47749</td>\n",
       "      <td>87.05882</td>\n",
       "      <td>1390.0</td>\n",
       "      <td>479500.0</td>\n",
       "      <td>76.44</td>\n",
       "      <td>296.80</td>\n",
       "      <td>4.10</td>\n",
       "      <td>10838.995714</td>\n",
       "      <td>-0.1960</td>\n",
       "      <td>NaN</td>\n",
       "    </tr>\n",
       "    <tr>\n",
       "      <th>432</th>\n",
       "      <td>2023-01-01</td>\n",
       "      <td>292.444</td>\n",
       "      <td>8.1</td>\n",
       "      <td>1354.0</td>\n",
       "      <td>64.9</td>\n",
       "      <td>1695.0</td>\n",
       "      <td>1340.0</td>\n",
       "      <td>306.461</td>\n",
       "      <td>40292</td>\n",
       "      <td>85.80711</td>\n",
       "      <td>1377.0</td>\n",
       "      <td>436800.0</td>\n",
       "      <td>78.12</td>\n",
       "      <td>299.17</td>\n",
       "      <td>4.33</td>\n",
       "      <td>11013.991000</td>\n",
       "      <td>-0.2825</td>\n",
       "      <td>NaN</td>\n",
       "    </tr>\n",
       "  </tbody>\n",
       "</table>\n",
       "</div>"
      ],
      "text/plain": [
       "           Date  Price Index  Monthly Supply  Permits  Sentiment Index  \\\n",
       "426  2022-07-01      307.135            10.1   1658.0             51.5   \n",
       "427  2022-08-01      303.649             8.7   1586.0             58.2   \n",
       "428  2022-09-01      300.451             9.7   1588.0             58.6   \n",
       "429  2022-10-01      298.672             9.7   1555.0             59.9   \n",
       "430  2022-11-01      296.809             9.4   1402.0             56.8   \n",
       "431  2022-12-01      294.266             8.5   1409.0             59.7   \n",
       "432  2023-01-01      292.444             8.1   1354.0             64.9   \n",
       "\n",
       "     Construction  Housing Starts  Lumber Price Index  Pair Count  \\\n",
       "426        1683.0          1371.0             331.669       85499   \n",
       "427        1702.0          1505.0             329.173       81651   \n",
       "428        1698.0          1463.0             322.849       72386   \n",
       "429        1710.0          1432.0             317.617       65599   \n",
       "430        1695.0          1427.0             312.864       55272   \n",
       "431        1696.0          1357.0             308.076       47749   \n",
       "432        1695.0          1340.0             306.461       40292   \n",
       "\n",
       "     Mortgage Rate  Units Completed  Sales Price  Oil Price     CPI  \\\n",
       "426       74.04241           1396.0     468000.0     101.62  296.28   \n",
       "427       71.44323           1355.0     468000.0      93.67  296.17   \n",
       "428       83.61149           1438.0     468000.0      84.26  296.81   \n",
       "429       94.39124           1348.0     479500.0      87.55  298.01   \n",
       "430       93.09166           1543.0     479500.0      84.37  297.71   \n",
       "431       87.05882           1390.0     479500.0      76.44  296.80   \n",
       "432       85.80711           1377.0     436800.0      78.12  299.17   \n",
       "\n",
       "     Fed Funds Rate        NASDAQ    NFCI  Price Index 6 Months Later  \n",
       "426            1.68  11622.631500 -0.1660                     292.444  \n",
       "427            2.33  12570.260435 -0.2275                         NaN  \n",
       "428            2.56  11402.850000 -0.1320                         NaN  \n",
       "429            3.08  10801.494286 -0.0925                         NaN  \n",
       "430            3.78  10973.638095 -0.1725                         NaN  \n",
       "431            4.10  10838.995714 -0.1960                         NaN  \n",
       "432            4.33  11013.991000 -0.2825                         NaN  "
      ]
     },
     "execution_count": 4,
     "metadata": {},
     "output_type": "execute_result"
    }
   ],
   "source": [
    "# add a column 'Price Index 6 Months Later' to the dataframe and populate it with the price index 6 months later\n",
    "df2 = df.copy()\n",
    "df2['Price Index 6 Months Later'] = df2['Price Index'].shift(-6)\n",
    "df2.tail(7)"
   ]
  },
  {
   "attachments": {},
   "cell_type": "markdown",
   "metadata": {},
   "source": [
    "# Defining the feature and target variables"
   ]
  },
  {
   "cell_type": "code",
   "execution_count": 30,
   "metadata": {},
   "outputs": [
    {
     "data": {
      "text/html": [
       "<div>\n",
       "<style scoped>\n",
       "    .dataframe tbody tr th:only-of-type {\n",
       "        vertical-align: middle;\n",
       "    }\n",
       "\n",
       "    .dataframe tbody tr th {\n",
       "        vertical-align: top;\n",
       "    }\n",
       "\n",
       "    .dataframe thead th {\n",
       "        text-align: right;\n",
       "    }\n",
       "</style>\n",
       "<table border=\"1\" class=\"dataframe\">\n",
       "  <thead>\n",
       "    <tr style=\"text-align: right;\">\n",
       "      <th></th>\n",
       "      <th>Price Index</th>\n",
       "      <th>Monthly Supply</th>\n",
       "      <th>Permits</th>\n",
       "      <th>Sentiment Index</th>\n",
       "      <th>Construction</th>\n",
       "      <th>Housing Starts</th>\n",
       "      <th>Lumber Price Index</th>\n",
       "      <th>Pair Count</th>\n",
       "      <th>Mortgage Rate</th>\n",
       "      <th>Units Completed</th>\n",
       "      <th>Sales Price</th>\n",
       "      <th>Oil Price</th>\n",
       "      <th>CPI</th>\n",
       "      <th>Fed Funds Rate</th>\n",
       "      <th>NASDAQ</th>\n",
       "      <th>NFCI</th>\n",
       "    </tr>\n",
       "  </thead>\n",
       "  <tbody>\n",
       "    <tr>\n",
       "      <th>420</th>\n",
       "      <td>282.039</td>\n",
       "      <td>5.8</td>\n",
       "      <td>1898.0</td>\n",
       "      <td>67.2</td>\n",
       "      <td>1553.0</td>\n",
       "      <td>1669.0</td>\n",
       "      <td>349.222</td>\n",
       "      <td>73069</td>\n",
       "      <td>47.12722</td>\n",
       "      <td>1256.0</td>\n",
       "      <td>433100.0</td>\n",
       "      <td>83.22</td>\n",
       "      <td>281.15</td>\n",
       "      <td>0.08</td>\n",
       "      <td>14531.377500</td>\n",
       "      <td>-0.5425</td>\n",
       "    </tr>\n",
       "    <tr>\n",
       "      <th>421</th>\n",
       "      <td>287.284</td>\n",
       "      <td>6.2</td>\n",
       "      <td>1817.0</td>\n",
       "      <td>62.8</td>\n",
       "      <td>1581.0</td>\n",
       "      <td>1771.0</td>\n",
       "      <td>359.934</td>\n",
       "      <td>64039</td>\n",
       "      <td>51.47059</td>\n",
       "      <td>1371.0</td>\n",
       "      <td>433100.0</td>\n",
       "      <td>91.64</td>\n",
       "      <td>283.72</td>\n",
       "      <td>0.08</td>\n",
       "      <td>13898.727895</td>\n",
       "      <td>-0.4700</td>\n",
       "    </tr>\n",
       "    <tr>\n",
       "      <th>422</th>\n",
       "      <td>295.123</td>\n",
       "      <td>7.0</td>\n",
       "      <td>1877.0</td>\n",
       "      <td>59.4</td>\n",
       "      <td>1631.0</td>\n",
       "      <td>1713.0</td>\n",
       "      <td>372.864</td>\n",
       "      <td>64647</td>\n",
       "      <td>57.07250</td>\n",
       "      <td>1356.0</td>\n",
       "      <td>433100.0</td>\n",
       "      <td>108.50</td>\n",
       "      <td>287.50</td>\n",
       "      <td>0.20</td>\n",
       "      <td>13623.263043</td>\n",
       "      <td>-0.3675</td>\n",
       "    </tr>\n",
       "    <tr>\n",
       "      <th>423</th>\n",
       "      <td>301.789</td>\n",
       "      <td>8.5</td>\n",
       "      <td>1795.0</td>\n",
       "      <td>65.2</td>\n",
       "      <td>1669.0</td>\n",
       "      <td>1803.0</td>\n",
       "      <td>356.444</td>\n",
       "      <td>73334</td>\n",
       "      <td>68.16005</td>\n",
       "      <td>1361.0</td>\n",
       "      <td>449300.0</td>\n",
       "      <td>101.78</td>\n",
       "      <td>289.11</td>\n",
       "      <td>0.33</td>\n",
       "      <td>13394.163000</td>\n",
       "      <td>-0.3320</td>\n",
       "    </tr>\n",
       "    <tr>\n",
       "      <th>424</th>\n",
       "      <td>306.569</td>\n",
       "      <td>8.3</td>\n",
       "      <td>1708.0</td>\n",
       "      <td>58.4</td>\n",
       "      <td>1680.0</td>\n",
       "      <td>1543.0</td>\n",
       "      <td>358.834</td>\n",
       "      <td>83758</td>\n",
       "      <td>71.54583</td>\n",
       "      <td>1446.0</td>\n",
       "      <td>449300.0</td>\n",
       "      <td>109.55</td>\n",
       "      <td>292.30</td>\n",
       "      <td>0.77</td>\n",
       "      <td>11829.729524</td>\n",
       "      <td>-0.2525</td>\n",
       "    </tr>\n",
       "    <tr>\n",
       "      <th>425</th>\n",
       "      <td>308.334</td>\n",
       "      <td>9.5</td>\n",
       "      <td>1701.0</td>\n",
       "      <td>50.0</td>\n",
       "      <td>1688.0</td>\n",
       "      <td>1561.0</td>\n",
       "      <td>334.275</td>\n",
       "      <td>87679</td>\n",
       "      <td>75.54036</td>\n",
       "      <td>1392.0</td>\n",
       "      <td>449300.0</td>\n",
       "      <td>114.84</td>\n",
       "      <td>296.31</td>\n",
       "      <td>1.21</td>\n",
       "      <td>11418.919048</td>\n",
       "      <td>-0.1725</td>\n",
       "    </tr>\n",
       "    <tr>\n",
       "      <th>426</th>\n",
       "      <td>307.135</td>\n",
       "      <td>10.1</td>\n",
       "      <td>1658.0</td>\n",
       "      <td>51.5</td>\n",
       "      <td>1683.0</td>\n",
       "      <td>1371.0</td>\n",
       "      <td>331.669</td>\n",
       "      <td>85499</td>\n",
       "      <td>74.04241</td>\n",
       "      <td>1396.0</td>\n",
       "      <td>468000.0</td>\n",
       "      <td>101.62</td>\n",
       "      <td>296.28</td>\n",
       "      <td>1.68</td>\n",
       "      <td>11622.631500</td>\n",
       "      <td>-0.1660</td>\n",
       "    </tr>\n",
       "  </tbody>\n",
       "</table>\n",
       "</div>"
      ],
      "text/plain": [
       "     Price Index  Monthly Supply  Permits  Sentiment Index  Construction  \\\n",
       "420      282.039             5.8   1898.0             67.2        1553.0   \n",
       "421      287.284             6.2   1817.0             62.8        1581.0   \n",
       "422      295.123             7.0   1877.0             59.4        1631.0   \n",
       "423      301.789             8.5   1795.0             65.2        1669.0   \n",
       "424      306.569             8.3   1708.0             58.4        1680.0   \n",
       "425      308.334             9.5   1701.0             50.0        1688.0   \n",
       "426      307.135            10.1   1658.0             51.5        1683.0   \n",
       "\n",
       "     Housing Starts  Lumber Price Index  Pair Count  Mortgage Rate  \\\n",
       "420          1669.0             349.222       73069       47.12722   \n",
       "421          1771.0             359.934       64039       51.47059   \n",
       "422          1713.0             372.864       64647       57.07250   \n",
       "423          1803.0             356.444       73334       68.16005   \n",
       "424          1543.0             358.834       83758       71.54583   \n",
       "425          1561.0             334.275       87679       75.54036   \n",
       "426          1371.0             331.669       85499       74.04241   \n",
       "\n",
       "     Units Completed  Sales Price  Oil Price     CPI  Fed Funds Rate  \\\n",
       "420           1256.0     433100.0      83.22  281.15            0.08   \n",
       "421           1371.0     433100.0      91.64  283.72            0.08   \n",
       "422           1356.0     433100.0     108.50  287.50            0.20   \n",
       "423           1361.0     449300.0     101.78  289.11            0.33   \n",
       "424           1446.0     449300.0     109.55  292.30            0.77   \n",
       "425           1392.0     449300.0     114.84  296.31            1.21   \n",
       "426           1396.0     468000.0     101.62  296.28            1.68   \n",
       "\n",
       "           NASDAQ    NFCI  \n",
       "420  14531.377500 -0.5425  \n",
       "421  13898.727895 -0.4700  \n",
       "422  13623.263043 -0.3675  \n",
       "423  13394.163000 -0.3320  \n",
       "424  11829.729524 -0.2525  \n",
       "425  11418.919048 -0.1725  \n",
       "426  11622.631500 -0.1660  "
      ]
     },
     "execution_count": 30,
     "metadata": {},
     "output_type": "execute_result"
    }
   ],
   "source": [
    "# Define features set\n",
    "X = df2.copy()\n",
    "X = X.drop(\"Date\", axis=1)\n",
    "X = X.drop(\"Price Index 6 Months Later\", axis=1)\n",
    "# drop last 6 rows\n",
    "X = X[:-6]\n",
    "X.tail(7)"
   ]
  },
  {
   "cell_type": "code",
   "execution_count": 31,
   "metadata": {},
   "outputs": [
    {
     "name": "stdout",
     "output_type": "stream",
     "text": [
      "(427, 16)\n",
      "Price Index           0\n",
      "Monthly Supply        0\n",
      "Permits               0\n",
      "Sentiment Index       0\n",
      "Construction          0\n",
      "Housing Starts        0\n",
      "Lumber Price Index    0\n",
      "Pair Count            0\n",
      "Mortgage Rate         0\n",
      "Units Completed       0\n",
      "Sales Price           0\n",
      "Oil Price             0\n",
      "CPI                   0\n",
      "Fed Funds Rate        0\n",
      "NASDAQ                0\n",
      "NFCI                  0\n",
      "dtype: int64\n"
     ]
    }
   ],
   "source": [
    "# checking the shape of X and if there are any null values\n",
    "print(X.shape)\n",
    "print(X.isnull().sum())"
   ]
  },
  {
   "attachments": {},
   "cell_type": "markdown",
   "metadata": {},
   "source": [
    "# Creating the target vector \n",
    "Price Index = S&P/Case-Shiller U.S. National Home Price Index (Index Jan 2000=100, Seasonally Adjusted)"
   ]
  },
  {
   "cell_type": "code",
   "execution_count": 32,
   "metadata": {},
   "outputs": [
    {
     "data": {
      "text/plain": [
       "(427, 1)"
      ]
     },
     "execution_count": 32,
     "metadata": {},
     "output_type": "execute_result"
    }
   ],
   "source": [
    "# Define target vector 'Price Change' as y\n",
    "y = df2[\"Price Index 6 Months Later\"].values.reshape(-1, 1)\n",
    "y = y[:-6]\n",
    "y.shape"
   ]
  },
  {
   "attachments": {},
   "cell_type": "markdown",
   "metadata": {},
   "source": [
    "# Splitting the data into training and testing sets"
   ]
  },
  {
   "cell_type": "code",
   "execution_count": 33,
   "metadata": {},
   "outputs": [],
   "source": [
    "# Splitting into Train and Test sets\n",
    "X_train, X_test, y_train, y_test = train_test_split(X, y, random_state=78)\n"
   ]
  },
  {
   "cell_type": "code",
   "execution_count": 34,
   "metadata": {},
   "outputs": [],
   "source": [
    "# Create a StandardScaler instance\n",
    "scaler = StandardScaler()"
   ]
  },
  {
   "cell_type": "code",
   "execution_count": 35,
   "metadata": {},
   "outputs": [],
   "source": [
    "# Fit the StandardScaler\n",
    "X_scaler = scaler.fit(X_train)"
   ]
  },
  {
   "cell_type": "code",
   "execution_count": 36,
   "metadata": {},
   "outputs": [
    {
     "data": {
      "text/plain": [
       "(107, 16)"
      ]
     },
     "execution_count": 36,
     "metadata": {},
     "output_type": "execute_result"
    }
   ],
   "source": [
    "# Scale the data\n",
    "X_train_scaled = X_scaler.transform(X_train)\n",
    "X_test_scaled = X_scaler.transform(X_test)\n",
    "X_test_scaled.shape"
   ]
  },
  {
   "attachments": {},
   "cell_type": "markdown",
   "metadata": {},
   "source": [
    "# Fitting the Random Forest model\n",
    "\n",
    "Having scaled the data, we can now fit the Random Forest model to the training data."
   ]
  },
  {
   "cell_type": "code",
   "execution_count": 37,
   "metadata": {},
   "outputs": [],
   "source": [
    "# create the random forrest classifier instance\n",
    "rf_model = RandomForestRegressor(n_estimators=200, random_state=78)\n",
    "# fit the model\n",
    "rf_model = rf_model.fit(X_train_scaled, y_train.ravel())"
   ]
  },
  {
   "attachments": {},
   "cell_type": "markdown",
   "metadata": {},
   "source": [
    "# Making predictions with the Random Forest model"
   ]
  },
  {
   "cell_type": "code",
   "execution_count": 38,
   "metadata": {},
   "outputs": [
    {
     "data": {
      "text/plain": [
       "array([212.080155,  76.4277  , 300.601155, 145.64017 , 141.147605,\n",
       "       215.123785, 197.133935,  76.53291 , 144.913245,  79.33344 ,\n",
       "       301.565655,  80.43638 , 146.309875, 183.33118 , 164.149055,\n",
       "       146.43414 ,  95.47234 , 137.269105, 130.227515, 170.477945,\n",
       "       254.841515,  76.043365, 160.602855, 104.880945,  84.01689 ,\n",
       "       182.07295 ,  80.51025 , 163.458725, 222.582575, 153.09185 ,\n",
       "       294.879155, 272.50014 , 115.44454 ,  91.69295 ,  76.236645,\n",
       "       138.341765, 156.45083 , 106.126885,  69.23684 , 138.929095,\n",
       "       127.24971 , 277.03582 ,  86.86205 ,  87.55664 , 140.69871 ,\n",
       "       140.09083 ,  71.91898 , 140.308765, 155.55342 , 183.69705 ,\n",
       "        76.453175,  73.982795, 228.308945, 127.699765, 185.60814 ,\n",
       "        67.500335, 164.824415,  78.182135, 188.554525,  83.738725,\n",
       "        68.72167 , 146.157675, 199.00897 , 125.1731  , 203.811705,\n",
       "        95.68122 , 205.03253 ,  76.25258 ,  81.65113 ,  81.14534 ,\n",
       "       109.556405,  90.84095 , 253.41631 , 206.305575, 145.097305,\n",
       "       169.19731 , 144.74374 ,  73.007125, 178.58817 , 166.73701 ,\n",
       "       152.288105,  74.91603 , 301.39571 ,  78.324155, 167.11684 ,\n",
       "       181.628315,  76.79846 , 182.704985,  80.223015,  77.509415,\n",
       "       145.10061 , 173.60026 , 145.902675, 206.026925, 290.652585,\n",
       "       124.98504 ,  76.325655, 145.3031  ,  83.40398 , 150.44298 ,\n",
       "        71.93987 ,  77.062925, 106.735695,  70.416885, 164.75646 ,\n",
       "        76.15927 , 155.76548 ])"
      ]
     },
     "execution_count": 38,
     "metadata": {},
     "output_type": "execute_result"
    }
   ],
   "source": [
    "# Making predictions using the testing data\n",
    "predictions = rf_model.predict(X_test_scaled)\n",
    "predictions"
   ]
  },
  {
   "cell_type": "code",
   "execution_count": 39,
   "metadata": {},
   "outputs": [
    {
     "name": "stdout",
     "output_type": "stream",
     "text": [
      "First 10 Predictions:   [212.080155  76.4277   300.601155 145.64017  141.147605 215.123785\n",
      " 197.133935  76.53291  144.913245  79.33344 ]\n",
      "First 10 Actual labels: [[212.25099999999998], [76.327], [300.45099999999996], [147.704], [140.69299999999998], [217.26], [196.90900000000002], [76.597], [143.868], [79.7]]\n"
     ]
    }
   ],
   "source": [
    "# compare predictions to actual values\n",
    "print(f\"First 10 Predictions:   {predictions[:10]}\")\n",
    "print(f\"First 10 Actual labels: {y_test[:10].tolist()}\")\n"
   ]
  },
  {
   "attachments": {},
   "cell_type": "markdown",
   "metadata": {},
   "source": [
    "# Evaluating the Random Forest model"
   ]
  },
  {
   "cell_type": "code",
   "execution_count": 40,
   "metadata": {},
   "outputs": [
    {
     "data": {
      "text/html": [
       "<div>\n",
       "<style scoped>\n",
       "    .dataframe tbody tr th:only-of-type {\n",
       "        vertical-align: middle;\n",
       "    }\n",
       "\n",
       "    .dataframe tbody tr th {\n",
       "        vertical-align: top;\n",
       "    }\n",
       "\n",
       "    .dataframe thead th {\n",
       "        text-align: right;\n",
       "    }\n",
       "</style>\n",
       "<table border=\"1\" class=\"dataframe\">\n",
       "  <thead>\n",
       "    <tr style=\"text-align: right;\">\n",
       "      <th></th>\n",
       "      <th>Prediction</th>\n",
       "      <th>Actual</th>\n",
       "      <th>Difference</th>\n",
       "      <th>Percent Difference</th>\n",
       "    </tr>\n",
       "  </thead>\n",
       "  <tbody>\n",
       "    <tr>\n",
       "      <th>0</th>\n",
       "      <td>212.080155</td>\n",
       "      <td>212.251</td>\n",
       "      <td>0.170845</td>\n",
       "      <td>0.080492</td>\n",
       "    </tr>\n",
       "    <tr>\n",
       "      <th>1</th>\n",
       "      <td>76.427700</td>\n",
       "      <td>76.327</td>\n",
       "      <td>-0.100700</td>\n",
       "      <td>-0.131932</td>\n",
       "    </tr>\n",
       "    <tr>\n",
       "      <th>2</th>\n",
       "      <td>300.601155</td>\n",
       "      <td>300.451</td>\n",
       "      <td>-0.150155</td>\n",
       "      <td>-0.049977</td>\n",
       "    </tr>\n",
       "    <tr>\n",
       "      <th>3</th>\n",
       "      <td>145.640170</td>\n",
       "      <td>147.704</td>\n",
       "      <td>2.063830</td>\n",
       "      <td>1.397274</td>\n",
       "    </tr>\n",
       "    <tr>\n",
       "      <th>4</th>\n",
       "      <td>141.147605</td>\n",
       "      <td>140.693</td>\n",
       "      <td>-0.454605</td>\n",
       "      <td>-0.323118</td>\n",
       "    </tr>\n",
       "    <tr>\n",
       "      <th>5</th>\n",
       "      <td>215.123785</td>\n",
       "      <td>217.260</td>\n",
       "      <td>2.136215</td>\n",
       "      <td>0.983253</td>\n",
       "    </tr>\n",
       "    <tr>\n",
       "      <th>6</th>\n",
       "      <td>197.133935</td>\n",
       "      <td>196.909</td>\n",
       "      <td>-0.224935</td>\n",
       "      <td>-0.114233</td>\n",
       "    </tr>\n",
       "    <tr>\n",
       "      <th>7</th>\n",
       "      <td>76.532910</td>\n",
       "      <td>76.597</td>\n",
       "      <td>0.064090</td>\n",
       "      <td>0.083672</td>\n",
       "    </tr>\n",
       "    <tr>\n",
       "      <th>8</th>\n",
       "      <td>144.913245</td>\n",
       "      <td>143.868</td>\n",
       "      <td>-1.045245</td>\n",
       "      <td>-0.726531</td>\n",
       "    </tr>\n",
       "    <tr>\n",
       "      <th>9</th>\n",
       "      <td>79.333440</td>\n",
       "      <td>79.700</td>\n",
       "      <td>0.366560</td>\n",
       "      <td>0.459925</td>\n",
       "    </tr>\n",
       "  </tbody>\n",
       "</table>\n",
       "</div>"
      ],
      "text/plain": [
       "   Prediction   Actual  Difference  Percent Difference\n",
       "0  212.080155  212.251    0.170845            0.080492\n",
       "1   76.427700   76.327   -0.100700           -0.131932\n",
       "2  300.601155  300.451   -0.150155           -0.049977\n",
       "3  145.640170  147.704    2.063830            1.397274\n",
       "4  141.147605  140.693   -0.454605           -0.323118\n",
       "5  215.123785  217.260    2.136215            0.983253\n",
       "6  197.133935  196.909   -0.224935           -0.114233\n",
       "7   76.532910   76.597    0.064090            0.083672\n",
       "8  144.913245  143.868   -1.045245           -0.726531\n",
       "9   79.333440   79.700    0.366560            0.459925"
      ]
     },
     "execution_count": 40,
     "metadata": {},
     "output_type": "execute_result"
    }
   ],
   "source": [
    "# chart of predictions vs actual\n",
    "results_df = pd.DataFrame({\"Prediction\": predictions, \"Actual\": y_test.ravel()})\n",
    "# change the datatypes to float\n",
    "results_df = results_df.astype(\"float64\")\n",
    "# add a column for the difference between the prediction and actual\n",
    "results_df[\"Difference\"] = results_df[\"Actual\"] - results_df[\"Prediction\"]\n",
    "# add a column for the percent difference between the prediction and actual\n",
    "results_df[\"Percent Difference\"] = results_df[\"Difference\"] / results_df[\"Actual\"] * 100\n",
    "# find the highest percent difference\n",
    "results_df[\"Percent Difference\"].max()\n",
    "results_df.head(10)"
   ]
  },
  {
   "cell_type": "code",
   "execution_count": 41,
   "metadata": {},
   "outputs": [
    {
     "data": {
      "application/vnd.plotly.v1+json": {
       "config": {
        "plotlyServerURL": "https://plot.ly"
       },
       "data": [
        {
         "alignmentgroup": "True",
         "bingroup": "x",
         "hovertemplate": "Percent Difference=%{x}<br>count=%{y}<extra></extra>",
         "legendgroup": "",
         "marker": {
          "color": "#636efa",
          "pattern": {
           "shape": ""
          }
         },
         "name": "",
         "offsetgroup": "",
         "orientation": "v",
         "showlegend": false,
         "type": "histogram",
         "x": [
          0.0804919647022021,
          -0.13193234373158036,
          -0.04997653527525958,
          1.3972742782862417,
          -0.3231184209590597,
          0.98325278468201,
          -0.11423297055996985,
          0.08367168426951715,
          -0.7265305696888973,
          0.45992471769120846,
          1.8133215035733654,
          -0.5555305530553174,
          2.216275914613846,
          0.3759421376675471,
          4.572825044327536,
          2.862281010155999,
          -1.0984698469849095,
          -2.3113596386622435,
          0.19962372018873373,
          -1.5323814061524095,
          0.25147758763744593,
          -0.967091548828439,
          -0.8305217227522813,
          0.7945961540281284,
          -0.5515941404567583,
          -0.29357166464679996,
          -0.5397862084468307,
          3.589201033360153,
          1.8703515926375573,
          -3.3217587905782406,
          -0.8326910451233858,
          0.4358386951804895,
          0.016853737961537694,
          0.33266665942010193,
          -0.25597038478727197,
          -0.2650932046153441,
          -6.781442173156339,
          0.36998807746839874,
          -0.4684679455554733,
          -1.6551874263722262,
          -0.07763210670775908,
          -0.3498460535369227,
          -0.0173293262863949,
          -0.21017934602236946,
          -2.1510062728699526,
          -1.2136535390973742,
          1.240037351349903,
          -0.09971177649843868,
          0.4763848545727929,
          0.38337020888924306,
          0.4386313322047016,
          -0.020001892710562217,
          1.7396331412389037,
          -0.03741813680949388,
          -0.31462605255470455,
          0.18139538322755477,
          0.8366182354180093,
          0.019009680678450897,
          -0.0023998939273558325,
          -0.24988028253315492,
          -0.2051151193480902,
          2.9935520482119964,
          -0.2170280695745625,
          0.7633823809221717,
          0.11825114063523004,
          0.707512219420114,
          -0.034411256720559405,
          0.345570265431083,
          0.10627859746976209,
          -0.5630615558116263,
          -0.31351749775671034,
          0.01876554623693559,
          -1.4237269820180063,
          -0.5789716163380006,
          -1.044802468018251,
          -1.1189660839684603,
          -1.1260514769583503,
          0.07921029220554503,
          0.8432931535142572,
          -0.29173182879012516,
          -1.6629872427350385,
          -0.6800564440265637,
          0.7420706144265978,
          -0.19592304051365222,
          0.07603262299383208,
          -0.35101633764844403,
          -1.0878481545831704,
          -0.6639035812672923,
          -0.24618873865987376,
          0.008495020382871876,
          -2.3110567397390382,
          -2.6054778003689703,
          0.18903194029225484,
          -0.8872634233528817,
          -1.1725626905778048,
          -0.20447366311235193,
          0.18092827997481717,
          0.06870559754598739,
          0.3548583648940743,
          1.2433092420096301,
          0.8737702207402087,
          -0.04274308710877863,
          0.9211207856824876,
          -0.9011362985039548,
          -0.2912501978354708,
          -0.516405342624975,
          1.8305413751812776
         ],
         "xaxis": "x",
         "yaxis": "y"
        }
       ],
       "layout": {
        "barmode": "relative",
        "legend": {
         "tracegroupgap": 0
        },
        "template": {
         "data": {
          "bar": [
           {
            "error_x": {
             "color": "#2a3f5f"
            },
            "error_y": {
             "color": "#2a3f5f"
            },
            "marker": {
             "line": {
              "color": "#E5ECF6",
              "width": 0.5
             },
             "pattern": {
              "fillmode": "overlay",
              "size": 10,
              "solidity": 0.2
             }
            },
            "type": "bar"
           }
          ],
          "barpolar": [
           {
            "marker": {
             "line": {
              "color": "#E5ECF6",
              "width": 0.5
             },
             "pattern": {
              "fillmode": "overlay",
              "size": 10,
              "solidity": 0.2
             }
            },
            "type": "barpolar"
           }
          ],
          "carpet": [
           {
            "aaxis": {
             "endlinecolor": "#2a3f5f",
             "gridcolor": "white",
             "linecolor": "white",
             "minorgridcolor": "white",
             "startlinecolor": "#2a3f5f"
            },
            "baxis": {
             "endlinecolor": "#2a3f5f",
             "gridcolor": "white",
             "linecolor": "white",
             "minorgridcolor": "white",
             "startlinecolor": "#2a3f5f"
            },
            "type": "carpet"
           }
          ],
          "choropleth": [
           {
            "colorbar": {
             "outlinewidth": 0,
             "ticks": ""
            },
            "type": "choropleth"
           }
          ],
          "contour": [
           {
            "colorbar": {
             "outlinewidth": 0,
             "ticks": ""
            },
            "colorscale": [
             [
              0,
              "#0d0887"
             ],
             [
              0.1111111111111111,
              "#46039f"
             ],
             [
              0.2222222222222222,
              "#7201a8"
             ],
             [
              0.3333333333333333,
              "#9c179e"
             ],
             [
              0.4444444444444444,
              "#bd3786"
             ],
             [
              0.5555555555555556,
              "#d8576b"
             ],
             [
              0.6666666666666666,
              "#ed7953"
             ],
             [
              0.7777777777777778,
              "#fb9f3a"
             ],
             [
              0.8888888888888888,
              "#fdca26"
             ],
             [
              1,
              "#f0f921"
             ]
            ],
            "type": "contour"
           }
          ],
          "contourcarpet": [
           {
            "colorbar": {
             "outlinewidth": 0,
             "ticks": ""
            },
            "type": "contourcarpet"
           }
          ],
          "heatmap": [
           {
            "colorbar": {
             "outlinewidth": 0,
             "ticks": ""
            },
            "colorscale": [
             [
              0,
              "#0d0887"
             ],
             [
              0.1111111111111111,
              "#46039f"
             ],
             [
              0.2222222222222222,
              "#7201a8"
             ],
             [
              0.3333333333333333,
              "#9c179e"
             ],
             [
              0.4444444444444444,
              "#bd3786"
             ],
             [
              0.5555555555555556,
              "#d8576b"
             ],
             [
              0.6666666666666666,
              "#ed7953"
             ],
             [
              0.7777777777777778,
              "#fb9f3a"
             ],
             [
              0.8888888888888888,
              "#fdca26"
             ],
             [
              1,
              "#f0f921"
             ]
            ],
            "type": "heatmap"
           }
          ],
          "heatmapgl": [
           {
            "colorbar": {
             "outlinewidth": 0,
             "ticks": ""
            },
            "colorscale": [
             [
              0,
              "#0d0887"
             ],
             [
              0.1111111111111111,
              "#46039f"
             ],
             [
              0.2222222222222222,
              "#7201a8"
             ],
             [
              0.3333333333333333,
              "#9c179e"
             ],
             [
              0.4444444444444444,
              "#bd3786"
             ],
             [
              0.5555555555555556,
              "#d8576b"
             ],
             [
              0.6666666666666666,
              "#ed7953"
             ],
             [
              0.7777777777777778,
              "#fb9f3a"
             ],
             [
              0.8888888888888888,
              "#fdca26"
             ],
             [
              1,
              "#f0f921"
             ]
            ],
            "type": "heatmapgl"
           }
          ],
          "histogram": [
           {
            "marker": {
             "pattern": {
              "fillmode": "overlay",
              "size": 10,
              "solidity": 0.2
             }
            },
            "type": "histogram"
           }
          ],
          "histogram2d": [
           {
            "colorbar": {
             "outlinewidth": 0,
             "ticks": ""
            },
            "colorscale": [
             [
              0,
              "#0d0887"
             ],
             [
              0.1111111111111111,
              "#46039f"
             ],
             [
              0.2222222222222222,
              "#7201a8"
             ],
             [
              0.3333333333333333,
              "#9c179e"
             ],
             [
              0.4444444444444444,
              "#bd3786"
             ],
             [
              0.5555555555555556,
              "#d8576b"
             ],
             [
              0.6666666666666666,
              "#ed7953"
             ],
             [
              0.7777777777777778,
              "#fb9f3a"
             ],
             [
              0.8888888888888888,
              "#fdca26"
             ],
             [
              1,
              "#f0f921"
             ]
            ],
            "type": "histogram2d"
           }
          ],
          "histogram2dcontour": [
           {
            "colorbar": {
             "outlinewidth": 0,
             "ticks": ""
            },
            "colorscale": [
             [
              0,
              "#0d0887"
             ],
             [
              0.1111111111111111,
              "#46039f"
             ],
             [
              0.2222222222222222,
              "#7201a8"
             ],
             [
              0.3333333333333333,
              "#9c179e"
             ],
             [
              0.4444444444444444,
              "#bd3786"
             ],
             [
              0.5555555555555556,
              "#d8576b"
             ],
             [
              0.6666666666666666,
              "#ed7953"
             ],
             [
              0.7777777777777778,
              "#fb9f3a"
             ],
             [
              0.8888888888888888,
              "#fdca26"
             ],
             [
              1,
              "#f0f921"
             ]
            ],
            "type": "histogram2dcontour"
           }
          ],
          "mesh3d": [
           {
            "colorbar": {
             "outlinewidth": 0,
             "ticks": ""
            },
            "type": "mesh3d"
           }
          ],
          "parcoords": [
           {
            "line": {
             "colorbar": {
              "outlinewidth": 0,
              "ticks": ""
             }
            },
            "type": "parcoords"
           }
          ],
          "pie": [
           {
            "automargin": true,
            "type": "pie"
           }
          ],
          "scatter": [
           {
            "fillpattern": {
             "fillmode": "overlay",
             "size": 10,
             "solidity": 0.2
            },
            "type": "scatter"
           }
          ],
          "scatter3d": [
           {
            "line": {
             "colorbar": {
              "outlinewidth": 0,
              "ticks": ""
             }
            },
            "marker": {
             "colorbar": {
              "outlinewidth": 0,
              "ticks": ""
             }
            },
            "type": "scatter3d"
           }
          ],
          "scattercarpet": [
           {
            "marker": {
             "colorbar": {
              "outlinewidth": 0,
              "ticks": ""
             }
            },
            "type": "scattercarpet"
           }
          ],
          "scattergeo": [
           {
            "marker": {
             "colorbar": {
              "outlinewidth": 0,
              "ticks": ""
             }
            },
            "type": "scattergeo"
           }
          ],
          "scattergl": [
           {
            "marker": {
             "colorbar": {
              "outlinewidth": 0,
              "ticks": ""
             }
            },
            "type": "scattergl"
           }
          ],
          "scattermapbox": [
           {
            "marker": {
             "colorbar": {
              "outlinewidth": 0,
              "ticks": ""
             }
            },
            "type": "scattermapbox"
           }
          ],
          "scatterpolar": [
           {
            "marker": {
             "colorbar": {
              "outlinewidth": 0,
              "ticks": ""
             }
            },
            "type": "scatterpolar"
           }
          ],
          "scatterpolargl": [
           {
            "marker": {
             "colorbar": {
              "outlinewidth": 0,
              "ticks": ""
             }
            },
            "type": "scatterpolargl"
           }
          ],
          "scatterternary": [
           {
            "marker": {
             "colorbar": {
              "outlinewidth": 0,
              "ticks": ""
             }
            },
            "type": "scatterternary"
           }
          ],
          "surface": [
           {
            "colorbar": {
             "outlinewidth": 0,
             "ticks": ""
            },
            "colorscale": [
             [
              0,
              "#0d0887"
             ],
             [
              0.1111111111111111,
              "#46039f"
             ],
             [
              0.2222222222222222,
              "#7201a8"
             ],
             [
              0.3333333333333333,
              "#9c179e"
             ],
             [
              0.4444444444444444,
              "#bd3786"
             ],
             [
              0.5555555555555556,
              "#d8576b"
             ],
             [
              0.6666666666666666,
              "#ed7953"
             ],
             [
              0.7777777777777778,
              "#fb9f3a"
             ],
             [
              0.8888888888888888,
              "#fdca26"
             ],
             [
              1,
              "#f0f921"
             ]
            ],
            "type": "surface"
           }
          ],
          "table": [
           {
            "cells": {
             "fill": {
              "color": "#EBF0F8"
             },
             "line": {
              "color": "white"
             }
            },
            "header": {
             "fill": {
              "color": "#C8D4E3"
             },
             "line": {
              "color": "white"
             }
            },
            "type": "table"
           }
          ]
         },
         "layout": {
          "annotationdefaults": {
           "arrowcolor": "#2a3f5f",
           "arrowhead": 0,
           "arrowwidth": 1
          },
          "autotypenumbers": "strict",
          "coloraxis": {
           "colorbar": {
            "outlinewidth": 0,
            "ticks": ""
           }
          },
          "colorscale": {
           "diverging": [
            [
             0,
             "#8e0152"
            ],
            [
             0.1,
             "#c51b7d"
            ],
            [
             0.2,
             "#de77ae"
            ],
            [
             0.3,
             "#f1b6da"
            ],
            [
             0.4,
             "#fde0ef"
            ],
            [
             0.5,
             "#f7f7f7"
            ],
            [
             0.6,
             "#e6f5d0"
            ],
            [
             0.7,
             "#b8e186"
            ],
            [
             0.8,
             "#7fbc41"
            ],
            [
             0.9,
             "#4d9221"
            ],
            [
             1,
             "#276419"
            ]
           ],
           "sequential": [
            [
             0,
             "#0d0887"
            ],
            [
             0.1111111111111111,
             "#46039f"
            ],
            [
             0.2222222222222222,
             "#7201a8"
            ],
            [
             0.3333333333333333,
             "#9c179e"
            ],
            [
             0.4444444444444444,
             "#bd3786"
            ],
            [
             0.5555555555555556,
             "#d8576b"
            ],
            [
             0.6666666666666666,
             "#ed7953"
            ],
            [
             0.7777777777777778,
             "#fb9f3a"
            ],
            [
             0.8888888888888888,
             "#fdca26"
            ],
            [
             1,
             "#f0f921"
            ]
           ],
           "sequentialminus": [
            [
             0,
             "#0d0887"
            ],
            [
             0.1111111111111111,
             "#46039f"
            ],
            [
             0.2222222222222222,
             "#7201a8"
            ],
            [
             0.3333333333333333,
             "#9c179e"
            ],
            [
             0.4444444444444444,
             "#bd3786"
            ],
            [
             0.5555555555555556,
             "#d8576b"
            ],
            [
             0.6666666666666666,
             "#ed7953"
            ],
            [
             0.7777777777777778,
             "#fb9f3a"
            ],
            [
             0.8888888888888888,
             "#fdca26"
            ],
            [
             1,
             "#f0f921"
            ]
           ]
          },
          "colorway": [
           "#636efa",
           "#EF553B",
           "#00cc96",
           "#ab63fa",
           "#FFA15A",
           "#19d3f3",
           "#FF6692",
           "#B6E880",
           "#FF97FF",
           "#FECB52"
          ],
          "font": {
           "color": "#2a3f5f"
          },
          "geo": {
           "bgcolor": "white",
           "lakecolor": "white",
           "landcolor": "#E5ECF6",
           "showlakes": true,
           "showland": true,
           "subunitcolor": "white"
          },
          "hoverlabel": {
           "align": "left"
          },
          "hovermode": "closest",
          "mapbox": {
           "style": "light"
          },
          "paper_bgcolor": "white",
          "plot_bgcolor": "#E5ECF6",
          "polar": {
           "angularaxis": {
            "gridcolor": "white",
            "linecolor": "white",
            "ticks": ""
           },
           "bgcolor": "#E5ECF6",
           "radialaxis": {
            "gridcolor": "white",
            "linecolor": "white",
            "ticks": ""
           }
          },
          "scene": {
           "xaxis": {
            "backgroundcolor": "#E5ECF6",
            "gridcolor": "white",
            "gridwidth": 2,
            "linecolor": "white",
            "showbackground": true,
            "ticks": "",
            "zerolinecolor": "white"
           },
           "yaxis": {
            "backgroundcolor": "#E5ECF6",
            "gridcolor": "white",
            "gridwidth": 2,
            "linecolor": "white",
            "showbackground": true,
            "ticks": "",
            "zerolinecolor": "white"
           },
           "zaxis": {
            "backgroundcolor": "#E5ECF6",
            "gridcolor": "white",
            "gridwidth": 2,
            "linecolor": "white",
            "showbackground": true,
            "ticks": "",
            "zerolinecolor": "white"
           }
          },
          "shapedefaults": {
           "line": {
            "color": "#2a3f5f"
           }
          },
          "ternary": {
           "aaxis": {
            "gridcolor": "white",
            "linecolor": "white",
            "ticks": ""
           },
           "baxis": {
            "gridcolor": "white",
            "linecolor": "white",
            "ticks": ""
           },
           "bgcolor": "#E5ECF6",
           "caxis": {
            "gridcolor": "white",
            "linecolor": "white",
            "ticks": ""
           }
          },
          "title": {
           "x": 0.05
          },
          "xaxis": {
           "automargin": true,
           "gridcolor": "white",
           "linecolor": "white",
           "ticks": "",
           "title": {
            "standoff": 15
           },
           "zerolinecolor": "white",
           "zerolinewidth": 2
          },
          "yaxis": {
           "automargin": true,
           "gridcolor": "white",
           "linecolor": "white",
           "ticks": "",
           "title": {
            "standoff": 15
           },
           "zerolinecolor": "white",
           "zerolinewidth": 2
          }
         }
        },
        "title": {
         "text": "Percent Difference Between Prediction and Actual"
        },
        "xaxis": {
         "anchor": "y",
         "domain": [
          0,
          1
         ],
         "title": {
          "text": "Percent Difference"
         }
        },
        "yaxis": {
         "anchor": "x",
         "domain": [
          0,
          1
         ],
         "title": {
          "text": "count"
         }
        }
       }
      }
     },
     "metadata": {},
     "output_type": "display_data"
    }
   ],
   "source": [
    "# use plotly express to create a histogram of the percent difference\n",
    "fig = px.histogram(results_df, x=\"Percent Difference\", title=\"Percent Difference Between Prediction and Actual\")\n",
    "fig.show()"
   ]
  },
  {
   "cell_type": "code",
   "execution_count": 42,
   "metadata": {},
   "outputs": [],
   "source": [
    "# save the plot as a png file\n",
    "scope = PlotlyScope()\n",
    "with open(\"images/percent_difference_custom_6_month_prediction.png\", \"wb\") as f:\n",
    "    f.write(scope.transform(fig, format=\"png\"))\n",
    "    "
   ]
  },
  {
   "cell_type": "code",
   "execution_count": 43,
   "metadata": {},
   "outputs": [
    {
     "name": "stdout",
     "output_type": "stream",
     "text": [
      "Mean Absolute Error: -0.05141336448599067\n"
     ]
    }
   ],
   "source": [
    "# calculate the mean absolute error (MAE)\n",
    "mae = results_df[\"Difference\"].mean()\n",
    "print(f\"Mean Absolute Error: {mae}\")\n"
   ]
  },
  {
   "cell_type": "code",
   "execution_count": 44,
   "metadata": {},
   "outputs": [
    {
     "name": "stdout",
     "output_type": "stream",
     "text": [
      "Mean Squared Error: 4.673054641041286\n"
     ]
    }
   ],
   "source": [
    "# calculate the mean squared error (MSE)\n",
    "mse = results_df[\"Difference\"].apply(lambda x: x**2).mean()\n",
    "print(f\"Mean Squared Error: {mse}\")\n"
   ]
  },
  {
   "cell_type": "code",
   "execution_count": 45,
   "metadata": {},
   "outputs": [
    {
     "name": "stdout",
     "output_type": "stream",
     "text": [
      "Root Mean Squared Error: 2.1617249226118678\n"
     ]
    }
   ],
   "source": [
    "# calculate the root mean squared error (RMSE)\n",
    "rmse = mse**(0.5)\n",
    "print(f\"Root Mean Squared Error: {rmse}\")\n"
   ]
  },
  {
   "cell_type": "code",
   "execution_count": 46,
   "metadata": {},
   "outputs": [
    {
     "name": "stdout",
     "output_type": "stream",
     "text": [
      "Mean Absolute Percent Error: 0.8371372724439929\n"
     ]
    }
   ],
   "source": [
    "# calculate the mean absolute percent error (MAPE)\n",
    "mape = results_df[\"Percent Difference\"].abs().mean()\n",
    "print(f\"Mean Absolute Percent Error: {mape}\")\n"
   ]
  },
  {
   "cell_type": "code",
   "execution_count": 47,
   "metadata": {},
   "outputs": [
    {
     "data": {
      "text/plain": [
       "0.9987705921246347"
      ]
     },
     "execution_count": 47,
     "metadata": {},
     "output_type": "execute_result"
    }
   ],
   "source": [
    "# score the model\n",
    "rf_model.score(X_test_scaled, y_test)"
   ]
  },
  {
   "attachments": {},
   "cell_type": "markdown",
   "metadata": {},
   "source": [
    "# Feature importance"
   ]
  },
  {
   "cell_type": "code",
   "execution_count": 48,
   "metadata": {},
   "outputs": [
    {
     "name": "stdout",
     "output_type": "stream",
     "text": [
      "Price Index: (0.5016728865490669)\n",
      "Monthly Supply: (0.0009809242477444994)\n",
      "Permits: (0.0022078339172556124)\n",
      "Sentiment Index: (0.0017186685482574906)\n",
      "Construction: (0.007025747525447745)\n",
      "Housing Starts: (0.00048807669843223224)\n",
      "Lumber Price Index: (0.031579013534647135)\n",
      "Pair Count: (0.00021287441125967147)\n",
      "Mortgage Rate: (0.0008413868635482385)\n",
      "Units Completed: (0.0001772395309994862)\n",
      "Sales Price: (0.10581216131572718)\n",
      "Oil Price: (0.003469678458301187)\n",
      "CPI: (0.28511781120680246)\n",
      "Fed Funds Rate: (0.0011362156192426236)\n",
      "NASDAQ: (0.05693458700373217)\n",
      "NFCI: (0.0006248945695351784)\n"
     ]
    }
   ],
   "source": [
    "# get the feature importance array\n",
    "importances = rf_model.feature_importances_\n",
    "# list of features\n",
    "feature_list = list(X.columns)\n",
    "# sort the features by their importance\n",
    "sorted(zip(rf_model.feature_importances_, feature_list), reverse=True)\n",
    "# print the feature importance\n",
    "for feature in zip(feature_list, rf_model.feature_importances_):\n",
    "    print(f\"{feature[0]}: ({feature[1]})\")\n",
    "    "
   ]
  },
  {
   "cell_type": "code",
   "execution_count": 49,
   "metadata": {},
   "outputs": [
    {
     "data": {
      "image/png": "[encoded data removed]",
      "text/plain": [
       "<Figure size 432x288 with 1 Axes>"
      ]
     },
     "metadata": {
      "needs_background": "light"
     },
     "output_type": "display_data"
    }
   ],
   "source": [
    "# add the feature importance to a dataframe\n",
    "feature_importance_df = pd.DataFrame({\"feature\": feature_list, \"importance\": importances})\n",
    "# sort the dataframe by the importance\n",
    "feature_importance_df = feature_importance_df.sort_values(\"importance\", ascending=False)\n",
    "# set the index to be the feature\n",
    "feature_importance_df = feature_importance_df.set_index(\"feature\", drop=True)\n",
    "# plot the feature importance\n",
    "feature_importance_df.plot(kind=\"bar\")\n",
    "plt.show()"
   ]
  },
  {
   "cell_type": "code",
   "execution_count": 50,
   "metadata": {},
   "outputs": [
    {
     "data": {
      "application/vnd.plotly.v1+json": {
       "config": {
        "plotlyServerURL": "https://plot.ly"
       },
       "data": [
        {
         "alignmentgroup": "True",
         "hovertemplate": "feature=%{x}<br>importance=%{marker.color}<extra></extra>",
         "legendgroup": "",
         "marker": {
          "color": [
           0.5016728865490669,
           0.28511781120680246,
           0.10581216131572718,
           0.05693458700373217,
           0.031579013534647135,
           0.007025747525447745,
           0.003469678458301187,
           0.0022078339172556124,
           0.0017186685482574906,
           0.0011362156192426236,
           0.0009809242477444994,
           0.0008413868635482385,
           0.0006248945695351784,
           0.00048807669843223224,
           0.00021287441125967147,
           0.0001772395309994862
          ],
          "coloraxis": "coloraxis",
          "pattern": {
           "shape": ""
          }
         },
         "name": "",
         "offsetgroup": "",
         "orientation": "v",
         "showlegend": false,
         "textposition": "auto",
         "type": "bar",
         "x": [
          "Price Index",
          "CPI",
          "Sales Price",
          "NASDAQ",
          "Lumber Price Index",
          "Construction",
          "Oil Price",
          "Permits",
          "Sentiment Index",
          "Fed Funds Rate",
          "Monthly Supply",
          "Mortgage Rate",
          "NFCI",
          "Housing Starts",
          "Pair Count",
          "Units Completed"
         ],
         "xaxis": "x",
         "y": [
          0.5016728865490669,
          0.28511781120680246,
          0.10581216131572718,
          0.05693458700373217,
          0.031579013534647135,
          0.007025747525447745,
          0.003469678458301187,
          0.0022078339172556124,
          0.0017186685482574906,
          0.0011362156192426236,
          0.0009809242477444994,
          0.0008413868635482385,
          0.0006248945695351784,
          0.00048807669843223224,
          0.00021287441125967147,
          0.0001772395309994862
         ],
         "yaxis": "y"
        }
       ],
       "layout": {
        "barmode": "relative",
        "coloraxis": {
         "colorbar": {
          "title": {
           "text": "importance"
          }
         },
         "colorscale": [
          [
           0,
           "#fee838"
          ],
          [
           0.1111111111111111,
           "#e1cc55"
          ],
          [
           0.2222222222222222,
           "#c3b369"
          ],
          [
           0.3333333333333333,
           "#a59c74"
          ],
          [
           0.4444444444444444,
           "#8a8678"
          ],
          [
           0.5555555555555556,
           "#707173"
          ],
          [
           0.6666666666666666,
           "#575d6d"
          ],
          [
           0.7777777777777778,
           "#3b496c"
          ],
          [
           0.8888888888888888,
           "#123570"
          ],
          [
           1,
           "#00224e"
          ]
         ]
        },
        "legend": {
         "tracegroupgap": 0
        },
        "template": {
         "data": {
          "bar": [
           {
            "error_x": {
             "color": "#2a3f5f"
            },
            "error_y": {
             "color": "#2a3f5f"
            },
            "marker": {
             "line": {
              "color": "#E5ECF6",
              "width": 0.5
             },
             "pattern": {
              "fillmode": "overlay",
              "size": 10,
              "solidity": 0.2
             }
            },
            "type": "bar"
           }
          ],
          "barpolar": [
           {
            "marker": {
             "line": {
              "color": "#E5ECF6",
              "width": 0.5
             },
             "pattern": {
              "fillmode": "overlay",
              "size": 10,
              "solidity": 0.2
             }
            },
            "type": "barpolar"
           }
          ],
          "carpet": [
           {
            "aaxis": {
             "endlinecolor": "#2a3f5f",
             "gridcolor": "white",
             "linecolor": "white",
             "minorgridcolor": "white",
             "startlinecolor": "#2a3f5f"
            },
            "baxis": {
             "endlinecolor": "#2a3f5f",
             "gridcolor": "white",
             "linecolor": "white",
             "minorgridcolor": "white",
             "startlinecolor": "#2a3f5f"
            },
            "type": "carpet"
           }
          ],
          "choropleth": [
           {
            "colorbar": {
             "outlinewidth": 0,
             "ticks": ""
            },
            "type": "choropleth"
           }
          ],
          "contour": [
           {
            "colorbar": {
             "outlinewidth": 0,
             "ticks": ""
            },
            "colorscale": [
             [
              0,
              "#0d0887"
             ],
             [
              0.1111111111111111,
              "#46039f"
             ],
             [
              0.2222222222222222,
              "#7201a8"
             ],
             [
              0.3333333333333333,
              "#9c179e"
             ],
             [
              0.4444444444444444,
              "#bd3786"
             ],
             [
              0.5555555555555556,
              "#d8576b"
             ],
             [
              0.6666666666666666,
              "#ed7953"
             ],
             [
              0.7777777777777778,
              "#fb9f3a"
             ],
             [
              0.8888888888888888,
              "#fdca26"
             ],
             [
              1,
              "#f0f921"
             ]
            ],
            "type": "contour"
           }
          ],
          "contourcarpet": [
           {
            "colorbar": {
             "outlinewidth": 0,
             "ticks": ""
            },
            "type": "contourcarpet"
           }
          ],
          "heatmap": [
           {
            "colorbar": {
             "outlinewidth": 0,
             "ticks": ""
            },
            "colorscale": [
             [
              0,
              "#0d0887"
             ],
             [
              0.1111111111111111,
              "#46039f"
             ],
             [
              0.2222222222222222,
              "#7201a8"
             ],
             [
              0.3333333333333333,
              "#9c179e"
             ],
             [
              0.4444444444444444,
              "#bd3786"
             ],
             [
              0.5555555555555556,
              "#d8576b"
             ],
             [
              0.6666666666666666,
              "#ed7953"
             ],
             [
              0.7777777777777778,
              "#fb9f3a"
             ],
             [
              0.8888888888888888,
              "#fdca26"
             ],
             [
              1,
              "#f0f921"
             ]
            ],
            "type": "heatmap"
           }
          ],
          "heatmapgl": [
           {
            "colorbar": {
             "outlinewidth": 0,
             "ticks": ""
            },
            "colorscale": [
             [
              0,
              "#0d0887"
             ],
             [
              0.1111111111111111,
              "#46039f"
             ],
             [
              0.2222222222222222,
              "#7201a8"
             ],
             [
              0.3333333333333333,
              "#9c179e"
             ],
             [
              0.4444444444444444,
              "#bd3786"
             ],
             [
              0.5555555555555556,
              "#d8576b"
             ],
             [
              0.6666666666666666,
              "#ed7953"
             ],
             [
              0.7777777777777778,
              "#fb9f3a"
             ],
             [
              0.8888888888888888,
              "#fdca26"
             ],
             [
              1,
              "#f0f921"
             ]
            ],
            "type": "heatmapgl"
           }
          ],
          "histogram": [
           {
            "marker": {
             "pattern": {
              "fillmode": "overlay",
              "size": 10,
              "solidity": 0.2
             }
            },
            "type": "histogram"
           }
          ],
          "histogram2d": [
           {
            "colorbar": {
             "outlinewidth": 0,
             "ticks": ""
            },
            "colorscale": [
             [
              0,
              "#0d0887"
             ],
             [
              0.1111111111111111,
              "#46039f"
             ],
             [
              0.2222222222222222,
              "#7201a8"
             ],
             [
              0.3333333333333333,
              "#9c179e"
             ],
             [
              0.4444444444444444,
              "#bd3786"
             ],
             [
              0.5555555555555556,
              "#d8576b"
             ],
             [
              0.6666666666666666,
              "#ed7953"
             ],
             [
              0.7777777777777778,
              "#fb9f3a"
             ],
             [
              0.8888888888888888,
              "#fdca26"
             ],
             [
              1,
              "#f0f921"
             ]
            ],
            "type": "histogram2d"
           }
          ],
          "histogram2dcontour": [
           {
            "colorbar": {
             "outlinewidth": 0,
             "ticks": ""
            },
            "colorscale": [
             [
              0,
              "#0d0887"
             ],
             [
              0.1111111111111111,
              "#46039f"
             ],
             [
              0.2222222222222222,
              "#7201a8"
             ],
             [
              0.3333333333333333,
              "#9c179e"
             ],
             [
              0.4444444444444444,
              "#bd3786"
             ],
             [
              0.5555555555555556,
              "#d8576b"
             ],
             [
              0.6666666666666666,
              "#ed7953"
             ],
             [
              0.7777777777777778,
              "#fb9f3a"
             ],
             [
              0.8888888888888888,
              "#fdca26"
             ],
             [
              1,
              "#f0f921"
             ]
            ],
            "type": "histogram2dcontour"
           }
          ],
          "mesh3d": [
           {
            "colorbar": {
             "outlinewidth": 0,
             "ticks": ""
            },
            "type": "mesh3d"
           }
          ],
          "parcoords": [
           {
            "line": {
             "colorbar": {
              "outlinewidth": 0,
              "ticks": ""
             }
            },
            "type": "parcoords"
           }
          ],
          "pie": [
           {
            "automargin": true,
            "type": "pie"
           }
          ],
          "scatter": [
           {
            "fillpattern": {
             "fillmode": "overlay",
             "size": 10,
             "solidity": 0.2
            },
            "type": "scatter"
           }
          ],
          "scatter3d": [
           {
            "line": {
             "colorbar": {
              "outlinewidth": 0,
              "ticks": ""
             }
            },
            "marker": {
             "colorbar": {
              "outlinewidth": 0,
              "ticks": ""
             }
            },
            "type": "scatter3d"
           }
          ],
          "scattercarpet": [
           {
            "marker": {
             "colorbar": {
              "outlinewidth": 0,
              "ticks": ""
             }
            },
            "type": "scattercarpet"
           }
          ],
          "scattergeo": [
           {
            "marker": {
             "colorbar": {
              "outlinewidth": 0,
              "ticks": ""
             }
            },
            "type": "scattergeo"
           }
          ],
          "scattergl": [
           {
            "marker": {
             "colorbar": {
              "outlinewidth": 0,
              "ticks": ""
             }
            },
            "type": "scattergl"
           }
          ],
          "scattermapbox": [
           {
            "marker": {
             "colorbar": {
              "outlinewidth": 0,
              "ticks": ""
             }
            },
            "type": "scattermapbox"
           }
          ],
          "scatterpolar": [
           {
            "marker": {
             "colorbar": {
              "outlinewidth": 0,
              "ticks": ""
             }
            },
            "type": "scatterpolar"
           }
          ],
          "scatterpolargl": [
           {
            "marker": {
             "colorbar": {
              "outlinewidth": 0,
              "ticks": ""
             }
            },
            "type": "scatterpolargl"
           }
          ],
          "scatterternary": [
           {
            "marker": {
             "colorbar": {
              "outlinewidth": 0,
              "ticks": ""
             }
            },
            "type": "scatterternary"
           }
          ],
          "surface": [
           {
            "colorbar": {
             "outlinewidth": 0,
             "ticks": ""
            },
            "colorscale": [
             [
              0,
              "#0d0887"
             ],
             [
              0.1111111111111111,
              "#46039f"
             ],
             [
              0.2222222222222222,
              "#7201a8"
             ],
             [
              0.3333333333333333,
              "#9c179e"
             ],
             [
              0.4444444444444444,
              "#bd3786"
             ],
             [
              0.5555555555555556,
              "#d8576b"
             ],
             [
              0.6666666666666666,
              "#ed7953"
             ],
             [
              0.7777777777777778,
              "#fb9f3a"
             ],
             [
              0.8888888888888888,
              "#fdca26"
             ],
             [
              1,
              "#f0f921"
             ]
            ],
            "type": "surface"
           }
          ],
          "table": [
           {
            "cells": {
             "fill": {
              "color": "#EBF0F8"
             },
             "line": {
              "color": "white"
             }
            },
            "header": {
             "fill": {
              "color": "#C8D4E3"
             },
             "line": {
              "color": "white"
             }
            },
            "type": "table"
           }
          ]
         },
         "layout": {
          "annotationdefaults": {
           "arrowcolor": "#2a3f5f",
           "arrowhead": 0,
           "arrowwidth": 1
          },
          "autotypenumbers": "strict",
          "coloraxis": {
           "colorbar": {
            "outlinewidth": 0,
            "ticks": ""
           }
          },
          "colorscale": {
           "diverging": [
            [
             0,
             "#8e0152"
            ],
            [
             0.1,
             "#c51b7d"
            ],
            [
             0.2,
             "#de77ae"
            ],
            [
             0.3,
             "#f1b6da"
            ],
            [
             0.4,
             "#fde0ef"
            ],
            [
             0.5,
             "#f7f7f7"
            ],
            [
             0.6,
             "#e6f5d0"
            ],
            [
             0.7,
             "#b8e186"
            ],
            [
             0.8,
             "#7fbc41"
            ],
            [
             0.9,
             "#4d9221"
            ],
            [
             1,
             "#276419"
            ]
           ],
           "sequential": [
            [
             0,
             "#0d0887"
            ],
            [
             0.1111111111111111,
             "#46039f"
            ],
            [
             0.2222222222222222,
             "#7201a8"
            ],
            [
             0.3333333333333333,
             "#9c179e"
            ],
            [
             0.4444444444444444,
             "#bd3786"
            ],
            [
             0.5555555555555556,
             "#d8576b"
            ],
            [
             0.6666666666666666,
             "#ed7953"
            ],
            [
             0.7777777777777778,
             "#fb9f3a"
            ],
            [
             0.8888888888888888,
             "#fdca26"
            ],
            [
             1,
             "#f0f921"
            ]
           ],
           "sequentialminus": [
            [
             0,
             "#0d0887"
            ],
            [
             0.1111111111111111,
             "#46039f"
            ],
            [
             0.2222222222222222,
             "#7201a8"
            ],
            [
             0.3333333333333333,
             "#9c179e"
            ],
            [
             0.4444444444444444,
             "#bd3786"
            ],
            [
             0.5555555555555556,
             "#d8576b"
            ],
            [
             0.6666666666666666,
             "#ed7953"
            ],
            [
             0.7777777777777778,
             "#fb9f3a"
            ],
            [
             0.8888888888888888,
             "#fdca26"
            ],
            [
             1,
             "#f0f921"
            ]
           ]
          },
          "colorway": [
           "#636efa",
           "#EF553B",
           "#00cc96",
           "#ab63fa",
           "#FFA15A",
           "#19d3f3",
           "#FF6692",
           "#B6E880",
           "#FF97FF",
           "#FECB52"
          ],
          "font": {
           "color": "#2a3f5f"
          },
          "geo": {
           "bgcolor": "white",
           "lakecolor": "white",
           "landcolor": "#E5ECF6",
           "showlakes": true,
           "showland": true,
           "subunitcolor": "white"
          },
          "hoverlabel": {
           "align": "left"
          },
          "hovermode": "closest",
          "mapbox": {
           "style": "light"
          },
          "paper_bgcolor": "white",
          "plot_bgcolor": "#E5ECF6",
          "polar": {
           "angularaxis": {
            "gridcolor": "white",
            "linecolor": "white",
            "ticks": ""
           },
           "bgcolor": "#E5ECF6",
           "radialaxis": {
            "gridcolor": "white",
            "linecolor": "white",
            "ticks": ""
           }
          },
          "scene": {
           "xaxis": {
            "backgroundcolor": "#E5ECF6",
            "gridcolor": "white",
            "gridwidth": 2,
            "linecolor": "white",
            "showbackground": true,
            "ticks": "",
            "zerolinecolor": "white"
           },
           "yaxis": {
            "backgroundcolor": "#E5ECF6",
            "gridcolor": "white",
            "gridwidth": 2,
            "linecolor": "white",
            "showbackground": true,
            "ticks": "",
            "zerolinecolor": "white"
           },
           "zaxis": {
            "backgroundcolor": "#E5ECF6",
            "gridcolor": "white",
            "gridwidth": 2,
            "linecolor": "white",
            "showbackground": true,
            "ticks": "",
            "zerolinecolor": "white"
           }
          },
          "shapedefaults": {
           "line": {
            "color": "#2a3f5f"
           }
          },
          "ternary": {
           "aaxis": {
            "gridcolor": "white",
            "linecolor": "white",
            "ticks": ""
           },
           "baxis": {
            "gridcolor": "white",
            "linecolor": "white",
            "ticks": ""
           },
           "bgcolor": "#E5ECF6",
           "caxis": {
            "gridcolor": "white",
            "linecolor": "white",
            "ticks": ""
           }
          },
          "title": {
           "x": 0.05
          },
          "xaxis": {
           "automargin": true,
           "gridcolor": "white",
           "linecolor": "white",
           "ticks": "",
           "title": {
            "standoff": 15
           },
           "zerolinecolor": "white",
           "zerolinewidth": 2
          },
          "yaxis": {
           "automargin": true,
           "gridcolor": "white",
           "linecolor": "white",
           "ticks": "",
           "title": {
            "standoff": 15
           },
           "zerolinecolor": "white",
           "zerolinewidth": 2
          }
         }
        },
        "title": {
         "text": "Feature Importance"
        },
        "xaxis": {
         "anchor": "y",
         "domain": [
          0,
          1
         ],
         "title": {
          "text": "feature"
         }
        },
        "yaxis": {
         "anchor": "x",
         "domain": [
          0,
          1
         ],
         "title": {
          "text": "importance"
         }
        }
       }
      }
     },
     "metadata": {},
     "output_type": "display_data"
    }
   ],
   "source": [
    "# use plotly to create a bar chart of the feature importance\n",
    "fig = px.bar(feature_importance_df, x=feature_importance_df.index, y=\"importance\", title=\"Feature Importance\", color=\"importance\", color_continuous_scale=px.colors.sequential.Cividis_r)\n",
    "# save the plot as a png file\n",
    "fig.write_image(\"images/feature_importance_custom_6_month_prediction.png\")\n",
    "# show the plot\n",
    "fig.show()"
   ]
  },
  {
   "cell_type": "code",
   "execution_count": 51,
   "metadata": {},
   "outputs": [],
   "source": [
    "# define a function to output images of tables\n",
    "def save_df_as_image(df, filename):\n",
    "    source = ColumnDataSource(df)\n",
    "    columns = [TableColumn(field=Ci, title=Ci) for Ci in df.columns]  # bokeh columns\n",
    "    # add index column\n",
    "    columns.insert(0, TableColumn(field=\"index\", title=\"index\"))\n",
    "    # use df index as index column\n",
    "    source.add(df.index, \"index\")\n",
    "    data_table = DataTable(columns=columns, source=source, width=800, height=280)\n",
    "    export_png(data_table, filename=filename)"
   ]
  },
  {
   "cell_type": "code",
   "execution_count": 52,
   "metadata": {},
   "outputs": [],
   "source": [
    "# save a table of the feature importance\n",
    "save_df_as_image(feature_importance_df, \"images/feature_importance_custom_6_month_prediction_table.png\")"
   ]
  }
 ],
 "metadata": {
  "kernelspec": {
   "display_name": "PythonData",
   "language": "python",
   "name": "python3"
  },
  "language_info": {
   "codemirror_mode": {
    "name": "ipython",
    "version": 3
   },
   "file_extension": ".py",
   "mimetype": "text/x-python",
   "name": "python",
   "nbconvert_exporter": "python",
   "pygments_lexer": "ipython3",
   "version": "3.7.7"
  },
  "orig_nbformat": 4
 },
 "nbformat": 4,
 "nbformat_minor": 2
}
