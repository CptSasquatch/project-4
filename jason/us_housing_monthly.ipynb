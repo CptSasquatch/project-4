{
 "cells": [
  {
   "attachments": {},
   "cell_type": "markdown",
   "metadata": {},
   "source": [
    "# US Housing Market Analysis"
   ]
  },
  {
   "cell_type": "code",
   "execution_count": 1,
   "metadata": {},
   "outputs": [],
   "source": [
    "#import dependencies\n",
    "import pandas as pd\n",
    "import numpy as np\n",
    "import matplotlib.pyplot as plt\n",
    "import plotly.express as px\n",
    "from kaleido.scopes.plotly import PlotlyScope\n",
    "from bokeh.io import export_png\n",
    "from bokeh.models import ColumnDataSource, DataTable, TableColumn\n",
    "from pathlib import Path\n",
    "from sklearn.ensemble import RandomForestClassifier\n",
    "from sklearn.preprocessing import StandardScaler\n",
    "from sklearn.model_selection import train_test_split\n",
    "from sklearn.metrics import confusion_matrix, accuracy_score, classification_report"
   ]
  },
  {
   "attachments": {},
   "cell_type": "markdown",
   "metadata": {},
   "source": [
    "# Loading and cleaning data\n",
    "We will be using data from [FRED](https://fred.stlouisfed.org/), the Federal Reserve Economic Data. This data was selected based on the previous analysis of the housing market, but some of the data was only available in quarterly or annual intervals. The decision was made to use the monthly data and aggregate it to the quarterly and annual levels in some cases, and to remove the feature in one case. The feature removed was 'Interest Rate' as it was not available at the monthly level and showed little importance in the previous analysis."
   ]
  },
  {
   "cell_type": "code",
   "execution_count": 2,
   "metadata": {},
   "outputs": [
    {
     "data": {
      "text/html": [
       "<div>\n",
       "<style scoped>\n",
       "    .dataframe tbody tr th:only-of-type {\n",
       "        vertical-align: middle;\n",
       "    }\n",
       "\n",
       "    .dataframe tbody tr th {\n",
       "        vertical-align: top;\n",
       "    }\n",
       "\n",
       "    .dataframe thead th {\n",
       "        text-align: right;\n",
       "    }\n",
       "</style>\n",
       "<table border=\"1\" class=\"dataframe\">\n",
       "  <thead>\n",
       "    <tr style=\"text-align: right;\">\n",
       "      <th></th>\n",
       "      <th>Date</th>\n",
       "      <th>Price Index</th>\n",
       "      <th>New Inv</th>\n",
       "      <th>GDP</th>\n",
       "      <th>30-Year Rate Avg</th>\n",
       "      <th>Monthly Supply</th>\n",
       "      <th>Median Price</th>\n",
       "      <th>Permits</th>\n",
       "      <th>Construction Spending</th>\n",
       "      <th>Sentiment Index</th>\n",
       "    </tr>\n",
       "  </thead>\n",
       "  <tbody>\n",
       "    <tr>\n",
       "      <th>0</th>\n",
       "      <td>2002-01-01</td>\n",
       "      <td>116.437</td>\n",
       "      <td>14342</td>\n",
       "      <td>10783.50</td>\n",
       "      <td>6.9975</td>\n",
       "      <td>4.2</td>\n",
       "      <td>188700.0</td>\n",
       "      <td>1665.0</td>\n",
       "      <td>382979</td>\n",
       "      <td>93.0</td>\n",
       "    </tr>\n",
       "    <tr>\n",
       "      <th>1</th>\n",
       "      <td>2002-02-01</td>\n",
       "      <td>116.916</td>\n",
       "      <td>14342</td>\n",
       "      <td>10783.50</td>\n",
       "      <td>6.8925</td>\n",
       "      <td>4.0</td>\n",
       "      <td>188700.0</td>\n",
       "      <td>1787.0</td>\n",
       "      <td>391434</td>\n",
       "      <td>90.7</td>\n",
       "    </tr>\n",
       "    <tr>\n",
       "      <th>2</th>\n",
       "      <td>2002-03-01</td>\n",
       "      <td>117.929</td>\n",
       "      <td>14342</td>\n",
       "      <td>10783.50</td>\n",
       "      <td>7.0140</td>\n",
       "      <td>4.1</td>\n",
       "      <td>188700.0</td>\n",
       "      <td>1691.0</td>\n",
       "      <td>390942</td>\n",
       "      <td>95.7</td>\n",
       "    </tr>\n",
       "    <tr>\n",
       "      <th>3</th>\n",
       "      <td>2002-04-01</td>\n",
       "      <td>119.208</td>\n",
       "      <td>14207</td>\n",
       "      <td>10887.46</td>\n",
       "      <td>6.9850</td>\n",
       "      <td>4.3</td>\n",
       "      <td>187200.0</td>\n",
       "      <td>1669.0</td>\n",
       "      <td>404255</td>\n",
       "      <td>93.0</td>\n",
       "    </tr>\n",
       "    <tr>\n",
       "      <th>4</th>\n",
       "      <td>2002-05-01</td>\n",
       "      <td>120.787</td>\n",
       "      <td>14207</td>\n",
       "      <td>10887.46</td>\n",
       "      <td>6.8060</td>\n",
       "      <td>4.0</td>\n",
       "      <td>187200.0</td>\n",
       "      <td>1716.0</td>\n",
       "      <td>399164</td>\n",
       "      <td>96.9</td>\n",
       "    </tr>\n",
       "  </tbody>\n",
       "</table>\n",
       "</div>"
      ],
      "text/plain": [
       "         Date  Price Index  New Inv       GDP  30-Year Rate Avg  \\\n",
       "0  2002-01-01      116.437    14342  10783.50            6.9975   \n",
       "1  2002-02-01      116.916    14342  10783.50            6.8925   \n",
       "2  2002-03-01      117.929    14342  10783.50            7.0140   \n",
       "3  2002-04-01      119.208    14207  10887.46            6.9850   \n",
       "4  2002-05-01      120.787    14207  10887.46            6.8060   \n",
       "\n",
       "   Monthly Supply  Median Price  Permits  Construction Spending  \\\n",
       "0             4.2      188700.0   1665.0                 382979   \n",
       "1             4.0      188700.0   1787.0                 391434   \n",
       "2             4.1      188700.0   1691.0                 390942   \n",
       "3             4.3      187200.0   1669.0                 404255   \n",
       "4             4.0      187200.0   1716.0                 399164   \n",
       "\n",
       "   Sentiment Index  \n",
       "0             93.0  \n",
       "1             90.7  \n",
       "2             95.7  \n",
       "3             93.0  \n",
       "4             96.9  "
      ]
     },
     "execution_count": 2,
     "metadata": {},
     "output_type": "execute_result"
    }
   ],
   "source": [
    "# Read in data\n",
    "file_path = Path(\"data/housing_data.csv\")\n",
    "df = pd.read_csv(file_path)\n",
    "df.head()"
   ]
  },
  {
   "cell_type": "code",
   "execution_count": 3,
   "metadata": {},
   "outputs": [
    {
     "data": {
      "text/html": [
       "<div>\n",
       "<style scoped>\n",
       "    .dataframe tbody tr th:only-of-type {\n",
       "        vertical-align: middle;\n",
       "    }\n",
       "\n",
       "    .dataframe tbody tr th {\n",
       "        vertical-align: top;\n",
       "    }\n",
       "\n",
       "    .dataframe thead th {\n",
       "        text-align: right;\n",
       "    }\n",
       "</style>\n",
       "<table border=\"1\" class=\"dataframe\">\n",
       "  <thead>\n",
       "    <tr style=\"text-align: right;\">\n",
       "      <th></th>\n",
       "      <th>Date</th>\n",
       "      <th>Price Index</th>\n",
       "      <th>New Inv</th>\n",
       "      <th>GDP</th>\n",
       "      <th>30-Year Rate Avg</th>\n",
       "      <th>Monthly Supply</th>\n",
       "      <th>Median Price</th>\n",
       "      <th>Permits</th>\n",
       "      <th>Construction Spending</th>\n",
       "      <th>Sentiment Index</th>\n",
       "    </tr>\n",
       "  </thead>\n",
       "  <tbody>\n",
       "    <tr>\n",
       "      <th>248</th>\n",
       "      <td>2022-09-01</td>\n",
       "      <td>300.451</td>\n",
       "      <td>15306</td>\n",
       "      <td>25723.941</td>\n",
       "      <td>6.1120</td>\n",
       "      <td>9.7</td>\n",
       "      <td>468000.0</td>\n",
       "      <td>1588.0</td>\n",
       "      <td>889018</td>\n",
       "      <td>58.6</td>\n",
       "    </tr>\n",
       "    <tr>\n",
       "      <th>249</th>\n",
       "      <td>2022-10-01</td>\n",
       "      <td>298.672</td>\n",
       "      <td>14554</td>\n",
       "      <td>26137.992</td>\n",
       "      <td>6.9000</td>\n",
       "      <td>9.7</td>\n",
       "      <td>479500.0</td>\n",
       "      <td>1555.0</td>\n",
       "      <td>874105</td>\n",
       "      <td>59.9</td>\n",
       "    </tr>\n",
       "    <tr>\n",
       "      <th>250</th>\n",
       "      <td>2022-11-01</td>\n",
       "      <td>296.809</td>\n",
       "      <td>14554</td>\n",
       "      <td>26137.992</td>\n",
       "      <td>6.8050</td>\n",
       "      <td>9.4</td>\n",
       "      <td>479500.0</td>\n",
       "      <td>1402.0</td>\n",
       "      <td>869322</td>\n",
       "      <td>56.8</td>\n",
       "    </tr>\n",
       "    <tr>\n",
       "      <th>251</th>\n",
       "      <td>2022-12-01</td>\n",
       "      <td>294.266</td>\n",
       "      <td>14554</td>\n",
       "      <td>26137.992</td>\n",
       "      <td>6.3640</td>\n",
       "      <td>8.5</td>\n",
       "      <td>479500.0</td>\n",
       "      <td>1409.0</td>\n",
       "      <td>868435</td>\n",
       "      <td>59.7</td>\n",
       "    </tr>\n",
       "    <tr>\n",
       "      <th>252</th>\n",
       "      <td>2023-01-01</td>\n",
       "      <td>292.444</td>\n",
       "      <td>15053</td>\n",
       "      <td>26486.287</td>\n",
       "      <td>6.2725</td>\n",
       "      <td>8.1</td>\n",
       "      <td>436800.0</td>\n",
       "      <td>1354.0</td>\n",
       "      <td>851235</td>\n",
       "      <td>64.9</td>\n",
       "    </tr>\n",
       "  </tbody>\n",
       "</table>\n",
       "</div>"
      ],
      "text/plain": [
       "           Date  Price Index  New Inv        GDP  30-Year Rate Avg  \\\n",
       "248  2022-09-01      300.451    15306  25723.941            6.1120   \n",
       "249  2022-10-01      298.672    14554  26137.992            6.9000   \n",
       "250  2022-11-01      296.809    14554  26137.992            6.8050   \n",
       "251  2022-12-01      294.266    14554  26137.992            6.3640   \n",
       "252  2023-01-01      292.444    15053  26486.287            6.2725   \n",
       "\n",
       "     Monthly Supply  Median Price  Permits  Construction Spending  \\\n",
       "248             9.7      468000.0   1588.0                 889018   \n",
       "249             9.7      479500.0   1555.0                 874105   \n",
       "250             9.4      479500.0   1402.0                 869322   \n",
       "251             8.5      479500.0   1409.0                 868435   \n",
       "252             8.1      436800.0   1354.0                 851235   \n",
       "\n",
       "     Sentiment Index  \n",
       "248             58.6  \n",
       "249             59.9  \n",
       "250             56.8  \n",
       "251             59.7  \n",
       "252             64.9  "
      ]
     },
     "execution_count": 3,
     "metadata": {},
     "output_type": "execute_result"
    }
   ],
   "source": [
    "df.tail()"
   ]
  },
  {
   "cell_type": "code",
   "execution_count": 4,
   "metadata": {},
   "outputs": [
    {
     "data": {
      "text/html": [
       "<div>\n",
       "<style scoped>\n",
       "    .dataframe tbody tr th:only-of-type {\n",
       "        vertical-align: middle;\n",
       "    }\n",
       "\n",
       "    .dataframe tbody tr th {\n",
       "        vertical-align: top;\n",
       "    }\n",
       "\n",
       "    .dataframe thead th {\n",
       "        text-align: right;\n",
       "    }\n",
       "</style>\n",
       "<table border=\"1\" class=\"dataframe\">\n",
       "  <thead>\n",
       "    <tr style=\"text-align: right;\">\n",
       "      <th></th>\n",
       "      <th>Date</th>\n",
       "      <th>Price Index</th>\n",
       "      <th>New Inv</th>\n",
       "      <th>GDP</th>\n",
       "      <th>30-Year Rate Avg</th>\n",
       "      <th>Monthly Supply</th>\n",
       "      <th>Median Price</th>\n",
       "      <th>Permits</th>\n",
       "      <th>Construction Spending</th>\n",
       "      <th>Sentiment Index</th>\n",
       "      <th>Price Change</th>\n",
       "    </tr>\n",
       "  </thead>\n",
       "  <tbody>\n",
       "    <tr>\n",
       "      <th>243</th>\n",
       "      <td>2022-04-01</td>\n",
       "      <td>301.789</td>\n",
       "      <td>15286</td>\n",
       "      <td>25248.476</td>\n",
       "      <td>4.9825</td>\n",
       "      <td>8.5</td>\n",
       "      <td>449300.0</td>\n",
       "      <td>1795.0</td>\n",
       "      <td>940598</td>\n",
       "      <td>65.2</td>\n",
       "      <td>1</td>\n",
       "    </tr>\n",
       "    <tr>\n",
       "      <th>244</th>\n",
       "      <td>2022-05-01</td>\n",
       "      <td>306.569</td>\n",
       "      <td>15286</td>\n",
       "      <td>25248.476</td>\n",
       "      <td>5.2300</td>\n",
       "      <td>8.3</td>\n",
       "      <td>449300.0</td>\n",
       "      <td>1708.0</td>\n",
       "      <td>954475</td>\n",
       "      <td>58.4</td>\n",
       "      <td>1</td>\n",
       "    </tr>\n",
       "    <tr>\n",
       "      <th>245</th>\n",
       "      <td>2022-06-01</td>\n",
       "      <td>308.334</td>\n",
       "      <td>15286</td>\n",
       "      <td>25248.476</td>\n",
       "      <td>5.5220</td>\n",
       "      <td>9.5</td>\n",
       "      <td>449300.0</td>\n",
       "      <td>1701.0</td>\n",
       "      <td>946828</td>\n",
       "      <td>50.0</td>\n",
       "      <td>1</td>\n",
       "    </tr>\n",
       "    <tr>\n",
       "      <th>246</th>\n",
       "      <td>2022-07-01</td>\n",
       "      <td>307.135</td>\n",
       "      <td>15306</td>\n",
       "      <td>25723.941</td>\n",
       "      <td>5.4125</td>\n",
       "      <td>10.1</td>\n",
       "      <td>468000.0</td>\n",
       "      <td>1658.0</td>\n",
       "      <td>936964</td>\n",
       "      <td>51.5</td>\n",
       "      <td>0</td>\n",
       "    </tr>\n",
       "    <tr>\n",
       "      <th>247</th>\n",
       "      <td>2022-08-01</td>\n",
       "      <td>303.649</td>\n",
       "      <td>15306</td>\n",
       "      <td>25723.941</td>\n",
       "      <td>5.2225</td>\n",
       "      <td>8.7</td>\n",
       "      <td>468000.0</td>\n",
       "      <td>1586.0</td>\n",
       "      <td>905056</td>\n",
       "      <td>58.2</td>\n",
       "      <td>0</td>\n",
       "    </tr>\n",
       "    <tr>\n",
       "      <th>248</th>\n",
       "      <td>2022-09-01</td>\n",
       "      <td>300.451</td>\n",
       "      <td>15306</td>\n",
       "      <td>25723.941</td>\n",
       "      <td>6.1120</td>\n",
       "      <td>9.7</td>\n",
       "      <td>468000.0</td>\n",
       "      <td>1588.0</td>\n",
       "      <td>889018</td>\n",
       "      <td>58.6</td>\n",
       "      <td>0</td>\n",
       "    </tr>\n",
       "    <tr>\n",
       "      <th>249</th>\n",
       "      <td>2022-10-01</td>\n",
       "      <td>298.672</td>\n",
       "      <td>14554</td>\n",
       "      <td>26137.992</td>\n",
       "      <td>6.9000</td>\n",
       "      <td>9.7</td>\n",
       "      <td>479500.0</td>\n",
       "      <td>1555.0</td>\n",
       "      <td>874105</td>\n",
       "      <td>59.9</td>\n",
       "      <td>0</td>\n",
       "    </tr>\n",
       "    <tr>\n",
       "      <th>250</th>\n",
       "      <td>2022-11-01</td>\n",
       "      <td>296.809</td>\n",
       "      <td>14554</td>\n",
       "      <td>26137.992</td>\n",
       "      <td>6.8050</td>\n",
       "      <td>9.4</td>\n",
       "      <td>479500.0</td>\n",
       "      <td>1402.0</td>\n",
       "      <td>869322</td>\n",
       "      <td>56.8</td>\n",
       "      <td>0</td>\n",
       "    </tr>\n",
       "    <tr>\n",
       "      <th>251</th>\n",
       "      <td>2022-12-01</td>\n",
       "      <td>294.266</td>\n",
       "      <td>14554</td>\n",
       "      <td>26137.992</td>\n",
       "      <td>6.3640</td>\n",
       "      <td>8.5</td>\n",
       "      <td>479500.0</td>\n",
       "      <td>1409.0</td>\n",
       "      <td>868435</td>\n",
       "      <td>59.7</td>\n",
       "      <td>0</td>\n",
       "    </tr>\n",
       "    <tr>\n",
       "      <th>252</th>\n",
       "      <td>2023-01-01</td>\n",
       "      <td>292.444</td>\n",
       "      <td>15053</td>\n",
       "      <td>26486.287</td>\n",
       "      <td>6.2725</td>\n",
       "      <td>8.1</td>\n",
       "      <td>436800.0</td>\n",
       "      <td>1354.0</td>\n",
       "      <td>851235</td>\n",
       "      <td>64.9</td>\n",
       "      <td>0</td>\n",
       "    </tr>\n",
       "  </tbody>\n",
       "</table>\n",
       "</div>"
      ],
      "text/plain": [
       "           Date  Price Index  New Inv        GDP  30-Year Rate Avg  \\\n",
       "243  2022-04-01      301.789    15286  25248.476            4.9825   \n",
       "244  2022-05-01      306.569    15286  25248.476            5.2300   \n",
       "245  2022-06-01      308.334    15286  25248.476            5.5220   \n",
       "246  2022-07-01      307.135    15306  25723.941            5.4125   \n",
       "247  2022-08-01      303.649    15306  25723.941            5.2225   \n",
       "248  2022-09-01      300.451    15306  25723.941            6.1120   \n",
       "249  2022-10-01      298.672    14554  26137.992            6.9000   \n",
       "250  2022-11-01      296.809    14554  26137.992            6.8050   \n",
       "251  2022-12-01      294.266    14554  26137.992            6.3640   \n",
       "252  2023-01-01      292.444    15053  26486.287            6.2725   \n",
       "\n",
       "     Monthly Supply  Median Price  Permits  Construction Spending  \\\n",
       "243             8.5      449300.0   1795.0                 940598   \n",
       "244             8.3      449300.0   1708.0                 954475   \n",
       "245             9.5      449300.0   1701.0                 946828   \n",
       "246            10.1      468000.0   1658.0                 936964   \n",
       "247             8.7      468000.0   1586.0                 905056   \n",
       "248             9.7      468000.0   1588.0                 889018   \n",
       "249             9.7      479500.0   1555.0                 874105   \n",
       "250             9.4      479500.0   1402.0                 869322   \n",
       "251             8.5      479500.0   1409.0                 868435   \n",
       "252             8.1      436800.0   1354.0                 851235   \n",
       "\n",
       "     Sentiment Index  Price Change  \n",
       "243             65.2             1  \n",
       "244             58.4             1  \n",
       "245             50.0             1  \n",
       "246             51.5             0  \n",
       "247             58.2             0  \n",
       "248             58.6             0  \n",
       "249             59.9             0  \n",
       "250             56.8             0  \n",
       "251             59.7             0  \n",
       "252             64.9             0  "
      ]
     },
     "execution_count": 4,
     "metadata": {},
     "output_type": "execute_result"
    }
   ],
   "source": [
    "# create a new column called 'PRICE_CHANGE_UP_DOWN' and set the values to 0 if the value of the 'CSUSHPISA' column is less than the value of the previous row, otherwise set the value to 1\n",
    "df[\"Price Change\"] = np.where(df[\"Price Index\"] < df[\"Price Index\"].shift(1), 0, 1)\n",
    "df.tail(10)"
   ]
  },
  {
   "cell_type": "code",
   "execution_count": 5,
   "metadata": {},
   "outputs": [
    {
     "data": {
      "text/plain": [
       "1    174\n",
       "0     79\n",
       "Name: Price Change, dtype: int64"
      ]
     },
     "execution_count": 5,
     "metadata": {},
     "output_type": "execute_result"
    }
   ],
   "source": [
    "# get the value counts for the PRICE_CHANGE_UP_DOWN column\n",
    "df[\"Price Change\"].value_counts()"
   ]
  },
  {
   "attachments": {},
   "cell_type": "markdown",
   "metadata": {},
   "source": [
    "# Defining the feature and target variables"
   ]
  },
  {
   "cell_type": "code",
   "execution_count": 6,
   "metadata": {},
   "outputs": [
    {
     "data": {
      "text/html": [
       "<div>\n",
       "<style scoped>\n",
       "    .dataframe tbody tr th:only-of-type {\n",
       "        vertical-align: middle;\n",
       "    }\n",
       "\n",
       "    .dataframe tbody tr th {\n",
       "        vertical-align: top;\n",
       "    }\n",
       "\n",
       "    .dataframe thead th {\n",
       "        text-align: right;\n",
       "    }\n",
       "</style>\n",
       "<table border=\"1\" class=\"dataframe\">\n",
       "  <thead>\n",
       "    <tr style=\"text-align: right;\">\n",
       "      <th></th>\n",
       "      <th>New Inv</th>\n",
       "      <th>GDP</th>\n",
       "      <th>30-Year Rate Avg</th>\n",
       "      <th>Monthly Supply</th>\n",
       "      <th>Median Price</th>\n",
       "      <th>Permits</th>\n",
       "      <th>Construction Spending</th>\n",
       "      <th>Sentiment Index</th>\n",
       "    </tr>\n",
       "  </thead>\n",
       "  <tbody>\n",
       "    <tr>\n",
       "      <th>1</th>\n",
       "      <td>14342</td>\n",
       "      <td>10783.50</td>\n",
       "      <td>6.8925</td>\n",
       "      <td>4.0</td>\n",
       "      <td>188700.0</td>\n",
       "      <td>1787.0</td>\n",
       "      <td>391434</td>\n",
       "      <td>90.7</td>\n",
       "    </tr>\n",
       "    <tr>\n",
       "      <th>2</th>\n",
       "      <td>14342</td>\n",
       "      <td>10783.50</td>\n",
       "      <td>7.0140</td>\n",
       "      <td>4.1</td>\n",
       "      <td>188700.0</td>\n",
       "      <td>1691.0</td>\n",
       "      <td>390942</td>\n",
       "      <td>95.7</td>\n",
       "    </tr>\n",
       "    <tr>\n",
       "      <th>3</th>\n",
       "      <td>14207</td>\n",
       "      <td>10887.46</td>\n",
       "      <td>6.9850</td>\n",
       "      <td>4.3</td>\n",
       "      <td>187200.0</td>\n",
       "      <td>1669.0</td>\n",
       "      <td>404255</td>\n",
       "      <td>93.0</td>\n",
       "    </tr>\n",
       "    <tr>\n",
       "      <th>4</th>\n",
       "      <td>14207</td>\n",
       "      <td>10887.46</td>\n",
       "      <td>6.8060</td>\n",
       "      <td>4.0</td>\n",
       "      <td>187200.0</td>\n",
       "      <td>1716.0</td>\n",
       "      <td>399164</td>\n",
       "      <td>96.9</td>\n",
       "    </tr>\n",
       "    <tr>\n",
       "      <th>5</th>\n",
       "      <td>14207</td>\n",
       "      <td>10887.46</td>\n",
       "      <td>6.6500</td>\n",
       "      <td>4.2</td>\n",
       "      <td>187200.0</td>\n",
       "      <td>1758.0</td>\n",
       "      <td>407305</td>\n",
       "      <td>92.4</td>\n",
       "    </tr>\n",
       "  </tbody>\n",
       "</table>\n",
       "</div>"
      ],
      "text/plain": [
       "   New Inv       GDP  30-Year Rate Avg  Monthly Supply  Median Price  Permits  \\\n",
       "1    14342  10783.50            6.8925             4.0      188700.0   1787.0   \n",
       "2    14342  10783.50            7.0140             4.1      188700.0   1691.0   \n",
       "3    14207  10887.46            6.9850             4.3      187200.0   1669.0   \n",
       "4    14207  10887.46            6.8060             4.0      187200.0   1716.0   \n",
       "5    14207  10887.46            6.6500             4.2      187200.0   1758.0   \n",
       "\n",
       "   Construction Spending  Sentiment Index  \n",
       "1                 391434             90.7  \n",
       "2                 390942             95.7  \n",
       "3                 404255             93.0  \n",
       "4                 399164             96.9  \n",
       "5                 407305             92.4  "
      ]
     },
     "execution_count": 6,
     "metadata": {},
     "output_type": "execute_result"
    }
   ],
   "source": [
    "# Define features set\n",
    "X = df.copy()\n",
    "X = X.drop(\"Date\", axis=1)\n",
    "X = X.drop(\"Price Index\", axis=1)\n",
    "X = X.drop(\"Price Change\", axis=1)\n",
    "# drop first row\n",
    "X = X.iloc[1:]\n",
    "X.head()"
   ]
  },
  {
   "cell_type": "code",
   "execution_count": 7,
   "metadata": {},
   "outputs": [
    {
     "name": "stdout",
     "output_type": "stream",
     "text": [
      "(252, 8)\n",
      "New Inv                  0\n",
      "GDP                      0\n",
      "30-Year Rate Avg         0\n",
      "Monthly Supply           0\n",
      "Median Price             0\n",
      "Permits                  0\n",
      "Construction Spending    0\n",
      "Sentiment Index          0\n",
      "dtype: int64\n"
     ]
    }
   ],
   "source": [
    "# checking the shape of X and if there are any null values\n",
    "print(X.shape)\n",
    "print(X.isnull().sum())"
   ]
  },
  {
   "attachments": {},
   "cell_type": "markdown",
   "metadata": {},
   "source": [
    "# Creating the target vector \n",
    "Price Index = S&P/Case-Shiller U.S. National Home Price Index (Index Jan 2000=100, Seasonally Adjusted)"
   ]
  },
  {
   "cell_type": "code",
   "execution_count": 8,
   "metadata": {},
   "outputs": [
    {
     "data": {
      "text/plain": [
       "array([[1],\n",
       "       [1],\n",
       "       [1],\n",
       "       [1],\n",
       "       [1]])"
      ]
     },
     "execution_count": 8,
     "metadata": {},
     "output_type": "execute_result"
    }
   ],
   "source": [
    "# Define target vector 'Price Change' as y\n",
    "y = df[\"Price Change\"].values.reshape(-1, 1)\n",
    "y = y[1:]\n",
    "y[:5]"
   ]
  },
  {
   "attachments": {},
   "cell_type": "markdown",
   "metadata": {},
   "source": [
    "# Splitting the data into training and testing sets"
   ]
  },
  {
   "cell_type": "code",
   "execution_count": 9,
   "metadata": {},
   "outputs": [],
   "source": [
    "# Splitting into Train and Test sets\n",
    "X_train, X_test, y_train, y_test = train_test_split(X, y, random_state=78)\n"
   ]
  },
  {
   "cell_type": "code",
   "execution_count": 10,
   "metadata": {},
   "outputs": [],
   "source": [
    "# Create a StandardScaler instance\n",
    "scaler = StandardScaler()"
   ]
  },
  {
   "cell_type": "code",
   "execution_count": 11,
   "metadata": {},
   "outputs": [],
   "source": [
    "# Fit the StandardScaler\n",
    "X_scaler = scaler.fit(X_train)"
   ]
  },
  {
   "cell_type": "code",
   "execution_count": 12,
   "metadata": {},
   "outputs": [
    {
     "data": {
      "text/plain": [
       "(63, 8)"
      ]
     },
     "execution_count": 12,
     "metadata": {},
     "output_type": "execute_result"
    }
   ],
   "source": [
    "# Scale the data\n",
    "X_train_scaled = X_scaler.transform(X_train)\n",
    "X_test_scaled = X_scaler.transform(X_test)\n",
    "X_test_scaled.shape"
   ]
  },
  {
   "attachments": {},
   "cell_type": "markdown",
   "metadata": {},
   "source": [
    "# Fitting the Random Forest model\n",
    "\n",
    "Having scaled the data, we can now fit the Random Forest model to the training data."
   ]
  },
  {
   "cell_type": "code",
   "execution_count": 13,
   "metadata": {},
   "outputs": [],
   "source": [
    "# create the random forrest classifier instance\n",
    "rf_model = RandomForestClassifier(n_estimators=500, random_state=78)\n",
    "# fit the model\n",
    "rf_model = rf_model.fit(X_train_scaled, y_train.ravel())"
   ]
  },
  {
   "attachments": {},
   "cell_type": "markdown",
   "metadata": {},
   "source": [
    "# Making predictions with the Random Forest model"
   ]
  },
  {
   "cell_type": "code",
   "execution_count": 14,
   "metadata": {},
   "outputs": [
    {
     "data": {
      "text/plain": [
       "array([1, 1, 0, 0, 1, 1, 1, 1, 1, 0, 1, 1, 1, 1, 1, 0, 0, 1, 1, 1, 1, 1,\n",
       "       1, 0, 0, 0, 1, 1, 0, 1, 1, 1, 1, 0, 1, 0, 0, 1, 0, 1, 1, 1, 0, 1,\n",
       "       1, 0, 1, 1, 1, 1, 1, 0, 0, 1, 1, 1, 0, 0, 1, 1, 1, 0, 0])"
      ]
     },
     "execution_count": 14,
     "metadata": {},
     "output_type": "execute_result"
    }
   ],
   "source": [
    "# Making predictions using the testing data\n",
    "predictions = rf_model.predict(X_test_scaled)\n",
    "predictions"
   ]
  },
  {
   "cell_type": "code",
   "execution_count": 15,
   "metadata": {},
   "outputs": [
    {
     "name": "stdout",
     "output_type": "stream",
     "text": [
      "First 10 Predictions:   [1 1 0 0 1 1 1 1 1 0]\n",
      "First 10 Actual labels: [[1], [1], [0], [0], [1], [1], [1], [1], [1], [0]]\n"
     ]
    }
   ],
   "source": [
    "# compare predictions to actual values\n",
    "print(f\"First 10 Predictions:   {predictions[:10]}\")\n",
    "print(f\"First 10 Actual labels: {y_test[:10].tolist()}\")\n"
   ]
  },
  {
   "attachments": {},
   "cell_type": "markdown",
   "metadata": {},
   "source": [
    "# Evaluating the Random Forest model"
   ]
  },
  {
   "cell_type": "code",
   "execution_count": 16,
   "metadata": {},
   "outputs": [
    {
     "data": {
      "text/html": [
       "<div>\n",
       "<style scoped>\n",
       "    .dataframe tbody tr th:only-of-type {\n",
       "        vertical-align: middle;\n",
       "    }\n",
       "\n",
       "    .dataframe tbody tr th {\n",
       "        vertical-align: top;\n",
       "    }\n",
       "\n",
       "    .dataframe thead th {\n",
       "        text-align: right;\n",
       "    }\n",
       "</style>\n",
       "<table border=\"1\" class=\"dataframe\">\n",
       "  <thead>\n",
       "    <tr style=\"text-align: right;\">\n",
       "      <th></th>\n",
       "      <th>Prediction</th>\n",
       "      <th>Actual</th>\n",
       "      <th>Difference</th>\n",
       "      <th>Percent Difference</th>\n",
       "    </tr>\n",
       "  </thead>\n",
       "  <tbody>\n",
       "    <tr>\n",
       "      <th>0</th>\n",
       "      <td>1.0</td>\n",
       "      <td>1.0</td>\n",
       "      <td>0.0</td>\n",
       "      <td>0.0</td>\n",
       "    </tr>\n",
       "    <tr>\n",
       "      <th>1</th>\n",
       "      <td>1.0</td>\n",
       "      <td>1.0</td>\n",
       "      <td>0.0</td>\n",
       "      <td>0.0</td>\n",
       "    </tr>\n",
       "    <tr>\n",
       "      <th>2</th>\n",
       "      <td>0.0</td>\n",
       "      <td>0.0</td>\n",
       "      <td>0.0</td>\n",
       "      <td>NaN</td>\n",
       "    </tr>\n",
       "    <tr>\n",
       "      <th>3</th>\n",
       "      <td>0.0</td>\n",
       "      <td>0.0</td>\n",
       "      <td>0.0</td>\n",
       "      <td>NaN</td>\n",
       "    </tr>\n",
       "    <tr>\n",
       "      <th>4</th>\n",
       "      <td>1.0</td>\n",
       "      <td>1.0</td>\n",
       "      <td>0.0</td>\n",
       "      <td>0.0</td>\n",
       "    </tr>\n",
       "    <tr>\n",
       "      <th>5</th>\n",
       "      <td>1.0</td>\n",
       "      <td>1.0</td>\n",
       "      <td>0.0</td>\n",
       "      <td>0.0</td>\n",
       "    </tr>\n",
       "    <tr>\n",
       "      <th>6</th>\n",
       "      <td>1.0</td>\n",
       "      <td>1.0</td>\n",
       "      <td>0.0</td>\n",
       "      <td>0.0</td>\n",
       "    </tr>\n",
       "    <tr>\n",
       "      <th>7</th>\n",
       "      <td>1.0</td>\n",
       "      <td>1.0</td>\n",
       "      <td>0.0</td>\n",
       "      <td>0.0</td>\n",
       "    </tr>\n",
       "    <tr>\n",
       "      <th>8</th>\n",
       "      <td>1.0</td>\n",
       "      <td>1.0</td>\n",
       "      <td>0.0</td>\n",
       "      <td>0.0</td>\n",
       "    </tr>\n",
       "    <tr>\n",
       "      <th>9</th>\n",
       "      <td>0.0</td>\n",
       "      <td>0.0</td>\n",
       "      <td>0.0</td>\n",
       "      <td>NaN</td>\n",
       "    </tr>\n",
       "  </tbody>\n",
       "</table>\n",
       "</div>"
      ],
      "text/plain": [
       "   Prediction  Actual  Difference  Percent Difference\n",
       "0         1.0     1.0         0.0                 0.0\n",
       "1         1.0     1.0         0.0                 0.0\n",
       "2         0.0     0.0         0.0                 NaN\n",
       "3         0.0     0.0         0.0                 NaN\n",
       "4         1.0     1.0         0.0                 0.0\n",
       "5         1.0     1.0         0.0                 0.0\n",
       "6         1.0     1.0         0.0                 0.0\n",
       "7         1.0     1.0         0.0                 0.0\n",
       "8         1.0     1.0         0.0                 0.0\n",
       "9         0.0     0.0         0.0                 NaN"
      ]
     },
     "execution_count": 16,
     "metadata": {},
     "output_type": "execute_result"
    }
   ],
   "source": [
    "# chart of predictions vs actual\n",
    "results_df = pd.DataFrame({\"Prediction\": predictions, \"Actual\": y_test.ravel()})\n",
    "# change the datatypes to float\n",
    "results_df = results_df.astype(\"float64\")\n",
    "# add a column for the difference between the prediction and actual\n",
    "results_df[\"Difference\"] = results_df[\"Actual\"] - results_df[\"Prediction\"]\n",
    "# add a column for the percent difference between the prediction and actual\n",
    "results_df[\"Percent Difference\"] = results_df[\"Difference\"] / results_df[\"Actual\"] * 100\n",
    "# find the highest percent difference\n",
    "results_df[\"Percent Difference\"].max()\n",
    "results_df.head(10)"
   ]
  },
  {
   "cell_type": "code",
   "execution_count": 17,
   "metadata": {},
   "outputs": [
    {
     "name": "stdout",
     "output_type": "stream",
     "text": [
      "Mean Absolute Error: -0.031746031746031744\n"
     ]
    }
   ],
   "source": [
    "# calculate the mean absolute error (MAE)\n",
    "mae = results_df[\"Difference\"].mean()\n",
    "print(f\"Mean Absolute Error: {mae}\")\n"
   ]
  },
  {
   "cell_type": "code",
   "execution_count": 18,
   "metadata": {},
   "outputs": [
    {
     "name": "stdout",
     "output_type": "stream",
     "text": [
      "Mean Squared Error: 0.031746031746031744\n"
     ]
    }
   ],
   "source": [
    "# calculate the mean squared error (MSE)\n",
    "mse = results_df[\"Difference\"].apply(lambda x: x**2).mean()\n",
    "print(f\"Mean Squared Error: {mse}\")\n"
   ]
  },
  {
   "cell_type": "code",
   "execution_count": 19,
   "metadata": {},
   "outputs": [
    {
     "name": "stdout",
     "output_type": "stream",
     "text": [
      "Root Mean Squared Error: 0.1781741612749496\n"
     ]
    }
   ],
   "source": [
    "# calculate the root mean squared error (RMSE)\n",
    "rmse = mse**(0.5)\n",
    "print(f\"Root Mean Squared Error: {rmse}\")\n"
   ]
  },
  {
   "cell_type": "code",
   "execution_count": 20,
   "metadata": {},
   "outputs": [
    {
     "name": "stdout",
     "output_type": "stream",
     "text": [
      "Mean Absolute Percent Error: inf\n"
     ]
    }
   ],
   "source": [
    "# calculate the mean absolute percent error (MAPE)\n",
    "mape = results_df[\"Percent Difference\"].abs().mean()\n",
    "print(f\"Mean Absolute Percent Error: {mape}\")\n"
   ]
  },
  {
   "cell_type": "code",
   "execution_count": 21,
   "metadata": {},
   "outputs": [
    {
     "name": "stdout",
     "output_type": "stream",
     "text": [
      "Accuracy Score : 0.9682539682539683\n"
     ]
    }
   ],
   "source": [
    "# Evaluating the Random Forest model\n",
    "acc_score = accuracy_score(y_test, predictions)\n",
    "print(f\"Accuracy Score : {acc_score}\")\n"
   ]
  },
  {
   "attachments": {},
   "cell_type": "markdown",
   "metadata": {},
   "source": [
    "# Feature importance"
   ]
  },
  {
   "cell_type": "code",
   "execution_count": 22,
   "metadata": {},
   "outputs": [
    {
     "name": "stdout",
     "output_type": "stream",
     "text": [
      "New Inv: (0.13434131937637064)\n",
      "GDP: (0.09924028635253082)\n",
      "30-Year Rate Avg: (0.10564808177392525)\n",
      "Monthly Supply: (0.23369804672768896)\n",
      "Median Price: (0.08151323102707182)\n",
      "Permits: (0.12920170874636255)\n",
      "Construction Spending: (0.10814472498541453)\n",
      "Sentiment Index: (0.10821260101063536)\n"
     ]
    }
   ],
   "source": [
    "# get the feature importance array\n",
    "importances = rf_model.feature_importances_\n",
    "# list of features\n",
    "feature_list = list(X.columns)\n",
    "# sort the features by their importance\n",
    "sorted(zip(rf_model.feature_importances_, feature_list), reverse=True)\n",
    "# print the feature importance\n",
    "for feature in zip(feature_list, rf_model.feature_importances_):\n",
    "    print(f\"{feature[0]}: ({feature[1]})\")\n",
    "    "
   ]
  },
  {
   "cell_type": "code",
   "execution_count": 23,
   "metadata": {},
   "outputs": [
    {
     "data": {
      "image/png": "[encoded data removed]",
      "text/plain": [
       "<Figure size 432x288 with 1 Axes>"
      ]
     },
     "metadata": {
      "needs_background": "light"
     },
     "output_type": "display_data"
    }
   ],
   "source": [
    "# add the feature importance to a dataframe\n",
    "feature_importance_df = pd.DataFrame({\"feature\": feature_list, \"importance\": importances})\n",
    "# sort the dataframe by the importance\n",
    "feature_importance_df = feature_importance_df.sort_values(\"importance\", ascending=False)\n",
    "# set the index to be the feature\n",
    "feature_importance_df = feature_importance_df.set_index(\"feature\", drop=True)\n",
    "# plot the feature importance\n",
    "feature_importance_df.plot(kind=\"bar\")\n",
    "plt.show()"
   ]
  },
  {
   "cell_type": "code",
   "execution_count": 24,
   "metadata": {},
   "outputs": [
    {
     "data": {
      "application/vnd.plotly.v1+json": {
       "config": {
        "plotlyServerURL": "https://plot.ly"
       },
       "data": [
        {
         "alignmentgroup": "True",
         "hovertemplate": "feature=%{x}<br>importance=%{marker.color}<extra></extra>",
         "legendgroup": "",
         "marker": {
          "color": [
           0.23369804672768896,
           0.13434131937637064,
           0.12920170874636255,
           0.10821260101063536,
           0.10814472498541453,
           0.10564808177392525,
           0.09924028635253082,
           0.08151323102707182
          ],
          "coloraxis": "coloraxis",
          "pattern": {
           "shape": ""
          }
         },
         "name": "",
         "offsetgroup": "",
         "orientation": "v",
         "showlegend": false,
         "textposition": "auto",
         "type": "bar",
         "x": [
          "Monthly Supply",
          "New Inv",
          "Permits",
          "Sentiment Index",
          "Construction Spending",
          "30-Year Rate Avg",
          "GDP",
          "Median Price"
         ],
         "xaxis": "x",
         "y": [
          0.23369804672768896,
          0.13434131937637064,
          0.12920170874636255,
          0.10821260101063536,
          0.10814472498541453,
          0.10564808177392525,
          0.09924028635253082,
          0.08151323102707182
         ],
         "yaxis": "y"
        }
       ],
       "layout": {
        "barmode": "relative",
        "coloraxis": {
         "colorbar": {
          "title": {
           "text": "importance"
          }
         },
         "colorscale": [
          [
           0,
           "#fee838"
          ],
          [
           0.1111111111111111,
           "#e1cc55"
          ],
          [
           0.2222222222222222,
           "#c3b369"
          ],
          [
           0.3333333333333333,
           "#a59c74"
          ],
          [
           0.4444444444444444,
           "#8a8678"
          ],
          [
           0.5555555555555556,
           "#707173"
          ],
          [
           0.6666666666666666,
           "#575d6d"
          ],
          [
           0.7777777777777778,
           "#3b496c"
          ],
          [
           0.8888888888888888,
           "#123570"
          ],
          [
           1,
           "#00224e"
          ]
         ]
        },
        "legend": {
         "tracegroupgap": 0
        },
        "margin": {
         "t": 60
        },
        "template": {
         "data": {
          "bar": [
           {
            "error_x": {
             "color": "#2a3f5f"
            },
            "error_y": {
             "color": "#2a3f5f"
            },
            "marker": {
             "line": {
              "color": "#E5ECF6",
              "width": 0.5
             },
             "pattern": {
              "fillmode": "overlay",
              "size": 10,
              "solidity": 0.2
             }
            },
            "type": "bar"
           }
          ],
          "barpolar": [
           {
            "marker": {
             "line": {
              "color": "#E5ECF6",
              "width": 0.5
             },
             "pattern": {
              "fillmode": "overlay",
              "size": 10,
              "solidity": 0.2
             }
            },
            "type": "barpolar"
           }
          ],
          "carpet": [
           {
            "aaxis": {
             "endlinecolor": "#2a3f5f",
             "gridcolor": "white",
             "linecolor": "white",
             "minorgridcolor": "white",
             "startlinecolor": "#2a3f5f"
            },
            "baxis": {
             "endlinecolor": "#2a3f5f",
             "gridcolor": "white",
             "linecolor": "white",
             "minorgridcolor": "white",
             "startlinecolor": "#2a3f5f"
            },
            "type": "carpet"
           }
          ],
          "choropleth": [
           {
            "colorbar": {
             "outlinewidth": 0,
             "ticks": ""
            },
            "type": "choropleth"
           }
          ],
          "contour": [
           {
            "colorbar": {
             "outlinewidth": 0,
             "ticks": ""
            },
            "colorscale": [
             [
              0,
              "#0d0887"
             ],
             [
              0.1111111111111111,
              "#46039f"
             ],
             [
              0.2222222222222222,
              "#7201a8"
             ],
             [
              0.3333333333333333,
              "#9c179e"
             ],
             [
              0.4444444444444444,
              "#bd3786"
             ],
             [
              0.5555555555555556,
              "#d8576b"
             ],
             [
              0.6666666666666666,
              "#ed7953"
             ],
             [
              0.7777777777777778,
              "#fb9f3a"
             ],
             [
              0.8888888888888888,
              "#fdca26"
             ],
             [
              1,
              "#f0f921"
             ]
            ],
            "type": "contour"
           }
          ],
          "contourcarpet": [
           {
            "colorbar": {
             "outlinewidth": 0,
             "ticks": ""
            },
            "type": "contourcarpet"
           }
          ],
          "heatmap": [
           {
            "colorbar": {
             "outlinewidth": 0,
             "ticks": ""
            },
            "colorscale": [
             [
              0,
              "#0d0887"
             ],
             [
              0.1111111111111111,
              "#46039f"
             ],
             [
              0.2222222222222222,
              "#7201a8"
             ],
             [
              0.3333333333333333,
              "#9c179e"
             ],
             [
              0.4444444444444444,
              "#bd3786"
             ],
             [
              0.5555555555555556,
              "#d8576b"
             ],
             [
              0.6666666666666666,
              "#ed7953"
             ],
             [
              0.7777777777777778,
              "#fb9f3a"
             ],
             [
              0.8888888888888888,
              "#fdca26"
             ],
             [
              1,
              "#f0f921"
             ]
            ],
            "type": "heatmap"
           }
          ],
          "heatmapgl": [
           {
            "colorbar": {
             "outlinewidth": 0,
             "ticks": ""
            },
            "colorscale": [
             [
              0,
              "#0d0887"
             ],
             [
              0.1111111111111111,
              "#46039f"
             ],
             [
              0.2222222222222222,
              "#7201a8"
             ],
             [
              0.3333333333333333,
              "#9c179e"
             ],
             [
              0.4444444444444444,
              "#bd3786"
             ],
             [
              0.5555555555555556,
              "#d8576b"
             ],
             [
              0.6666666666666666,
              "#ed7953"
             ],
             [
              0.7777777777777778,
              "#fb9f3a"
             ],
             [
              0.8888888888888888,
              "#fdca26"
             ],
             [
              1,
              "#f0f921"
             ]
            ],
            "type": "heatmapgl"
           }
          ],
          "histogram": [
           {
            "marker": {
             "pattern": {
              "fillmode": "overlay",
              "size": 10,
              "solidity": 0.2
             }
            },
            "type": "histogram"
           }
          ],
          "histogram2d": [
           {
            "colorbar": {
             "outlinewidth": 0,
             "ticks": ""
            },
            "colorscale": [
             [
              0,
              "#0d0887"
             ],
             [
              0.1111111111111111,
              "#46039f"
             ],
             [
              0.2222222222222222,
              "#7201a8"
             ],
             [
              0.3333333333333333,
              "#9c179e"
             ],
             [
              0.4444444444444444,
              "#bd3786"
             ],
             [
              0.5555555555555556,
              "#d8576b"
             ],
             [
              0.6666666666666666,
              "#ed7953"
             ],
             [
              0.7777777777777778,
              "#fb9f3a"
             ],
             [
              0.8888888888888888,
              "#fdca26"
             ],
             [
              1,
              "#f0f921"
             ]
            ],
            "type": "histogram2d"
           }
          ],
          "histogram2dcontour": [
           {
            "colorbar": {
             "outlinewidth": 0,
             "ticks": ""
            },
            "colorscale": [
             [
              0,
              "#0d0887"
             ],
             [
              0.1111111111111111,
              "#46039f"
             ],
             [
              0.2222222222222222,
              "#7201a8"
             ],
             [
              0.3333333333333333,
              "#9c179e"
             ],
             [
              0.4444444444444444,
              "#bd3786"
             ],
             [
              0.5555555555555556,
              "#d8576b"
             ],
             [
              0.6666666666666666,
              "#ed7953"
             ],
             [
              0.7777777777777778,
              "#fb9f3a"
             ],
             [
              0.8888888888888888,
              "#fdca26"
             ],
             [
              1,
              "#f0f921"
             ]
            ],
            "type": "histogram2dcontour"
           }
          ],
          "mesh3d": [
           {
            "colorbar": {
             "outlinewidth": 0,
             "ticks": ""
            },
            "type": "mesh3d"
           }
          ],
          "parcoords": [
           {
            "line": {
             "colorbar": {
              "outlinewidth": 0,
              "ticks": ""
             }
            },
            "type": "parcoords"
           }
          ],
          "pie": [
           {
            "automargin": true,
            "type": "pie"
           }
          ],
          "scatter": [
           {
            "fillpattern": {
             "fillmode": "overlay",
             "size": 10,
             "solidity": 0.2
            },
            "type": "scatter"
           }
          ],
          "scatter3d": [
           {
            "line": {
             "colorbar": {
              "outlinewidth": 0,
              "ticks": ""
             }
            },
            "marker": {
             "colorbar": {
              "outlinewidth": 0,
              "ticks": ""
             }
            },
            "type": "scatter3d"
           }
          ],
          "scattercarpet": [
           {
            "marker": {
             "colorbar": {
              "outlinewidth": 0,
              "ticks": ""
             }
            },
            "type": "scattercarpet"
           }
          ],
          "scattergeo": [
           {
            "marker": {
             "colorbar": {
              "outlinewidth": 0,
              "ticks": ""
             }
            },
            "type": "scattergeo"
           }
          ],
          "scattergl": [
           {
            "marker": {
             "colorbar": {
              "outlinewidth": 0,
              "ticks": ""
             }
            },
            "type": "scattergl"
           }
          ],
          "scattermapbox": [
           {
            "marker": {
             "colorbar": {
              "outlinewidth": 0,
              "ticks": ""
             }
            },
            "type": "scattermapbox"
           }
          ],
          "scatterpolar": [
           {
            "marker": {
             "colorbar": {
              "outlinewidth": 0,
              "ticks": ""
             }
            },
            "type": "scatterpolar"
           }
          ],
          "scatterpolargl": [
           {
            "marker": {
             "colorbar": {
              "outlinewidth": 0,
              "ticks": ""
             }
            },
            "type": "scatterpolargl"
           }
          ],
          "scatterternary": [
           {
            "marker": {
             "colorbar": {
              "outlinewidth": 0,
              "ticks": ""
             }
            },
            "type": "scatterternary"
           }
          ],
          "surface": [
           {
            "colorbar": {
             "outlinewidth": 0,
             "ticks": ""
            },
            "colorscale": [
             [
              0,
              "#0d0887"
             ],
             [
              0.1111111111111111,
              "#46039f"
             ],
             [
              0.2222222222222222,
              "#7201a8"
             ],
             [
              0.3333333333333333,
              "#9c179e"
             ],
             [
              0.4444444444444444,
              "#bd3786"
             ],
             [
              0.5555555555555556,
              "#d8576b"
             ],
             [
              0.6666666666666666,
              "#ed7953"
             ],
             [
              0.7777777777777778,
              "#fb9f3a"
             ],
             [
              0.8888888888888888,
              "#fdca26"
             ],
             [
              1,
              "#f0f921"
             ]
            ],
            "type": "surface"
           }
          ],
          "table": [
           {
            "cells": {
             "fill": {
              "color": "#EBF0F8"
             },
             "line": {
              "color": "white"
             }
            },
            "header": {
             "fill": {
              "color": "#C8D4E3"
             },
             "line": {
              "color": "white"
             }
            },
            "type": "table"
           }
          ]
         },
         "layout": {
          "annotationdefaults": {
           "arrowcolor": "#2a3f5f",
           "arrowhead": 0,
           "arrowwidth": 1
          },
          "autotypenumbers": "strict",
          "coloraxis": {
           "colorbar": {
            "outlinewidth": 0,
            "ticks": ""
           }
          },
          "colorscale": {
           "diverging": [
            [
             0,
             "#8e0152"
            ],
            [
             0.1,
             "#c51b7d"
            ],
            [
             0.2,
             "#de77ae"
            ],
            [
             0.3,
             "#f1b6da"
            ],
            [
             0.4,
             "#fde0ef"
            ],
            [
             0.5,
             "#f7f7f7"
            ],
            [
             0.6,
             "#e6f5d0"
            ],
            [
             0.7,
             "#b8e186"
            ],
            [
             0.8,
             "#7fbc41"
            ],
            [
             0.9,
             "#4d9221"
            ],
            [
             1,
             "#276419"
            ]
           ],
           "sequential": [
            [
             0,
             "#0d0887"
            ],
            [
             0.1111111111111111,
             "#46039f"
            ],
            [
             0.2222222222222222,
             "#7201a8"
            ],
            [
             0.3333333333333333,
             "#9c179e"
            ],
            [
             0.4444444444444444,
             "#bd3786"
            ],
            [
             0.5555555555555556,
             "#d8576b"
            ],
            [
             0.6666666666666666,
             "#ed7953"
            ],
            [
             0.7777777777777778,
             "#fb9f3a"
            ],
            [
             0.8888888888888888,
             "#fdca26"
            ],
            [
             1,
             "#f0f921"
            ]
           ],
           "sequentialminus": [
            [
             0,
             "#0d0887"
            ],
            [
             0.1111111111111111,
             "#46039f"
            ],
            [
             0.2222222222222222,
             "#7201a8"
            ],
            [
             0.3333333333333333,
             "#9c179e"
            ],
            [
             0.4444444444444444,
             "#bd3786"
            ],
            [
             0.5555555555555556,
             "#d8576b"
            ],
            [
             0.6666666666666666,
             "#ed7953"
            ],
            [
             0.7777777777777778,
             "#fb9f3a"
            ],
            [
             0.8888888888888888,
             "#fdca26"
            ],
            [
             1,
             "#f0f921"
            ]
           ]
          },
          "colorway": [
           "#636efa",
           "#EF553B",
           "#00cc96",
           "#ab63fa",
           "#FFA15A",
           "#19d3f3",
           "#FF6692",
           "#B6E880",
           "#FF97FF",
           "#FECB52"
          ],
          "font": {
           "color": "#2a3f5f"
          },
          "geo": {
           "bgcolor": "white",
           "lakecolor": "white",
           "landcolor": "#E5ECF6",
           "showlakes": true,
           "showland": true,
           "subunitcolor": "white"
          },
          "hoverlabel": {
           "align": "left"
          },
          "hovermode": "closest",
          "mapbox": {
           "style": "light"
          },
          "paper_bgcolor": "white",
          "plot_bgcolor": "#E5ECF6",
          "polar": {
           "angularaxis": {
            "gridcolor": "white",
            "linecolor": "white",
            "ticks": ""
           },
           "bgcolor": "#E5ECF6",
           "radialaxis": {
            "gridcolor": "white",
            "linecolor": "white",
            "ticks": ""
           }
          },
          "scene": {
           "xaxis": {
            "backgroundcolor": "#E5ECF6",
            "gridcolor": "white",
            "gridwidth": 2,
            "linecolor": "white",
            "showbackground": true,
            "ticks": "",
            "zerolinecolor": "white"
           },
           "yaxis": {
            "backgroundcolor": "#E5ECF6",
            "gridcolor": "white",
            "gridwidth": 2,
            "linecolor": "white",
            "showbackground": true,
            "ticks": "",
            "zerolinecolor": "white"
           },
           "zaxis": {
            "backgroundcolor": "#E5ECF6",
            "gridcolor": "white",
            "gridwidth": 2,
            "linecolor": "white",
            "showbackground": true,
            "ticks": "",
            "zerolinecolor": "white"
           }
          },
          "shapedefaults": {
           "line": {
            "color": "#2a3f5f"
           }
          },
          "ternary": {
           "aaxis": {
            "gridcolor": "white",
            "linecolor": "white",
            "ticks": ""
           },
           "baxis": {
            "gridcolor": "white",
            "linecolor": "white",
            "ticks": ""
           },
           "bgcolor": "#E5ECF6",
           "caxis": {
            "gridcolor": "white",
            "linecolor": "white",
            "ticks": ""
           }
          },
          "title": {
           "x": 0.05
          },
          "xaxis": {
           "automargin": true,
           "gridcolor": "white",
           "linecolor": "white",
           "ticks": "",
           "title": {
            "standoff": 15
           },
           "zerolinecolor": "white",
           "zerolinewidth": 2
          },
          "yaxis": {
           "automargin": true,
           "gridcolor": "white",
           "linecolor": "white",
           "ticks": "",
           "title": {
            "standoff": 15
           },
           "zerolinecolor": "white",
           "zerolinewidth": 2
          }
         }
        },
        "title": {
         "text": "Feature Importance"
        },
        "xaxis": {
         "anchor": "y",
         "domain": [
          0,
          1
         ],
         "title": {
          "text": "feature"
         }
        },
        "yaxis": {
         "anchor": "x",
         "domain": [
          0,
          1
         ],
         "title": {
          "text": "importance"
         }
        }
       }
      }
     },
     "metadata": {},
     "output_type": "display_data"
    }
   ],
   "source": [
    "# use plotly to create a bar chart of the feature importance\n",
    "fig = px.bar(feature_importance_df, x=feature_importance_df.index, y=\"importance\", color=\"importance\", color_continuous_scale=px.colors.sequential.Cividis_r)\n",
    "# set the title\n",
    "fig.update_layout(title_text=\"Feature Importance\")\n",
    "# save the graph\n",
    "fig.write_image(\"images/feature_importance_monthly.png\")\n",
    "fig.show()"
   ]
  },
  {
   "cell_type": "code",
   "execution_count": 25,
   "metadata": {},
   "outputs": [
    {
     "data": {
      "text/html": [
       "<div>\n",
       "<style scoped>\n",
       "    .dataframe tbody tr th:only-of-type {\n",
       "        vertical-align: middle;\n",
       "    }\n",
       "\n",
       "    .dataframe tbody tr th {\n",
       "        vertical-align: top;\n",
       "    }\n",
       "\n",
       "    .dataframe thead th {\n",
       "        text-align: right;\n",
       "    }\n",
       "</style>\n",
       "<table border=\"1\" class=\"dataframe\">\n",
       "  <thead>\n",
       "    <tr style=\"text-align: right;\">\n",
       "      <th></th>\n",
       "      <th>Predicted 0</th>\n",
       "      <th>Predicted 1</th>\n",
       "    </tr>\n",
       "  </thead>\n",
       "  <tbody>\n",
       "    <tr>\n",
       "      <th>Actual 0</th>\n",
       "      <td>21</td>\n",
       "      <td>2</td>\n",
       "    </tr>\n",
       "    <tr>\n",
       "      <th>Actual 1</th>\n",
       "      <td>0</td>\n",
       "      <td>40</td>\n",
       "    </tr>\n",
       "  </tbody>\n",
       "</table>\n",
       "</div>"
      ],
      "text/plain": [
       "          Predicted 0  Predicted 1\n",
       "Actual 0           21            2\n",
       "Actual 1            0           40"
      ]
     },
     "metadata": {},
     "output_type": "display_data"
    }
   ],
   "source": [
    "# create a confusion matrix\n",
    "cm = confusion_matrix(y_test, predictions)\n",
    "# create a dataframe from the confusion matrix\n",
    "cm_df = pd.DataFrame(\n",
    "    cm, index=[\"Actual 0\", \"Actual 1\"], columns=[\"Predicted 0\", \"Predicted 1\"]\n",
    ")\n",
    "# display the confusion matrix\n",
    "display(cm_df)"
   ]
  },
  {
   "cell_type": "code",
   "execution_count": 26,
   "metadata": {},
   "outputs": [
    {
     "name": "stdout",
     "output_type": "stream",
     "text": [
      "Classification Report\n",
      "              precision    recall  f1-score   support\n",
      "\n",
      "           0       1.00      0.91      0.95        23\n",
      "           1       0.95      1.00      0.98        40\n",
      "\n",
      "    accuracy                           0.97        63\n",
      "   macro avg       0.98      0.96      0.97        63\n",
      "weighted avg       0.97      0.97      0.97        63\n",
      "\n"
     ]
    }
   ],
   "source": [
    "# print the classification report\n",
    "print(\"Classification Report\")\n",
    "print(classification_report(y_test, predictions))\n"
   ]
  },
  {
   "cell_type": "code",
   "execution_count": 27,
   "metadata": {},
   "outputs": [],
   "source": [
    "# save a table of the feature importance\n",
    "def save_df_as_image(df, filename):\n",
    "    source = ColumnDataSource(df)\n",
    "    columns = [TableColumn(field=Ci, title=Ci) for Ci in df.columns]  # bokeh columns\n",
    "    # add index column\n",
    "    columns.insert(0, TableColumn(field=\"index\", title=\"index\"))\n",
    "    # use df index as index column\n",
    "    source.add(df.index, \"index\")\n",
    "    data_table = DataTable(columns=columns, source=source, width=800, height=280)\n",
    "    export_png(data_table, filename=filename)\n",
    "    \n",
    "save_df_as_image(feature_importance_df, \"images/feature_importance_monthly_table.png\")"
   ]
  },
  {
   "cell_type": "code",
   "execution_count": 28,
   "metadata": {},
   "outputs": [],
   "source": [
    "# save a table of the confusion matrix\n",
    "save_df_as_image(cm_df, \"images/confusion_matrix_monthly_table.png\")"
   ]
  },
  {
   "cell_type": "code",
   "execution_count": 29,
   "metadata": {},
   "outputs": [],
   "source": [
    "# make the classification report into a dataframe\n",
    "report = classification_report(y_test, predictions, output_dict=True)\n",
    "report_df = pd.DataFrame(report).transpose()\n",
    "# save a table of the classification report\n",
    "save_df_as_image(report_df, \"images/classification_report_monthly_table.png\")"
   ]
  }
 ],
 "metadata": {
  "kernelspec": {
   "display_name": "PythonData",
   "language": "python",
   "name": "python3"
  },
  "language_info": {
   "codemirror_mode": {
    "name": "ipython",
    "version": 3
   },
   "file_extension": ".py",
   "mimetype": "text/x-python",
   "name": "python",
   "nbconvert_exporter": "python",
   "pygments_lexer": "ipython3",
   "version": "3.7.7"
  },
  "orig_nbformat": 4
 },
 "nbformat": 4,
 "nbformat_minor": 2
}
