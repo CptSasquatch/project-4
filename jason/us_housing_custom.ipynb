{
 "cells": [
  {
   "attachments": {},
   "cell_type": "markdown",
   "metadata": {},
   "source": [
    "# US Housing Market Analysis"
   ]
  },
  {
   "cell_type": "code",
   "execution_count": 74,
   "metadata": {},
   "outputs": [],
   "source": [
    "#import dependencies\n",
    "import pandas as pd\n",
    "import numpy as np\n",
    "import matplotlib.pyplot as plt\n",
    "import plotly.express as px\n",
    "from kaleido.scopes.plotly import PlotlyScope\n",
    "from bokeh.io import export_png\n",
    "from bokeh.models import ColumnDataSource, DataTable, TableColumn\n",
    "from pathlib import Path\n",
    "from sklearn.ensemble import RandomForestRegressor\n",
    "from sklearn.preprocessing import StandardScaler\n",
    "from sklearn.model_selection import train_test_split\n",
    "from sklearn.metrics import confusion_matrix, accuracy_score, classification_report"
   ]
  },
  {
   "attachments": {},
   "cell_type": "markdown",
   "metadata": {},
   "source": [
    "# Loading and cleaning data\n",
    "We will be using data from [FRED](https://fred.stlouisfed.org/), the Federal Reserve Economic Data, and [AlphaVantage](https://www.alphavantage.co/), a free API for stock market data. The data collected from AlphaVantage is mostly commodity prices, and the data from FRED is mostly economic indicators. "
   ]
  },
  {
   "cell_type": "code",
   "execution_count": 75,
   "metadata": {},
   "outputs": [
    {
     "data": {
      "text/html": [
       "<div>\n",
       "<style scoped>\n",
       "    .dataframe tbody tr th:only-of-type {\n",
       "        vertical-align: middle;\n",
       "    }\n",
       "\n",
       "    .dataframe tbody tr th {\n",
       "        vertical-align: top;\n",
       "    }\n",
       "\n",
       "    .dataframe thead th {\n",
       "        text-align: right;\n",
       "    }\n",
       "</style>\n",
       "<table border=\"1\" class=\"dataframe\">\n",
       "  <thead>\n",
       "    <tr style=\"text-align: right;\">\n",
       "      <th></th>\n",
       "      <th>Date</th>\n",
       "      <th>Price Index</th>\n",
       "      <th>Monthly Supply</th>\n",
       "      <th>Permits</th>\n",
       "      <th>Sentiment Index</th>\n",
       "      <th>Construction</th>\n",
       "      <th>Housing Starts</th>\n",
       "      <th>Lumber Price Index</th>\n",
       "      <th>Pair Count</th>\n",
       "      <th>Mortgage Rate</th>\n",
       "      <th>Units Completed</th>\n",
       "      <th>Sales Price</th>\n",
       "      <th>Oil Price</th>\n",
       "      <th>CPI</th>\n",
       "      <th>Fed Funds Rate</th>\n",
       "      <th>NASDAQ</th>\n",
       "      <th>NFCI</th>\n",
       "    </tr>\n",
       "  </thead>\n",
       "  <tbody>\n",
       "    <tr>\n",
       "      <th>0</th>\n",
       "      <td>1987-01-01</td>\n",
       "      <td>63.734</td>\n",
       "      <td>6.0</td>\n",
       "      <td>1690.0</td>\n",
       "      <td>90.4</td>\n",
       "      <td>1090.0</td>\n",
       "      <td>1774.0</td>\n",
       "      <td>108.1</td>\n",
       "      <td>58585</td>\n",
       "      <td>125.90971</td>\n",
       "      <td>1862.0</td>\n",
       "      <td>97900.0</td>\n",
       "      <td>18.65</td>\n",
       "      <td>111.2</td>\n",
       "      <td>6.43</td>\n",
       "      <td>384.227143</td>\n",
       "      <td>-0.506</td>\n",
       "    </tr>\n",
       "    <tr>\n",
       "      <th>1</th>\n",
       "      <td>1987-02-01</td>\n",
       "      <td>64.134</td>\n",
       "      <td>6.2</td>\n",
       "      <td>1689.0</td>\n",
       "      <td>90.2</td>\n",
       "      <td>1096.0</td>\n",
       "      <td>1784.0</td>\n",
       "      <td>109.4</td>\n",
       "      <td>53102</td>\n",
       "      <td>124.24761</td>\n",
       "      <td>1771.0</td>\n",
       "      <td>97900.0</td>\n",
       "      <td>17.75</td>\n",
       "      <td>111.6</td>\n",
       "      <td>6.10</td>\n",
       "      <td>411.712632</td>\n",
       "      <td>-0.495</td>\n",
       "    </tr>\n",
       "    <tr>\n",
       "      <th>2</th>\n",
       "      <td>1987-03-01</td>\n",
       "      <td>64.469</td>\n",
       "      <td>6.0</td>\n",
       "      <td>1704.0</td>\n",
       "      <td>90.8</td>\n",
       "      <td>1084.0</td>\n",
       "      <td>1726.0</td>\n",
       "      <td>110.6</td>\n",
       "      <td>43500</td>\n",
       "      <td>123.59781</td>\n",
       "      <td>1694.0</td>\n",
       "      <td>97900.0</td>\n",
       "      <td>18.30</td>\n",
       "      <td>112.1</td>\n",
       "      <td>6.13</td>\n",
       "      <td>432.204545</td>\n",
       "      <td>-0.335</td>\n",
       "    </tr>\n",
       "    <tr>\n",
       "      <th>3</th>\n",
       "      <td>1987-04-01</td>\n",
       "      <td>64.973</td>\n",
       "      <td>6.0</td>\n",
       "      <td>1601.0</td>\n",
       "      <td>92.8</td>\n",
       "      <td>1079.0</td>\n",
       "      <td>1614.0</td>\n",
       "      <td>110.7</td>\n",
       "      <td>54405</td>\n",
       "      <td>134.50752</td>\n",
       "      <td>1735.0</td>\n",
       "      <td>103400.0</td>\n",
       "      <td>18.68</td>\n",
       "      <td>112.7</td>\n",
       "      <td>6.37</td>\n",
       "      <td>422.771429</td>\n",
       "      <td>0.105</td>\n",
       "    </tr>\n",
       "    <tr>\n",
       "      <th>4</th>\n",
       "      <td>1987-05-01</td>\n",
       "      <td>65.547</td>\n",
       "      <td>6.7</td>\n",
       "      <td>1500.0</td>\n",
       "      <td>91.1</td>\n",
       "      <td>1070.0</td>\n",
       "      <td>1628.0</td>\n",
       "      <td>110.7</td>\n",
       "      <td>65151</td>\n",
       "      <td>144.95212</td>\n",
       "      <td>1713.0</td>\n",
       "      <td>103400.0</td>\n",
       "      <td>19.44</td>\n",
       "      <td>113.1</td>\n",
       "      <td>6.85</td>\n",
       "      <td>416.634000</td>\n",
       "      <td>0.540</td>\n",
       "    </tr>\n",
       "  </tbody>\n",
       "</table>\n",
       "</div>"
      ],
      "text/plain": [
       "         Date  Price Index  Monthly Supply  Permits  Sentiment Index  \\\n",
       "0  1987-01-01       63.734             6.0   1690.0             90.4   \n",
       "1  1987-02-01       64.134             6.2   1689.0             90.2   \n",
       "2  1987-03-01       64.469             6.0   1704.0             90.8   \n",
       "3  1987-04-01       64.973             6.0   1601.0             92.8   \n",
       "4  1987-05-01       65.547             6.7   1500.0             91.1   \n",
       "\n",
       "   Construction  Housing Starts  Lumber Price Index  Pair Count  \\\n",
       "0        1090.0          1774.0               108.1       58585   \n",
       "1        1096.0          1784.0               109.4       53102   \n",
       "2        1084.0          1726.0               110.6       43500   \n",
       "3        1079.0          1614.0               110.7       54405   \n",
       "4        1070.0          1628.0               110.7       65151   \n",
       "\n",
       "   Mortgage Rate  Units Completed  Sales Price  Oil Price    CPI  \\\n",
       "0      125.90971           1862.0      97900.0      18.65  111.2   \n",
       "1      124.24761           1771.0      97900.0      17.75  111.6   \n",
       "2      123.59781           1694.0      97900.0      18.30  112.1   \n",
       "3      134.50752           1735.0     103400.0      18.68  112.7   \n",
       "4      144.95212           1713.0     103400.0      19.44  113.1   \n",
       "\n",
       "   Fed Funds Rate      NASDAQ   NFCI  \n",
       "0            6.43  384.227143 -0.506  \n",
       "1            6.10  411.712632 -0.495  \n",
       "2            6.13  432.204545 -0.335  \n",
       "3            6.37  422.771429  0.105  \n",
       "4            6.85  416.634000  0.540  "
      ]
     },
     "execution_count": 75,
     "metadata": {},
     "output_type": "execute_result"
    }
   ],
   "source": [
    "# Read in data\n",
    "file_path = Path(\"data/housing_data3.csv\")\n",
    "df = pd.read_csv(file_path)\n",
    "df.head()"
   ]
  },
  {
   "cell_type": "code",
   "execution_count": 76,
   "metadata": {},
   "outputs": [
    {
     "data": {
      "text/html": [
       "<div>\n",
       "<style scoped>\n",
       "    .dataframe tbody tr th:only-of-type {\n",
       "        vertical-align: middle;\n",
       "    }\n",
       "\n",
       "    .dataframe tbody tr th {\n",
       "        vertical-align: top;\n",
       "    }\n",
       "\n",
       "    .dataframe thead th {\n",
       "        text-align: right;\n",
       "    }\n",
       "</style>\n",
       "<table border=\"1\" class=\"dataframe\">\n",
       "  <thead>\n",
       "    <tr style=\"text-align: right;\">\n",
       "      <th></th>\n",
       "      <th>Date</th>\n",
       "      <th>Price Index</th>\n",
       "      <th>Monthly Supply</th>\n",
       "      <th>Permits</th>\n",
       "      <th>Sentiment Index</th>\n",
       "      <th>Construction</th>\n",
       "      <th>Housing Starts</th>\n",
       "      <th>Lumber Price Index</th>\n",
       "      <th>Pair Count</th>\n",
       "      <th>Mortgage Rate</th>\n",
       "      <th>Units Completed</th>\n",
       "      <th>Sales Price</th>\n",
       "      <th>Oil Price</th>\n",
       "      <th>CPI</th>\n",
       "      <th>Fed Funds Rate</th>\n",
       "      <th>NASDAQ</th>\n",
       "      <th>NFCI</th>\n",
       "    </tr>\n",
       "  </thead>\n",
       "  <tbody>\n",
       "    <tr>\n",
       "      <th>428</th>\n",
       "      <td>2022-09-01</td>\n",
       "      <td>300.451</td>\n",
       "      <td>9.7</td>\n",
       "      <td>1588.0</td>\n",
       "      <td>58.6</td>\n",
       "      <td>1698.0</td>\n",
       "      <td>1463.0</td>\n",
       "      <td>322.849</td>\n",
       "      <td>72386</td>\n",
       "      <td>83.61149</td>\n",
       "      <td>1438.0</td>\n",
       "      <td>468000.0</td>\n",
       "      <td>84.26</td>\n",
       "      <td>296.81</td>\n",
       "      <td>2.56</td>\n",
       "      <td>11402.850000</td>\n",
       "      <td>-0.1320</td>\n",
       "    </tr>\n",
       "    <tr>\n",
       "      <th>429</th>\n",
       "      <td>2022-10-01</td>\n",
       "      <td>298.672</td>\n",
       "      <td>9.7</td>\n",
       "      <td>1555.0</td>\n",
       "      <td>59.9</td>\n",
       "      <td>1710.0</td>\n",
       "      <td>1432.0</td>\n",
       "      <td>317.617</td>\n",
       "      <td>65599</td>\n",
       "      <td>94.39124</td>\n",
       "      <td>1348.0</td>\n",
       "      <td>479500.0</td>\n",
       "      <td>87.55</td>\n",
       "      <td>298.01</td>\n",
       "      <td>3.08</td>\n",
       "      <td>10801.494286</td>\n",
       "      <td>-0.0925</td>\n",
       "    </tr>\n",
       "    <tr>\n",
       "      <th>430</th>\n",
       "      <td>2022-11-01</td>\n",
       "      <td>296.809</td>\n",
       "      <td>9.4</td>\n",
       "      <td>1402.0</td>\n",
       "      <td>56.8</td>\n",
       "      <td>1695.0</td>\n",
       "      <td>1427.0</td>\n",
       "      <td>312.864</td>\n",
       "      <td>55272</td>\n",
       "      <td>93.09166</td>\n",
       "      <td>1543.0</td>\n",
       "      <td>479500.0</td>\n",
       "      <td>84.37</td>\n",
       "      <td>297.71</td>\n",
       "      <td>3.78</td>\n",
       "      <td>10973.638095</td>\n",
       "      <td>-0.1725</td>\n",
       "    </tr>\n",
       "    <tr>\n",
       "      <th>431</th>\n",
       "      <td>2022-12-01</td>\n",
       "      <td>294.266</td>\n",
       "      <td>8.5</td>\n",
       "      <td>1409.0</td>\n",
       "      <td>59.7</td>\n",
       "      <td>1696.0</td>\n",
       "      <td>1357.0</td>\n",
       "      <td>308.076</td>\n",
       "      <td>47749</td>\n",
       "      <td>87.05882</td>\n",
       "      <td>1390.0</td>\n",
       "      <td>479500.0</td>\n",
       "      <td>76.44</td>\n",
       "      <td>296.80</td>\n",
       "      <td>4.10</td>\n",
       "      <td>10838.995714</td>\n",
       "      <td>-0.1960</td>\n",
       "    </tr>\n",
       "    <tr>\n",
       "      <th>432</th>\n",
       "      <td>2023-01-01</td>\n",
       "      <td>292.444</td>\n",
       "      <td>8.1</td>\n",
       "      <td>1354.0</td>\n",
       "      <td>64.9</td>\n",
       "      <td>1695.0</td>\n",
       "      <td>1340.0</td>\n",
       "      <td>306.461</td>\n",
       "      <td>40292</td>\n",
       "      <td>85.80711</td>\n",
       "      <td>1377.0</td>\n",
       "      <td>436800.0</td>\n",
       "      <td>78.12</td>\n",
       "      <td>299.17</td>\n",
       "      <td>4.33</td>\n",
       "      <td>11013.991000</td>\n",
       "      <td>-0.2825</td>\n",
       "    </tr>\n",
       "  </tbody>\n",
       "</table>\n",
       "</div>"
      ],
      "text/plain": [
       "           Date  Price Index  Monthly Supply  Permits  Sentiment Index  \\\n",
       "428  2022-09-01      300.451             9.7   1588.0             58.6   \n",
       "429  2022-10-01      298.672             9.7   1555.0             59.9   \n",
       "430  2022-11-01      296.809             9.4   1402.0             56.8   \n",
       "431  2022-12-01      294.266             8.5   1409.0             59.7   \n",
       "432  2023-01-01      292.444             8.1   1354.0             64.9   \n",
       "\n",
       "     Construction  Housing Starts  Lumber Price Index  Pair Count  \\\n",
       "428        1698.0          1463.0             322.849       72386   \n",
       "429        1710.0          1432.0             317.617       65599   \n",
       "430        1695.0          1427.0             312.864       55272   \n",
       "431        1696.0          1357.0             308.076       47749   \n",
       "432        1695.0          1340.0             306.461       40292   \n",
       "\n",
       "     Mortgage Rate  Units Completed  Sales Price  Oil Price     CPI  \\\n",
       "428       83.61149           1438.0     468000.0      84.26  296.81   \n",
       "429       94.39124           1348.0     479500.0      87.55  298.01   \n",
       "430       93.09166           1543.0     479500.0      84.37  297.71   \n",
       "431       87.05882           1390.0     479500.0      76.44  296.80   \n",
       "432       85.80711           1377.0     436800.0      78.12  299.17   \n",
       "\n",
       "     Fed Funds Rate        NASDAQ    NFCI  \n",
       "428            2.56  11402.850000 -0.1320  \n",
       "429            3.08  10801.494286 -0.0925  \n",
       "430            3.78  10973.638095 -0.1725  \n",
       "431            4.10  10838.995714 -0.1960  \n",
       "432            4.33  11013.991000 -0.2825  "
      ]
     },
     "execution_count": 76,
     "metadata": {},
     "output_type": "execute_result"
    }
   ],
   "source": [
    "df.tail()"
   ]
  },
  {
   "attachments": {},
   "cell_type": "markdown",
   "metadata": {},
   "source": [
    "# Defining the feature and target variables"
   ]
  },
  {
   "cell_type": "code",
   "execution_count": 77,
   "metadata": {},
   "outputs": [
    {
     "data": {
      "text/html": [
       "<div>\n",
       "<style scoped>\n",
       "    .dataframe tbody tr th:only-of-type {\n",
       "        vertical-align: middle;\n",
       "    }\n",
       "\n",
       "    .dataframe tbody tr th {\n",
       "        vertical-align: top;\n",
       "    }\n",
       "\n",
       "    .dataframe thead th {\n",
       "        text-align: right;\n",
       "    }\n",
       "</style>\n",
       "<table border=\"1\" class=\"dataframe\">\n",
       "  <thead>\n",
       "    <tr style=\"text-align: right;\">\n",
       "      <th></th>\n",
       "      <th>Monthly Supply</th>\n",
       "      <th>Permits</th>\n",
       "      <th>Sentiment Index</th>\n",
       "      <th>Construction</th>\n",
       "      <th>Housing Starts</th>\n",
       "      <th>Lumber Price Index</th>\n",
       "      <th>Pair Count</th>\n",
       "      <th>Mortgage Rate</th>\n",
       "      <th>Units Completed</th>\n",
       "      <th>Oil Price</th>\n",
       "      <th>Fed Funds Rate</th>\n",
       "      <th>NASDAQ</th>\n",
       "      <th>NFCI</th>\n",
       "    </tr>\n",
       "  </thead>\n",
       "  <tbody>\n",
       "    <tr>\n",
       "      <th>1</th>\n",
       "      <td>6.2</td>\n",
       "      <td>1689.0</td>\n",
       "      <td>90.2</td>\n",
       "      <td>1096.0</td>\n",
       "      <td>1784.0</td>\n",
       "      <td>109.4</td>\n",
       "      <td>53102</td>\n",
       "      <td>124.24761</td>\n",
       "      <td>1771.0</td>\n",
       "      <td>17.75</td>\n",
       "      <td>6.10</td>\n",
       "      <td>411.712632</td>\n",
       "      <td>-0.495</td>\n",
       "    </tr>\n",
       "    <tr>\n",
       "      <th>2</th>\n",
       "      <td>6.0</td>\n",
       "      <td>1704.0</td>\n",
       "      <td>90.8</td>\n",
       "      <td>1084.0</td>\n",
       "      <td>1726.0</td>\n",
       "      <td>110.6</td>\n",
       "      <td>43500</td>\n",
       "      <td>123.59781</td>\n",
       "      <td>1694.0</td>\n",
       "      <td>18.30</td>\n",
       "      <td>6.13</td>\n",
       "      <td>432.204545</td>\n",
       "      <td>-0.335</td>\n",
       "    </tr>\n",
       "    <tr>\n",
       "      <th>3</th>\n",
       "      <td>6.0</td>\n",
       "      <td>1601.0</td>\n",
       "      <td>92.8</td>\n",
       "      <td>1079.0</td>\n",
       "      <td>1614.0</td>\n",
       "      <td>110.7</td>\n",
       "      <td>54405</td>\n",
       "      <td>134.50752</td>\n",
       "      <td>1735.0</td>\n",
       "      <td>18.68</td>\n",
       "      <td>6.37</td>\n",
       "      <td>422.771429</td>\n",
       "      <td>0.105</td>\n",
       "    </tr>\n",
       "    <tr>\n",
       "      <th>4</th>\n",
       "      <td>6.7</td>\n",
       "      <td>1500.0</td>\n",
       "      <td>91.1</td>\n",
       "      <td>1070.0</td>\n",
       "      <td>1628.0</td>\n",
       "      <td>110.7</td>\n",
       "      <td>65151</td>\n",
       "      <td>144.95212</td>\n",
       "      <td>1713.0</td>\n",
       "      <td>19.44</td>\n",
       "      <td>6.85</td>\n",
       "      <td>416.634000</td>\n",
       "      <td>0.540</td>\n",
       "    </tr>\n",
       "    <tr>\n",
       "      <th>5</th>\n",
       "      <td>6.9</td>\n",
       "      <td>1522.0</td>\n",
       "      <td>91.5</td>\n",
       "      <td>1060.0</td>\n",
       "      <td>1594.0</td>\n",
       "      <td>111.4</td>\n",
       "      <td>75404</td>\n",
       "      <td>144.15185</td>\n",
       "      <td>1635.0</td>\n",
       "      <td>20.07</td>\n",
       "      <td>6.73</td>\n",
       "      <td>423.695909</td>\n",
       "      <td>0.500</td>\n",
       "    </tr>\n",
       "  </tbody>\n",
       "</table>\n",
       "</div>"
      ],
      "text/plain": [
       "   Monthly Supply  Permits  Sentiment Index  Construction  Housing Starts  \\\n",
       "1             6.2   1689.0             90.2        1096.0          1784.0   \n",
       "2             6.0   1704.0             90.8        1084.0          1726.0   \n",
       "3             6.0   1601.0             92.8        1079.0          1614.0   \n",
       "4             6.7   1500.0             91.1        1070.0          1628.0   \n",
       "5             6.9   1522.0             91.5        1060.0          1594.0   \n",
       "\n",
       "   Lumber Price Index  Pair Count  Mortgage Rate  Units Completed  Oil Price  \\\n",
       "1               109.4       53102      124.24761           1771.0      17.75   \n",
       "2               110.6       43500      123.59781           1694.0      18.30   \n",
       "3               110.7       54405      134.50752           1735.0      18.68   \n",
       "4               110.7       65151      144.95212           1713.0      19.44   \n",
       "5               111.4       75404      144.15185           1635.0      20.07   \n",
       "\n",
       "   Fed Funds Rate      NASDAQ   NFCI  \n",
       "1            6.10  411.712632 -0.495  \n",
       "2            6.13  432.204545 -0.335  \n",
       "3            6.37  422.771429  0.105  \n",
       "4            6.85  416.634000  0.540  \n",
       "5            6.73  423.695909  0.500  "
      ]
     },
     "execution_count": 77,
     "metadata": {},
     "output_type": "execute_result"
    }
   ],
   "source": [
    "# Define features set\n",
    "X = df.copy()\n",
    "X = X.drop(\"Date\", axis=1)\n",
    "X = X.drop(\"Price Index\", axis=1)\n",
    "X = X.drop(\"Sales Price\", axis=1)\n",
    "X = X.drop(\"CPI\", axis=1)\n",
    "# drop first row\n",
    "X = X.iloc[1:]\n",
    "X.head()"
   ]
  },
  {
   "cell_type": "code",
   "execution_count": 78,
   "metadata": {},
   "outputs": [
    {
     "name": "stdout",
     "output_type": "stream",
     "text": [
      "(432, 13)\n",
      "Monthly Supply        0\n",
      "Permits               0\n",
      "Sentiment Index       0\n",
      "Construction          0\n",
      "Housing Starts        0\n",
      "Lumber Price Index    0\n",
      "Pair Count            0\n",
      "Mortgage Rate         0\n",
      "Units Completed       0\n",
      "Oil Price             0\n",
      "Fed Funds Rate        0\n",
      "NASDAQ                0\n",
      "NFCI                  0\n",
      "dtype: int64\n"
     ]
    }
   ],
   "source": [
    "# checking the shape of X and if there are any null values\n",
    "print(X.shape)\n",
    "print(X.isnull().sum())"
   ]
  },
  {
   "attachments": {},
   "cell_type": "markdown",
   "metadata": {},
   "source": [
    "# Creating the target vector \n",
    "Price Index = S&P/Case-Shiller U.S. National Home Price Index (Index Jan 2000=100, Seasonally Adjusted)"
   ]
  },
  {
   "cell_type": "code",
   "execution_count": 79,
   "metadata": {},
   "outputs": [
    {
     "data": {
      "text/plain": [
       "array([[64.134],\n",
       "       [64.469],\n",
       "       [64.973],\n",
       "       [65.547],\n",
       "       [66.218]])"
      ]
     },
     "execution_count": 79,
     "metadata": {},
     "output_type": "execute_result"
    }
   ],
   "source": [
    "# Define target vector 'Price Change' as y\n",
    "y = df[\"Price Index\"].values.reshape(-1, 1)\n",
    "y = y[1:]\n",
    "y[:5]"
   ]
  },
  {
   "attachments": {},
   "cell_type": "markdown",
   "metadata": {},
   "source": [
    "# Splitting the data into training and testing sets"
   ]
  },
  {
   "cell_type": "code",
   "execution_count": 80,
   "metadata": {},
   "outputs": [],
   "source": [
    "# Splitting into Train and Test sets\n",
    "X_train, X_test, y_train, y_test = train_test_split(X, y, random_state=78)\n"
   ]
  },
  {
   "cell_type": "code",
   "execution_count": 81,
   "metadata": {},
   "outputs": [],
   "source": [
    "# Create a StandardScaler instance\n",
    "scaler = StandardScaler()"
   ]
  },
  {
   "cell_type": "code",
   "execution_count": 82,
   "metadata": {},
   "outputs": [],
   "source": [
    "# Fit the StandardScaler\n",
    "X_scaler = scaler.fit(X_train)"
   ]
  },
  {
   "cell_type": "code",
   "execution_count": 83,
   "metadata": {},
   "outputs": [
    {
     "data": {
      "text/plain": [
       "(108, 13)"
      ]
     },
     "execution_count": 83,
     "metadata": {},
     "output_type": "execute_result"
    }
   ],
   "source": [
    "# Scale the data\n",
    "X_train_scaled = X_scaler.transform(X_train)\n",
    "X_test_scaled = X_scaler.transform(X_test)\n",
    "X_test_scaled.shape"
   ]
  },
  {
   "attachments": {},
   "cell_type": "markdown",
   "metadata": {},
   "source": [
    "# Fitting the Random Forest model\n",
    "\n",
    "Having scaled the data, we can now fit the Random Forest model to the training data."
   ]
  },
  {
   "cell_type": "code",
   "execution_count": 84,
   "metadata": {},
   "outputs": [],
   "source": [
    "# create the random forrest classifier instance\n",
    "rf_model = RandomForestRegressor(n_estimators=200, random_state=78)\n",
    "# fit the model\n",
    "rf_model = rf_model.fit(X_train_scaled, y_train.ravel())"
   ]
  },
  {
   "attachments": {},
   "cell_type": "markdown",
   "metadata": {},
   "source": [
    "# Making predictions with the Random Forest model"
   ]
  },
  {
   "cell_type": "code",
   "execution_count": 85,
   "metadata": {},
   "outputs": [
    {
     "data": {
      "text/plain": [
       "array([108.759375, 279.16533 ,  92.44938 , 163.32949 , 149.651955,\n",
       "       123.60015 , 149.821735, 169.374775,  79.815105,  87.528185,\n",
       "        82.494995,  76.576725, 159.87978 ,  76.53093 ,  77.35861 ,\n",
       "       129.661515, 238.261475,  76.48637 ,  67.42809 ,  76.517515,\n",
       "       117.76461 , 300.46339 ,  78.772805, 143.77012 , 214.3335  ,\n",
       "       144.59124 , 168.974205, 194.507505, 142.79523 ,  97.326845,\n",
       "       150.824935, 155.21526 , 250.86102 ,  83.025525, 149.2741  ,\n",
       "       185.35313 , 302.47616 ,  76.6202  ,  79.75519 , 102.99005 ,\n",
       "       149.415105, 130.028425,  79.881675, 210.839095,  95.076755,\n",
       "        73.86898 ,  93.57545 , 182.3228  , 145.423355, 176.9818  ,\n",
       "        67.72251 , 166.311685, 198.852545, 199.689465, 142.396645,\n",
       "        72.8241  , 153.92091 , 123.88471 , 233.40103 ,  69.965345,\n",
       "       164.660475, 170.226265, 169.36153 ,  76.35782 ,  72.64672 ,\n",
       "       171.473835,  66.08021 ,  89.420995, 138.190575,  76.474275,\n",
       "       171.999   ,  94.98399 , 139.39312 , 141.46485 , 171.54072 ,\n",
       "        75.75266 , 139.434465, 177.14981 , 110.80772 , 181.980555,\n",
       "       243.13795 , 205.55867 , 125.534485,  76.2116  , 140.829005,\n",
       "        80.189245,  70.61321 , 143.70656 , 108.725185, 180.01761 ,\n",
       "       184.2978  ,  72.741535,  79.773775, 178.977   ,  76.606245,\n",
       "        88.74613 , 160.61327 ,  77.050805, 172.87009 , 263.354595,\n",
       "       211.7746  ,  76.756465, 300.03902 , 171.31767 ,  83.15806 ,\n",
       "       149.61897 , 145.580855, 174.994265])"
      ]
     },
     "execution_count": 85,
     "metadata": {},
     "output_type": "execute_result"
    }
   ],
   "source": [
    "# Making predictions using the testing data\n",
    "predictions = rf_model.predict(X_test_scaled)\n",
    "predictions"
   ]
  },
  {
   "cell_type": "code",
   "execution_count": 86,
   "metadata": {},
   "outputs": [
    {
     "name": "stdout",
     "output_type": "stream",
     "text": [
      "First 10 Predictions:   [108.759375 279.16533   92.44938  163.32949  149.651955 123.60015\n",
      " 149.821735 169.374775  79.815105  87.528185]\n",
      "First 10 Actual labels: [[109.214], [276.07], [90.194], [164.278], [148.17], [123.68700000000001], [147.96], [182.472], [80.339], [86.31]]\n"
     ]
    }
   ],
   "source": [
    "# compare predictions to actual values\n",
    "print(f\"First 10 Predictions:   {predictions[:10]}\")\n",
    "print(f\"First 10 Actual labels: {y_test[:10].tolist()}\")\n"
   ]
  },
  {
   "attachments": {},
   "cell_type": "markdown",
   "metadata": {},
   "source": [
    "# Evaluating the Random Forest model"
   ]
  },
  {
   "cell_type": "code",
   "execution_count": 87,
   "metadata": {},
   "outputs": [
    {
     "data": {
      "text/html": [
       "<div>\n",
       "<style scoped>\n",
       "    .dataframe tbody tr th:only-of-type {\n",
       "        vertical-align: middle;\n",
       "    }\n",
       "\n",
       "    .dataframe tbody tr th {\n",
       "        vertical-align: top;\n",
       "    }\n",
       "\n",
       "    .dataframe thead th {\n",
       "        text-align: right;\n",
       "    }\n",
       "</style>\n",
       "<table border=\"1\" class=\"dataframe\">\n",
       "  <thead>\n",
       "    <tr style=\"text-align: right;\">\n",
       "      <th></th>\n",
       "      <th>Prediction</th>\n",
       "      <th>Actual</th>\n",
       "      <th>Difference</th>\n",
       "      <th>Percent Difference</th>\n",
       "    </tr>\n",
       "  </thead>\n",
       "  <tbody>\n",
       "    <tr>\n",
       "      <th>0</th>\n",
       "      <td>108.759375</td>\n",
       "      <td>109.214</td>\n",
       "      <td>0.454625</td>\n",
       "      <td>0.416270</td>\n",
       "    </tr>\n",
       "    <tr>\n",
       "      <th>1</th>\n",
       "      <td>279.165330</td>\n",
       "      <td>276.070</td>\n",
       "      <td>-3.095330</td>\n",
       "      <td>-1.121212</td>\n",
       "    </tr>\n",
       "    <tr>\n",
       "      <th>2</th>\n",
       "      <td>92.449380</td>\n",
       "      <td>90.194</td>\n",
       "      <td>-2.255380</td>\n",
       "      <td>-2.500588</td>\n",
       "    </tr>\n",
       "    <tr>\n",
       "      <th>3</th>\n",
       "      <td>163.329490</td>\n",
       "      <td>164.278</td>\n",
       "      <td>0.948510</td>\n",
       "      <td>0.577381</td>\n",
       "    </tr>\n",
       "    <tr>\n",
       "      <th>4</th>\n",
       "      <td>149.651955</td>\n",
       "      <td>148.170</td>\n",
       "      <td>-1.481955</td>\n",
       "      <td>-1.000172</td>\n",
       "    </tr>\n",
       "    <tr>\n",
       "      <th>5</th>\n",
       "      <td>123.600150</td>\n",
       "      <td>123.687</td>\n",
       "      <td>0.086850</td>\n",
       "      <td>0.070218</td>\n",
       "    </tr>\n",
       "    <tr>\n",
       "      <th>6</th>\n",
       "      <td>149.821735</td>\n",
       "      <td>147.960</td>\n",
       "      <td>-1.861735</td>\n",
       "      <td>-1.258269</td>\n",
       "    </tr>\n",
       "    <tr>\n",
       "      <th>7</th>\n",
       "      <td>169.374775</td>\n",
       "      <td>182.472</td>\n",
       "      <td>13.097225</td>\n",
       "      <td>7.177663</td>\n",
       "    </tr>\n",
       "    <tr>\n",
       "      <th>8</th>\n",
       "      <td>79.815105</td>\n",
       "      <td>80.339</td>\n",
       "      <td>0.523895</td>\n",
       "      <td>0.652105</td>\n",
       "    </tr>\n",
       "    <tr>\n",
       "      <th>9</th>\n",
       "      <td>87.528185</td>\n",
       "      <td>86.310</td>\n",
       "      <td>-1.218185</td>\n",
       "      <td>-1.411407</td>\n",
       "    </tr>\n",
       "  </tbody>\n",
       "</table>\n",
       "</div>"
      ],
      "text/plain": [
       "   Prediction   Actual  Difference  Percent Difference\n",
       "0  108.759375  109.214    0.454625            0.416270\n",
       "1  279.165330  276.070   -3.095330           -1.121212\n",
       "2   92.449380   90.194   -2.255380           -2.500588\n",
       "3  163.329490  164.278    0.948510            0.577381\n",
       "4  149.651955  148.170   -1.481955           -1.000172\n",
       "5  123.600150  123.687    0.086850            0.070218\n",
       "6  149.821735  147.960   -1.861735           -1.258269\n",
       "7  169.374775  182.472   13.097225            7.177663\n",
       "8   79.815105   80.339    0.523895            0.652105\n",
       "9   87.528185   86.310   -1.218185           -1.411407"
      ]
     },
     "execution_count": 87,
     "metadata": {},
     "output_type": "execute_result"
    }
   ],
   "source": [
    "# chart of predictions vs actual\n",
    "results_df = pd.DataFrame({\"Prediction\": predictions, \"Actual\": y_test.ravel()})\n",
    "# change the datatypes to float\n",
    "results_df = results_df.astype(\"float64\")\n",
    "# add a column for the difference between the prediction and actual\n",
    "results_df[\"Difference\"] = results_df[\"Actual\"] - results_df[\"Prediction\"]\n",
    "# add a column for the percent difference between the prediction and actual\n",
    "results_df[\"Percent Difference\"] = results_df[\"Difference\"] / results_df[\"Actual\"] * 100\n",
    "# find the highest percent difference\n",
    "results_df[\"Percent Difference\"].max()\n",
    "results_df.head(10)"
   ]
  },
  {
   "cell_type": "code",
   "execution_count": 98,
   "metadata": {},
   "outputs": [
    {
     "data": {
      "application/vnd.plotly.v1+json": {
       "config": {
        "plotlyServerURL": "https://plot.ly"
       },
       "data": [
        {
         "alignmentgroup": "True",
         "bingroup": "x",
         "hovertemplate": "Percent Difference=%{x}<br>count=%{y}<extra></extra>",
         "legendgroup": "",
         "marker": {
          "color": "#636efa",
          "pattern": {
           "shape": ""
          }
         },
         "name": "",
         "offsetgroup": "",
         "orientation": "v",
         "showlegend": false,
         "type": "histogram",
         "x": [
          0.416269892138273,
          -1.1212120114461628,
          -2.5005876222366252,
          0.5773810248479496,
          -1.000172099615172,
          0.07021756530604152,
          -1.258269126791185,
          7.177662874303945,
          0.6521054531422514,
          -1.4114065577568466,
          -0.4517497929960706,
          -0.2352513842167199,
          -0.7624503686896408,
          0.12537356284345502,
          -1.279912543695401,
          1.6516243296748014,
          -6.333500691748062,
          0.11965577581031552,
          -0.23649823841602707,
          -0.3205787106839995,
          2.502247758450922,
          1.9915940620219306,
          -0.7350635566126436,
          0.13259146574428834,
          -0.5151593312541707,
          -0.2129411438549432,
          -1.1827645674526455,
          0.16347664069470746,
          -0.7125083753570798,
          -4.976481183868418,
          -6.193055643565801,
          -6.181640317692633,
          1.8094988335863746,
          0.7406001554186081,
          -1.1218821552925287,
          -0.3758982773653064,
          1.5168704315690495,
          0.051917558048673755,
          0.6821787479919252,
          -2.405315647652033,
          -1.682356423919324,
          -1.8616433741736882,
          0.2451672119683684,
          0.24456604023546302,
          -3.1245986810707245,
          0.13386869997832504,
          -1.9884796895946935,
          -0.07069387575895378,
          -1.010186220644717,
          0.3542573376649274,
          -0.14715407479711332,
          0.6821664457105295,
          -0.9870270023207969,
          -1.820041301244155,
          -1.5892565403192642,
          0.3297064257852547,
          -6.830170738478509,
          0.6776958229776932,
          -5.3301277133444085,
          0.6286998636517395,
          0.6351493244342611,
          2.886005647944783,
          7.310389176823369,
          0.1701966321513687,
          -0.10020117397407757,
          0.31460337761225615,
          -1.7041078601880484,
          -0.05370190102181601,
          0.413955248081241,
          -0.9321547355083819,
          -0.5383509276469339,
          0.39430578859053783,
          -0.16823920838754128,
          -2.206363656067827,
          2.0058496903777803,
          -0.6693245092958943,
          -3.1556532932848547,
          2.123391512378802,
          0.3948690751210471,
          1.0695658555678151,
          2.689937124538224,
          -0.0865075153007373,
          0.8745242494589195,
          -1.190466706499397,
          1.9276133902517563,
          0.22366210852436044,
          0.6385382807772119,
          0.45195658046965087,
          0.8361895988762389,
          -1.4018047755577288,
          -0.14932915994199414,
          0.11049545467029713,
          0.6751145475371773,
          -2.1785671467962966,
          0.5501168375958709,
          -1.5715724537330784,
          -0.7845422086682964,
          0.6565175348119304,
          6.3577816659174164,
          0.8237510450324503,
          0.16330302044604636,
          -0.47315269323906184,
          1.1888660920997622,
          0.3097643293569488,
          -0.13252576823047746,
          -0.17204509848542235,
          0.9916722774229206,
          -0.5148048800101582
         ],
         "xaxis": "x",
         "yaxis": "y"
        }
       ],
       "layout": {
        "barmode": "relative",
        "legend": {
         "tracegroupgap": 0
        },
        "template": {
         "data": {
          "bar": [
           {
            "error_x": {
             "color": "#2a3f5f"
            },
            "error_y": {
             "color": "#2a3f5f"
            },
            "marker": {
             "line": {
              "color": "#E5ECF6",
              "width": 0.5
             },
             "pattern": {
              "fillmode": "overlay",
              "size": 10,
              "solidity": 0.2
             }
            },
            "type": "bar"
           }
          ],
          "barpolar": [
           {
            "marker": {
             "line": {
              "color": "#E5ECF6",
              "width": 0.5
             },
             "pattern": {
              "fillmode": "overlay",
              "size": 10,
              "solidity": 0.2
             }
            },
            "type": "barpolar"
           }
          ],
          "carpet": [
           {
            "aaxis": {
             "endlinecolor": "#2a3f5f",
             "gridcolor": "white",
             "linecolor": "white",
             "minorgridcolor": "white",
             "startlinecolor": "#2a3f5f"
            },
            "baxis": {
             "endlinecolor": "#2a3f5f",
             "gridcolor": "white",
             "linecolor": "white",
             "minorgridcolor": "white",
             "startlinecolor": "#2a3f5f"
            },
            "type": "carpet"
           }
          ],
          "choropleth": [
           {
            "colorbar": {
             "outlinewidth": 0,
             "ticks": ""
            },
            "type": "choropleth"
           }
          ],
          "contour": [
           {
            "colorbar": {
             "outlinewidth": 0,
             "ticks": ""
            },
            "colorscale": [
             [
              0,
              "#0d0887"
             ],
             [
              0.1111111111111111,
              "#46039f"
             ],
             [
              0.2222222222222222,
              "#7201a8"
             ],
             [
              0.3333333333333333,
              "#9c179e"
             ],
             [
              0.4444444444444444,
              "#bd3786"
             ],
             [
              0.5555555555555556,
              "#d8576b"
             ],
             [
              0.6666666666666666,
              "#ed7953"
             ],
             [
              0.7777777777777778,
              "#fb9f3a"
             ],
             [
              0.8888888888888888,
              "#fdca26"
             ],
             [
              1,
              "#f0f921"
             ]
            ],
            "type": "contour"
           }
          ],
          "contourcarpet": [
           {
            "colorbar": {
             "outlinewidth": 0,
             "ticks": ""
            },
            "type": "contourcarpet"
           }
          ],
          "heatmap": [
           {
            "colorbar": {
             "outlinewidth": 0,
             "ticks": ""
            },
            "colorscale": [
             [
              0,
              "#0d0887"
             ],
             [
              0.1111111111111111,
              "#46039f"
             ],
             [
              0.2222222222222222,
              "#7201a8"
             ],
             [
              0.3333333333333333,
              "#9c179e"
             ],
             [
              0.4444444444444444,
              "#bd3786"
             ],
             [
              0.5555555555555556,
              "#d8576b"
             ],
             [
              0.6666666666666666,
              "#ed7953"
             ],
             [
              0.7777777777777778,
              "#fb9f3a"
             ],
             [
              0.8888888888888888,
              "#fdca26"
             ],
             [
              1,
              "#f0f921"
             ]
            ],
            "type": "heatmap"
           }
          ],
          "heatmapgl": [
           {
            "colorbar": {
             "outlinewidth": 0,
             "ticks": ""
            },
            "colorscale": [
             [
              0,
              "#0d0887"
             ],
             [
              0.1111111111111111,
              "#46039f"
             ],
             [
              0.2222222222222222,
              "#7201a8"
             ],
             [
              0.3333333333333333,
              "#9c179e"
             ],
             [
              0.4444444444444444,
              "#bd3786"
             ],
             [
              0.5555555555555556,
              "#d8576b"
             ],
             [
              0.6666666666666666,
              "#ed7953"
             ],
             [
              0.7777777777777778,
              "#fb9f3a"
             ],
             [
              0.8888888888888888,
              "#fdca26"
             ],
             [
              1,
              "#f0f921"
             ]
            ],
            "type": "heatmapgl"
           }
          ],
          "histogram": [
           {
            "marker": {
             "pattern": {
              "fillmode": "overlay",
              "size": 10,
              "solidity": 0.2
             }
            },
            "type": "histogram"
           }
          ],
          "histogram2d": [
           {
            "colorbar": {
             "outlinewidth": 0,
             "ticks": ""
            },
            "colorscale": [
             [
              0,
              "#0d0887"
             ],
             [
              0.1111111111111111,
              "#46039f"
             ],
             [
              0.2222222222222222,
              "#7201a8"
             ],
             [
              0.3333333333333333,
              "#9c179e"
             ],
             [
              0.4444444444444444,
              "#bd3786"
             ],
             [
              0.5555555555555556,
              "#d8576b"
             ],
             [
              0.6666666666666666,
              "#ed7953"
             ],
             [
              0.7777777777777778,
              "#fb9f3a"
             ],
             [
              0.8888888888888888,
              "#fdca26"
             ],
             [
              1,
              "#f0f921"
             ]
            ],
            "type": "histogram2d"
           }
          ],
          "histogram2dcontour": [
           {
            "colorbar": {
             "outlinewidth": 0,
             "ticks": ""
            },
            "colorscale": [
             [
              0,
              "#0d0887"
             ],
             [
              0.1111111111111111,
              "#46039f"
             ],
             [
              0.2222222222222222,
              "#7201a8"
             ],
             [
              0.3333333333333333,
              "#9c179e"
             ],
             [
              0.4444444444444444,
              "#bd3786"
             ],
             [
              0.5555555555555556,
              "#d8576b"
             ],
             [
              0.6666666666666666,
              "#ed7953"
             ],
             [
              0.7777777777777778,
              "#fb9f3a"
             ],
             [
              0.8888888888888888,
              "#fdca26"
             ],
             [
              1,
              "#f0f921"
             ]
            ],
            "type": "histogram2dcontour"
           }
          ],
          "mesh3d": [
           {
            "colorbar": {
             "outlinewidth": 0,
             "ticks": ""
            },
            "type": "mesh3d"
           }
          ],
          "parcoords": [
           {
            "line": {
             "colorbar": {
              "outlinewidth": 0,
              "ticks": ""
             }
            },
            "type": "parcoords"
           }
          ],
          "pie": [
           {
            "automargin": true,
            "type": "pie"
           }
          ],
          "scatter": [
           {
            "fillpattern": {
             "fillmode": "overlay",
             "size": 10,
             "solidity": 0.2
            },
            "type": "scatter"
           }
          ],
          "scatter3d": [
           {
            "line": {
             "colorbar": {
              "outlinewidth": 0,
              "ticks": ""
             }
            },
            "marker": {
             "colorbar": {
              "outlinewidth": 0,
              "ticks": ""
             }
            },
            "type": "scatter3d"
           }
          ],
          "scattercarpet": [
           {
            "marker": {
             "colorbar": {
              "outlinewidth": 0,
              "ticks": ""
             }
            },
            "type": "scattercarpet"
           }
          ],
          "scattergeo": [
           {
            "marker": {
             "colorbar": {
              "outlinewidth": 0,
              "ticks": ""
             }
            },
            "type": "scattergeo"
           }
          ],
          "scattergl": [
           {
            "marker": {
             "colorbar": {
              "outlinewidth": 0,
              "ticks": ""
             }
            },
            "type": "scattergl"
           }
          ],
          "scattermapbox": [
           {
            "marker": {
             "colorbar": {
              "outlinewidth": 0,
              "ticks": ""
             }
            },
            "type": "scattermapbox"
           }
          ],
          "scatterpolar": [
           {
            "marker": {
             "colorbar": {
              "outlinewidth": 0,
              "ticks": ""
             }
            },
            "type": "scatterpolar"
           }
          ],
          "scatterpolargl": [
           {
            "marker": {
             "colorbar": {
              "outlinewidth": 0,
              "ticks": ""
             }
            },
            "type": "scatterpolargl"
           }
          ],
          "scatterternary": [
           {
            "marker": {
             "colorbar": {
              "outlinewidth": 0,
              "ticks": ""
             }
            },
            "type": "scatterternary"
           }
          ],
          "surface": [
           {
            "colorbar": {
             "outlinewidth": 0,
             "ticks": ""
            },
            "colorscale": [
             [
              0,
              "#0d0887"
             ],
             [
              0.1111111111111111,
              "#46039f"
             ],
             [
              0.2222222222222222,
              "#7201a8"
             ],
             [
              0.3333333333333333,
              "#9c179e"
             ],
             [
              0.4444444444444444,
              "#bd3786"
             ],
             [
              0.5555555555555556,
              "#d8576b"
             ],
             [
              0.6666666666666666,
              "#ed7953"
             ],
             [
              0.7777777777777778,
              "#fb9f3a"
             ],
             [
              0.8888888888888888,
              "#fdca26"
             ],
             [
              1,
              "#f0f921"
             ]
            ],
            "type": "surface"
           }
          ],
          "table": [
           {
            "cells": {
             "fill": {
              "color": "#EBF0F8"
             },
             "line": {
              "color": "white"
             }
            },
            "header": {
             "fill": {
              "color": "#C8D4E3"
             },
             "line": {
              "color": "white"
             }
            },
            "type": "table"
           }
          ]
         },
         "layout": {
          "annotationdefaults": {
           "arrowcolor": "#2a3f5f",
           "arrowhead": 0,
           "arrowwidth": 1
          },
          "autotypenumbers": "strict",
          "coloraxis": {
           "colorbar": {
            "outlinewidth": 0,
            "ticks": ""
           }
          },
          "colorscale": {
           "diverging": [
            [
             0,
             "#8e0152"
            ],
            [
             0.1,
             "#c51b7d"
            ],
            [
             0.2,
             "#de77ae"
            ],
            [
             0.3,
             "#f1b6da"
            ],
            [
             0.4,
             "#fde0ef"
            ],
            [
             0.5,
             "#f7f7f7"
            ],
            [
             0.6,
             "#e6f5d0"
            ],
            [
             0.7,
             "#b8e186"
            ],
            [
             0.8,
             "#7fbc41"
            ],
            [
             0.9,
             "#4d9221"
            ],
            [
             1,
             "#276419"
            ]
           ],
           "sequential": [
            [
             0,
             "#0d0887"
            ],
            [
             0.1111111111111111,
             "#46039f"
            ],
            [
             0.2222222222222222,
             "#7201a8"
            ],
            [
             0.3333333333333333,
             "#9c179e"
            ],
            [
             0.4444444444444444,
             "#bd3786"
            ],
            [
             0.5555555555555556,
             "#d8576b"
            ],
            [
             0.6666666666666666,
             "#ed7953"
            ],
            [
             0.7777777777777778,
             "#fb9f3a"
            ],
            [
             0.8888888888888888,
             "#fdca26"
            ],
            [
             1,
             "#f0f921"
            ]
           ],
           "sequentialminus": [
            [
             0,
             "#0d0887"
            ],
            [
             0.1111111111111111,
             "#46039f"
            ],
            [
             0.2222222222222222,
             "#7201a8"
            ],
            [
             0.3333333333333333,
             "#9c179e"
            ],
            [
             0.4444444444444444,
             "#bd3786"
            ],
            [
             0.5555555555555556,
             "#d8576b"
            ],
            [
             0.6666666666666666,
             "#ed7953"
            ],
            [
             0.7777777777777778,
             "#fb9f3a"
            ],
            [
             0.8888888888888888,
             "#fdca26"
            ],
            [
             1,
             "#f0f921"
            ]
           ]
          },
          "colorway": [
           "#636efa",
           "#EF553B",
           "#00cc96",
           "#ab63fa",
           "#FFA15A",
           "#19d3f3",
           "#FF6692",
           "#B6E880",
           "#FF97FF",
           "#FECB52"
          ],
          "font": {
           "color": "#2a3f5f"
          },
          "geo": {
           "bgcolor": "white",
           "lakecolor": "white",
           "landcolor": "#E5ECF6",
           "showlakes": true,
           "showland": true,
           "subunitcolor": "white"
          },
          "hoverlabel": {
           "align": "left"
          },
          "hovermode": "closest",
          "mapbox": {
           "style": "light"
          },
          "paper_bgcolor": "white",
          "plot_bgcolor": "#E5ECF6",
          "polar": {
           "angularaxis": {
            "gridcolor": "white",
            "linecolor": "white",
            "ticks": ""
           },
           "bgcolor": "#E5ECF6",
           "radialaxis": {
            "gridcolor": "white",
            "linecolor": "white",
            "ticks": ""
           }
          },
          "scene": {
           "xaxis": {
            "backgroundcolor": "#E5ECF6",
            "gridcolor": "white",
            "gridwidth": 2,
            "linecolor": "white",
            "showbackground": true,
            "ticks": "",
            "zerolinecolor": "white"
           },
           "yaxis": {
            "backgroundcolor": "#E5ECF6",
            "gridcolor": "white",
            "gridwidth": 2,
            "linecolor": "white",
            "showbackground": true,
            "ticks": "",
            "zerolinecolor": "white"
           },
           "zaxis": {
            "backgroundcolor": "#E5ECF6",
            "gridcolor": "white",
            "gridwidth": 2,
            "linecolor": "white",
            "showbackground": true,
            "ticks": "",
            "zerolinecolor": "white"
           }
          },
          "shapedefaults": {
           "line": {
            "color": "#2a3f5f"
           }
          },
          "ternary": {
           "aaxis": {
            "gridcolor": "white",
            "linecolor": "white",
            "ticks": ""
           },
           "baxis": {
            "gridcolor": "white",
            "linecolor": "white",
            "ticks": ""
           },
           "bgcolor": "#E5ECF6",
           "caxis": {
            "gridcolor": "white",
            "linecolor": "white",
            "ticks": ""
           }
          },
          "title": {
           "x": 0.05
          },
          "xaxis": {
           "automargin": true,
           "gridcolor": "white",
           "linecolor": "white",
           "ticks": "",
           "title": {
            "standoff": 15
           },
           "zerolinecolor": "white",
           "zerolinewidth": 2
          },
          "yaxis": {
           "automargin": true,
           "gridcolor": "white",
           "linecolor": "white",
           "ticks": "",
           "title": {
            "standoff": 15
           },
           "zerolinecolor": "white",
           "zerolinewidth": 2
          }
         }
        },
        "title": {
         "text": "Percent Difference Between Prediction and Actual"
        },
        "xaxis": {
         "anchor": "y",
         "domain": [
          0,
          1
         ],
         "title": {
          "text": "Percent Difference"
         }
        },
        "yaxis": {
         "anchor": "x",
         "domain": [
          0,
          1
         ],
         "title": {
          "text": "count"
         }
        }
       }
      }
     },
     "metadata": {},
     "output_type": "display_data"
    }
   ],
   "source": [
    "# use plotly express to create a histogram of the percent difference\n",
    "fig = px.histogram(results_df, x=\"Percent Difference\", title=\"Percent Difference Between Prediction and Actual\")\n",
    "fig.show()"
   ]
  },
  {
   "cell_type": "code",
   "execution_count": 100,
   "metadata": {},
   "outputs": [],
   "source": [
    "# save the plot as a png file\n",
    "scope = PlotlyScope()\n",
    "with open(\"images/percent_difference_custom.png\", \"wb\") as f:\n",
    "    f.write(scope.transform(fig, format=\"png\"))\n",
    "    "
   ]
  },
  {
   "cell_type": "code",
   "execution_count": 88,
   "metadata": {},
   "outputs": [
    {
     "name": "stdout",
     "output_type": "stream",
     "text": [
      "Mean Absolute Error: -0.148862500000007\n"
     ]
    }
   ],
   "source": [
    "# calculate the mean absolute error (MAE)\n",
    "mae = results_df[\"Difference\"].mean()\n",
    "print(f\"Mean Absolute Error: {mae}\")\n"
   ]
  },
  {
   "cell_type": "code",
   "execution_count": 89,
   "metadata": {},
   "outputs": [
    {
     "name": "stdout",
     "output_type": "stream",
     "text": [
      "Mean Squared Error: 13.742299149847925\n"
     ]
    }
   ],
   "source": [
    "# calculate the mean squared error (MSE)\n",
    "mse = results_df[\"Difference\"].apply(lambda x: x**2).mean()\n",
    "print(f\"Mean Squared Error: {mse}\")\n"
   ]
  },
  {
   "cell_type": "code",
   "execution_count": 90,
   "metadata": {},
   "outputs": [
    {
     "name": "stdout",
     "output_type": "stream",
     "text": [
      "Root Mean Squared Error: 3.7070607156948383\n"
     ]
    }
   ],
   "source": [
    "# calculate the root mean squared error (RMSE)\n",
    "rmse = mse**(0.5)\n",
    "print(f\"Root Mean Squared Error: {rmse}\")\n"
   ]
  },
  {
   "cell_type": "code",
   "execution_count": 91,
   "metadata": {},
   "outputs": [
    {
     "name": "stdout",
     "output_type": "stream",
     "text": [
      "Mean Absolute Percent Error: 1.361249352798155\n"
     ]
    }
   ],
   "source": [
    "# calculate the mean absolute percent error (MAPE)\n",
    "mape = results_df[\"Percent Difference\"].abs().mean()\n",
    "print(f\"Mean Absolute Percent Error: {mape}\")\n"
   ]
  },
  {
   "cell_type": "code",
   "execution_count": 92,
   "metadata": {},
   "outputs": [
    {
     "data": {
      "text/plain": [
       "0.9959611673210985"
      ]
     },
     "execution_count": 92,
     "metadata": {},
     "output_type": "execute_result"
    }
   ],
   "source": [
    "# score the model\n",
    "rf_model.score(X_test_scaled, y_test)"
   ]
  },
  {
   "attachments": {},
   "cell_type": "markdown",
   "metadata": {},
   "source": [
    "# Feature importance"
   ]
  },
  {
   "cell_type": "code",
   "execution_count": 93,
   "metadata": {},
   "outputs": [
    {
     "name": "stdout",
     "output_type": "stream",
     "text": [
      "Monthly Supply: (0.0033187426539476334)\n",
      "Permits: (0.004366599288078427)\n",
      "Sentiment Index: (0.006384665517983358)\n",
      "Construction: (0.028602335202134434)\n",
      "Housing Starts: (0.00574151989130087)\n",
      "Lumber Price Index: (0.3943630803264192)\n",
      "Pair Count: (0.0006777755426412739)\n",
      "Mortgage Rate: (0.1937878725714882)\n",
      "Units Completed: (0.0015334711323964903)\n",
      "Oil Price: (0.15038255825384655)\n",
      "Fed Funds Rate: (0.037865016078313364)\n",
      "NASDAQ: (0.16938625057022866)\n",
      "NFCI: (0.0035901129712217756)\n"
     ]
    }
   ],
   "source": [
    "# get the feature importance array\n",
    "importances = rf_model.feature_importances_\n",
    "# list of features\n",
    "feature_list = list(X.columns)\n",
    "# sort the features by their importance\n",
    "sorted(zip(rf_model.feature_importances_, feature_list), reverse=True)\n",
    "# print the feature importance\n",
    "for feature in zip(feature_list, rf_model.feature_importances_):\n",
    "    print(f\"{feature[0]}: ({feature[1]})\")\n",
    "    "
   ]
  },
  {
   "cell_type": "code",
   "execution_count": 94,
   "metadata": {},
   "outputs": [
    {
     "data": {
      "image/png": "[encoded data removed]",
      "text/plain": [
       "<Figure size 432x288 with 1 Axes>"
      ]
     },
     "metadata": {
      "needs_background": "light"
     },
     "output_type": "display_data"
    }
   ],
   "source": [
    "# add the feature importance to a dataframe\n",
    "feature_importance_df = pd.DataFrame({\"feature\": feature_list, \"importance\": importances})\n",
    "# sort the dataframe by the importance\n",
    "feature_importance_df = feature_importance_df.sort_values(\"importance\", ascending=False)\n",
    "# set the index to be the feature\n",
    "feature_importance_df = feature_importance_df.set_index(\"feature\", drop=True)\n",
    "# plot the feature importance\n",
    "feature_importance_df.plot(kind=\"bar\")\n",
    "plt.show()"
   ]
  },
  {
   "cell_type": "code",
   "execution_count": 95,
   "metadata": {},
   "outputs": [
    {
     "data": {
      "application/vnd.plotly.v1+json": {
       "config": {
        "plotlyServerURL": "https://plot.ly"
       },
       "data": [
        {
         "alignmentgroup": "True",
         "hovertemplate": "feature=%{x}<br>importance=%{marker.color}<extra></extra>",
         "legendgroup": "",
         "marker": {
          "color": [
           0.3943630803264192,
           0.1937878725714882,
           0.16938625057022866,
           0.15038255825384655,
           0.037865016078313364,
           0.028602335202134434,
           0.006384665517983358,
           0.00574151989130087,
           0.004366599288078427,
           0.0035901129712217756,
           0.0033187426539476334,
           0.0015334711323964903,
           0.0006777755426412739
          ],
          "coloraxis": "coloraxis",
          "pattern": {
           "shape": ""
          }
         },
         "name": "",
         "offsetgroup": "",
         "orientation": "v",
         "showlegend": false,
         "textposition": "auto",
         "type": "bar",
         "x": [
          "Lumber Price Index",
          "Mortgage Rate",
          "NASDAQ",
          "Oil Price",
          "Fed Funds Rate",
          "Construction",
          "Sentiment Index",
          "Housing Starts",
          "Permits",
          "NFCI",
          "Monthly Supply",
          "Units Completed",
          "Pair Count"
         ],
         "xaxis": "x",
         "y": [
          0.3943630803264192,
          0.1937878725714882,
          0.16938625057022866,
          0.15038255825384655,
          0.037865016078313364,
          0.028602335202134434,
          0.006384665517983358,
          0.00574151989130087,
          0.004366599288078427,
          0.0035901129712217756,
          0.0033187426539476334,
          0.0015334711323964903,
          0.0006777755426412739
         ],
         "yaxis": "y"
        }
       ],
       "layout": {
        "barmode": "relative",
        "coloraxis": {
         "colorbar": {
          "title": {
           "text": "importance"
          }
         },
         "colorscale": [
          [
           0,
           "#fee838"
          ],
          [
           0.1111111111111111,
           "#e1cc55"
          ],
          [
           0.2222222222222222,
           "#c3b369"
          ],
          [
           0.3333333333333333,
           "#a59c74"
          ],
          [
           0.4444444444444444,
           "#8a8678"
          ],
          [
           0.5555555555555556,
           "#707173"
          ],
          [
           0.6666666666666666,
           "#575d6d"
          ],
          [
           0.7777777777777778,
           "#3b496c"
          ],
          [
           0.8888888888888888,
           "#123570"
          ],
          [
           1,
           "#00224e"
          ]
         ]
        },
        "legend": {
         "tracegroupgap": 0
        },
        "template": {
         "data": {
          "bar": [
           {
            "error_x": {
             "color": "#2a3f5f"
            },
            "error_y": {
             "color": "#2a3f5f"
            },
            "marker": {
             "line": {
              "color": "#E5ECF6",
              "width": 0.5
             },
             "pattern": {
              "fillmode": "overlay",
              "size": 10,
              "solidity": 0.2
             }
            },
            "type": "bar"
           }
          ],
          "barpolar": [
           {
            "marker": {
             "line": {
              "color": "#E5ECF6",
              "width": 0.5
             },
             "pattern": {
              "fillmode": "overlay",
              "size": 10,
              "solidity": 0.2
             }
            },
            "type": "barpolar"
           }
          ],
          "carpet": [
           {
            "aaxis": {
             "endlinecolor": "#2a3f5f",
             "gridcolor": "white",
             "linecolor": "white",
             "minorgridcolor": "white",
             "startlinecolor": "#2a3f5f"
            },
            "baxis": {
             "endlinecolor": "#2a3f5f",
             "gridcolor": "white",
             "linecolor": "white",
             "minorgridcolor": "white",
             "startlinecolor": "#2a3f5f"
            },
            "type": "carpet"
           }
          ],
          "choropleth": [
           {
            "colorbar": {
             "outlinewidth": 0,
             "ticks": ""
            },
            "type": "choropleth"
           }
          ],
          "contour": [
           {
            "colorbar": {
             "outlinewidth": 0,
             "ticks": ""
            },
            "colorscale": [
             [
              0,
              "#0d0887"
             ],
             [
              0.1111111111111111,
              "#46039f"
             ],
             [
              0.2222222222222222,
              "#7201a8"
             ],
             [
              0.3333333333333333,
              "#9c179e"
             ],
             [
              0.4444444444444444,
              "#bd3786"
             ],
             [
              0.5555555555555556,
              "#d8576b"
             ],
             [
              0.6666666666666666,
              "#ed7953"
             ],
             [
              0.7777777777777778,
              "#fb9f3a"
             ],
             [
              0.8888888888888888,
              "#fdca26"
             ],
             [
              1,
              "#f0f921"
             ]
            ],
            "type": "contour"
           }
          ],
          "contourcarpet": [
           {
            "colorbar": {
             "outlinewidth": 0,
             "ticks": ""
            },
            "type": "contourcarpet"
           }
          ],
          "heatmap": [
           {
            "colorbar": {
             "outlinewidth": 0,
             "ticks": ""
            },
            "colorscale": [
             [
              0,
              "#0d0887"
             ],
             [
              0.1111111111111111,
              "#46039f"
             ],
             [
              0.2222222222222222,
              "#7201a8"
             ],
             [
              0.3333333333333333,
              "#9c179e"
             ],
             [
              0.4444444444444444,
              "#bd3786"
             ],
             [
              0.5555555555555556,
              "#d8576b"
             ],
             [
              0.6666666666666666,
              "#ed7953"
             ],
             [
              0.7777777777777778,
              "#fb9f3a"
             ],
             [
              0.8888888888888888,
              "#fdca26"
             ],
             [
              1,
              "#f0f921"
             ]
            ],
            "type": "heatmap"
           }
          ],
          "heatmapgl": [
           {
            "colorbar": {
             "outlinewidth": 0,
             "ticks": ""
            },
            "colorscale": [
             [
              0,
              "#0d0887"
             ],
             [
              0.1111111111111111,
              "#46039f"
             ],
             [
              0.2222222222222222,
              "#7201a8"
             ],
             [
              0.3333333333333333,
              "#9c179e"
             ],
             [
              0.4444444444444444,
              "#bd3786"
             ],
             [
              0.5555555555555556,
              "#d8576b"
             ],
             [
              0.6666666666666666,
              "#ed7953"
             ],
             [
              0.7777777777777778,
              "#fb9f3a"
             ],
             [
              0.8888888888888888,
              "#fdca26"
             ],
             [
              1,
              "#f0f921"
             ]
            ],
            "type": "heatmapgl"
           }
          ],
          "histogram": [
           {
            "marker": {
             "pattern": {
              "fillmode": "overlay",
              "size": 10,
              "solidity": 0.2
             }
            },
            "type": "histogram"
           }
          ],
          "histogram2d": [
           {
            "colorbar": {
             "outlinewidth": 0,
             "ticks": ""
            },
            "colorscale": [
             [
              0,
              "#0d0887"
             ],
             [
              0.1111111111111111,
              "#46039f"
             ],
             [
              0.2222222222222222,
              "#7201a8"
             ],
             [
              0.3333333333333333,
              "#9c179e"
             ],
             [
              0.4444444444444444,
              "#bd3786"
             ],
             [
              0.5555555555555556,
              "#d8576b"
             ],
             [
              0.6666666666666666,
              "#ed7953"
             ],
             [
              0.7777777777777778,
              "#fb9f3a"
             ],
             [
              0.8888888888888888,
              "#fdca26"
             ],
             [
              1,
              "#f0f921"
             ]
            ],
            "type": "histogram2d"
           }
          ],
          "histogram2dcontour": [
           {
            "colorbar": {
             "outlinewidth": 0,
             "ticks": ""
            },
            "colorscale": [
             [
              0,
              "#0d0887"
             ],
             [
              0.1111111111111111,
              "#46039f"
             ],
             [
              0.2222222222222222,
              "#7201a8"
             ],
             [
              0.3333333333333333,
              "#9c179e"
             ],
             [
              0.4444444444444444,
              "#bd3786"
             ],
             [
              0.5555555555555556,
              "#d8576b"
             ],
             [
              0.6666666666666666,
              "#ed7953"
             ],
             [
              0.7777777777777778,
              "#fb9f3a"
             ],
             [
              0.8888888888888888,
              "#fdca26"
             ],
             [
              1,
              "#f0f921"
             ]
            ],
            "type": "histogram2dcontour"
           }
          ],
          "mesh3d": [
           {
            "colorbar": {
             "outlinewidth": 0,
             "ticks": ""
            },
            "type": "mesh3d"
           }
          ],
          "parcoords": [
           {
            "line": {
             "colorbar": {
              "outlinewidth": 0,
              "ticks": ""
             }
            },
            "type": "parcoords"
           }
          ],
          "pie": [
           {
            "automargin": true,
            "type": "pie"
           }
          ],
          "scatter": [
           {
            "fillpattern": {
             "fillmode": "overlay",
             "size": 10,
             "solidity": 0.2
            },
            "type": "scatter"
           }
          ],
          "scatter3d": [
           {
            "line": {
             "colorbar": {
              "outlinewidth": 0,
              "ticks": ""
             }
            },
            "marker": {
             "colorbar": {
              "outlinewidth": 0,
              "ticks": ""
             }
            },
            "type": "scatter3d"
           }
          ],
          "scattercarpet": [
           {
            "marker": {
             "colorbar": {
              "outlinewidth": 0,
              "ticks": ""
             }
            },
            "type": "scattercarpet"
           }
          ],
          "scattergeo": [
           {
            "marker": {
             "colorbar": {
              "outlinewidth": 0,
              "ticks": ""
             }
            },
            "type": "scattergeo"
           }
          ],
          "scattergl": [
           {
            "marker": {
             "colorbar": {
              "outlinewidth": 0,
              "ticks": ""
             }
            },
            "type": "scattergl"
           }
          ],
          "scattermapbox": [
           {
            "marker": {
             "colorbar": {
              "outlinewidth": 0,
              "ticks": ""
             }
            },
            "type": "scattermapbox"
           }
          ],
          "scatterpolar": [
           {
            "marker": {
             "colorbar": {
              "outlinewidth": 0,
              "ticks": ""
             }
            },
            "type": "scatterpolar"
           }
          ],
          "scatterpolargl": [
           {
            "marker": {
             "colorbar": {
              "outlinewidth": 0,
              "ticks": ""
             }
            },
            "type": "scatterpolargl"
           }
          ],
          "scatterternary": [
           {
            "marker": {
             "colorbar": {
              "outlinewidth": 0,
              "ticks": ""
             }
            },
            "type": "scatterternary"
           }
          ],
          "surface": [
           {
            "colorbar": {
             "outlinewidth": 0,
             "ticks": ""
            },
            "colorscale": [
             [
              0,
              "#0d0887"
             ],
             [
              0.1111111111111111,
              "#46039f"
             ],
             [
              0.2222222222222222,
              "#7201a8"
             ],
             [
              0.3333333333333333,
              "#9c179e"
             ],
             [
              0.4444444444444444,
              "#bd3786"
             ],
             [
              0.5555555555555556,
              "#d8576b"
             ],
             [
              0.6666666666666666,
              "#ed7953"
             ],
             [
              0.7777777777777778,
              "#fb9f3a"
             ],
             [
              0.8888888888888888,
              "#fdca26"
             ],
             [
              1,
              "#f0f921"
             ]
            ],
            "type": "surface"
           }
          ],
          "table": [
           {
            "cells": {
             "fill": {
              "color": "#EBF0F8"
             },
             "line": {
              "color": "white"
             }
            },
            "header": {
             "fill": {
              "color": "#C8D4E3"
             },
             "line": {
              "color": "white"
             }
            },
            "type": "table"
           }
          ]
         },
         "layout": {
          "annotationdefaults": {
           "arrowcolor": "#2a3f5f",
           "arrowhead": 0,
           "arrowwidth": 1
          },
          "autotypenumbers": "strict",
          "coloraxis": {
           "colorbar": {
            "outlinewidth": 0,
            "ticks": ""
           }
          },
          "colorscale": {
           "diverging": [
            [
             0,
             "#8e0152"
            ],
            [
             0.1,
             "#c51b7d"
            ],
            [
             0.2,
             "#de77ae"
            ],
            [
             0.3,
             "#f1b6da"
            ],
            [
             0.4,
             "#fde0ef"
            ],
            [
             0.5,
             "#f7f7f7"
            ],
            [
             0.6,
             "#e6f5d0"
            ],
            [
             0.7,
             "#b8e186"
            ],
            [
             0.8,
             "#7fbc41"
            ],
            [
             0.9,
             "#4d9221"
            ],
            [
             1,
             "#276419"
            ]
           ],
           "sequential": [
            [
             0,
             "#0d0887"
            ],
            [
             0.1111111111111111,
             "#46039f"
            ],
            [
             0.2222222222222222,
             "#7201a8"
            ],
            [
             0.3333333333333333,
             "#9c179e"
            ],
            [
             0.4444444444444444,
             "#bd3786"
            ],
            [
             0.5555555555555556,
             "#d8576b"
            ],
            [
             0.6666666666666666,
             "#ed7953"
            ],
            [
             0.7777777777777778,
             "#fb9f3a"
            ],
            [
             0.8888888888888888,
             "#fdca26"
            ],
            [
             1,
             "#f0f921"
            ]
           ],
           "sequentialminus": [
            [
             0,
             "#0d0887"
            ],
            [
             0.1111111111111111,
             "#46039f"
            ],
            [
             0.2222222222222222,
             "#7201a8"
            ],
            [
             0.3333333333333333,
             "#9c179e"
            ],
            [
             0.4444444444444444,
             "#bd3786"
            ],
            [
             0.5555555555555556,
             "#d8576b"
            ],
            [
             0.6666666666666666,
             "#ed7953"
            ],
            [
             0.7777777777777778,
             "#fb9f3a"
            ],
            [
             0.8888888888888888,
             "#fdca26"
            ],
            [
             1,
             "#f0f921"
            ]
           ]
          },
          "colorway": [
           "#636efa",
           "#EF553B",
           "#00cc96",
           "#ab63fa",
           "#FFA15A",
           "#19d3f3",
           "#FF6692",
           "#B6E880",
           "#FF97FF",
           "#FECB52"
          ],
          "font": {
           "color": "#2a3f5f"
          },
          "geo": {
           "bgcolor": "white",
           "lakecolor": "white",
           "landcolor": "#E5ECF6",
           "showlakes": true,
           "showland": true,
           "subunitcolor": "white"
          },
          "hoverlabel": {
           "align": "left"
          },
          "hovermode": "closest",
          "mapbox": {
           "style": "light"
          },
          "paper_bgcolor": "white",
          "plot_bgcolor": "#E5ECF6",
          "polar": {
           "angularaxis": {
            "gridcolor": "white",
            "linecolor": "white",
            "ticks": ""
           },
           "bgcolor": "#E5ECF6",
           "radialaxis": {
            "gridcolor": "white",
            "linecolor": "white",
            "ticks": ""
           }
          },
          "scene": {
           "xaxis": {
            "backgroundcolor": "#E5ECF6",
            "gridcolor": "white",
            "gridwidth": 2,
            "linecolor": "white",
            "showbackground": true,
            "ticks": "",
            "zerolinecolor": "white"
           },
           "yaxis": {
            "backgroundcolor": "#E5ECF6",
            "gridcolor": "white",
            "gridwidth": 2,
            "linecolor": "white",
            "showbackground": true,
            "ticks": "",
            "zerolinecolor": "white"
           },
           "zaxis": {
            "backgroundcolor": "#E5ECF6",
            "gridcolor": "white",
            "gridwidth": 2,
            "linecolor": "white",
            "showbackground": true,
            "ticks": "",
            "zerolinecolor": "white"
           }
          },
          "shapedefaults": {
           "line": {
            "color": "#2a3f5f"
           }
          },
          "ternary": {
           "aaxis": {
            "gridcolor": "white",
            "linecolor": "white",
            "ticks": ""
           },
           "baxis": {
            "gridcolor": "white",
            "linecolor": "white",
            "ticks": ""
           },
           "bgcolor": "#E5ECF6",
           "caxis": {
            "gridcolor": "white",
            "linecolor": "white",
            "ticks": ""
           }
          },
          "title": {
           "x": 0.05
          },
          "xaxis": {
           "automargin": true,
           "gridcolor": "white",
           "linecolor": "white",
           "ticks": "",
           "title": {
            "standoff": 15
           },
           "zerolinecolor": "white",
           "zerolinewidth": 2
          },
          "yaxis": {
           "automargin": true,
           "gridcolor": "white",
           "linecolor": "white",
           "ticks": "",
           "title": {
            "standoff": 15
           },
           "zerolinecolor": "white",
           "zerolinewidth": 2
          }
         }
        },
        "title": {
         "text": "Feature Importance"
        },
        "xaxis": {
         "anchor": "y",
         "domain": [
          0,
          1
         ],
         "title": {
          "text": "feature"
         }
        },
        "yaxis": {
         "anchor": "x",
         "domain": [
          0,
          1
         ],
         "title": {
          "text": "importance"
         }
        }
       }
      }
     },
     "metadata": {},
     "output_type": "display_data"
    }
   ],
   "source": [
    "# use plotly to create a bar chart of the feature importance\n",
    "fig = px.bar(feature_importance_df, x=feature_importance_df.index, y=\"importance\", title=\"Feature Importance\", color=\"importance\", color_continuous_scale=px.colors.sequential.Cividis_r)\n",
    "# save the plot as a png file\n",
    "fig.write_image(\"images/feature_importance_custom.png\")\n",
    "# show the plot\n",
    "fig.show()"
   ]
  },
  {
   "cell_type": "code",
   "execution_count": 96,
   "metadata": {},
   "outputs": [],
   "source": [
    "# define a function to output images of tables\n",
    "def save_df_as_image(df, filename):\n",
    "    source = ColumnDataSource(df)\n",
    "    columns = [TableColumn(field=Ci, title=Ci) for Ci in df.columns]  # bokeh columns\n",
    "    # add index column\n",
    "    columns.insert(0, TableColumn(field=\"index\", title=\"index\"))\n",
    "    # use df index as index column\n",
    "    source.add(df.index, \"index\")\n",
    "    data_table = DataTable(columns=columns, source=source, width=800, height=280)\n",
    "    export_png(data_table, filename=filename)"
   ]
  },
  {
   "cell_type": "code",
   "execution_count": 97,
   "metadata": {},
   "outputs": [],
   "source": [
    "# save a table of the feature importance\n",
    "save_df_as_image(feature_importance_df, \"images/feature_importance_custom_table.png\")"
   ]
  }
 ],
 "metadata": {
  "kernelspec": {
   "display_name": "PythonData",
   "language": "python",
   "name": "python3"
  },
  "language_info": {
   "codemirror_mode": {
    "name": "ipython",
    "version": 3
   },
   "file_extension": ".py",
   "mimetype": "text/x-python",
   "name": "python",
   "nbconvert_exporter": "python",
   "pygments_lexer": "ipython3",
   "version": "3.7.7"
  },
  "orig_nbformat": 4
 },
 "nbformat": 4,
 "nbformat_minor": 2
}
