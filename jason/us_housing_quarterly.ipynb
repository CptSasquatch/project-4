{
 "cells": [
  {
   "attachments": {},
   "cell_type": "markdown",
   "metadata": {},
   "source": [
    "# US Housing Market Analysis"
   ]
  },
  {
   "cell_type": "code",
   "execution_count": 2,
   "metadata": {},
   "outputs": [],
   "source": [
    "#import dependencies\n",
    "import pandas as pd\n",
    "import numpy as np\n",
    "import matplotlib.pyplot as plt\n",
    "import plotly.express as px\n",
    "from kaleido.scopes.plotly import PlotlyScope\n",
    "from bokeh.io import export_png\n",
    "from bokeh.models import ColumnDataSource, DataTable, TableColumn\n",
    "from pathlib import Path\n",
    "from sklearn.ensemble import RandomForestRegressor\n",
    "from sklearn.preprocessing import StandardScaler\n",
    "from sklearn.model_selection import train_test_split\n",
    "from sklearn.metrics import confusion_matrix, accuracy_score, classification_report"
   ]
  },
  {
   "attachments": {},
   "cell_type": "markdown",
   "metadata": {},
   "source": [
    "# Loading and cleaning data\n",
    "We will be using data from [US Housing Market Analysis: Supply-Demand Dynamics](https://www.kaggle.com/datasets/utkarshx27/factors-influence-house-price-in-us) on Kaggle. There are 2 csv files in this dataset: `supply.csv' and `demand.csv`. "
   ]
  },
  {
   "cell_type": "code",
   "execution_count": 3,
   "metadata": {},
   "outputs": [
    {
     "data": {
      "text/html": [
       "<div>\n",
       "<style scoped>\n",
       "    .dataframe tbody tr th:only-of-type {\n",
       "        vertical-align: middle;\n",
       "    }\n",
       "\n",
       "    .dataframe tbody tr th {\n",
       "        vertical-align: top;\n",
       "    }\n",
       "\n",
       "    .dataframe thead th {\n",
       "        text-align: right;\n",
       "    }\n",
       "</style>\n",
       "<table border=\"1\" class=\"dataframe\">\n",
       "  <thead>\n",
       "    <tr style=\"text-align: right;\">\n",
       "      <th></th>\n",
       "      <th>DATE</th>\n",
       "      <th>CSUSHPISA</th>\n",
       "      <th>MSACSR</th>\n",
       "      <th>PERMIT</th>\n",
       "      <th>TLRESCONS</th>\n",
       "      <th>EVACANTUSQ176N</th>\n",
       "    </tr>\n",
       "  </thead>\n",
       "  <tbody>\n",
       "    <tr>\n",
       "      <th>0</th>\n",
       "      <td>01-01-2003</td>\n",
       "      <td>129.321</td>\n",
       "      <td>4.2</td>\n",
       "      <td>1806.333333</td>\n",
       "      <td>421328.6667</td>\n",
       "      <td>14908</td>\n",
       "    </tr>\n",
       "    <tr>\n",
       "      <th>1</th>\n",
       "      <td>01-04-2003</td>\n",
       "      <td>131.756</td>\n",
       "      <td>3.833333333</td>\n",
       "      <td>1837.666667</td>\n",
       "      <td>429308.6667</td>\n",
       "      <td>15244</td>\n",
       "    </tr>\n",
       "    <tr>\n",
       "      <th>2</th>\n",
       "      <td>01-07-2003</td>\n",
       "      <td>135.013</td>\n",
       "      <td>3.633333333</td>\n",
       "      <td>1937.333333</td>\n",
       "      <td>458890</td>\n",
       "      <td>15614</td>\n",
       "    </tr>\n",
       "    <tr>\n",
       "      <th>3</th>\n",
       "      <td>01-10-2003</td>\n",
       "      <td>138.8356667</td>\n",
       "      <td>3.966666667</td>\n",
       "      <td>1972.333333</td>\n",
       "      <td>491437.3333</td>\n",
       "      <td>15654</td>\n",
       "    </tr>\n",
       "    <tr>\n",
       "      <th>4</th>\n",
       "      <td>01-01-2004</td>\n",
       "      <td>143.2986667</td>\n",
       "      <td>3.7</td>\n",
       "      <td>1994.666667</td>\n",
       "      <td>506856.3333</td>\n",
       "      <td>15895</td>\n",
       "    </tr>\n",
       "  </tbody>\n",
       "</table>\n",
       "</div>"
      ],
      "text/plain": [
       "         DATE    CSUSHPISA       MSACSR       PERMIT    TLRESCONS  \\\n",
       "0  01-01-2003      129.321          4.2  1806.333333  421328.6667   \n",
       "1  01-04-2003      131.756  3.833333333  1837.666667  429308.6667   \n",
       "2  01-07-2003      135.013  3.633333333  1937.333333       458890   \n",
       "3  01-10-2003  138.8356667  3.966666667  1972.333333  491437.3333   \n",
       "4  01-01-2004  143.2986667          3.7  1994.666667  506856.3333   \n",
       "\n",
       "  EVACANTUSQ176N  \n",
       "0          14908  \n",
       "1          15244  \n",
       "2          15614  \n",
       "3          15654  \n",
       "4          15895  "
      ]
     },
     "execution_count": 3,
     "metadata": {},
     "output_type": "execute_result"
    }
   ],
   "source": [
    "# Read in data\n",
    "file_path = Path(\"data/supply.csv\")\n",
    "supply_df = pd.read_csv(file_path)\n",
    "supply_df.head()"
   ]
  },
  {
   "cell_type": "code",
   "execution_count": 4,
   "metadata": {},
   "outputs": [
    {
     "data": {
      "text/html": [
       "<div>\n",
       "<style scoped>\n",
       "    .dataframe tbody tr th:only-of-type {\n",
       "        vertical-align: middle;\n",
       "    }\n",
       "\n",
       "    .dataframe tbody tr th {\n",
       "        vertical-align: top;\n",
       "    }\n",
       "\n",
       "    .dataframe thead th {\n",
       "        text-align: right;\n",
       "    }\n",
       "</style>\n",
       "<table border=\"1\" class=\"dataframe\">\n",
       "  <thead>\n",
       "    <tr style=\"text-align: right;\">\n",
       "      <th></th>\n",
       "      <th>DATE</th>\n",
       "      <th>CSUSHPISA</th>\n",
       "      <th>MORTGAGE30US</th>\n",
       "      <th>UMCSENT</th>\n",
       "      <th>INTDSRUSM193N</th>\n",
       "      <th>MSPUS</th>\n",
       "      <th>GDP</th>\n",
       "    </tr>\n",
       "  </thead>\n",
       "  <tbody>\n",
       "    <tr>\n",
       "      <th>0</th>\n",
       "      <td>01-01-2003</td>\n",
       "      <td>129.321000</td>\n",
       "      <td>5.840769</td>\n",
       "      <td>79.966667</td>\n",
       "      <td>2.250000</td>\n",
       "      <td>186000</td>\n",
       "      <td>11174.129</td>\n",
       "    </tr>\n",
       "    <tr>\n",
       "      <th>1</th>\n",
       "      <td>01-04-2003</td>\n",
       "      <td>131.756000</td>\n",
       "      <td>5.506923</td>\n",
       "      <td>89.266667</td>\n",
       "      <td>2.166667</td>\n",
       "      <td>191800</td>\n",
       "      <td>11312.766</td>\n",
       "    </tr>\n",
       "    <tr>\n",
       "      <th>2</th>\n",
       "      <td>01-07-2003</td>\n",
       "      <td>135.013000</td>\n",
       "      <td>6.033846</td>\n",
       "      <td>89.300000</td>\n",
       "      <td>2.000000</td>\n",
       "      <td>191900</td>\n",
       "      <td>11566.669</td>\n",
       "    </tr>\n",
       "    <tr>\n",
       "      <th>3</th>\n",
       "      <td>01-10-2003</td>\n",
       "      <td>138.835667</td>\n",
       "      <td>5.919286</td>\n",
       "      <td>91.966667</td>\n",
       "      <td>2.000000</td>\n",
       "      <td>198800</td>\n",
       "      <td>11772.234</td>\n",
       "    </tr>\n",
       "    <tr>\n",
       "      <th>4</th>\n",
       "      <td>01-01-2004</td>\n",
       "      <td>143.298667</td>\n",
       "      <td>5.597500</td>\n",
       "      <td>98.000000</td>\n",
       "      <td>2.000000</td>\n",
       "      <td>212700</td>\n",
       "      <td>11923.447</td>\n",
       "    </tr>\n",
       "  </tbody>\n",
       "</table>\n",
       "</div>"
      ],
      "text/plain": [
       "         DATE   CSUSHPISA  MORTGAGE30US    UMCSENT  INTDSRUSM193N   MSPUS  \\\n",
       "0  01-01-2003  129.321000      5.840769  79.966667       2.250000  186000   \n",
       "1  01-04-2003  131.756000      5.506923  89.266667       2.166667  191800   \n",
       "2  01-07-2003  135.013000      6.033846  89.300000       2.000000  191900   \n",
       "3  01-10-2003  138.835667      5.919286  91.966667       2.000000  198800   \n",
       "4  01-01-2004  143.298667      5.597500  98.000000       2.000000  212700   \n",
       "\n",
       "         GDP  \n",
       "0  11174.129  \n",
       "1  11312.766  \n",
       "2  11566.669  \n",
       "3  11772.234  \n",
       "4  11923.447  "
      ]
     },
     "execution_count": 4,
     "metadata": {},
     "output_type": "execute_result"
    }
   ],
   "source": [
    "# Read in data\n",
    "file_path = Path(\"data/demand.csv\")\n",
    "demand_df = pd.read_csv(file_path)\n",
    "demand_df.head()"
   ]
  },
  {
   "cell_type": "code",
   "execution_count": 5,
   "metadata": {},
   "outputs": [
    {
     "data": {
      "text/html": [
       "<div>\n",
       "<style scoped>\n",
       "    .dataframe tbody tr th:only-of-type {\n",
       "        vertical-align: middle;\n",
       "    }\n",
       "\n",
       "    .dataframe tbody tr th {\n",
       "        vertical-align: top;\n",
       "    }\n",
       "\n",
       "    .dataframe thead th {\n",
       "        text-align: right;\n",
       "    }\n",
       "</style>\n",
       "<table border=\"1\" class=\"dataframe\">\n",
       "  <thead>\n",
       "    <tr style=\"text-align: right;\">\n",
       "      <th></th>\n",
       "      <th>DATE</th>\n",
       "      <th>CSUSHPISA_x</th>\n",
       "      <th>MSACSR</th>\n",
       "      <th>PERMIT</th>\n",
       "      <th>TLRESCONS</th>\n",
       "      <th>EVACANTUSQ176N</th>\n",
       "      <th>CSUSHPISA_y</th>\n",
       "      <th>MORTGAGE30US</th>\n",
       "      <th>UMCSENT</th>\n",
       "      <th>INTDSRUSM193N</th>\n",
       "      <th>MSPUS</th>\n",
       "      <th>GDP</th>\n",
       "    </tr>\n",
       "  </thead>\n",
       "  <tbody>\n",
       "    <tr>\n",
       "      <th>0</th>\n",
       "      <td>01-01-2003</td>\n",
       "      <td>129.321</td>\n",
       "      <td>4.2</td>\n",
       "      <td>1806.333333</td>\n",
       "      <td>421328.6667</td>\n",
       "      <td>14908</td>\n",
       "      <td>129.321000</td>\n",
       "      <td>5.840769</td>\n",
       "      <td>79.966667</td>\n",
       "      <td>2.250000</td>\n",
       "      <td>186000</td>\n",
       "      <td>11174.129</td>\n",
       "    </tr>\n",
       "    <tr>\n",
       "      <th>1</th>\n",
       "      <td>01-04-2003</td>\n",
       "      <td>131.756</td>\n",
       "      <td>3.833333333</td>\n",
       "      <td>1837.666667</td>\n",
       "      <td>429308.6667</td>\n",
       "      <td>15244</td>\n",
       "      <td>131.756000</td>\n",
       "      <td>5.506923</td>\n",
       "      <td>89.266667</td>\n",
       "      <td>2.166667</td>\n",
       "      <td>191800</td>\n",
       "      <td>11312.766</td>\n",
       "    </tr>\n",
       "    <tr>\n",
       "      <th>2</th>\n",
       "      <td>01-07-2003</td>\n",
       "      <td>135.013</td>\n",
       "      <td>3.633333333</td>\n",
       "      <td>1937.333333</td>\n",
       "      <td>458890</td>\n",
       "      <td>15614</td>\n",
       "      <td>135.013000</td>\n",
       "      <td>6.033846</td>\n",
       "      <td>89.300000</td>\n",
       "      <td>2.000000</td>\n",
       "      <td>191900</td>\n",
       "      <td>11566.669</td>\n",
       "    </tr>\n",
       "    <tr>\n",
       "      <th>3</th>\n",
       "      <td>01-10-2003</td>\n",
       "      <td>138.8356667</td>\n",
       "      <td>3.966666667</td>\n",
       "      <td>1972.333333</td>\n",
       "      <td>491437.3333</td>\n",
       "      <td>15654</td>\n",
       "      <td>138.835667</td>\n",
       "      <td>5.919286</td>\n",
       "      <td>91.966667</td>\n",
       "      <td>2.000000</td>\n",
       "      <td>198800</td>\n",
       "      <td>11772.234</td>\n",
       "    </tr>\n",
       "    <tr>\n",
       "      <th>4</th>\n",
       "      <td>01-01-2004</td>\n",
       "      <td>143.2986667</td>\n",
       "      <td>3.7</td>\n",
       "      <td>1994.666667</td>\n",
       "      <td>506856.3333</td>\n",
       "      <td>15895</td>\n",
       "      <td>143.298667</td>\n",
       "      <td>5.597500</td>\n",
       "      <td>98.000000</td>\n",
       "      <td>2.000000</td>\n",
       "      <td>212700</td>\n",
       "      <td>11923.447</td>\n",
       "    </tr>\n",
       "  </tbody>\n",
       "</table>\n",
       "</div>"
      ],
      "text/plain": [
       "         DATE  CSUSHPISA_x       MSACSR       PERMIT    TLRESCONS  \\\n",
       "0  01-01-2003      129.321          4.2  1806.333333  421328.6667   \n",
       "1  01-04-2003      131.756  3.833333333  1837.666667  429308.6667   \n",
       "2  01-07-2003      135.013  3.633333333  1937.333333       458890   \n",
       "3  01-10-2003  138.8356667  3.966666667  1972.333333  491437.3333   \n",
       "4  01-01-2004  143.2986667          3.7  1994.666667  506856.3333   \n",
       "\n",
       "  EVACANTUSQ176N  CSUSHPISA_y  MORTGAGE30US    UMCSENT  INTDSRUSM193N   MSPUS  \\\n",
       "0          14908   129.321000      5.840769  79.966667       2.250000  186000   \n",
       "1          15244   131.756000      5.506923  89.266667       2.166667  191800   \n",
       "2          15614   135.013000      6.033846  89.300000       2.000000  191900   \n",
       "3          15654   138.835667      5.919286  91.966667       2.000000  198800   \n",
       "4          15895   143.298667      5.597500  98.000000       2.000000  212700   \n",
       "\n",
       "         GDP  \n",
       "0  11174.129  \n",
       "1  11312.766  \n",
       "2  11566.669  \n",
       "3  11772.234  \n",
       "4  11923.447  "
      ]
     },
     "execution_count": 5,
     "metadata": {},
     "output_type": "execute_result"
    }
   ],
   "source": [
    "# combine data\n",
    "combined_df = pd.merge(supply_df, demand_df, on=\"DATE\")\n",
    "combined_df.head()"
   ]
  },
  {
   "cell_type": "code",
   "execution_count": 6,
   "metadata": {},
   "outputs": [
    {
     "data": {
      "text/html": [
       "<div>\n",
       "<style scoped>\n",
       "    .dataframe tbody tr th:only-of-type {\n",
       "        vertical-align: middle;\n",
       "    }\n",
       "\n",
       "    .dataframe tbody tr th {\n",
       "        vertical-align: top;\n",
       "    }\n",
       "\n",
       "    .dataframe thead th {\n",
       "        text-align: right;\n",
       "    }\n",
       "</style>\n",
       "<table border=\"1\" class=\"dataframe\">\n",
       "  <thead>\n",
       "    <tr style=\"text-align: right;\">\n",
       "      <th></th>\n",
       "      <th>DATE</th>\n",
       "      <th>CSUSHPISA</th>\n",
       "      <th>MSACSR</th>\n",
       "      <th>PERMIT</th>\n",
       "      <th>TLRESCONS</th>\n",
       "      <th>EVACANTUSQ176N</th>\n",
       "      <th>MORTGAGE30US</th>\n",
       "      <th>UMCSENT</th>\n",
       "      <th>INTDSRUSM193N</th>\n",
       "      <th>MSPUS</th>\n",
       "      <th>GDP</th>\n",
       "    </tr>\n",
       "  </thead>\n",
       "  <tbody>\n",
       "    <tr>\n",
       "      <th>0</th>\n",
       "      <td>01-01-2003</td>\n",
       "      <td>129.321</td>\n",
       "      <td>4.2</td>\n",
       "      <td>1806.333333</td>\n",
       "      <td>421328.6667</td>\n",
       "      <td>14908</td>\n",
       "      <td>5.840769</td>\n",
       "      <td>79.966667</td>\n",
       "      <td>2.250000</td>\n",
       "      <td>186000</td>\n",
       "      <td>11174.129</td>\n",
       "    </tr>\n",
       "    <tr>\n",
       "      <th>1</th>\n",
       "      <td>01-04-2003</td>\n",
       "      <td>131.756</td>\n",
       "      <td>3.833333333</td>\n",
       "      <td>1837.666667</td>\n",
       "      <td>429308.6667</td>\n",
       "      <td>15244</td>\n",
       "      <td>5.506923</td>\n",
       "      <td>89.266667</td>\n",
       "      <td>2.166667</td>\n",
       "      <td>191800</td>\n",
       "      <td>11312.766</td>\n",
       "    </tr>\n",
       "    <tr>\n",
       "      <th>2</th>\n",
       "      <td>01-07-2003</td>\n",
       "      <td>135.013</td>\n",
       "      <td>3.633333333</td>\n",
       "      <td>1937.333333</td>\n",
       "      <td>458890</td>\n",
       "      <td>15614</td>\n",
       "      <td>6.033846</td>\n",
       "      <td>89.300000</td>\n",
       "      <td>2.000000</td>\n",
       "      <td>191900</td>\n",
       "      <td>11566.669</td>\n",
       "    </tr>\n",
       "    <tr>\n",
       "      <th>3</th>\n",
       "      <td>01-10-2003</td>\n",
       "      <td>138.8356667</td>\n",
       "      <td>3.966666667</td>\n",
       "      <td>1972.333333</td>\n",
       "      <td>491437.3333</td>\n",
       "      <td>15654</td>\n",
       "      <td>5.919286</td>\n",
       "      <td>91.966667</td>\n",
       "      <td>2.000000</td>\n",
       "      <td>198800</td>\n",
       "      <td>11772.234</td>\n",
       "    </tr>\n",
       "    <tr>\n",
       "      <th>4</th>\n",
       "      <td>01-01-2004</td>\n",
       "      <td>143.2986667</td>\n",
       "      <td>3.7</td>\n",
       "      <td>1994.666667</td>\n",
       "      <td>506856.3333</td>\n",
       "      <td>15895</td>\n",
       "      <td>5.597500</td>\n",
       "      <td>98.000000</td>\n",
       "      <td>2.000000</td>\n",
       "      <td>212700</td>\n",
       "      <td>11923.447</td>\n",
       "    </tr>\n",
       "  </tbody>\n",
       "</table>\n",
       "</div>"
      ],
      "text/plain": [
       "         DATE    CSUSHPISA       MSACSR       PERMIT    TLRESCONS  \\\n",
       "0  01-01-2003      129.321          4.2  1806.333333  421328.6667   \n",
       "1  01-04-2003      131.756  3.833333333  1837.666667  429308.6667   \n",
       "2  01-07-2003      135.013  3.633333333  1937.333333       458890   \n",
       "3  01-10-2003  138.8356667  3.966666667  1972.333333  491437.3333   \n",
       "4  01-01-2004  143.2986667          3.7  1994.666667  506856.3333   \n",
       "\n",
       "  EVACANTUSQ176N  MORTGAGE30US    UMCSENT  INTDSRUSM193N   MSPUS        GDP  \n",
       "0          14908      5.840769  79.966667       2.250000  186000  11174.129  \n",
       "1          15244      5.506923  89.266667       2.166667  191800  11312.766  \n",
       "2          15614      6.033846  89.300000       2.000000  191900  11566.669  \n",
       "3          15654      5.919286  91.966667       2.000000  198800  11772.234  \n",
       "4          15895      5.597500  98.000000       2.000000  212700  11923.447  "
      ]
     },
     "execution_count": 6,
     "metadata": {},
     "output_type": "execute_result"
    }
   ],
   "source": [
    "# rename CSUSHPISA_x to CSUSHPISA and drop CSUSHPISA_y\n",
    "combined_df = combined_df.rename(columns={\"CSUSHPISA_x\": \"CSUSHPISA\"})\n",
    "combined_df = combined_df.drop(columns=[\"CSUSHPISA_y\"])\n",
    "combined_df.head()"
   ]
  },
  {
   "cell_type": "code",
   "execution_count": 7,
   "metadata": {},
   "outputs": [],
   "source": [
    "# fill NaN values for INTDSRUSM193N with value from previous row\n",
    "combined_df[\"INTDSRUSM193N\"] = combined_df[\"INTDSRUSM193N\"].fillna(method=\"ffill\")\n"
   ]
  },
  {
   "cell_type": "code",
   "execution_count": 8,
   "metadata": {},
   "outputs": [
    {
     "data": {
      "text/html": [
       "<div>\n",
       "<style scoped>\n",
       "    .dataframe tbody tr th:only-of-type {\n",
       "        vertical-align: middle;\n",
       "    }\n",
       "\n",
       "    .dataframe tbody tr th {\n",
       "        vertical-align: top;\n",
       "    }\n",
       "\n",
       "    .dataframe thead th {\n",
       "        text-align: right;\n",
       "    }\n",
       "</style>\n",
       "<table border=\"1\" class=\"dataframe\">\n",
       "  <thead>\n",
       "    <tr style=\"text-align: right;\">\n",
       "      <th></th>\n",
       "      <th>DATE</th>\n",
       "      <th>CSUSHPISA</th>\n",
       "      <th>MSACSR</th>\n",
       "      <th>PERMIT</th>\n",
       "      <th>TLRESCONS</th>\n",
       "      <th>EVACANTUSQ176N</th>\n",
       "      <th>MORTGAGE30US</th>\n",
       "      <th>UMCSENT</th>\n",
       "      <th>INTDSRUSM193N</th>\n",
       "      <th>MSPUS</th>\n",
       "      <th>GDP</th>\n",
       "    </tr>\n",
       "  </thead>\n",
       "  <tbody>\n",
       "    <tr>\n",
       "      <th>0</th>\n",
       "      <td>01-01-2003</td>\n",
       "      <td>129.321</td>\n",
       "      <td>4.2</td>\n",
       "      <td>1806.333333</td>\n",
       "      <td>421328.6667</td>\n",
       "      <td>14908</td>\n",
       "      <td>5.840769</td>\n",
       "      <td>79.966667</td>\n",
       "      <td>2.250000</td>\n",
       "      <td>186000</td>\n",
       "      <td>11174.129</td>\n",
       "    </tr>\n",
       "    <tr>\n",
       "      <th>1</th>\n",
       "      <td>01-04-2003</td>\n",
       "      <td>131.756</td>\n",
       "      <td>3.833333333</td>\n",
       "      <td>1837.666667</td>\n",
       "      <td>429308.6667</td>\n",
       "      <td>15244</td>\n",
       "      <td>5.506923</td>\n",
       "      <td>89.266667</td>\n",
       "      <td>2.166667</td>\n",
       "      <td>191800</td>\n",
       "      <td>11312.766</td>\n",
       "    </tr>\n",
       "    <tr>\n",
       "      <th>2</th>\n",
       "      <td>01-07-2003</td>\n",
       "      <td>135.013</td>\n",
       "      <td>3.633333333</td>\n",
       "      <td>1937.333333</td>\n",
       "      <td>458890</td>\n",
       "      <td>15614</td>\n",
       "      <td>6.033846</td>\n",
       "      <td>89.300000</td>\n",
       "      <td>2.000000</td>\n",
       "      <td>191900</td>\n",
       "      <td>11566.669</td>\n",
       "    </tr>\n",
       "    <tr>\n",
       "      <th>3</th>\n",
       "      <td>01-10-2003</td>\n",
       "      <td>138.8356667</td>\n",
       "      <td>3.966666667</td>\n",
       "      <td>1972.333333</td>\n",
       "      <td>491437.3333</td>\n",
       "      <td>15654</td>\n",
       "      <td>5.919286</td>\n",
       "      <td>91.966667</td>\n",
       "      <td>2.000000</td>\n",
       "      <td>198800</td>\n",
       "      <td>11772.234</td>\n",
       "    </tr>\n",
       "    <tr>\n",
       "      <th>4</th>\n",
       "      <td>01-01-2004</td>\n",
       "      <td>143.2986667</td>\n",
       "      <td>3.7</td>\n",
       "      <td>1994.666667</td>\n",
       "      <td>506856.3333</td>\n",
       "      <td>15895</td>\n",
       "      <td>5.597500</td>\n",
       "      <td>98.000000</td>\n",
       "      <td>2.000000</td>\n",
       "      <td>212700</td>\n",
       "      <td>11923.447</td>\n",
       "    </tr>\n",
       "  </tbody>\n",
       "</table>\n",
       "</div>"
      ],
      "text/plain": [
       "         DATE    CSUSHPISA       MSACSR       PERMIT    TLRESCONS  \\\n",
       "0  01-01-2003      129.321          4.2  1806.333333  421328.6667   \n",
       "1  01-04-2003      131.756  3.833333333  1837.666667  429308.6667   \n",
       "2  01-07-2003      135.013  3.633333333  1937.333333       458890   \n",
       "3  01-10-2003  138.8356667  3.966666667  1972.333333  491437.3333   \n",
       "4  01-01-2004  143.2986667          3.7  1994.666667  506856.3333   \n",
       "\n",
       "  EVACANTUSQ176N  MORTGAGE30US    UMCSENT  INTDSRUSM193N   MSPUS        GDP  \n",
       "0          14908      5.840769  79.966667       2.250000  186000  11174.129  \n",
       "1          15244      5.506923  89.266667       2.166667  191800  11312.766  \n",
       "2          15614      6.033846  89.300000       2.000000  191900  11566.669  \n",
       "3          15654      5.919286  91.966667       2.000000  198800  11772.234  \n",
       "4          15895      5.597500  98.000000       2.000000  212700  11923.447  "
      ]
     },
     "execution_count": 8,
     "metadata": {},
     "output_type": "execute_result"
    }
   ],
   "source": [
    "combined_df.head()"
   ]
  },
  {
   "cell_type": "code",
   "execution_count": 9,
   "metadata": {},
   "outputs": [
    {
     "data": {
      "text/html": [
       "<div>\n",
       "<style scoped>\n",
       "    .dataframe tbody tr th:only-of-type {\n",
       "        vertical-align: middle;\n",
       "    }\n",
       "\n",
       "    .dataframe tbody tr th {\n",
       "        vertical-align: top;\n",
       "    }\n",
       "\n",
       "    .dataframe thead th {\n",
       "        text-align: right;\n",
       "    }\n",
       "</style>\n",
       "<table border=\"1\" class=\"dataframe\">\n",
       "  <thead>\n",
       "    <tr style=\"text-align: right;\">\n",
       "      <th></th>\n",
       "      <th>DATE</th>\n",
       "      <th>CSUSHPISA</th>\n",
       "      <th>MSACSR</th>\n",
       "      <th>PERMIT</th>\n",
       "      <th>TLRESCONS</th>\n",
       "      <th>EVACANTUSQ176N</th>\n",
       "      <th>MORTGAGE30US</th>\n",
       "      <th>UMCSENT</th>\n",
       "      <th>INTDSRUSM193N</th>\n",
       "      <th>MSPUS</th>\n",
       "      <th>GDP</th>\n",
       "    </tr>\n",
       "  </thead>\n",
       "  <tbody>\n",
       "    <tr>\n",
       "      <th>76</th>\n",
       "      <td>01-01-2022</td>\n",
       "      <td>290.868</td>\n",
       "      <td>6.233333333</td>\n",
       "      <td>1864</td>\n",
       "      <td>910611</td>\n",
       "      <td>15166</td>\n",
       "      <td>3.822308</td>\n",
       "      <td>63.133333</td>\n",
       "      <td>0.25</td>\n",
       "      <td>433100</td>\n",
       "      <td>24740.480</td>\n",
       "    </tr>\n",
       "    <tr>\n",
       "      <th>77</th>\n",
       "      <td>01-04-2022</td>\n",
       "      <td>303.4226667</td>\n",
       "      <td>8.7</td>\n",
       "      <td>1734.666667</td>\n",
       "      <td>947300.3333</td>\n",
       "      <td>15286</td>\n",
       "      <td>5.266154</td>\n",
       "      <td>57.866667</td>\n",
       "      <td>0.25</td>\n",
       "      <td>449300</td>\n",
       "      <td>25248.476</td>\n",
       "    </tr>\n",
       "    <tr>\n",
       "      <th>78</th>\n",
       "      <td>01-07-2022</td>\n",
       "      <td>301.7263333</td>\n",
       "      <td>9.566666667</td>\n",
       "      <td>1610.666667</td>\n",
       "      <td>910346</td>\n",
       "      <td>15306</td>\n",
       "      <td>5.623077</td>\n",
       "      <td>56.100000</td>\n",
       "      <td>0.25</td>\n",
       "      <td>468000</td>\n",
       "      <td>25723.941</td>\n",
       "    </tr>\n",
       "    <tr>\n",
       "      <th>79</th>\n",
       "      <td>01-10-2022</td>\n",
       "      <td>297.8966667</td>\n",
       "      <td>9.2</td>\n",
       "      <td>1455.333333</td>\n",
       "      <td>870620.6667</td>\n",
       "      <td>14554</td>\n",
       "      <td>6.664615</td>\n",
       "      <td>58.800000</td>\n",
       "      <td>0.25</td>\n",
       "      <td>479500</td>\n",
       "      <td>26137.992</td>\n",
       "    </tr>\n",
       "    <tr>\n",
       "      <th>80</th>\n",
       "      <td>01-01-2023</td>\n",
       "      <td>294.30366667</td>\n",
       "      <td>8.033333333</td>\n",
       "      <td>1424.333333</td>\n",
       "      <td>842559.6667</td>\n",
       "      <td>15053</td>\n",
       "      <td>6.372308</td>\n",
       "      <td>64.633333</td>\n",
       "      <td>0.25</td>\n",
       "      <td>436800</td>\n",
       "      <td>26465.865</td>\n",
       "    </tr>\n",
       "  </tbody>\n",
       "</table>\n",
       "</div>"
      ],
      "text/plain": [
       "          DATE     CSUSHPISA       MSACSR       PERMIT    TLRESCONS  \\\n",
       "76  01-01-2022       290.868  6.233333333         1864       910611   \n",
       "77  01-04-2022   303.4226667          8.7  1734.666667  947300.3333   \n",
       "78  01-07-2022   301.7263333  9.566666667  1610.666667       910346   \n",
       "79  01-10-2022   297.8966667          9.2  1455.333333  870620.6667   \n",
       "80  01-01-2023  294.30366667  8.033333333  1424.333333  842559.6667   \n",
       "\n",
       "   EVACANTUSQ176N  MORTGAGE30US    UMCSENT  INTDSRUSM193N   MSPUS        GDP  \n",
       "76          15166      3.822308  63.133333           0.25  433100  24740.480  \n",
       "77          15286      5.266154  57.866667           0.25  449300  25248.476  \n",
       "78          15306      5.623077  56.100000           0.25  468000  25723.941  \n",
       "79          14554      6.664615  58.800000           0.25  479500  26137.992  \n",
       "80          15053      6.372308  64.633333           0.25  436800  26465.865  "
      ]
     },
     "execution_count": 9,
     "metadata": {},
     "output_type": "execute_result"
    }
   ],
   "source": [
    "# replace the value of the last row of the 'CSUSHPISA' column with 294.30366667\n",
    "combined_df.loc[combined_df.index[-1], \"CSUSHPISA\"] = \"294.30366667\"\n",
    "combined_df.tail()"
   ]
  },
  {
   "cell_type": "code",
   "execution_count": 10,
   "metadata": {},
   "outputs": [
    {
     "data": {
      "text/html": [
       "<div>\n",
       "<style scoped>\n",
       "    .dataframe tbody tr th:only-of-type {\n",
       "        vertical-align: middle;\n",
       "    }\n",
       "\n",
       "    .dataframe tbody tr th {\n",
       "        vertical-align: top;\n",
       "    }\n",
       "\n",
       "    .dataframe thead th {\n",
       "        text-align: right;\n",
       "    }\n",
       "</style>\n",
       "<table border=\"1\" class=\"dataframe\">\n",
       "  <thead>\n",
       "    <tr style=\"text-align: right;\">\n",
       "      <th></th>\n",
       "      <th>Date</th>\n",
       "      <th>Price Index</th>\n",
       "      <th>Supply</th>\n",
       "      <th>Permits</th>\n",
       "      <th>Construction</th>\n",
       "      <th>Vacancy Rate</th>\n",
       "      <th>30-Year Rate Avg</th>\n",
       "      <th>Sentiment Index</th>\n",
       "      <th>Interest Rate</th>\n",
       "      <th>Sales Price</th>\n",
       "      <th>GDP</th>\n",
       "    </tr>\n",
       "  </thead>\n",
       "  <tbody>\n",
       "    <tr>\n",
       "      <th>0</th>\n",
       "      <td>01-01-2003</td>\n",
       "      <td>129.321</td>\n",
       "      <td>4.2</td>\n",
       "      <td>1806.333333</td>\n",
       "      <td>421328.6667</td>\n",
       "      <td>14908</td>\n",
       "      <td>5.840769</td>\n",
       "      <td>79.966667</td>\n",
       "      <td>2.250000</td>\n",
       "      <td>186000</td>\n",
       "      <td>11174.129</td>\n",
       "    </tr>\n",
       "    <tr>\n",
       "      <th>1</th>\n",
       "      <td>01-04-2003</td>\n",
       "      <td>131.756</td>\n",
       "      <td>3.833333333</td>\n",
       "      <td>1837.666667</td>\n",
       "      <td>429308.6667</td>\n",
       "      <td>15244</td>\n",
       "      <td>5.506923</td>\n",
       "      <td>89.266667</td>\n",
       "      <td>2.166667</td>\n",
       "      <td>191800</td>\n",
       "      <td>11312.766</td>\n",
       "    </tr>\n",
       "    <tr>\n",
       "      <th>2</th>\n",
       "      <td>01-07-2003</td>\n",
       "      <td>135.013</td>\n",
       "      <td>3.633333333</td>\n",
       "      <td>1937.333333</td>\n",
       "      <td>458890</td>\n",
       "      <td>15614</td>\n",
       "      <td>6.033846</td>\n",
       "      <td>89.300000</td>\n",
       "      <td>2.000000</td>\n",
       "      <td>191900</td>\n",
       "      <td>11566.669</td>\n",
       "    </tr>\n",
       "    <tr>\n",
       "      <th>3</th>\n",
       "      <td>01-10-2003</td>\n",
       "      <td>138.8356667</td>\n",
       "      <td>3.966666667</td>\n",
       "      <td>1972.333333</td>\n",
       "      <td>491437.3333</td>\n",
       "      <td>15654</td>\n",
       "      <td>5.919286</td>\n",
       "      <td>91.966667</td>\n",
       "      <td>2.000000</td>\n",
       "      <td>198800</td>\n",
       "      <td>11772.234</td>\n",
       "    </tr>\n",
       "    <tr>\n",
       "      <th>4</th>\n",
       "      <td>01-01-2004</td>\n",
       "      <td>143.2986667</td>\n",
       "      <td>3.7</td>\n",
       "      <td>1994.666667</td>\n",
       "      <td>506856.3333</td>\n",
       "      <td>15895</td>\n",
       "      <td>5.597500</td>\n",
       "      <td>98.000000</td>\n",
       "      <td>2.000000</td>\n",
       "      <td>212700</td>\n",
       "      <td>11923.447</td>\n",
       "    </tr>\n",
       "  </tbody>\n",
       "</table>\n",
       "</div>"
      ],
      "text/plain": [
       "         Date  Price Index       Supply      Permits Construction  \\\n",
       "0  01-01-2003      129.321          4.2  1806.333333  421328.6667   \n",
       "1  01-04-2003      131.756  3.833333333  1837.666667  429308.6667   \n",
       "2  01-07-2003      135.013  3.633333333  1937.333333       458890   \n",
       "3  01-10-2003  138.8356667  3.966666667  1972.333333  491437.3333   \n",
       "4  01-01-2004  143.2986667          3.7  1994.666667  506856.3333   \n",
       "\n",
       "  Vacancy Rate  30-Year Rate Avg  Sentiment Index  Interest Rate  Sales Price  \\\n",
       "0        14908          5.840769        79.966667       2.250000       186000   \n",
       "1        15244          5.506923        89.266667       2.166667       191800   \n",
       "2        15614          6.033846        89.300000       2.000000       191900   \n",
       "3        15654          5.919286        91.966667       2.000000       198800   \n",
       "4        15895          5.597500        98.000000       2.000000       212700   \n",
       "\n",
       "         GDP  \n",
       "0  11174.129  \n",
       "1  11312.766  \n",
       "2  11566.669  \n",
       "3  11772.234  \n",
       "4  11923.447  "
      ]
     },
     "execution_count": 10,
     "metadata": {},
     "output_type": "execute_result"
    }
   ],
   "source": [
    "# rename the columns\n",
    "combined_df = combined_df.rename(columns={\"DATE\": \"Date\", \"CSUSHPISA\": \"Price Index\", \"INTDSRUSM193N\": \"Interest Rate\", \"MORTGAGE30US\": \"30-Year Rate Avg\", \"MSACSR\": \"Supply\", \"PERMIT\": \"Permits\", \"TLRESCONS\": \"Construction\", \"UMCSENT\": \"Sentiment Index\", \"MSPUS\": \"Sales Price\", \"EVACANTUSQ176N\": \"Vacancy Rate\"})\n",
    "combined_df.head()"
   ]
  },
  {
   "attachments": {},
   "cell_type": "markdown",
   "metadata": {},
   "source": [
    "# Defining the feature and target variables"
   ]
  },
  {
   "cell_type": "code",
   "execution_count": 11,
   "metadata": {},
   "outputs": [
    {
     "data": {
      "text/html": [
       "<div>\n",
       "<style scoped>\n",
       "    .dataframe tbody tr th:only-of-type {\n",
       "        vertical-align: middle;\n",
       "    }\n",
       "\n",
       "    .dataframe tbody tr th {\n",
       "        vertical-align: top;\n",
       "    }\n",
       "\n",
       "    .dataframe thead th {\n",
       "        text-align: right;\n",
       "    }\n",
       "</style>\n",
       "<table border=\"1\" class=\"dataframe\">\n",
       "  <thead>\n",
       "    <tr style=\"text-align: right;\">\n",
       "      <th></th>\n",
       "      <th>Supply</th>\n",
       "      <th>Permits</th>\n",
       "      <th>Construction</th>\n",
       "      <th>Vacancy Rate</th>\n",
       "      <th>30-Year Rate Avg</th>\n",
       "      <th>Sentiment Index</th>\n",
       "      <th>Interest Rate</th>\n",
       "      <th>Sales Price</th>\n",
       "      <th>GDP</th>\n",
       "    </tr>\n",
       "  </thead>\n",
       "  <tbody>\n",
       "    <tr>\n",
       "      <th>1</th>\n",
       "      <td>3.833333333</td>\n",
       "      <td>1837.666667</td>\n",
       "      <td>429308.6667</td>\n",
       "      <td>15244</td>\n",
       "      <td>5.506923</td>\n",
       "      <td>89.266667</td>\n",
       "      <td>2.166667</td>\n",
       "      <td>191800</td>\n",
       "      <td>11312.766</td>\n",
       "    </tr>\n",
       "    <tr>\n",
       "      <th>2</th>\n",
       "      <td>3.633333333</td>\n",
       "      <td>1937.333333</td>\n",
       "      <td>458890</td>\n",
       "      <td>15614</td>\n",
       "      <td>6.033846</td>\n",
       "      <td>89.300000</td>\n",
       "      <td>2.000000</td>\n",
       "      <td>191900</td>\n",
       "      <td>11566.669</td>\n",
       "    </tr>\n",
       "    <tr>\n",
       "      <th>3</th>\n",
       "      <td>3.966666667</td>\n",
       "      <td>1972.333333</td>\n",
       "      <td>491437.3333</td>\n",
       "      <td>15654</td>\n",
       "      <td>5.919286</td>\n",
       "      <td>91.966667</td>\n",
       "      <td>2.000000</td>\n",
       "      <td>198800</td>\n",
       "      <td>11772.234</td>\n",
       "    </tr>\n",
       "    <tr>\n",
       "      <th>4</th>\n",
       "      <td>3.7</td>\n",
       "      <td>1994.666667</td>\n",
       "      <td>506856.3333</td>\n",
       "      <td>15895</td>\n",
       "      <td>5.597500</td>\n",
       "      <td>98.000000</td>\n",
       "      <td>2.000000</td>\n",
       "      <td>212700</td>\n",
       "      <td>11923.447</td>\n",
       "    </tr>\n",
       "    <tr>\n",
       "      <th>5</th>\n",
       "      <td>3.9</td>\n",
       "      <td>2080</td>\n",
       "      <td>526483.3333</td>\n",
       "      <td>16079</td>\n",
       "      <td>6.106154</td>\n",
       "      <td>93.333333</td>\n",
       "      <td>2.083333</td>\n",
       "      <td>217600</td>\n",
       "      <td>12112.815</td>\n",
       "    </tr>\n",
       "  </tbody>\n",
       "</table>\n",
       "</div>"
      ],
      "text/plain": [
       "        Supply      Permits Construction Vacancy Rate  30-Year Rate Avg  \\\n",
       "1  3.833333333  1837.666667  429308.6667        15244          5.506923   \n",
       "2  3.633333333  1937.333333       458890        15614          6.033846   \n",
       "3  3.966666667  1972.333333  491437.3333        15654          5.919286   \n",
       "4          3.7  1994.666667  506856.3333        15895          5.597500   \n",
       "5          3.9         2080  526483.3333        16079          6.106154   \n",
       "\n",
       "   Sentiment Index  Interest Rate  Sales Price        GDP  \n",
       "1        89.266667       2.166667       191800  11312.766  \n",
       "2        89.300000       2.000000       191900  11566.669  \n",
       "3        91.966667       2.000000       198800  11772.234  \n",
       "4        98.000000       2.000000       212700  11923.447  \n",
       "5        93.333333       2.083333       217600  12112.815  "
      ]
     },
     "execution_count": 11,
     "metadata": {},
     "output_type": "execute_result"
    }
   ],
   "source": [
    "# Define features set\n",
    "X = combined_df.copy()\n",
    "X = X.drop(\"Date\", axis=1)\n",
    "X = X.drop(\"Price Index\", axis=1)\n",
    "# drop first row\n",
    "X = X.iloc[1:]\n",
    "X.head()"
   ]
  },
  {
   "cell_type": "code",
   "execution_count": 12,
   "metadata": {},
   "outputs": [
    {
     "name": "stdout",
     "output_type": "stream",
     "text": [
      "(80, 9)\n",
      "Supply              0\n",
      "Permits             0\n",
      "Construction        0\n",
      "Vacancy Rate        0\n",
      "30-Year Rate Avg    0\n",
      "Sentiment Index     0\n",
      "Interest Rate       0\n",
      "Sales Price         0\n",
      "GDP                 0\n",
      "dtype: int64\n"
     ]
    }
   ],
   "source": [
    "# checking the shape of X and if there are any null values\n",
    "print(X.shape)\n",
    "print(X.isnull().sum())"
   ]
  },
  {
   "attachments": {},
   "cell_type": "markdown",
   "metadata": {},
   "source": [
    "# Creating the target vector \n",
    "Price Index = S&P/Case-Shiller U.S. National Home Price Index (Index Jan 2000=100, Seasonally Adjusted)"
   ]
  },
  {
   "cell_type": "code",
   "execution_count": 13,
   "metadata": {},
   "outputs": [
    {
     "data": {
      "text/plain": [
       "array([['131.756'],\n",
       "       ['135.013'],\n",
       "       ['138.8356667'],\n",
       "       ['143.2986667'],\n",
       "       ['148.209']], dtype=object)"
      ]
     },
     "execution_count": 13,
     "metadata": {},
     "output_type": "execute_result"
    }
   ],
   "source": [
    "# Define target vector 'PRICE_CHANGE_UP_DOWN' as y\n",
    "y = combined_df[\"Price Index\"].values.reshape(-1, 1)\n",
    "y = y[1:]\n",
    "y[:5]"
   ]
  },
  {
   "attachments": {},
   "cell_type": "markdown",
   "metadata": {},
   "source": [
    "# Splitting the data into training and testing sets"
   ]
  },
  {
   "cell_type": "code",
   "execution_count": 14,
   "metadata": {},
   "outputs": [],
   "source": [
    "# Splitting into Train and Test sets\n",
    "X_train, X_test, y_train, y_test = train_test_split(X, y, random_state=78)\n"
   ]
  },
  {
   "cell_type": "code",
   "execution_count": 15,
   "metadata": {},
   "outputs": [],
   "source": [
    "# Create a StandardScaler instance\n",
    "scaler = StandardScaler()"
   ]
  },
  {
   "cell_type": "code",
   "execution_count": 16,
   "metadata": {},
   "outputs": [],
   "source": [
    "# Fit the StandardScaler\n",
    "X_scaler = scaler.fit(X_train)"
   ]
  },
  {
   "cell_type": "code",
   "execution_count": 17,
   "metadata": {},
   "outputs": [
    {
     "data": {
      "text/plain": [
       "(20, 9)"
      ]
     },
     "execution_count": 17,
     "metadata": {},
     "output_type": "execute_result"
    }
   ],
   "source": [
    "# Scale the data\n",
    "X_train_scaled = X_scaler.transform(X_train)\n",
    "X_test_scaled = X_scaler.transform(X_test)\n",
    "X_test_scaled.shape"
   ]
  },
  {
   "attachments": {},
   "cell_type": "markdown",
   "metadata": {},
   "source": [
    "# Fitting the Random Forest model\n",
    "\n",
    "Having scaled the data, we can now fit the Random Forest model to the training data."
   ]
  },
  {
   "cell_type": "code",
   "execution_count": 18,
   "metadata": {},
   "outputs": [],
   "source": [
    "# create the random forrest regressor instance\n",
    "rf_model = RandomForestRegressor(n_estimators=500, random_state=78)\n",
    "# fit the model\n",
    "rf_model = rf_model.fit(X_train_scaled, y_train.ravel())"
   ]
  },
  {
   "attachments": {},
   "cell_type": "markdown",
   "metadata": {},
   "source": [
    "# Making predictions with the Random Forest model"
   ]
  },
  {
   "cell_type": "code",
   "execution_count": 19,
   "metadata": {},
   "outputs": [
    {
     "data": {
      "text/plain": [
       "array([160.09667865, 201.27748998, 157.88526599, 142.69957998,\n",
       "       167.78128398, 171.867008  , 145.76046468, 171.83385864,\n",
       "       281.951844  , 198.83965199, 167.98855397, 174.93552532,\n",
       "       211.90569333, 178.61629531, 148.76067266, 292.41379399,\n",
       "       149.34653332, 176.04770065, 175.98967132, 159.59784798])"
      ]
     },
     "execution_count": 19,
     "metadata": {},
     "output_type": "execute_result"
    }
   ],
   "source": [
    "# Making predictions using the testing data\n",
    "predictions = rf_model.predict(X_test_scaled)\n",
    "predictions"
   ]
  },
  {
   "cell_type": "code",
   "execution_count": 20,
   "metadata": {},
   "outputs": [
    {
     "name": "stdout",
     "output_type": "stream",
     "text": [
      "First 10 Predictions:   [160.09667865 201.27748998 157.88526599 142.69957998 167.78128398\n",
      " 171.867008   145.76046468 171.83385864 281.951844   198.83965199]\n",
      "First 10 Actual labels: [['152.7166667'], ['199.1546667'], ['148.209'], ['140.1133333'], ['175.37'], ['172.9643333'], ['135.013'], ['174.58'], ['290.868'], ['192.6373333']]\n"
     ]
    }
   ],
   "source": [
    "# compare predictions to actual values\n",
    "print(f\"First 10 Predictions:   {predictions[:10]}\")\n",
    "print(f\"First 10 Actual labels: {y_test[:10].tolist()}\")\n"
   ]
  },
  {
   "attachments": {},
   "cell_type": "markdown",
   "metadata": {},
   "source": [
    "# Evaluating the Random Forest model"
   ]
  },
  {
   "cell_type": "code",
   "execution_count": 49,
   "metadata": {},
   "outputs": [
    {
     "data": {
      "text/html": [
       "<div>\n",
       "<style scoped>\n",
       "    .dataframe tbody tr th:only-of-type {\n",
       "        vertical-align: middle;\n",
       "    }\n",
       "\n",
       "    .dataframe tbody tr th {\n",
       "        vertical-align: top;\n",
       "    }\n",
       "\n",
       "    .dataframe thead th {\n",
       "        text-align: right;\n",
       "    }\n",
       "</style>\n",
       "<table border=\"1\" class=\"dataframe\">\n",
       "  <thead>\n",
       "    <tr style=\"text-align: right;\">\n",
       "      <th></th>\n",
       "      <th>Prediction</th>\n",
       "      <th>Actual</th>\n",
       "      <th>Difference</th>\n",
       "      <th>Percent Difference</th>\n",
       "    </tr>\n",
       "  </thead>\n",
       "  <tbody>\n",
       "    <tr>\n",
       "      <th>10</th>\n",
       "      <td>167.988554</td>\n",
       "      <td>163.481333</td>\n",
       "      <td>-4.507221</td>\n",
       "      <td>-2.757025</td>\n",
       "    </tr>\n",
       "    <tr>\n",
       "      <th>11</th>\n",
       "      <td>174.935525</td>\n",
       "      <td>175.695000</td>\n",
       "      <td>0.759475</td>\n",
       "      <td>0.432269</td>\n",
       "    </tr>\n",
       "    <tr>\n",
       "      <th>12</th>\n",
       "      <td>211.905693</td>\n",
       "      <td>212.806000</td>\n",
       "      <td>0.900307</td>\n",
       "      <td>0.423065</td>\n",
       "    </tr>\n",
       "    <tr>\n",
       "      <th>13</th>\n",
       "      <td>178.616295</td>\n",
       "      <td>179.539333</td>\n",
       "      <td>0.923038</td>\n",
       "      <td>0.514115</td>\n",
       "    </tr>\n",
       "    <tr>\n",
       "      <th>14</th>\n",
       "      <td>148.760673</td>\n",
       "      <td>156.028667</td>\n",
       "      <td>7.267994</td>\n",
       "      <td>4.658115</td>\n",
       "    </tr>\n",
       "    <tr>\n",
       "      <th>15</th>\n",
       "      <td>292.413794</td>\n",
       "      <td>303.422667</td>\n",
       "      <td>11.008873</td>\n",
       "      <td>3.628230</td>\n",
       "    </tr>\n",
       "    <tr>\n",
       "      <th>16</th>\n",
       "      <td>149.346533</td>\n",
       "      <td>148.191000</td>\n",
       "      <td>-1.155533</td>\n",
       "      <td>-0.779759</td>\n",
       "    </tr>\n",
       "    <tr>\n",
       "      <th>17</th>\n",
       "      <td>176.047701</td>\n",
       "      <td>181.835667</td>\n",
       "      <td>5.787966</td>\n",
       "      <td>3.183075</td>\n",
       "    </tr>\n",
       "    <tr>\n",
       "      <th>18</th>\n",
       "      <td>175.989671</td>\n",
       "      <td>179.422000</td>\n",
       "      <td>3.432329</td>\n",
       "      <td>1.912992</td>\n",
       "    </tr>\n",
       "    <tr>\n",
       "      <th>19</th>\n",
       "      <td>159.597848</td>\n",
       "      <td>171.575667</td>\n",
       "      <td>11.977819</td>\n",
       "      <td>6.981071</td>\n",
       "    </tr>\n",
       "  </tbody>\n",
       "</table>\n",
       "</div>"
      ],
      "text/plain": [
       "    Prediction      Actual  Difference  Percent Difference\n",
       "10  167.988554  163.481333   -4.507221           -2.757025\n",
       "11  174.935525  175.695000    0.759475            0.432269\n",
       "12  211.905693  212.806000    0.900307            0.423065\n",
       "13  178.616295  179.539333    0.923038            0.514115\n",
       "14  148.760673  156.028667    7.267994            4.658115\n",
       "15  292.413794  303.422667   11.008873            3.628230\n",
       "16  149.346533  148.191000   -1.155533           -0.779759\n",
       "17  176.047701  181.835667    5.787966            3.183075\n",
       "18  175.989671  179.422000    3.432329            1.912992\n",
       "19  159.597848  171.575667   11.977819            6.981071"
      ]
     },
     "execution_count": 49,
     "metadata": {},
     "output_type": "execute_result"
    }
   ],
   "source": [
    "# chart of predictions vs actual\n",
    "results_df = pd.DataFrame({\"Prediction\": predictions, \"Actual\": y_test.ravel()})\n",
    "# change the datatypes to float\n",
    "results_df = results_df.astype(\"float64\")\n",
    "# add a column for the difference between the prediction and actual\n",
    "results_df[\"Difference\"] = results_df[\"Actual\"] - results_df[\"Prediction\"]\n",
    "# add a column for the percent difference between the prediction and actual\n",
    "results_df[\"Percent Difference\"] = results_df[\"Difference\"] / results_df[\"Actual\"] * 100\n",
    "# find the highest percent difference\n",
    "results_df[\"Percent Difference\"].max()\n",
    "results_df.tail(10)"
   ]
  },
  {
   "cell_type": "code",
   "execution_count": 50,
   "metadata": {},
   "outputs": [
    {
     "data": {
      "application/vnd.plotly.v1+json": {
       "config": {
        "plotlyServerURL": "https://plot.ly"
       },
       "data": [
        {
         "alignmentgroup": "True",
         "bingroup": "x",
         "hovertemplate": "Percent Difference=%{x}<br>count=%{y}<extra></extra>",
         "legendgroup": "",
         "marker": {
          "color": "#636efa",
          "pattern": {
           "shape": ""
          }
         },
         "name": "",
         "offsetgroup": "",
         "orientation": "v",
         "showlegend": false,
         "type": "histogram",
         "x": [
          -4.832486269031297,
          -1.0659169162220528,
          -6.5287978381878,
          -1.8458248175874301,
          4.327260092718393,
          0.6344228782105119,
          -7.960318399413066,
          1.5729988334288163,
          3.065361607876888,
          -3.2196867473976725,
          -2.7570246581784383,
          0.4322688061693746,
          0.4230645133408764,
          0.5141146385554103,
          4.658114560688391,
          3.6282301602548332,
          -0.7797594426113179,
          3.183075220522339,
          1.912992099630571,
          6.981070774297872
         ],
         "xaxis": "x",
         "yaxis": "y"
        }
       ],
       "layout": {
        "barmode": "relative",
        "legend": {
         "tracegroupgap": 0
        },
        "template": {
         "data": {
          "bar": [
           {
            "error_x": {
             "color": "#2a3f5f"
            },
            "error_y": {
             "color": "#2a3f5f"
            },
            "marker": {
             "line": {
              "color": "#E5ECF6",
              "width": 0.5
             },
             "pattern": {
              "fillmode": "overlay",
              "size": 10,
              "solidity": 0.2
             }
            },
            "type": "bar"
           }
          ],
          "barpolar": [
           {
            "marker": {
             "line": {
              "color": "#E5ECF6",
              "width": 0.5
             },
             "pattern": {
              "fillmode": "overlay",
              "size": 10,
              "solidity": 0.2
             }
            },
            "type": "barpolar"
           }
          ],
          "carpet": [
           {
            "aaxis": {
             "endlinecolor": "#2a3f5f",
             "gridcolor": "white",
             "linecolor": "white",
             "minorgridcolor": "white",
             "startlinecolor": "#2a3f5f"
            },
            "baxis": {
             "endlinecolor": "#2a3f5f",
             "gridcolor": "white",
             "linecolor": "white",
             "minorgridcolor": "white",
             "startlinecolor": "#2a3f5f"
            },
            "type": "carpet"
           }
          ],
          "choropleth": [
           {
            "colorbar": {
             "outlinewidth": 0,
             "ticks": ""
            },
            "type": "choropleth"
           }
          ],
          "contour": [
           {
            "colorbar": {
             "outlinewidth": 0,
             "ticks": ""
            },
            "colorscale": [
             [
              0,
              "#0d0887"
             ],
             [
              0.1111111111111111,
              "#46039f"
             ],
             [
              0.2222222222222222,
              "#7201a8"
             ],
             [
              0.3333333333333333,
              "#9c179e"
             ],
             [
              0.4444444444444444,
              "#bd3786"
             ],
             [
              0.5555555555555556,
              "#d8576b"
             ],
             [
              0.6666666666666666,
              "#ed7953"
             ],
             [
              0.7777777777777778,
              "#fb9f3a"
             ],
             [
              0.8888888888888888,
              "#fdca26"
             ],
             [
              1,
              "#f0f921"
             ]
            ],
            "type": "contour"
           }
          ],
          "contourcarpet": [
           {
            "colorbar": {
             "outlinewidth": 0,
             "ticks": ""
            },
            "type": "contourcarpet"
           }
          ],
          "heatmap": [
           {
            "colorbar": {
             "outlinewidth": 0,
             "ticks": ""
            },
            "colorscale": [
             [
              0,
              "#0d0887"
             ],
             [
              0.1111111111111111,
              "#46039f"
             ],
             [
              0.2222222222222222,
              "#7201a8"
             ],
             [
              0.3333333333333333,
              "#9c179e"
             ],
             [
              0.4444444444444444,
              "#bd3786"
             ],
             [
              0.5555555555555556,
              "#d8576b"
             ],
             [
              0.6666666666666666,
              "#ed7953"
             ],
             [
              0.7777777777777778,
              "#fb9f3a"
             ],
             [
              0.8888888888888888,
              "#fdca26"
             ],
             [
              1,
              "#f0f921"
             ]
            ],
            "type": "heatmap"
           }
          ],
          "heatmapgl": [
           {
            "colorbar": {
             "outlinewidth": 0,
             "ticks": ""
            },
            "colorscale": [
             [
              0,
              "#0d0887"
             ],
             [
              0.1111111111111111,
              "#46039f"
             ],
             [
              0.2222222222222222,
              "#7201a8"
             ],
             [
              0.3333333333333333,
              "#9c179e"
             ],
             [
              0.4444444444444444,
              "#bd3786"
             ],
             [
              0.5555555555555556,
              "#d8576b"
             ],
             [
              0.6666666666666666,
              "#ed7953"
             ],
             [
              0.7777777777777778,
              "#fb9f3a"
             ],
             [
              0.8888888888888888,
              "#fdca26"
             ],
             [
              1,
              "#f0f921"
             ]
            ],
            "type": "heatmapgl"
           }
          ],
          "histogram": [
           {
            "marker": {
             "pattern": {
              "fillmode": "overlay",
              "size": 10,
              "solidity": 0.2
             }
            },
            "type": "histogram"
           }
          ],
          "histogram2d": [
           {
            "colorbar": {
             "outlinewidth": 0,
             "ticks": ""
            },
            "colorscale": [
             [
              0,
              "#0d0887"
             ],
             [
              0.1111111111111111,
              "#46039f"
             ],
             [
              0.2222222222222222,
              "#7201a8"
             ],
             [
              0.3333333333333333,
              "#9c179e"
             ],
             [
              0.4444444444444444,
              "#bd3786"
             ],
             [
              0.5555555555555556,
              "#d8576b"
             ],
             [
              0.6666666666666666,
              "#ed7953"
             ],
             [
              0.7777777777777778,
              "#fb9f3a"
             ],
             [
              0.8888888888888888,
              "#fdca26"
             ],
             [
              1,
              "#f0f921"
             ]
            ],
            "type": "histogram2d"
           }
          ],
          "histogram2dcontour": [
           {
            "colorbar": {
             "outlinewidth": 0,
             "ticks": ""
            },
            "colorscale": [
             [
              0,
              "#0d0887"
             ],
             [
              0.1111111111111111,
              "#46039f"
             ],
             [
              0.2222222222222222,
              "#7201a8"
             ],
             [
              0.3333333333333333,
              "#9c179e"
             ],
             [
              0.4444444444444444,
              "#bd3786"
             ],
             [
              0.5555555555555556,
              "#d8576b"
             ],
             [
              0.6666666666666666,
              "#ed7953"
             ],
             [
              0.7777777777777778,
              "#fb9f3a"
             ],
             [
              0.8888888888888888,
              "#fdca26"
             ],
             [
              1,
              "#f0f921"
             ]
            ],
            "type": "histogram2dcontour"
           }
          ],
          "mesh3d": [
           {
            "colorbar": {
             "outlinewidth": 0,
             "ticks": ""
            },
            "type": "mesh3d"
           }
          ],
          "parcoords": [
           {
            "line": {
             "colorbar": {
              "outlinewidth": 0,
              "ticks": ""
             }
            },
            "type": "parcoords"
           }
          ],
          "pie": [
           {
            "automargin": true,
            "type": "pie"
           }
          ],
          "scatter": [
           {
            "fillpattern": {
             "fillmode": "overlay",
             "size": 10,
             "solidity": 0.2
            },
            "type": "scatter"
           }
          ],
          "scatter3d": [
           {
            "line": {
             "colorbar": {
              "outlinewidth": 0,
              "ticks": ""
             }
            },
            "marker": {
             "colorbar": {
              "outlinewidth": 0,
              "ticks": ""
             }
            },
            "type": "scatter3d"
           }
          ],
          "scattercarpet": [
           {
            "marker": {
             "colorbar": {
              "outlinewidth": 0,
              "ticks": ""
             }
            },
            "type": "scattercarpet"
           }
          ],
          "scattergeo": [
           {
            "marker": {
             "colorbar": {
              "outlinewidth": 0,
              "ticks": ""
             }
            },
            "type": "scattergeo"
           }
          ],
          "scattergl": [
           {
            "marker": {
             "colorbar": {
              "outlinewidth": 0,
              "ticks": ""
             }
            },
            "type": "scattergl"
           }
          ],
          "scattermapbox": [
           {
            "marker": {
             "colorbar": {
              "outlinewidth": 0,
              "ticks": ""
             }
            },
            "type": "scattermapbox"
           }
          ],
          "scatterpolar": [
           {
            "marker": {
             "colorbar": {
              "outlinewidth": 0,
              "ticks": ""
             }
            },
            "type": "scatterpolar"
           }
          ],
          "scatterpolargl": [
           {
            "marker": {
             "colorbar": {
              "outlinewidth": 0,
              "ticks": ""
             }
            },
            "type": "scatterpolargl"
           }
          ],
          "scatterternary": [
           {
            "marker": {
             "colorbar": {
              "outlinewidth": 0,
              "ticks": ""
             }
            },
            "type": "scatterternary"
           }
          ],
          "surface": [
           {
            "colorbar": {
             "outlinewidth": 0,
             "ticks": ""
            },
            "colorscale": [
             [
              0,
              "#0d0887"
             ],
             [
              0.1111111111111111,
              "#46039f"
             ],
             [
              0.2222222222222222,
              "#7201a8"
             ],
             [
              0.3333333333333333,
              "#9c179e"
             ],
             [
              0.4444444444444444,
              "#bd3786"
             ],
             [
              0.5555555555555556,
              "#d8576b"
             ],
             [
              0.6666666666666666,
              "#ed7953"
             ],
             [
              0.7777777777777778,
              "#fb9f3a"
             ],
             [
              0.8888888888888888,
              "#fdca26"
             ],
             [
              1,
              "#f0f921"
             ]
            ],
            "type": "surface"
           }
          ],
          "table": [
           {
            "cells": {
             "fill": {
              "color": "#EBF0F8"
             },
             "line": {
              "color": "white"
             }
            },
            "header": {
             "fill": {
              "color": "#C8D4E3"
             },
             "line": {
              "color": "white"
             }
            },
            "type": "table"
           }
          ]
         },
         "layout": {
          "annotationdefaults": {
           "arrowcolor": "#2a3f5f",
           "arrowhead": 0,
           "arrowwidth": 1
          },
          "autotypenumbers": "strict",
          "coloraxis": {
           "colorbar": {
            "outlinewidth": 0,
            "ticks": ""
           }
          },
          "colorscale": {
           "diverging": [
            [
             0,
             "#8e0152"
            ],
            [
             0.1,
             "#c51b7d"
            ],
            [
             0.2,
             "#de77ae"
            ],
            [
             0.3,
             "#f1b6da"
            ],
            [
             0.4,
             "#fde0ef"
            ],
            [
             0.5,
             "#f7f7f7"
            ],
            [
             0.6,
             "#e6f5d0"
            ],
            [
             0.7,
             "#b8e186"
            ],
            [
             0.8,
             "#7fbc41"
            ],
            [
             0.9,
             "#4d9221"
            ],
            [
             1,
             "#276419"
            ]
           ],
           "sequential": [
            [
             0,
             "#0d0887"
            ],
            [
             0.1111111111111111,
             "#46039f"
            ],
            [
             0.2222222222222222,
             "#7201a8"
            ],
            [
             0.3333333333333333,
             "#9c179e"
            ],
            [
             0.4444444444444444,
             "#bd3786"
            ],
            [
             0.5555555555555556,
             "#d8576b"
            ],
            [
             0.6666666666666666,
             "#ed7953"
            ],
            [
             0.7777777777777778,
             "#fb9f3a"
            ],
            [
             0.8888888888888888,
             "#fdca26"
            ],
            [
             1,
             "#f0f921"
            ]
           ],
           "sequentialminus": [
            [
             0,
             "#0d0887"
            ],
            [
             0.1111111111111111,
             "#46039f"
            ],
            [
             0.2222222222222222,
             "#7201a8"
            ],
            [
             0.3333333333333333,
             "#9c179e"
            ],
            [
             0.4444444444444444,
             "#bd3786"
            ],
            [
             0.5555555555555556,
             "#d8576b"
            ],
            [
             0.6666666666666666,
             "#ed7953"
            ],
            [
             0.7777777777777778,
             "#fb9f3a"
            ],
            [
             0.8888888888888888,
             "#fdca26"
            ],
            [
             1,
             "#f0f921"
            ]
           ]
          },
          "colorway": [
           "#636efa",
           "#EF553B",
           "#00cc96",
           "#ab63fa",
           "#FFA15A",
           "#19d3f3",
           "#FF6692",
           "#B6E880",
           "#FF97FF",
           "#FECB52"
          ],
          "font": {
           "color": "#2a3f5f"
          },
          "geo": {
           "bgcolor": "white",
           "lakecolor": "white",
           "landcolor": "#E5ECF6",
           "showlakes": true,
           "showland": true,
           "subunitcolor": "white"
          },
          "hoverlabel": {
           "align": "left"
          },
          "hovermode": "closest",
          "mapbox": {
           "style": "light"
          },
          "paper_bgcolor": "white",
          "plot_bgcolor": "#E5ECF6",
          "polar": {
           "angularaxis": {
            "gridcolor": "white",
            "linecolor": "white",
            "ticks": ""
           },
           "bgcolor": "#E5ECF6",
           "radialaxis": {
            "gridcolor": "white",
            "linecolor": "white",
            "ticks": ""
           }
          },
          "scene": {
           "xaxis": {
            "backgroundcolor": "#E5ECF6",
            "gridcolor": "white",
            "gridwidth": 2,
            "linecolor": "white",
            "showbackground": true,
            "ticks": "",
            "zerolinecolor": "white"
           },
           "yaxis": {
            "backgroundcolor": "#E5ECF6",
            "gridcolor": "white",
            "gridwidth": 2,
            "linecolor": "white",
            "showbackground": true,
            "ticks": "",
            "zerolinecolor": "white"
           },
           "zaxis": {
            "backgroundcolor": "#E5ECF6",
            "gridcolor": "white",
            "gridwidth": 2,
            "linecolor": "white",
            "showbackground": true,
            "ticks": "",
            "zerolinecolor": "white"
           }
          },
          "shapedefaults": {
           "line": {
            "color": "#2a3f5f"
           }
          },
          "ternary": {
           "aaxis": {
            "gridcolor": "white",
            "linecolor": "white",
            "ticks": ""
           },
           "baxis": {
            "gridcolor": "white",
            "linecolor": "white",
            "ticks": ""
           },
           "bgcolor": "#E5ECF6",
           "caxis": {
            "gridcolor": "white",
            "linecolor": "white",
            "ticks": ""
           }
          },
          "title": {
           "x": 0.05
          },
          "xaxis": {
           "automargin": true,
           "gridcolor": "white",
           "linecolor": "white",
           "ticks": "",
           "title": {
            "standoff": 15
           },
           "zerolinecolor": "white",
           "zerolinewidth": 2
          },
          "yaxis": {
           "automargin": true,
           "gridcolor": "white",
           "linecolor": "white",
           "ticks": "",
           "title": {
            "standoff": 15
           },
           "zerolinecolor": "white",
           "zerolinewidth": 2
          }
         }
        },
        "title": {
         "text": "Percent Difference Between Prediction and Actual"
        },
        "xaxis": {
         "anchor": "y",
         "domain": [
          0,
          1
         ],
         "title": {
          "text": "Percent Difference"
         }
        },
        "yaxis": {
         "anchor": "x",
         "domain": [
          0,
          1
         ],
         "title": {
          "text": "count"
         }
        }
       }
      }
     },
     "metadata": {},
     "output_type": "display_data"
    }
   ],
   "source": [
    "#use Plotly Express to create a histogram of the percent difference between the actual and predicted values\n",
    "fig = px.histogram(results_df, x=\"Percent Difference\", title=\"Percent Difference Between Prediction and Actual\")\n",
    "fig.show()"
   ]
  },
  {
   "cell_type": "code",
   "execution_count": 51,
   "metadata": {},
   "outputs": [],
   "source": [
    "# save the chart as a png\n",
    "scope = PlotlyScope()\n",
    "with open(\"images/percent_difference_quarterly.png\", \"wb\") as f:\n",
    "    f.write(scope.transform(fig, format=\"png\"))"
   ]
  },
  {
   "cell_type": "code",
   "execution_count": 22,
   "metadata": {},
   "outputs": [
    {
     "name": "stdout",
     "output_type": "stream",
     "text": [
      "Mean Absolute Error: 0.9014126492088124\n"
     ]
    }
   ],
   "source": [
    "# calculate the mean absolute error (MAE)\n",
    "mae = results_df[\"Difference\"].mean()\n",
    "print(f\"Mean Absolute Error: {mae}\")\n"
   ]
  },
  {
   "cell_type": "code",
   "execution_count": 23,
   "metadata": {},
   "outputs": [
    {
     "name": "stdout",
     "output_type": "stream",
     "text": [
      "Mean Squared Error: 42.287830261386524\n"
     ]
    }
   ],
   "source": [
    "# calculate the mean squared error (MSE)\n",
    "mse = results_df[\"Difference\"].apply(lambda x: x**2).mean()\n",
    "print(f\"Mean Squared Error: {mse}\")\n"
   ]
  },
  {
   "cell_type": "code",
   "execution_count": 24,
   "metadata": {},
   "outputs": [
    {
     "name": "stdout",
     "output_type": "stream",
     "text": [
      "Root Mean Squared Error: 6.5029093689968125\n"
     ]
    }
   ],
   "source": [
    "# calculate the root mean squared error (RMSE)\n",
    "rmse = mse**(0.5)\n",
    "print(f\"Root Mean Squared Error: {rmse}\")\n"
   ]
  },
  {
   "cell_type": "code",
   "execution_count": 25,
   "metadata": {},
   "outputs": [
    {
     "name": "stdout",
     "output_type": "stream",
     "text": [
      "Mean Absolute Percent Error: 3.0161394637161676\n"
     ]
    }
   ],
   "source": [
    "# calculate the mean absolute percent error (MAPE)\n",
    "mape = results_df[\"Percent Difference\"].abs().mean()\n",
    "print(f\"Mean Absolute Percent Error: {mape}\")\n"
   ]
  },
  {
   "cell_type": "code",
   "execution_count": 32,
   "metadata": {},
   "outputs": [
    {
     "data": {
      "text/plain": [
       "0.9767692621939187"
      ]
     },
     "execution_count": 32,
     "metadata": {},
     "output_type": "execute_result"
    }
   ],
   "source": [
    "# score the model\n",
    "rf_model.score(X_test_scaled, y_test)"
   ]
  },
  {
   "attachments": {},
   "cell_type": "markdown",
   "metadata": {},
   "source": [
    "# Feature importance"
   ]
  },
  {
   "cell_type": "code",
   "execution_count": 26,
   "metadata": {},
   "outputs": [
    {
     "name": "stdout",
     "output_type": "stream",
     "text": [
      "Supply: (0.012806319478155801)\n",
      "Permits: (0.013968469048040432)\n",
      "Construction: (0.18056285849011555)\n",
      "Vacancy Rate: (0.007814080954357346)\n",
      "30-Year Rate Avg: (0.010012986442315425)\n",
      "Sentiment Index: (0.012188884699753641)\n",
      "Interest Rate: (0.12248331576806627)\n",
      "Sales Price: (0.22164817755412602)\n",
      "GDP: (0.4185149075650696)\n"
     ]
    }
   ],
   "source": [
    "# get the feature importance array\n",
    "importances = rf_model.feature_importances_\n",
    "# list of features\n",
    "feature_list = list(X.columns)\n",
    "# sort the features by their importance\n",
    "sorted(zip(rf_model.feature_importances_, feature_list), reverse=True)\n",
    "# print the feature importance\n",
    "for feature in zip(feature_list, rf_model.feature_importances_):\n",
    "    print(f\"{feature[0]}: ({feature[1]})\")\n",
    "    "
   ]
  },
  {
   "cell_type": "code",
   "execution_count": 27,
   "metadata": {},
   "outputs": [
    {
     "data": {
      "image/png": "[encoded data removed]",
      "text/plain": [
       "<Figure size 432x288 with 1 Axes>"
      ]
     },
     "metadata": {
      "needs_background": "light"
     },
     "output_type": "display_data"
    }
   ],
   "source": [
    "# add the feature importance to a dataframe\n",
    "feature_importance_df = pd.DataFrame({\"feature\": feature_list, \"importance\": importances})\n",
    "# sort the dataframe by the importance\n",
    "feature_importance_df = feature_importance_df.sort_values(\"importance\", ascending=False)\n",
    "# set the index to be the feature\n",
    "feature_importance_df = feature_importance_df.set_index(\"feature\", drop=True)\n",
    "# plot the feature importance\n",
    "feature_importance_df.plot(kind=\"bar\")\n",
    "plt.show()"
   ]
  },
  {
   "cell_type": "code",
   "execution_count": 28,
   "metadata": {},
   "outputs": [
    {
     "data": {
      "application/vnd.plotly.v1+json": {
       "config": {
        "plotlyServerURL": "https://plot.ly"
       },
       "data": [
        {
         "alignmentgroup": "True",
         "hovertemplate": "feature=%{x}<br>importance=%{marker.color}<extra></extra>",
         "legendgroup": "",
         "marker": {
          "color": [
           0.4185149075650696,
           0.22164817755412602,
           0.18056285849011555,
           0.12248331576806627,
           0.013968469048040432,
           0.012806319478155801,
           0.012188884699753641,
           0.010012986442315425,
           0.007814080954357346
          ],
          "coloraxis": "coloraxis",
          "pattern": {
           "shape": ""
          }
         },
         "name": "",
         "offsetgroup": "",
         "orientation": "v",
         "showlegend": false,
         "textposition": "auto",
         "type": "bar",
         "x": [
          "GDP",
          "Sales Price",
          "Construction",
          "Interest Rate",
          "Permits",
          "Supply",
          "Sentiment Index",
          "30-Year Rate Avg",
          "Vacancy Rate"
         ],
         "xaxis": "x",
         "y": [
          0.4185149075650696,
          0.22164817755412602,
          0.18056285849011555,
          0.12248331576806627,
          0.013968469048040432,
          0.012806319478155801,
          0.012188884699753641,
          0.010012986442315425,
          0.007814080954357346
         ],
         "yaxis": "y"
        }
       ],
       "layout": {
        "barmode": "relative",
        "coloraxis": {
         "colorbar": {
          "title": {
           "text": "importance"
          }
         },
         "colorscale": [
          [
           0,
           "#fee838"
          ],
          [
           0.1111111111111111,
           "#e1cc55"
          ],
          [
           0.2222222222222222,
           "#c3b369"
          ],
          [
           0.3333333333333333,
           "#a59c74"
          ],
          [
           0.4444444444444444,
           "#8a8678"
          ],
          [
           0.5555555555555556,
           "#707173"
          ],
          [
           0.6666666666666666,
           "#575d6d"
          ],
          [
           0.7777777777777778,
           "#3b496c"
          ],
          [
           0.8888888888888888,
           "#123570"
          ],
          [
           1,
           "#00224e"
          ]
         ]
        },
        "legend": {
         "tracegroupgap": 0
        },
        "template": {
         "data": {
          "bar": [
           {
            "error_x": {
             "color": "#2a3f5f"
            },
            "error_y": {
             "color": "#2a3f5f"
            },
            "marker": {
             "line": {
              "color": "#E5ECF6",
              "width": 0.5
             },
             "pattern": {
              "fillmode": "overlay",
              "size": 10,
              "solidity": 0.2
             }
            },
            "type": "bar"
           }
          ],
          "barpolar": [
           {
            "marker": {
             "line": {
              "color": "#E5ECF6",
              "width": 0.5
             },
             "pattern": {
              "fillmode": "overlay",
              "size": 10,
              "solidity": 0.2
             }
            },
            "type": "barpolar"
           }
          ],
          "carpet": [
           {
            "aaxis": {
             "endlinecolor": "#2a3f5f",
             "gridcolor": "white",
             "linecolor": "white",
             "minorgridcolor": "white",
             "startlinecolor": "#2a3f5f"
            },
            "baxis": {
             "endlinecolor": "#2a3f5f",
             "gridcolor": "white",
             "linecolor": "white",
             "minorgridcolor": "white",
             "startlinecolor": "#2a3f5f"
            },
            "type": "carpet"
           }
          ],
          "choropleth": [
           {
            "colorbar": {
             "outlinewidth": 0,
             "ticks": ""
            },
            "type": "choropleth"
           }
          ],
          "contour": [
           {
            "colorbar": {
             "outlinewidth": 0,
             "ticks": ""
            },
            "colorscale": [
             [
              0,
              "#0d0887"
             ],
             [
              0.1111111111111111,
              "#46039f"
             ],
             [
              0.2222222222222222,
              "#7201a8"
             ],
             [
              0.3333333333333333,
              "#9c179e"
             ],
             [
              0.4444444444444444,
              "#bd3786"
             ],
             [
              0.5555555555555556,
              "#d8576b"
             ],
             [
              0.6666666666666666,
              "#ed7953"
             ],
             [
              0.7777777777777778,
              "#fb9f3a"
             ],
             [
              0.8888888888888888,
              "#fdca26"
             ],
             [
              1,
              "#f0f921"
             ]
            ],
            "type": "contour"
           }
          ],
          "contourcarpet": [
           {
            "colorbar": {
             "outlinewidth": 0,
             "ticks": ""
            },
            "type": "contourcarpet"
           }
          ],
          "heatmap": [
           {
            "colorbar": {
             "outlinewidth": 0,
             "ticks": ""
            },
            "colorscale": [
             [
              0,
              "#0d0887"
             ],
             [
              0.1111111111111111,
              "#46039f"
             ],
             [
              0.2222222222222222,
              "#7201a8"
             ],
             [
              0.3333333333333333,
              "#9c179e"
             ],
             [
              0.4444444444444444,
              "#bd3786"
             ],
             [
              0.5555555555555556,
              "#d8576b"
             ],
             [
              0.6666666666666666,
              "#ed7953"
             ],
             [
              0.7777777777777778,
              "#fb9f3a"
             ],
             [
              0.8888888888888888,
              "#fdca26"
             ],
             [
              1,
              "#f0f921"
             ]
            ],
            "type": "heatmap"
           }
          ],
          "heatmapgl": [
           {
            "colorbar": {
             "outlinewidth": 0,
             "ticks": ""
            },
            "colorscale": [
             [
              0,
              "#0d0887"
             ],
             [
              0.1111111111111111,
              "#46039f"
             ],
             [
              0.2222222222222222,
              "#7201a8"
             ],
             [
              0.3333333333333333,
              "#9c179e"
             ],
             [
              0.4444444444444444,
              "#bd3786"
             ],
             [
              0.5555555555555556,
              "#d8576b"
             ],
             [
              0.6666666666666666,
              "#ed7953"
             ],
             [
              0.7777777777777778,
              "#fb9f3a"
             ],
             [
              0.8888888888888888,
              "#fdca26"
             ],
             [
              1,
              "#f0f921"
             ]
            ],
            "type": "heatmapgl"
           }
          ],
          "histogram": [
           {
            "marker": {
             "pattern": {
              "fillmode": "overlay",
              "size": 10,
              "solidity": 0.2
             }
            },
            "type": "histogram"
           }
          ],
          "histogram2d": [
           {
            "colorbar": {
             "outlinewidth": 0,
             "ticks": ""
            },
            "colorscale": [
             [
              0,
              "#0d0887"
             ],
             [
              0.1111111111111111,
              "#46039f"
             ],
             [
              0.2222222222222222,
              "#7201a8"
             ],
             [
              0.3333333333333333,
              "#9c179e"
             ],
             [
              0.4444444444444444,
              "#bd3786"
             ],
             [
              0.5555555555555556,
              "#d8576b"
             ],
             [
              0.6666666666666666,
              "#ed7953"
             ],
             [
              0.7777777777777778,
              "#fb9f3a"
             ],
             [
              0.8888888888888888,
              "#fdca26"
             ],
             [
              1,
              "#f0f921"
             ]
            ],
            "type": "histogram2d"
           }
          ],
          "histogram2dcontour": [
           {
            "colorbar": {
             "outlinewidth": 0,
             "ticks": ""
            },
            "colorscale": [
             [
              0,
              "#0d0887"
             ],
             [
              0.1111111111111111,
              "#46039f"
             ],
             [
              0.2222222222222222,
              "#7201a8"
             ],
             [
              0.3333333333333333,
              "#9c179e"
             ],
             [
              0.4444444444444444,
              "#bd3786"
             ],
             [
              0.5555555555555556,
              "#d8576b"
             ],
             [
              0.6666666666666666,
              "#ed7953"
             ],
             [
              0.7777777777777778,
              "#fb9f3a"
             ],
             [
              0.8888888888888888,
              "#fdca26"
             ],
             [
              1,
              "#f0f921"
             ]
            ],
            "type": "histogram2dcontour"
           }
          ],
          "mesh3d": [
           {
            "colorbar": {
             "outlinewidth": 0,
             "ticks": ""
            },
            "type": "mesh3d"
           }
          ],
          "parcoords": [
           {
            "line": {
             "colorbar": {
              "outlinewidth": 0,
              "ticks": ""
             }
            },
            "type": "parcoords"
           }
          ],
          "pie": [
           {
            "automargin": true,
            "type": "pie"
           }
          ],
          "scatter": [
           {
            "fillpattern": {
             "fillmode": "overlay",
             "size": 10,
             "solidity": 0.2
            },
            "type": "scatter"
           }
          ],
          "scatter3d": [
           {
            "line": {
             "colorbar": {
              "outlinewidth": 0,
              "ticks": ""
             }
            },
            "marker": {
             "colorbar": {
              "outlinewidth": 0,
              "ticks": ""
             }
            },
            "type": "scatter3d"
           }
          ],
          "scattercarpet": [
           {
            "marker": {
             "colorbar": {
              "outlinewidth": 0,
              "ticks": ""
             }
            },
            "type": "scattercarpet"
           }
          ],
          "scattergeo": [
           {
            "marker": {
             "colorbar": {
              "outlinewidth": 0,
              "ticks": ""
             }
            },
            "type": "scattergeo"
           }
          ],
          "scattergl": [
           {
            "marker": {
             "colorbar": {
              "outlinewidth": 0,
              "ticks": ""
             }
            },
            "type": "scattergl"
           }
          ],
          "scattermapbox": [
           {
            "marker": {
             "colorbar": {
              "outlinewidth": 0,
              "ticks": ""
             }
            },
            "type": "scattermapbox"
           }
          ],
          "scatterpolar": [
           {
            "marker": {
             "colorbar": {
              "outlinewidth": 0,
              "ticks": ""
             }
            },
            "type": "scatterpolar"
           }
          ],
          "scatterpolargl": [
           {
            "marker": {
             "colorbar": {
              "outlinewidth": 0,
              "ticks": ""
             }
            },
            "type": "scatterpolargl"
           }
          ],
          "scatterternary": [
           {
            "marker": {
             "colorbar": {
              "outlinewidth": 0,
              "ticks": ""
             }
            },
            "type": "scatterternary"
           }
          ],
          "surface": [
           {
            "colorbar": {
             "outlinewidth": 0,
             "ticks": ""
            },
            "colorscale": [
             [
              0,
              "#0d0887"
             ],
             [
              0.1111111111111111,
              "#46039f"
             ],
             [
              0.2222222222222222,
              "#7201a8"
             ],
             [
              0.3333333333333333,
              "#9c179e"
             ],
             [
              0.4444444444444444,
              "#bd3786"
             ],
             [
              0.5555555555555556,
              "#d8576b"
             ],
             [
              0.6666666666666666,
              "#ed7953"
             ],
             [
              0.7777777777777778,
              "#fb9f3a"
             ],
             [
              0.8888888888888888,
              "#fdca26"
             ],
             [
              1,
              "#f0f921"
             ]
            ],
            "type": "surface"
           }
          ],
          "table": [
           {
            "cells": {
             "fill": {
              "color": "#EBF0F8"
             },
             "line": {
              "color": "white"
             }
            },
            "header": {
             "fill": {
              "color": "#C8D4E3"
             },
             "line": {
              "color": "white"
             }
            },
            "type": "table"
           }
          ]
         },
         "layout": {
          "annotationdefaults": {
           "arrowcolor": "#2a3f5f",
           "arrowhead": 0,
           "arrowwidth": 1
          },
          "autotypenumbers": "strict",
          "coloraxis": {
           "colorbar": {
            "outlinewidth": 0,
            "ticks": ""
           }
          },
          "colorscale": {
           "diverging": [
            [
             0,
             "#8e0152"
            ],
            [
             0.1,
             "#c51b7d"
            ],
            [
             0.2,
             "#de77ae"
            ],
            [
             0.3,
             "#f1b6da"
            ],
            [
             0.4,
             "#fde0ef"
            ],
            [
             0.5,
             "#f7f7f7"
            ],
            [
             0.6,
             "#e6f5d0"
            ],
            [
             0.7,
             "#b8e186"
            ],
            [
             0.8,
             "#7fbc41"
            ],
            [
             0.9,
             "#4d9221"
            ],
            [
             1,
             "#276419"
            ]
           ],
           "sequential": [
            [
             0,
             "#0d0887"
            ],
            [
             0.1111111111111111,
             "#46039f"
            ],
            [
             0.2222222222222222,
             "#7201a8"
            ],
            [
             0.3333333333333333,
             "#9c179e"
            ],
            [
             0.4444444444444444,
             "#bd3786"
            ],
            [
             0.5555555555555556,
             "#d8576b"
            ],
            [
             0.6666666666666666,
             "#ed7953"
            ],
            [
             0.7777777777777778,
             "#fb9f3a"
            ],
            [
             0.8888888888888888,
             "#fdca26"
            ],
            [
             1,
             "#f0f921"
            ]
           ],
           "sequentialminus": [
            [
             0,
             "#0d0887"
            ],
            [
             0.1111111111111111,
             "#46039f"
            ],
            [
             0.2222222222222222,
             "#7201a8"
            ],
            [
             0.3333333333333333,
             "#9c179e"
            ],
            [
             0.4444444444444444,
             "#bd3786"
            ],
            [
             0.5555555555555556,
             "#d8576b"
            ],
            [
             0.6666666666666666,
             "#ed7953"
            ],
            [
             0.7777777777777778,
             "#fb9f3a"
            ],
            [
             0.8888888888888888,
             "#fdca26"
            ],
            [
             1,
             "#f0f921"
            ]
           ]
          },
          "colorway": [
           "#636efa",
           "#EF553B",
           "#00cc96",
           "#ab63fa",
           "#FFA15A",
           "#19d3f3",
           "#FF6692",
           "#B6E880",
           "#FF97FF",
           "#FECB52"
          ],
          "font": {
           "color": "#2a3f5f"
          },
          "geo": {
           "bgcolor": "white",
           "lakecolor": "white",
           "landcolor": "#E5ECF6",
           "showlakes": true,
           "showland": true,
           "subunitcolor": "white"
          },
          "hoverlabel": {
           "align": "left"
          },
          "hovermode": "closest",
          "mapbox": {
           "style": "light"
          },
          "paper_bgcolor": "white",
          "plot_bgcolor": "#E5ECF6",
          "polar": {
           "angularaxis": {
            "gridcolor": "white",
            "linecolor": "white",
            "ticks": ""
           },
           "bgcolor": "#E5ECF6",
           "radialaxis": {
            "gridcolor": "white",
            "linecolor": "white",
            "ticks": ""
           }
          },
          "scene": {
           "xaxis": {
            "backgroundcolor": "#E5ECF6",
            "gridcolor": "white",
            "gridwidth": 2,
            "linecolor": "white",
            "showbackground": true,
            "ticks": "",
            "zerolinecolor": "white"
           },
           "yaxis": {
            "backgroundcolor": "#E5ECF6",
            "gridcolor": "white",
            "gridwidth": 2,
            "linecolor": "white",
            "showbackground": true,
            "ticks": "",
            "zerolinecolor": "white"
           },
           "zaxis": {
            "backgroundcolor": "#E5ECF6",
            "gridcolor": "white",
            "gridwidth": 2,
            "linecolor": "white",
            "showbackground": true,
            "ticks": "",
            "zerolinecolor": "white"
           }
          },
          "shapedefaults": {
           "line": {
            "color": "#2a3f5f"
           }
          },
          "ternary": {
           "aaxis": {
            "gridcolor": "white",
            "linecolor": "white",
            "ticks": ""
           },
           "baxis": {
            "gridcolor": "white",
            "linecolor": "white",
            "ticks": ""
           },
           "bgcolor": "#E5ECF6",
           "caxis": {
            "gridcolor": "white",
            "linecolor": "white",
            "ticks": ""
           }
          },
          "title": {
           "x": 0.05
          },
          "xaxis": {
           "automargin": true,
           "gridcolor": "white",
           "linecolor": "white",
           "ticks": "",
           "title": {
            "standoff": 15
           },
           "zerolinecolor": "white",
           "zerolinewidth": 2
          },
          "yaxis": {
           "automargin": true,
           "gridcolor": "white",
           "linecolor": "white",
           "ticks": "",
           "title": {
            "standoff": 15
           },
           "zerolinecolor": "white",
           "zerolinewidth": 2
          }
         }
        },
        "title": {
         "text": "Feature Importance"
        },
        "xaxis": {
         "anchor": "y",
         "domain": [
          0,
          1
         ],
         "title": {
          "text": "feature"
         }
        },
        "yaxis": {
         "anchor": "x",
         "domain": [
          0,
          1
         ],
         "title": {
          "text": "importance"
         }
        }
       }
      }
     },
     "metadata": {},
     "output_type": "display_data"
    }
   ],
   "source": [
    "# use plotly to create a bar chart of the feature importance\n",
    "fig = px.bar(feature_importance_df, x=feature_importance_df.index, y=\"importance\", title=\"Feature Importance\", color=\"importance\", color_continuous_scale=px.colors.sequential.Cividis_r)\n",
    "# save the graph\n",
    "fig.write_image(\"images/feature_importance_quarterly.png\")\n",
    "# show the graph\n",
    "fig.show()"
   ]
  },
  {
   "cell_type": "code",
   "execution_count": 29,
   "metadata": {},
   "outputs": [],
   "source": [
    "# define a function to output images of tables\n",
    "def save_df_as_image(df, filename):\n",
    "    source = ColumnDataSource(df)\n",
    "    columns = [TableColumn(field=Ci, title=Ci) for Ci in df.columns]  # bokeh columns\n",
    "    # add index column\n",
    "    columns.insert(0, TableColumn(field=\"index\", title=\"index\"))\n",
    "    # use df index as index column\n",
    "    source.add(df.index, \"index\")\n",
    "    data_table = DataTable(columns=columns, source=source, width=800, height=280)\n",
    "    export_png(data_table, filename=filename)"
   ]
  },
  {
   "cell_type": "code",
   "execution_count": 30,
   "metadata": {},
   "outputs": [],
   "source": [
    "# save a table of the feature importance\n",
    "save_df_as_image(feature_importance_df, \"images/feature_importance_quarterly_table.png\")"
   ]
  }
 ],
 "metadata": {
  "kernelspec": {
   "display_name": "PythonData",
   "language": "python",
   "name": "python3"
  },
  "language_info": {
   "codemirror_mode": {
    "name": "ipython",
    "version": 3
   },
   "file_extension": ".py",
   "mimetype": "text/x-python",
   "name": "python",
   "nbconvert_exporter": "python",
   "pygments_lexer": "ipython3",
   "version": "3.7.7"
  },
  "orig_nbformat": 4
 },
 "nbformat": 4,
 "nbformat_minor": 2
}
