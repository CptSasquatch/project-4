{
 "cells": [
  {
   "attachments": {},
   "cell_type": "markdown",
   "metadata": {},
   "source": [
    "# US Housing Market Analysis"
   ]
  },
  {
   "cell_type": "code",
   "execution_count": 1,
   "metadata": {},
   "outputs": [],
   "source": [
    "#import dependencies\n",
    "import pandas as pd\n",
    "import numpy as np\n",
    "import matplotlib.pyplot as plt\n",
    "from pathlib import Path\n",
    "from sklearn.ensemble import RandomForestClassifier\n",
    "from sklearn.preprocessing import StandardScaler\n",
    "from sklearn.model_selection import train_test_split\n",
    "from sklearn.metrics import confusion_matrix, accuracy_score, classification_report"
   ]
  },
  {
   "attachments": {},
   "cell_type": "markdown",
   "metadata": {},
   "source": [
    "# Loading and cleaning data\n",
    "We will be using data from [US Housing Market Analysis: Supply-Demand Dynamics](https://www.kaggle.com/datasets/utkarshx27/factors-influence-house-price-in-us) on Kaggle. There are 2 csv files in this dataset: `supply.csv' and `demand.csv`. "
   ]
  },
  {
   "cell_type": "code",
   "execution_count": 3,
   "metadata": {},
   "outputs": [
    {
     "data": {
      "text/html": [
       "<div>\n",
       "<style scoped>\n",
       "    .dataframe tbody tr th:only-of-type {\n",
       "        vertical-align: middle;\n",
       "    }\n",
       "\n",
       "    .dataframe tbody tr th {\n",
       "        vertical-align: top;\n",
       "    }\n",
       "\n",
       "    .dataframe thead th {\n",
       "        text-align: right;\n",
       "    }\n",
       "</style>\n",
       "<table border=\"1\" class=\"dataframe\">\n",
       "  <thead>\n",
       "    <tr style=\"text-align: right;\">\n",
       "      <th></th>\n",
       "      <th>DATE</th>\n",
       "      <th>CSUSHPINSA</th>\n",
       "      <th>EVACANTUSQ176N</th>\n",
       "      <th>GDP</th>\n",
       "      <th>MORTGAGE30US</th>\n",
       "      <th>MSACSR</th>\n",
       "      <th>MSPUS</th>\n",
       "      <th>PERMIT</th>\n",
       "      <th>TLRESCONS</th>\n",
       "      <th>UMCSENT</th>\n",
       "    </tr>\n",
       "  </thead>\n",
       "  <tbody>\n",
       "    <tr>\n",
       "      <th>0</th>\n",
       "      <td>2002-01-01</td>\n",
       "      <td>116.437</td>\n",
       "      <td>14342</td>\n",
       "      <td>10783.50</td>\n",
       "      <td>6.9975</td>\n",
       "      <td>4.2</td>\n",
       "      <td>188700.0</td>\n",
       "      <td>1665.0</td>\n",
       "      <td>382979</td>\n",
       "      <td>93.0</td>\n",
       "    </tr>\n",
       "    <tr>\n",
       "      <th>1</th>\n",
       "      <td>2002-02-01</td>\n",
       "      <td>116.916</td>\n",
       "      <td>14342</td>\n",
       "      <td>10783.50</td>\n",
       "      <td>6.8925</td>\n",
       "      <td>4.0</td>\n",
       "      <td>188700.0</td>\n",
       "      <td>1787.0</td>\n",
       "      <td>391434</td>\n",
       "      <td>90.7</td>\n",
       "    </tr>\n",
       "    <tr>\n",
       "      <th>2</th>\n",
       "      <td>2002-03-01</td>\n",
       "      <td>117.929</td>\n",
       "      <td>14342</td>\n",
       "      <td>10783.50</td>\n",
       "      <td>7.0140</td>\n",
       "      <td>4.1</td>\n",
       "      <td>188700.0</td>\n",
       "      <td>1691.0</td>\n",
       "      <td>390942</td>\n",
       "      <td>95.7</td>\n",
       "    </tr>\n",
       "    <tr>\n",
       "      <th>3</th>\n",
       "      <td>2002-04-01</td>\n",
       "      <td>119.208</td>\n",
       "      <td>14207</td>\n",
       "      <td>10887.46</td>\n",
       "      <td>6.9850</td>\n",
       "      <td>4.3</td>\n",
       "      <td>187200.0</td>\n",
       "      <td>1669.0</td>\n",
       "      <td>404255</td>\n",
       "      <td>93.0</td>\n",
       "    </tr>\n",
       "    <tr>\n",
       "      <th>4</th>\n",
       "      <td>2002-05-01</td>\n",
       "      <td>120.787</td>\n",
       "      <td>14207</td>\n",
       "      <td>10887.46</td>\n",
       "      <td>6.8060</td>\n",
       "      <td>4.0</td>\n",
       "      <td>187200.0</td>\n",
       "      <td>1716.0</td>\n",
       "      <td>399164</td>\n",
       "      <td>96.9</td>\n",
       "    </tr>\n",
       "  </tbody>\n",
       "</table>\n",
       "</div>"
      ],
      "text/plain": [
       "         DATE  CSUSHPINSA  EVACANTUSQ176N       GDP  MORTGAGE30US  MSACSR  \\\n",
       "0  2002-01-01     116.437           14342  10783.50        6.9975     4.2   \n",
       "1  2002-02-01     116.916           14342  10783.50        6.8925     4.0   \n",
       "2  2002-03-01     117.929           14342  10783.50        7.0140     4.1   \n",
       "3  2002-04-01     119.208           14207  10887.46        6.9850     4.3   \n",
       "4  2002-05-01     120.787           14207  10887.46        6.8060     4.0   \n",
       "\n",
       "      MSPUS  PERMIT  TLRESCONS  UMCSENT  \n",
       "0  188700.0  1665.0     382979     93.0  \n",
       "1  188700.0  1787.0     391434     90.7  \n",
       "2  188700.0  1691.0     390942     95.7  \n",
       "3  187200.0  1669.0     404255     93.0  \n",
       "4  187200.0  1716.0     399164     96.9  "
      ]
     },
     "execution_count": 3,
     "metadata": {},
     "output_type": "execute_result"
    }
   ],
   "source": [
    "# Read in data\n",
    "file_path = Path(\"data/housing_data.csv\")\n",
    "df = pd.read_csv(file_path)\n",
    "df.head()"
   ]
  },
  {
   "cell_type": "code",
   "execution_count": 5,
   "metadata": {},
   "outputs": [
    {
     "data": {
      "text/html": [
       "<div>\n",
       "<style scoped>\n",
       "    .dataframe tbody tr th:only-of-type {\n",
       "        vertical-align: middle;\n",
       "    }\n",
       "\n",
       "    .dataframe tbody tr th {\n",
       "        vertical-align: top;\n",
       "    }\n",
       "\n",
       "    .dataframe thead th {\n",
       "        text-align: right;\n",
       "    }\n",
       "</style>\n",
       "<table border=\"1\" class=\"dataframe\">\n",
       "  <thead>\n",
       "    <tr style=\"text-align: right;\">\n",
       "      <th></th>\n",
       "      <th>DATE</th>\n",
       "      <th>CSUSHPINSA</th>\n",
       "      <th>EVACANTUSQ176N</th>\n",
       "      <th>GDP</th>\n",
       "      <th>MORTGAGE30US</th>\n",
       "      <th>MSACSR</th>\n",
       "      <th>MSPUS</th>\n",
       "      <th>PERMIT</th>\n",
       "      <th>TLRESCONS</th>\n",
       "      <th>UMCSENT</th>\n",
       "    </tr>\n",
       "  </thead>\n",
       "  <tbody>\n",
       "    <tr>\n",
       "      <th>248</th>\n",
       "      <td>2022-09-01</td>\n",
       "      <td>300.451</td>\n",
       "      <td>15306</td>\n",
       "      <td>25723.941</td>\n",
       "      <td>6.1120</td>\n",
       "      <td>9.7</td>\n",
       "      <td>468000.0</td>\n",
       "      <td>1588.0</td>\n",
       "      <td>889018</td>\n",
       "      <td>58.6</td>\n",
       "    </tr>\n",
       "    <tr>\n",
       "      <th>249</th>\n",
       "      <td>2022-10-01</td>\n",
       "      <td>298.672</td>\n",
       "      <td>14554</td>\n",
       "      <td>26137.992</td>\n",
       "      <td>6.9000</td>\n",
       "      <td>9.7</td>\n",
       "      <td>479500.0</td>\n",
       "      <td>1555.0</td>\n",
       "      <td>874105</td>\n",
       "      <td>59.9</td>\n",
       "    </tr>\n",
       "    <tr>\n",
       "      <th>250</th>\n",
       "      <td>2022-11-01</td>\n",
       "      <td>296.809</td>\n",
       "      <td>14554</td>\n",
       "      <td>26137.992</td>\n",
       "      <td>6.8050</td>\n",
       "      <td>9.4</td>\n",
       "      <td>479500.0</td>\n",
       "      <td>1402.0</td>\n",
       "      <td>869322</td>\n",
       "      <td>56.8</td>\n",
       "    </tr>\n",
       "    <tr>\n",
       "      <th>251</th>\n",
       "      <td>2022-12-01</td>\n",
       "      <td>294.266</td>\n",
       "      <td>14554</td>\n",
       "      <td>26137.992</td>\n",
       "      <td>6.3640</td>\n",
       "      <td>8.5</td>\n",
       "      <td>479500.0</td>\n",
       "      <td>1409.0</td>\n",
       "      <td>868435</td>\n",
       "      <td>59.7</td>\n",
       "    </tr>\n",
       "    <tr>\n",
       "      <th>252</th>\n",
       "      <td>2023-01-01</td>\n",
       "      <td>292.444</td>\n",
       "      <td>15053</td>\n",
       "      <td>26486.287</td>\n",
       "      <td>6.2725</td>\n",
       "      <td>8.1</td>\n",
       "      <td>436800.0</td>\n",
       "      <td>1354.0</td>\n",
       "      <td>851235</td>\n",
       "      <td>64.9</td>\n",
       "    </tr>\n",
       "  </tbody>\n",
       "</table>\n",
       "</div>"
      ],
      "text/plain": [
       "           DATE  CSUSHPINSA  EVACANTUSQ176N        GDP  MORTGAGE30US  MSACSR  \\\n",
       "248  2022-09-01     300.451           15306  25723.941        6.1120     9.7   \n",
       "249  2022-10-01     298.672           14554  26137.992        6.9000     9.7   \n",
       "250  2022-11-01     296.809           14554  26137.992        6.8050     9.4   \n",
       "251  2022-12-01     294.266           14554  26137.992        6.3640     8.5   \n",
       "252  2023-01-01     292.444           15053  26486.287        6.2725     8.1   \n",
       "\n",
       "        MSPUS  PERMIT  TLRESCONS  UMCSENT  \n",
       "248  468000.0  1588.0     889018     58.6  \n",
       "249  479500.0  1555.0     874105     59.9  \n",
       "250  479500.0  1402.0     869322     56.8  \n",
       "251  479500.0  1409.0     868435     59.7  \n",
       "252  436800.0  1354.0     851235     64.9  "
      ]
     },
     "execution_count": 5,
     "metadata": {},
     "output_type": "execute_result"
    }
   ],
   "source": [
    "df.tail()"
   ]
  },
  {
   "cell_type": "code",
   "execution_count": 7,
   "metadata": {},
   "outputs": [
    {
     "data": {
      "text/html": [
       "<div>\n",
       "<style scoped>\n",
       "    .dataframe tbody tr th:only-of-type {\n",
       "        vertical-align: middle;\n",
       "    }\n",
       "\n",
       "    .dataframe tbody tr th {\n",
       "        vertical-align: top;\n",
       "    }\n",
       "\n",
       "    .dataframe thead th {\n",
       "        text-align: right;\n",
       "    }\n",
       "</style>\n",
       "<table border=\"1\" class=\"dataframe\">\n",
       "  <thead>\n",
       "    <tr style=\"text-align: right;\">\n",
       "      <th></th>\n",
       "      <th>DATE</th>\n",
       "      <th>CSUSHPINSA</th>\n",
       "      <th>EVACANTUSQ176N</th>\n",
       "      <th>GDP</th>\n",
       "      <th>MORTGAGE30US</th>\n",
       "      <th>MSACSR</th>\n",
       "      <th>MSPUS</th>\n",
       "      <th>PERMIT</th>\n",
       "      <th>TLRESCONS</th>\n",
       "      <th>UMCSENT</th>\n",
       "      <th>PRICE_CHANGE_UP_DOWN</th>\n",
       "    </tr>\n",
       "  </thead>\n",
       "  <tbody>\n",
       "    <tr>\n",
       "      <th>248</th>\n",
       "      <td>2022-09-01</td>\n",
       "      <td>300.451</td>\n",
       "      <td>15306</td>\n",
       "      <td>25723.941</td>\n",
       "      <td>6.1120</td>\n",
       "      <td>9.7</td>\n",
       "      <td>468000.0</td>\n",
       "      <td>1588.0</td>\n",
       "      <td>889018</td>\n",
       "      <td>58.6</td>\n",
       "      <td>0</td>\n",
       "    </tr>\n",
       "    <tr>\n",
       "      <th>249</th>\n",
       "      <td>2022-10-01</td>\n",
       "      <td>298.672</td>\n",
       "      <td>14554</td>\n",
       "      <td>26137.992</td>\n",
       "      <td>6.9000</td>\n",
       "      <td>9.7</td>\n",
       "      <td>479500.0</td>\n",
       "      <td>1555.0</td>\n",
       "      <td>874105</td>\n",
       "      <td>59.9</td>\n",
       "      <td>0</td>\n",
       "    </tr>\n",
       "    <tr>\n",
       "      <th>250</th>\n",
       "      <td>2022-11-01</td>\n",
       "      <td>296.809</td>\n",
       "      <td>14554</td>\n",
       "      <td>26137.992</td>\n",
       "      <td>6.8050</td>\n",
       "      <td>9.4</td>\n",
       "      <td>479500.0</td>\n",
       "      <td>1402.0</td>\n",
       "      <td>869322</td>\n",
       "      <td>56.8</td>\n",
       "      <td>0</td>\n",
       "    </tr>\n",
       "    <tr>\n",
       "      <th>251</th>\n",
       "      <td>2022-12-01</td>\n",
       "      <td>294.266</td>\n",
       "      <td>14554</td>\n",
       "      <td>26137.992</td>\n",
       "      <td>6.3640</td>\n",
       "      <td>8.5</td>\n",
       "      <td>479500.0</td>\n",
       "      <td>1409.0</td>\n",
       "      <td>868435</td>\n",
       "      <td>59.7</td>\n",
       "      <td>0</td>\n",
       "    </tr>\n",
       "    <tr>\n",
       "      <th>252</th>\n",
       "      <td>2023-01-01</td>\n",
       "      <td>292.444</td>\n",
       "      <td>15053</td>\n",
       "      <td>26486.287</td>\n",
       "      <td>6.2725</td>\n",
       "      <td>8.1</td>\n",
       "      <td>436800.0</td>\n",
       "      <td>1354.0</td>\n",
       "      <td>851235</td>\n",
       "      <td>64.9</td>\n",
       "      <td>0</td>\n",
       "    </tr>\n",
       "  </tbody>\n",
       "</table>\n",
       "</div>"
      ],
      "text/plain": [
       "           DATE  CSUSHPINSA  EVACANTUSQ176N        GDP  MORTGAGE30US  MSACSR  \\\n",
       "248  2022-09-01     300.451           15306  25723.941        6.1120     9.7   \n",
       "249  2022-10-01     298.672           14554  26137.992        6.9000     9.7   \n",
       "250  2022-11-01     296.809           14554  26137.992        6.8050     9.4   \n",
       "251  2022-12-01     294.266           14554  26137.992        6.3640     8.5   \n",
       "252  2023-01-01     292.444           15053  26486.287        6.2725     8.1   \n",
       "\n",
       "        MSPUS  PERMIT  TLRESCONS  UMCSENT  PRICE_CHANGE_UP_DOWN  \n",
       "248  468000.0  1588.0     889018     58.6                     0  \n",
       "249  479500.0  1555.0     874105     59.9                     0  \n",
       "250  479500.0  1402.0     869322     56.8                     0  \n",
       "251  479500.0  1409.0     868435     59.7                     0  \n",
       "252  436800.0  1354.0     851235     64.9                     0  "
      ]
     },
     "execution_count": 7,
     "metadata": {},
     "output_type": "execute_result"
    }
   ],
   "source": [
    "# create a new column called 'PRICE_CHANGE_UP_DOWN' and set the values to 0 if the value of the 'CSUSHPISA' column is less than the value of the previous row, otherwise set the value to 1\n",
    "df[\"PRICE_CHANGE_UP_DOWN\"] = np.where(df[\"CSUSHPINSA\"] < df[\"CSUSHPINSA\"].shift(1), 0, 1)\n",
    "df.tail()"
   ]
  },
  {
   "cell_type": "code",
   "execution_count": 8,
   "metadata": {},
   "outputs": [
    {
     "data": {
      "text/plain": [
       "1    174\n",
       "0     79\n",
       "Name: PRICE_CHANGE_UP_DOWN, dtype: int64"
      ]
     },
     "execution_count": 8,
     "metadata": {},
     "output_type": "execute_result"
    }
   ],
   "source": [
    "# get the value counts for the PRICE_CHANGE_UP_DOWN column\n",
    "df[\"PRICE_CHANGE_UP_DOWN\"].value_counts()"
   ]
  },
  {
   "attachments": {},
   "cell_type": "markdown",
   "metadata": {},
   "source": [
    "# Defining the feature and target variables"
   ]
  },
  {
   "cell_type": "code",
   "execution_count": 9,
   "metadata": {},
   "outputs": [
    {
     "data": {
      "text/html": [
       "<div>\n",
       "<style scoped>\n",
       "    .dataframe tbody tr th:only-of-type {\n",
       "        vertical-align: middle;\n",
       "    }\n",
       "\n",
       "    .dataframe tbody tr th {\n",
       "        vertical-align: top;\n",
       "    }\n",
       "\n",
       "    .dataframe thead th {\n",
       "        text-align: right;\n",
       "    }\n",
       "</style>\n",
       "<table border=\"1\" class=\"dataframe\">\n",
       "  <thead>\n",
       "    <tr style=\"text-align: right;\">\n",
       "      <th></th>\n",
       "      <th>EVACANTUSQ176N</th>\n",
       "      <th>GDP</th>\n",
       "      <th>MORTGAGE30US</th>\n",
       "      <th>MSACSR</th>\n",
       "      <th>MSPUS</th>\n",
       "      <th>PERMIT</th>\n",
       "      <th>TLRESCONS</th>\n",
       "      <th>UMCSENT</th>\n",
       "    </tr>\n",
       "  </thead>\n",
       "  <tbody>\n",
       "    <tr>\n",
       "      <th>1</th>\n",
       "      <td>14342</td>\n",
       "      <td>10783.50</td>\n",
       "      <td>6.8925</td>\n",
       "      <td>4.0</td>\n",
       "      <td>188700.0</td>\n",
       "      <td>1787.0</td>\n",
       "      <td>391434</td>\n",
       "      <td>90.7</td>\n",
       "    </tr>\n",
       "    <tr>\n",
       "      <th>2</th>\n",
       "      <td>14342</td>\n",
       "      <td>10783.50</td>\n",
       "      <td>7.0140</td>\n",
       "      <td>4.1</td>\n",
       "      <td>188700.0</td>\n",
       "      <td>1691.0</td>\n",
       "      <td>390942</td>\n",
       "      <td>95.7</td>\n",
       "    </tr>\n",
       "    <tr>\n",
       "      <th>3</th>\n",
       "      <td>14207</td>\n",
       "      <td>10887.46</td>\n",
       "      <td>6.9850</td>\n",
       "      <td>4.3</td>\n",
       "      <td>187200.0</td>\n",
       "      <td>1669.0</td>\n",
       "      <td>404255</td>\n",
       "      <td>93.0</td>\n",
       "    </tr>\n",
       "    <tr>\n",
       "      <th>4</th>\n",
       "      <td>14207</td>\n",
       "      <td>10887.46</td>\n",
       "      <td>6.8060</td>\n",
       "      <td>4.0</td>\n",
       "      <td>187200.0</td>\n",
       "      <td>1716.0</td>\n",
       "      <td>399164</td>\n",
       "      <td>96.9</td>\n",
       "    </tr>\n",
       "    <tr>\n",
       "      <th>5</th>\n",
       "      <td>14207</td>\n",
       "      <td>10887.46</td>\n",
       "      <td>6.6500</td>\n",
       "      <td>4.2</td>\n",
       "      <td>187200.0</td>\n",
       "      <td>1758.0</td>\n",
       "      <td>407305</td>\n",
       "      <td>92.4</td>\n",
       "    </tr>\n",
       "  </tbody>\n",
       "</table>\n",
       "</div>"
      ],
      "text/plain": [
       "   EVACANTUSQ176N       GDP  MORTGAGE30US  MSACSR     MSPUS  PERMIT  \\\n",
       "1           14342  10783.50        6.8925     4.0  188700.0  1787.0   \n",
       "2           14342  10783.50        7.0140     4.1  188700.0  1691.0   \n",
       "3           14207  10887.46        6.9850     4.3  187200.0  1669.0   \n",
       "4           14207  10887.46        6.8060     4.0  187200.0  1716.0   \n",
       "5           14207  10887.46        6.6500     4.2  187200.0  1758.0   \n",
       "\n",
       "   TLRESCONS  UMCSENT  \n",
       "1     391434     90.7  \n",
       "2     390942     95.7  \n",
       "3     404255     93.0  \n",
       "4     399164     96.9  \n",
       "5     407305     92.4  "
      ]
     },
     "execution_count": 9,
     "metadata": {},
     "output_type": "execute_result"
    }
   ],
   "source": [
    "# Define features set\n",
    "X = df.copy()\n",
    "X = X.drop(\"DATE\", axis=1)\n",
    "X = X.drop(\"CSUSHPINSA\", axis=1)\n",
    "X = X.drop(\"PRICE_CHANGE_UP_DOWN\", axis=1)\n",
    "# drop first row\n",
    "X = X.iloc[1:]\n",
    "X.head()"
   ]
  },
  {
   "cell_type": "code",
   "execution_count": 10,
   "metadata": {},
   "outputs": [
    {
     "name": "stdout",
     "output_type": "stream",
     "text": [
      "(252, 8)\n",
      "EVACANTUSQ176N    0\n",
      "GDP               0\n",
      "MORTGAGE30US      0\n",
      "MSACSR            0\n",
      "MSPUS             0\n",
      "PERMIT            0\n",
      "TLRESCONS         0\n",
      "UMCSENT           0\n",
      "dtype: int64\n"
     ]
    }
   ],
   "source": [
    "# checking the shape of X and if there are any null values\n",
    "print(X.shape)\n",
    "print(X.isnull().sum())"
   ]
  },
  {
   "attachments": {},
   "cell_type": "markdown",
   "metadata": {},
   "source": [
    "# Creating the target vector CSUSHPISA = S&P/Case-Shiller U.S. National Home Price Index (Index Jan 2000=100, Seasonally Adjusted)"
   ]
  },
  {
   "cell_type": "code",
   "execution_count": 11,
   "metadata": {},
   "outputs": [
    {
     "data": {
      "text/plain": [
       "array([[1],\n",
       "       [1],\n",
       "       [1],\n",
       "       [1],\n",
       "       [1]])"
      ]
     },
     "execution_count": 11,
     "metadata": {},
     "output_type": "execute_result"
    }
   ],
   "source": [
    "# Define target vector 'PRICE_CHANGE_UP_DOWN' as y\n",
    "y = df[\"PRICE_CHANGE_UP_DOWN\"].values.reshape(-1, 1)\n",
    "y = y[1:]\n",
    "y[:5]"
   ]
  },
  {
   "attachments": {},
   "cell_type": "markdown",
   "metadata": {},
   "source": [
    "# Splitting the data into training and testing sets"
   ]
  },
  {
   "cell_type": "code",
   "execution_count": 12,
   "metadata": {},
   "outputs": [],
   "source": [
    "# Splitting into Train and Test sets\n",
    "X_train, X_test, y_train, y_test = train_test_split(X, y, random_state=78)\n"
   ]
  },
  {
   "cell_type": "code",
   "execution_count": 13,
   "metadata": {},
   "outputs": [],
   "source": [
    "# Create a StandardScaler instance\n",
    "scaler = StandardScaler()"
   ]
  },
  {
   "cell_type": "code",
   "execution_count": 14,
   "metadata": {},
   "outputs": [],
   "source": [
    "# Fit the StandardScaler\n",
    "X_scaler = scaler.fit(X_train)"
   ]
  },
  {
   "cell_type": "code",
   "execution_count": 15,
   "metadata": {},
   "outputs": [
    {
     "data": {
      "text/plain": [
       "(63, 8)"
      ]
     },
     "execution_count": 15,
     "metadata": {},
     "output_type": "execute_result"
    }
   ],
   "source": [
    "# Scale the data\n",
    "X_train_scaled = X_scaler.transform(X_train)\n",
    "X_test_scaled = X_scaler.transform(X_test)\n",
    "X_test_scaled.shape"
   ]
  },
  {
   "attachments": {},
   "cell_type": "markdown",
   "metadata": {},
   "source": [
    "# Fitting the Random Forest model\n",
    "\n",
    "Having scaled the data, we can now fit the Random Forest model to the training data."
   ]
  },
  {
   "cell_type": "code",
   "execution_count": 16,
   "metadata": {},
   "outputs": [],
   "source": [
    "# create the random forrest classifier instance\n",
    "rf_model = RandomForestClassifier(n_estimators=500, random_state=78)\n",
    "# fit the model\n",
    "rf_model = rf_model.fit(X_train_scaled, y_train.ravel())"
   ]
  },
  {
   "attachments": {},
   "cell_type": "markdown",
   "metadata": {},
   "source": [
    "# Making predictions with the Random Forest model"
   ]
  },
  {
   "cell_type": "code",
   "execution_count": 17,
   "metadata": {},
   "outputs": [
    {
     "data": {
      "text/plain": [
       "array([1, 1, 0, 0, 1, 1, 1, 1, 1, 0, 1, 1, 1, 1, 1, 0, 0, 1, 1, 1, 1, 1,\n",
       "       1, 0, 0, 0, 1, 1, 0, 1, 1, 1, 1, 0, 1, 0, 0, 1, 0, 1, 1, 1, 0, 1,\n",
       "       1, 0, 1, 1, 1, 1, 1, 0, 0, 1, 1, 1, 0, 0, 1, 1, 1, 0, 0])"
      ]
     },
     "execution_count": 17,
     "metadata": {},
     "output_type": "execute_result"
    }
   ],
   "source": [
    "# Making predictions using the testing data\n",
    "predictions = rf_model.predict(X_test_scaled)\n",
    "predictions"
   ]
  },
  {
   "cell_type": "code",
   "execution_count": 18,
   "metadata": {},
   "outputs": [
    {
     "name": "stdout",
     "output_type": "stream",
     "text": [
      "First 10 Predictions:   [1 1 0 0 1 1 1 1 1 0]\n",
      "First 10 Actual labels: [[1], [1], [0], [0], [1], [1], [1], [1], [1], [0]]\n"
     ]
    }
   ],
   "source": [
    "# compare predictions to actual values\n",
    "print(f\"First 10 Predictions:   {predictions[:10]}\")\n",
    "print(f\"First 10 Actual labels: {y_test[:10].tolist()}\")\n"
   ]
  },
  {
   "attachments": {},
   "cell_type": "markdown",
   "metadata": {},
   "source": [
    "# Evaluating the Random Forest model"
   ]
  },
  {
   "cell_type": "code",
   "execution_count": 19,
   "metadata": {},
   "outputs": [
    {
     "data": {
      "text/html": [
       "<div>\n",
       "<style scoped>\n",
       "    .dataframe tbody tr th:only-of-type {\n",
       "        vertical-align: middle;\n",
       "    }\n",
       "\n",
       "    .dataframe tbody tr th {\n",
       "        vertical-align: top;\n",
       "    }\n",
       "\n",
       "    .dataframe thead th {\n",
       "        text-align: right;\n",
       "    }\n",
       "</style>\n",
       "<table border=\"1\" class=\"dataframe\">\n",
       "  <thead>\n",
       "    <tr style=\"text-align: right;\">\n",
       "      <th></th>\n",
       "      <th>Prediction</th>\n",
       "      <th>Actual</th>\n",
       "      <th>Difference</th>\n",
       "      <th>Percent Difference</th>\n",
       "    </tr>\n",
       "  </thead>\n",
       "  <tbody>\n",
       "    <tr>\n",
       "      <th>0</th>\n",
       "      <td>1.0</td>\n",
       "      <td>1.0</td>\n",
       "      <td>0.0</td>\n",
       "      <td>0.0</td>\n",
       "    </tr>\n",
       "    <tr>\n",
       "      <th>1</th>\n",
       "      <td>1.0</td>\n",
       "      <td>1.0</td>\n",
       "      <td>0.0</td>\n",
       "      <td>0.0</td>\n",
       "    </tr>\n",
       "    <tr>\n",
       "      <th>2</th>\n",
       "      <td>0.0</td>\n",
       "      <td>0.0</td>\n",
       "      <td>0.0</td>\n",
       "      <td>NaN</td>\n",
       "    </tr>\n",
       "    <tr>\n",
       "      <th>3</th>\n",
       "      <td>0.0</td>\n",
       "      <td>0.0</td>\n",
       "      <td>0.0</td>\n",
       "      <td>NaN</td>\n",
       "    </tr>\n",
       "    <tr>\n",
       "      <th>4</th>\n",
       "      <td>1.0</td>\n",
       "      <td>1.0</td>\n",
       "      <td>0.0</td>\n",
       "      <td>0.0</td>\n",
       "    </tr>\n",
       "    <tr>\n",
       "      <th>5</th>\n",
       "      <td>1.0</td>\n",
       "      <td>1.0</td>\n",
       "      <td>0.0</td>\n",
       "      <td>0.0</td>\n",
       "    </tr>\n",
       "    <tr>\n",
       "      <th>6</th>\n",
       "      <td>1.0</td>\n",
       "      <td>1.0</td>\n",
       "      <td>0.0</td>\n",
       "      <td>0.0</td>\n",
       "    </tr>\n",
       "    <tr>\n",
       "      <th>7</th>\n",
       "      <td>1.0</td>\n",
       "      <td>1.0</td>\n",
       "      <td>0.0</td>\n",
       "      <td>0.0</td>\n",
       "    </tr>\n",
       "    <tr>\n",
       "      <th>8</th>\n",
       "      <td>1.0</td>\n",
       "      <td>1.0</td>\n",
       "      <td>0.0</td>\n",
       "      <td>0.0</td>\n",
       "    </tr>\n",
       "    <tr>\n",
       "      <th>9</th>\n",
       "      <td>0.0</td>\n",
       "      <td>0.0</td>\n",
       "      <td>0.0</td>\n",
       "      <td>NaN</td>\n",
       "    </tr>\n",
       "  </tbody>\n",
       "</table>\n",
       "</div>"
      ],
      "text/plain": [
       "   Prediction  Actual  Difference  Percent Difference\n",
       "0         1.0     1.0         0.0                 0.0\n",
       "1         1.0     1.0         0.0                 0.0\n",
       "2         0.0     0.0         0.0                 NaN\n",
       "3         0.0     0.0         0.0                 NaN\n",
       "4         1.0     1.0         0.0                 0.0\n",
       "5         1.0     1.0         0.0                 0.0\n",
       "6         1.0     1.0         0.0                 0.0\n",
       "7         1.0     1.0         0.0                 0.0\n",
       "8         1.0     1.0         0.0                 0.0\n",
       "9         0.0     0.0         0.0                 NaN"
      ]
     },
     "execution_count": 19,
     "metadata": {},
     "output_type": "execute_result"
    }
   ],
   "source": [
    "# chart of predictions vs actual\n",
    "results_df = pd.DataFrame({\"Prediction\": predictions, \"Actual\": y_test.ravel()})\n",
    "# change the datatypes to float\n",
    "results_df = results_df.astype(\"float64\")\n",
    "# add a column for the difference between the prediction and actual\n",
    "results_df[\"Difference\"] = results_df[\"Actual\"] - results_df[\"Prediction\"]\n",
    "# add a column for the percent difference between the prediction and actual\n",
    "results_df[\"Percent Difference\"] = results_df[\"Difference\"] / results_df[\"Actual\"] * 100\n",
    "# find the highest percent difference\n",
    "results_df[\"Percent Difference\"].max()\n",
    "results_df.head(10)"
   ]
  },
  {
   "cell_type": "code",
   "execution_count": 20,
   "metadata": {},
   "outputs": [
    {
     "name": "stdout",
     "output_type": "stream",
     "text": [
      "Mean Absolute Error: -0.031746031746031744\n"
     ]
    }
   ],
   "source": [
    "# calculate the mean absolute error (MAE)\n",
    "mae = results_df[\"Difference\"].mean()\n",
    "print(f\"Mean Absolute Error: {mae}\")\n"
   ]
  },
  {
   "cell_type": "code",
   "execution_count": 21,
   "metadata": {},
   "outputs": [
    {
     "name": "stdout",
     "output_type": "stream",
     "text": [
      "Mean Squared Error: 0.031746031746031744\n"
     ]
    }
   ],
   "source": [
    "# calculate the mean squared error (MSE)\n",
    "mse = results_df[\"Difference\"].apply(lambda x: x**2).mean()\n",
    "print(f\"Mean Squared Error: {mse}\")\n"
   ]
  },
  {
   "cell_type": "code",
   "execution_count": 22,
   "metadata": {},
   "outputs": [
    {
     "name": "stdout",
     "output_type": "stream",
     "text": [
      "Root Mean Squared Error: 0.1781741612749496\n"
     ]
    }
   ],
   "source": [
    "# calculate the root mean squared error (RMSE)\n",
    "rmse = mse**(0.5)\n",
    "print(f\"Root Mean Squared Error: {rmse}\")\n"
   ]
  },
  {
   "cell_type": "code",
   "execution_count": 23,
   "metadata": {},
   "outputs": [
    {
     "name": "stdout",
     "output_type": "stream",
     "text": [
      "Mean Absolute Percent Error: inf\n"
     ]
    }
   ],
   "source": [
    "# calculate the mean absolute percent error (MAPE)\n",
    "mape = results_df[\"Percent Difference\"].abs().mean()\n",
    "print(f\"Mean Absolute Percent Error: {mape}\")\n"
   ]
  },
  {
   "cell_type": "code",
   "execution_count": 24,
   "metadata": {},
   "outputs": [
    {
     "data": {
      "image/png": "[encoded data removed]",
      "text/plain": [
       "<Figure size 432x288 with 1 Axes>"
      ]
     },
     "metadata": {
      "needs_background": "light"
     },
     "output_type": "display_data"
    }
   ],
   "source": [
    "# make a graph of the predictions vs actual with percent difference\n",
    "results_df.plot(y=[\"Prediction\", \"Actual\"], kind=\"bar\")\n",
    "# save the graph\n",
    "plt.savefig(\"images/predictions_vs_actual.png\")\n",
    "plt.show()\n"
   ]
  },
  {
   "cell_type": "code",
   "execution_count": 25,
   "metadata": {},
   "outputs": [
    {
     "name": "stdout",
     "output_type": "stream",
     "text": [
      "Accuracy Score : 0.9682539682539683\n"
     ]
    }
   ],
   "source": [
    "# Evaluating the Random Forest model\n",
    "acc_score = accuracy_score(y_test, predictions)\n",
    "print(f\"Accuracy Score : {acc_score}\")\n"
   ]
  },
  {
   "attachments": {},
   "cell_type": "markdown",
   "metadata": {},
   "source": [
    "# Feature importance"
   ]
  },
  {
   "cell_type": "code",
   "execution_count": 26,
   "metadata": {},
   "outputs": [
    {
     "name": "stdout",
     "output_type": "stream",
     "text": [
      "EVACANTUSQ176N: (0.13434131937637064)\n",
      "GDP: (0.09924028635253082)\n",
      "MORTGAGE30US: (0.10564808177392525)\n",
      "MSACSR: (0.23369804672768896)\n",
      "MSPUS: (0.08151323102707182)\n",
      "PERMIT: (0.12920170874636255)\n",
      "TLRESCONS: (0.10814472498541453)\n",
      "UMCSENT: (0.10821260101063536)\n"
     ]
    }
   ],
   "source": [
    "# get the feature importance array\n",
    "importances = rf_model.feature_importances_\n",
    "# list of features\n",
    "feature_list = list(X.columns)\n",
    "# sort the features by their importance\n",
    "sorted(zip(rf_model.feature_importances_, feature_list), reverse=True)\n",
    "# print the feature importance\n",
    "for feature in zip(feature_list, rf_model.feature_importances_):\n",
    "    print(f\"{feature[0]}: ({feature[1]})\")\n",
    "    "
   ]
  },
  {
   "cell_type": "code",
   "execution_count": 27,
   "metadata": {},
   "outputs": [
    {
     "data": {
      "image/png": "[encoded data removed]",
      "text/plain": [
       "<Figure size 432x288 with 1 Axes>"
      ]
     },
     "metadata": {
      "needs_background": "light"
     },
     "output_type": "display_data"
    }
   ],
   "source": [
    "# add the feature importance to a dataframe\n",
    "feature_importance_df = pd.DataFrame({\"feature\": feature_list, \"importance\": importances})\n",
    "# sort the dataframe by the importance\n",
    "feature_importance_df = feature_importance_df.sort_values(\"importance\", ascending=False)\n",
    "# set the index to be the feature\n",
    "feature_importance_df = feature_importance_df.set_index(\"feature\", drop=True)\n",
    "# plot the feature importance\n",
    "feature_importance_df.plot(kind=\"bar\")\n",
    "# save the graph\n",
    "plt.savefig(\"images/feature_importance2.png\")\n",
    "plt.show()"
   ]
  },
  {
   "cell_type": "code",
   "execution_count": 28,
   "metadata": {},
   "outputs": [
    {
     "data": {
      "text/html": [
       "<div>\n",
       "<style scoped>\n",
       "    .dataframe tbody tr th:only-of-type {\n",
       "        vertical-align: middle;\n",
       "    }\n",
       "\n",
       "    .dataframe tbody tr th {\n",
       "        vertical-align: top;\n",
       "    }\n",
       "\n",
       "    .dataframe thead th {\n",
       "        text-align: right;\n",
       "    }\n",
       "</style>\n",
       "<table border=\"1\" class=\"dataframe\">\n",
       "  <thead>\n",
       "    <tr style=\"text-align: right;\">\n",
       "      <th></th>\n",
       "      <th>Predicted 0</th>\n",
       "      <th>Predicted 1</th>\n",
       "    </tr>\n",
       "  </thead>\n",
       "  <tbody>\n",
       "    <tr>\n",
       "      <th>Actual 0</th>\n",
       "      <td>21</td>\n",
       "      <td>2</td>\n",
       "    </tr>\n",
       "    <tr>\n",
       "      <th>Actual 1</th>\n",
       "      <td>0</td>\n",
       "      <td>40</td>\n",
       "    </tr>\n",
       "  </tbody>\n",
       "</table>\n",
       "</div>"
      ],
      "text/plain": [
       "          Predicted 0  Predicted 1\n",
       "Actual 0           21            2\n",
       "Actual 1            0           40"
      ]
     },
     "metadata": {},
     "output_type": "display_data"
    }
   ],
   "source": [
    "# create a confusion matrix\n",
    "cm = confusion_matrix(y_test, predictions)\n",
    "# create a dataframe from the confusion matrix\n",
    "cm_df = pd.DataFrame(\n",
    "    cm, index=[\"Actual 0\", \"Actual 1\"], columns=[\"Predicted 0\", \"Predicted 1\"]\n",
    ")\n",
    "# display the confusion matrix\n",
    "display(cm_df)\n"
   ]
  }
 ],
 "metadata": {
  "kernelspec": {
   "display_name": "PythonData",
   "language": "python",
   "name": "python3"
  },
  "language_info": {
   "codemirror_mode": {
    "name": "ipython",
    "version": 3
   },
   "file_extension": ".py",
   "mimetype": "text/x-python",
   "name": "python",
   "nbconvert_exporter": "python",
   "pygments_lexer": "ipython3",
   "version": "3.7.7"
  },
  "orig_nbformat": 4
 },
 "nbformat": 4,
 "nbformat_minor": 2
}
