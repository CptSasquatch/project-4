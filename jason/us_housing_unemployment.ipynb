{
 "cells": [
  {
   "attachments": {},
   "cell_type": "markdown",
   "metadata": {},
   "source": [
    "# US Housing Market Analysis"
   ]
  },
  {
   "cell_type": "code",
   "execution_count": 1,
   "metadata": {},
   "outputs": [],
   "source": [
    "#import dependencies\n",
    "import pandas as pd\n",
    "import numpy as np\n",
    "import matplotlib.pyplot as plt\n",
    "import plotly.express as px\n",
    "from kaleido.scopes.plotly import PlotlyScope\n",
    "from bokeh.io import export_png\n",
    "from bokeh.models import ColumnDataSource, DataTable, TableColumn\n",
    "from pathlib import Path\n",
    "from sklearn.ensemble import RandomForestClassifier\n",
    "from sklearn.preprocessing import StandardScaler\n",
    "from sklearn.model_selection import train_test_split\n",
    "from sklearn.metrics import confusion_matrix, accuracy_score, classification_report"
   ]
  },
  {
   "attachments": {},
   "cell_type": "markdown",
   "metadata": {},
   "source": [
    "# Loading and cleaning data\n",
    "We will be using data from [US Housing Market Analysis: Supply-Demand Dynamics](https://www.kaggle.com/datasets/utkarshx27/factors-influence-house-price-in-us) on Kaggle. There are 2 csv files in this dataset: `supply.csv' and `demand.csv`. "
   ]
  },
  {
   "cell_type": "code",
   "execution_count": 2,
   "metadata": {},
   "outputs": [
    {
     "data": {
      "text/html": [
       "<div>\n",
       "<style scoped>\n",
       "    .dataframe tbody tr th:only-of-type {\n",
       "        vertical-align: middle;\n",
       "    }\n",
       "\n",
       "    .dataframe tbody tr th {\n",
       "        vertical-align: top;\n",
       "    }\n",
       "\n",
       "    .dataframe thead th {\n",
       "        text-align: right;\n",
       "    }\n",
       "</style>\n",
       "<table border=\"1\" class=\"dataframe\">\n",
       "  <thead>\n",
       "    <tr style=\"text-align: right;\">\n",
       "      <th></th>\n",
       "      <th>Date</th>\n",
       "      <th>Price Index</th>\n",
       "      <th>Monthly Supply</th>\n",
       "      <th>Permits</th>\n",
       "      <th>Sentiment Index</th>\n",
       "      <th>Construction</th>\n",
       "      <th>Housing Starts</th>\n",
       "      <th>Lumber Price Index</th>\n",
       "      <th>Pair Count</th>\n",
       "      <th>Mortgage Rate</th>\n",
       "      <th>Units Completed</th>\n",
       "      <th>Sales Price</th>\n",
       "      <th>Oil Price</th>\n",
       "    </tr>\n",
       "  </thead>\n",
       "  <tbody>\n",
       "    <tr>\n",
       "      <th>0</th>\n",
       "      <td>1987-01-01</td>\n",
       "      <td>63.734</td>\n",
       "      <td>6.0</td>\n",
       "      <td>1690.0</td>\n",
       "      <td>90.4</td>\n",
       "      <td>1090.0</td>\n",
       "      <td>1774.0</td>\n",
       "      <td>108.1</td>\n",
       "      <td>58585</td>\n",
       "      <td>125.90971</td>\n",
       "      <td>1862.0</td>\n",
       "      <td>97900.0</td>\n",
       "      <td>18.65</td>\n",
       "    </tr>\n",
       "    <tr>\n",
       "      <th>1</th>\n",
       "      <td>1987-02-01</td>\n",
       "      <td>64.134</td>\n",
       "      <td>6.2</td>\n",
       "      <td>1689.0</td>\n",
       "      <td>90.2</td>\n",
       "      <td>1096.0</td>\n",
       "      <td>1784.0</td>\n",
       "      <td>109.4</td>\n",
       "      <td>53102</td>\n",
       "      <td>124.24761</td>\n",
       "      <td>1771.0</td>\n",
       "      <td>97900.0</td>\n",
       "      <td>17.75</td>\n",
       "    </tr>\n",
       "    <tr>\n",
       "      <th>2</th>\n",
       "      <td>1987-03-01</td>\n",
       "      <td>64.469</td>\n",
       "      <td>6.0</td>\n",
       "      <td>1704.0</td>\n",
       "      <td>90.8</td>\n",
       "      <td>1084.0</td>\n",
       "      <td>1726.0</td>\n",
       "      <td>110.6</td>\n",
       "      <td>43500</td>\n",
       "      <td>123.59781</td>\n",
       "      <td>1694.0</td>\n",
       "      <td>97900.0</td>\n",
       "      <td>18.30</td>\n",
       "    </tr>\n",
       "    <tr>\n",
       "      <th>3</th>\n",
       "      <td>1987-04-01</td>\n",
       "      <td>64.973</td>\n",
       "      <td>6.0</td>\n",
       "      <td>1601.0</td>\n",
       "      <td>92.8</td>\n",
       "      <td>1079.0</td>\n",
       "      <td>1614.0</td>\n",
       "      <td>110.7</td>\n",
       "      <td>54405</td>\n",
       "      <td>134.50752</td>\n",
       "      <td>1735.0</td>\n",
       "      <td>103400.0</td>\n",
       "      <td>18.68</td>\n",
       "    </tr>\n",
       "    <tr>\n",
       "      <th>4</th>\n",
       "      <td>1987-05-01</td>\n",
       "      <td>65.547</td>\n",
       "      <td>6.7</td>\n",
       "      <td>1500.0</td>\n",
       "      <td>91.1</td>\n",
       "      <td>1070.0</td>\n",
       "      <td>1628.0</td>\n",
       "      <td>110.7</td>\n",
       "      <td>65151</td>\n",
       "      <td>144.95212</td>\n",
       "      <td>1713.0</td>\n",
       "      <td>103400.0</td>\n",
       "      <td>19.44</td>\n",
       "    </tr>\n",
       "  </tbody>\n",
       "</table>\n",
       "</div>"
      ],
      "text/plain": [
       "         Date  Price Index  Monthly Supply  Permits  Sentiment Index  \\\n",
       "0  1987-01-01       63.734             6.0   1690.0             90.4   \n",
       "1  1987-02-01       64.134             6.2   1689.0             90.2   \n",
       "2  1987-03-01       64.469             6.0   1704.0             90.8   \n",
       "3  1987-04-01       64.973             6.0   1601.0             92.8   \n",
       "4  1987-05-01       65.547             6.7   1500.0             91.1   \n",
       "\n",
       "   Construction  Housing Starts  Lumber Price Index  Pair Count  \\\n",
       "0        1090.0          1774.0               108.1       58585   \n",
       "1        1096.0          1784.0               109.4       53102   \n",
       "2        1084.0          1726.0               110.6       43500   \n",
       "3        1079.0          1614.0               110.7       54405   \n",
       "4        1070.0          1628.0               110.7       65151   \n",
       "\n",
       "   Mortgage Rate  Units Completed  Sales Price  Oil Price  \n",
       "0      125.90971           1862.0      97900.0      18.65  \n",
       "1      124.24761           1771.0      97900.0      17.75  \n",
       "2      123.59781           1694.0      97900.0      18.30  \n",
       "3      134.50752           1735.0     103400.0      18.68  \n",
       "4      144.95212           1713.0     103400.0      19.44  "
      ]
     },
     "execution_count": 2,
     "metadata": {},
     "output_type": "execute_result"
    }
   ],
   "source": [
    "# Read in data\n",
    "file_path = Path(\"data/housing_data3.csv\")\n",
    "df = pd.read_csv(file_path)\n",
    "df.head()"
   ]
  },
  {
   "cell_type": "code",
   "execution_count": 3,
   "metadata": {},
   "outputs": [
    {
     "data": {
      "text/html": [
       "<div>\n",
       "<style scoped>\n",
       "    .dataframe tbody tr th:only-of-type {\n",
       "        vertical-align: middle;\n",
       "    }\n",
       "\n",
       "    .dataframe tbody tr th {\n",
       "        vertical-align: top;\n",
       "    }\n",
       "\n",
       "    .dataframe thead th {\n",
       "        text-align: right;\n",
       "    }\n",
       "</style>\n",
       "<table border=\"1\" class=\"dataframe\">\n",
       "  <thead>\n",
       "    <tr style=\"text-align: right;\">\n",
       "      <th></th>\n",
       "      <th>Date</th>\n",
       "      <th>Price Index</th>\n",
       "      <th>Monthly Supply</th>\n",
       "      <th>Permits</th>\n",
       "      <th>Sentiment Index</th>\n",
       "      <th>Construction</th>\n",
       "      <th>Housing Starts</th>\n",
       "      <th>Lumber Price Index</th>\n",
       "      <th>Pair Count</th>\n",
       "      <th>Mortgage Rate</th>\n",
       "      <th>Units Completed</th>\n",
       "      <th>Sales Price</th>\n",
       "      <th>Oil Price</th>\n",
       "    </tr>\n",
       "  </thead>\n",
       "  <tbody>\n",
       "    <tr>\n",
       "      <th>428</th>\n",
       "      <td>2022-09-01</td>\n",
       "      <td>300.451</td>\n",
       "      <td>9.7</td>\n",
       "      <td>1588.0</td>\n",
       "      <td>58.6</td>\n",
       "      <td>1698.0</td>\n",
       "      <td>1463.0</td>\n",
       "      <td>322.849</td>\n",
       "      <td>72386</td>\n",
       "      <td>83.61149</td>\n",
       "      <td>1438.0</td>\n",
       "      <td>468000.0</td>\n",
       "      <td>84.26</td>\n",
       "    </tr>\n",
       "    <tr>\n",
       "      <th>429</th>\n",
       "      <td>2022-10-01</td>\n",
       "      <td>298.672</td>\n",
       "      <td>9.7</td>\n",
       "      <td>1555.0</td>\n",
       "      <td>59.9</td>\n",
       "      <td>1710.0</td>\n",
       "      <td>1432.0</td>\n",
       "      <td>317.617</td>\n",
       "      <td>65599</td>\n",
       "      <td>94.39124</td>\n",
       "      <td>1348.0</td>\n",
       "      <td>479500.0</td>\n",
       "      <td>87.55</td>\n",
       "    </tr>\n",
       "    <tr>\n",
       "      <th>430</th>\n",
       "      <td>2022-11-01</td>\n",
       "      <td>296.809</td>\n",
       "      <td>9.4</td>\n",
       "      <td>1402.0</td>\n",
       "      <td>56.8</td>\n",
       "      <td>1695.0</td>\n",
       "      <td>1427.0</td>\n",
       "      <td>312.864</td>\n",
       "      <td>55272</td>\n",
       "      <td>93.09166</td>\n",
       "      <td>1543.0</td>\n",
       "      <td>479500.0</td>\n",
       "      <td>84.37</td>\n",
       "    </tr>\n",
       "    <tr>\n",
       "      <th>431</th>\n",
       "      <td>2022-12-01</td>\n",
       "      <td>294.266</td>\n",
       "      <td>8.5</td>\n",
       "      <td>1409.0</td>\n",
       "      <td>59.7</td>\n",
       "      <td>1696.0</td>\n",
       "      <td>1357.0</td>\n",
       "      <td>308.076</td>\n",
       "      <td>47749</td>\n",
       "      <td>87.05882</td>\n",
       "      <td>1390.0</td>\n",
       "      <td>479500.0</td>\n",
       "      <td>76.44</td>\n",
       "    </tr>\n",
       "    <tr>\n",
       "      <th>432</th>\n",
       "      <td>2023-01-01</td>\n",
       "      <td>292.444</td>\n",
       "      <td>8.1</td>\n",
       "      <td>1354.0</td>\n",
       "      <td>64.9</td>\n",
       "      <td>1695.0</td>\n",
       "      <td>1340.0</td>\n",
       "      <td>306.461</td>\n",
       "      <td>40292</td>\n",
       "      <td>85.80711</td>\n",
       "      <td>1377.0</td>\n",
       "      <td>436800.0</td>\n",
       "      <td>78.12</td>\n",
       "    </tr>\n",
       "  </tbody>\n",
       "</table>\n",
       "</div>"
      ],
      "text/plain": [
       "           Date  Price Index  Monthly Supply  Permits  Sentiment Index  \\\n",
       "428  2022-09-01      300.451             9.7   1588.0             58.6   \n",
       "429  2022-10-01      298.672             9.7   1555.0             59.9   \n",
       "430  2022-11-01      296.809             9.4   1402.0             56.8   \n",
       "431  2022-12-01      294.266             8.5   1409.0             59.7   \n",
       "432  2023-01-01      292.444             8.1   1354.0             64.9   \n",
       "\n",
       "     Construction  Housing Starts  Lumber Price Index  Pair Count  \\\n",
       "428        1698.0          1463.0             322.849       72386   \n",
       "429        1710.0          1432.0             317.617       65599   \n",
       "430        1695.0          1427.0             312.864       55272   \n",
       "431        1696.0          1357.0             308.076       47749   \n",
       "432        1695.0          1340.0             306.461       40292   \n",
       "\n",
       "     Mortgage Rate  Units Completed  Sales Price  Oil Price  \n",
       "428       83.61149           1438.0     468000.0      84.26  \n",
       "429       94.39124           1348.0     479500.0      87.55  \n",
       "430       93.09166           1543.0     479500.0      84.37  \n",
       "431       87.05882           1390.0     479500.0      76.44  \n",
       "432       85.80711           1377.0     436800.0      78.12  "
      ]
     },
     "execution_count": 3,
     "metadata": {},
     "output_type": "execute_result"
    }
   ],
   "source": [
    "df.tail()"
   ]
  },
  {
   "cell_type": "code",
   "execution_count": 4,
   "metadata": {},
   "outputs": [
    {
     "data": {
      "text/html": [
       "<div>\n",
       "<style scoped>\n",
       "    .dataframe tbody tr th:only-of-type {\n",
       "        vertical-align: middle;\n",
       "    }\n",
       "\n",
       "    .dataframe tbody tr th {\n",
       "        vertical-align: top;\n",
       "    }\n",
       "\n",
       "    .dataframe thead th {\n",
       "        text-align: right;\n",
       "    }\n",
       "</style>\n",
       "<table border=\"1\" class=\"dataframe\">\n",
       "  <thead>\n",
       "    <tr style=\"text-align: right;\">\n",
       "      <th></th>\n",
       "      <th>Date</th>\n",
       "      <th>Price Index</th>\n",
       "      <th>Monthly Supply</th>\n",
       "      <th>Permits</th>\n",
       "      <th>Sentiment Index</th>\n",
       "      <th>Construction</th>\n",
       "      <th>Housing Starts</th>\n",
       "      <th>Lumber Price Index</th>\n",
       "      <th>Pair Count</th>\n",
       "      <th>Mortgage Rate</th>\n",
       "      <th>Units Completed</th>\n",
       "      <th>Sales Price</th>\n",
       "      <th>Oil Price</th>\n",
       "      <th>Price Change</th>\n",
       "    </tr>\n",
       "  </thead>\n",
       "  <tbody>\n",
       "    <tr>\n",
       "      <th>423</th>\n",
       "      <td>2022-04-01</td>\n",
       "      <td>301.789</td>\n",
       "      <td>8.5</td>\n",
       "      <td>1795.0</td>\n",
       "      <td>65.2</td>\n",
       "      <td>1669.0</td>\n",
       "      <td>1803.0</td>\n",
       "      <td>356.444</td>\n",
       "      <td>73334</td>\n",
       "      <td>68.16005</td>\n",
       "      <td>1361.0</td>\n",
       "      <td>449300.0</td>\n",
       "      <td>101.78</td>\n",
       "      <td>1</td>\n",
       "    </tr>\n",
       "    <tr>\n",
       "      <th>424</th>\n",
       "      <td>2022-05-01</td>\n",
       "      <td>306.569</td>\n",
       "      <td>8.3</td>\n",
       "      <td>1708.0</td>\n",
       "      <td>58.4</td>\n",
       "      <td>1680.0</td>\n",
       "      <td>1543.0</td>\n",
       "      <td>358.834</td>\n",
       "      <td>83758</td>\n",
       "      <td>71.54583</td>\n",
       "      <td>1446.0</td>\n",
       "      <td>449300.0</td>\n",
       "      <td>109.55</td>\n",
       "      <td>1</td>\n",
       "    </tr>\n",
       "    <tr>\n",
       "      <th>425</th>\n",
       "      <td>2022-06-01</td>\n",
       "      <td>308.334</td>\n",
       "      <td>9.5</td>\n",
       "      <td>1701.0</td>\n",
       "      <td>50.0</td>\n",
       "      <td>1688.0</td>\n",
       "      <td>1561.0</td>\n",
       "      <td>334.275</td>\n",
       "      <td>87679</td>\n",
       "      <td>75.54036</td>\n",
       "      <td>1392.0</td>\n",
       "      <td>449300.0</td>\n",
       "      <td>114.84</td>\n",
       "      <td>1</td>\n",
       "    </tr>\n",
       "    <tr>\n",
       "      <th>426</th>\n",
       "      <td>2022-07-01</td>\n",
       "      <td>307.135</td>\n",
       "      <td>10.1</td>\n",
       "      <td>1658.0</td>\n",
       "      <td>51.5</td>\n",
       "      <td>1683.0</td>\n",
       "      <td>1371.0</td>\n",
       "      <td>331.669</td>\n",
       "      <td>85499</td>\n",
       "      <td>74.04241</td>\n",
       "      <td>1396.0</td>\n",
       "      <td>468000.0</td>\n",
       "      <td>101.62</td>\n",
       "      <td>0</td>\n",
       "    </tr>\n",
       "    <tr>\n",
       "      <th>427</th>\n",
       "      <td>2022-08-01</td>\n",
       "      <td>303.649</td>\n",
       "      <td>8.7</td>\n",
       "      <td>1586.0</td>\n",
       "      <td>58.2</td>\n",
       "      <td>1702.0</td>\n",
       "      <td>1505.0</td>\n",
       "      <td>329.173</td>\n",
       "      <td>81651</td>\n",
       "      <td>71.44323</td>\n",
       "      <td>1355.0</td>\n",
       "      <td>468000.0</td>\n",
       "      <td>93.67</td>\n",
       "      <td>0</td>\n",
       "    </tr>\n",
       "    <tr>\n",
       "      <th>428</th>\n",
       "      <td>2022-09-01</td>\n",
       "      <td>300.451</td>\n",
       "      <td>9.7</td>\n",
       "      <td>1588.0</td>\n",
       "      <td>58.6</td>\n",
       "      <td>1698.0</td>\n",
       "      <td>1463.0</td>\n",
       "      <td>322.849</td>\n",
       "      <td>72386</td>\n",
       "      <td>83.61149</td>\n",
       "      <td>1438.0</td>\n",
       "      <td>468000.0</td>\n",
       "      <td>84.26</td>\n",
       "      <td>0</td>\n",
       "    </tr>\n",
       "    <tr>\n",
       "      <th>429</th>\n",
       "      <td>2022-10-01</td>\n",
       "      <td>298.672</td>\n",
       "      <td>9.7</td>\n",
       "      <td>1555.0</td>\n",
       "      <td>59.9</td>\n",
       "      <td>1710.0</td>\n",
       "      <td>1432.0</td>\n",
       "      <td>317.617</td>\n",
       "      <td>65599</td>\n",
       "      <td>94.39124</td>\n",
       "      <td>1348.0</td>\n",
       "      <td>479500.0</td>\n",
       "      <td>87.55</td>\n",
       "      <td>0</td>\n",
       "    </tr>\n",
       "    <tr>\n",
       "      <th>430</th>\n",
       "      <td>2022-11-01</td>\n",
       "      <td>296.809</td>\n",
       "      <td>9.4</td>\n",
       "      <td>1402.0</td>\n",
       "      <td>56.8</td>\n",
       "      <td>1695.0</td>\n",
       "      <td>1427.0</td>\n",
       "      <td>312.864</td>\n",
       "      <td>55272</td>\n",
       "      <td>93.09166</td>\n",
       "      <td>1543.0</td>\n",
       "      <td>479500.0</td>\n",
       "      <td>84.37</td>\n",
       "      <td>0</td>\n",
       "    </tr>\n",
       "    <tr>\n",
       "      <th>431</th>\n",
       "      <td>2022-12-01</td>\n",
       "      <td>294.266</td>\n",
       "      <td>8.5</td>\n",
       "      <td>1409.0</td>\n",
       "      <td>59.7</td>\n",
       "      <td>1696.0</td>\n",
       "      <td>1357.0</td>\n",
       "      <td>308.076</td>\n",
       "      <td>47749</td>\n",
       "      <td>87.05882</td>\n",
       "      <td>1390.0</td>\n",
       "      <td>479500.0</td>\n",
       "      <td>76.44</td>\n",
       "      <td>0</td>\n",
       "    </tr>\n",
       "    <tr>\n",
       "      <th>432</th>\n",
       "      <td>2023-01-01</td>\n",
       "      <td>292.444</td>\n",
       "      <td>8.1</td>\n",
       "      <td>1354.0</td>\n",
       "      <td>64.9</td>\n",
       "      <td>1695.0</td>\n",
       "      <td>1340.0</td>\n",
       "      <td>306.461</td>\n",
       "      <td>40292</td>\n",
       "      <td>85.80711</td>\n",
       "      <td>1377.0</td>\n",
       "      <td>436800.0</td>\n",
       "      <td>78.12</td>\n",
       "      <td>0</td>\n",
       "    </tr>\n",
       "  </tbody>\n",
       "</table>\n",
       "</div>"
      ],
      "text/plain": [
       "           Date  Price Index  Monthly Supply  Permits  Sentiment Index  \\\n",
       "423  2022-04-01      301.789             8.5   1795.0             65.2   \n",
       "424  2022-05-01      306.569             8.3   1708.0             58.4   \n",
       "425  2022-06-01      308.334             9.5   1701.0             50.0   \n",
       "426  2022-07-01      307.135            10.1   1658.0             51.5   \n",
       "427  2022-08-01      303.649             8.7   1586.0             58.2   \n",
       "428  2022-09-01      300.451             9.7   1588.0             58.6   \n",
       "429  2022-10-01      298.672             9.7   1555.0             59.9   \n",
       "430  2022-11-01      296.809             9.4   1402.0             56.8   \n",
       "431  2022-12-01      294.266             8.5   1409.0             59.7   \n",
       "432  2023-01-01      292.444             8.1   1354.0             64.9   \n",
       "\n",
       "     Construction  Housing Starts  Lumber Price Index  Pair Count  \\\n",
       "423        1669.0          1803.0             356.444       73334   \n",
       "424        1680.0          1543.0             358.834       83758   \n",
       "425        1688.0          1561.0             334.275       87679   \n",
       "426        1683.0          1371.0             331.669       85499   \n",
       "427        1702.0          1505.0             329.173       81651   \n",
       "428        1698.0          1463.0             322.849       72386   \n",
       "429        1710.0          1432.0             317.617       65599   \n",
       "430        1695.0          1427.0             312.864       55272   \n",
       "431        1696.0          1357.0             308.076       47749   \n",
       "432        1695.0          1340.0             306.461       40292   \n",
       "\n",
       "     Mortgage Rate  Units Completed  Sales Price  Oil Price  Price Change  \n",
       "423       68.16005           1361.0     449300.0     101.78             1  \n",
       "424       71.54583           1446.0     449300.0     109.55             1  \n",
       "425       75.54036           1392.0     449300.0     114.84             1  \n",
       "426       74.04241           1396.0     468000.0     101.62             0  \n",
       "427       71.44323           1355.0     468000.0      93.67             0  \n",
       "428       83.61149           1438.0     468000.0      84.26             0  \n",
       "429       94.39124           1348.0     479500.0      87.55             0  \n",
       "430       93.09166           1543.0     479500.0      84.37             0  \n",
       "431       87.05882           1390.0     479500.0      76.44             0  \n",
       "432       85.80711           1377.0     436800.0      78.12             0  "
      ]
     },
     "execution_count": 4,
     "metadata": {},
     "output_type": "execute_result"
    }
   ],
   "source": [
    "# create a new column called 'PRICE_CHANGE_UP_DOWN' and set the values to 0 if the value of the 'CSUSHPISA' column is less than the value of the previous row, otherwise set the value to 1\n",
    "df[\"Price Change\"] = np.where(df[\"Price Index\"] < df[\"Price Index\"].shift(1), 0, 1)\n",
    "df.tail(10)"
   ]
  },
  {
   "cell_type": "code",
   "execution_count": 5,
   "metadata": {},
   "outputs": [
    {
     "data": {
      "text/plain": [
       "1    317\n",
       "0    116\n",
       "Name: Price Change, dtype: int64"
      ]
     },
     "execution_count": 5,
     "metadata": {},
     "output_type": "execute_result"
    }
   ],
   "source": [
    "# get the value counts for the PRICE_CHANGE_UP_DOWN column\n",
    "df[\"Price Change\"].value_counts()"
   ]
  },
  {
   "attachments": {},
   "cell_type": "markdown",
   "metadata": {},
   "source": [
    "# Defining the feature and target variables"
   ]
  },
  {
   "cell_type": "code",
   "execution_count": 6,
   "metadata": {},
   "outputs": [
    {
     "data": {
      "text/html": [
       "<div>\n",
       "<style scoped>\n",
       "    .dataframe tbody tr th:only-of-type {\n",
       "        vertical-align: middle;\n",
       "    }\n",
       "\n",
       "    .dataframe tbody tr th {\n",
       "        vertical-align: top;\n",
       "    }\n",
       "\n",
       "    .dataframe thead th {\n",
       "        text-align: right;\n",
       "    }\n",
       "</style>\n",
       "<table border=\"1\" class=\"dataframe\">\n",
       "  <thead>\n",
       "    <tr style=\"text-align: right;\">\n",
       "      <th></th>\n",
       "      <th>Monthly Supply</th>\n",
       "      <th>Permits</th>\n",
       "      <th>Sentiment Index</th>\n",
       "      <th>Construction</th>\n",
       "      <th>Housing Starts</th>\n",
       "      <th>Lumber Price Index</th>\n",
       "      <th>Pair Count</th>\n",
       "      <th>Mortgage Rate</th>\n",
       "      <th>Units Completed</th>\n",
       "      <th>Sales Price</th>\n",
       "      <th>Oil Price</th>\n",
       "    </tr>\n",
       "  </thead>\n",
       "  <tbody>\n",
       "    <tr>\n",
       "      <th>1</th>\n",
       "      <td>6.2</td>\n",
       "      <td>1689.0</td>\n",
       "      <td>90.2</td>\n",
       "      <td>1096.0</td>\n",
       "      <td>1784.0</td>\n",
       "      <td>109.4</td>\n",
       "      <td>53102</td>\n",
       "      <td>124.24761</td>\n",
       "      <td>1771.0</td>\n",
       "      <td>97900.0</td>\n",
       "      <td>17.75</td>\n",
       "    </tr>\n",
       "    <tr>\n",
       "      <th>2</th>\n",
       "      <td>6.0</td>\n",
       "      <td>1704.0</td>\n",
       "      <td>90.8</td>\n",
       "      <td>1084.0</td>\n",
       "      <td>1726.0</td>\n",
       "      <td>110.6</td>\n",
       "      <td>43500</td>\n",
       "      <td>123.59781</td>\n",
       "      <td>1694.0</td>\n",
       "      <td>97900.0</td>\n",
       "      <td>18.30</td>\n",
       "    </tr>\n",
       "    <tr>\n",
       "      <th>3</th>\n",
       "      <td>6.0</td>\n",
       "      <td>1601.0</td>\n",
       "      <td>92.8</td>\n",
       "      <td>1079.0</td>\n",
       "      <td>1614.0</td>\n",
       "      <td>110.7</td>\n",
       "      <td>54405</td>\n",
       "      <td>134.50752</td>\n",
       "      <td>1735.0</td>\n",
       "      <td>103400.0</td>\n",
       "      <td>18.68</td>\n",
       "    </tr>\n",
       "    <tr>\n",
       "      <th>4</th>\n",
       "      <td>6.7</td>\n",
       "      <td>1500.0</td>\n",
       "      <td>91.1</td>\n",
       "      <td>1070.0</td>\n",
       "      <td>1628.0</td>\n",
       "      <td>110.7</td>\n",
       "      <td>65151</td>\n",
       "      <td>144.95212</td>\n",
       "      <td>1713.0</td>\n",
       "      <td>103400.0</td>\n",
       "      <td>19.44</td>\n",
       "    </tr>\n",
       "    <tr>\n",
       "      <th>5</th>\n",
       "      <td>6.9</td>\n",
       "      <td>1522.0</td>\n",
       "      <td>91.5</td>\n",
       "      <td>1060.0</td>\n",
       "      <td>1594.0</td>\n",
       "      <td>111.4</td>\n",
       "      <td>75404</td>\n",
       "      <td>144.15185</td>\n",
       "      <td>1635.0</td>\n",
       "      <td>103400.0</td>\n",
       "      <td>20.07</td>\n",
       "    </tr>\n",
       "  </tbody>\n",
       "</table>\n",
       "</div>"
      ],
      "text/plain": [
       "   Monthly Supply  Permits  Sentiment Index  Construction  Housing Starts  \\\n",
       "1             6.2   1689.0             90.2        1096.0          1784.0   \n",
       "2             6.0   1704.0             90.8        1084.0          1726.0   \n",
       "3             6.0   1601.0             92.8        1079.0          1614.0   \n",
       "4             6.7   1500.0             91.1        1070.0          1628.0   \n",
       "5             6.9   1522.0             91.5        1060.0          1594.0   \n",
       "\n",
       "   Lumber Price Index  Pair Count  Mortgage Rate  Units Completed  \\\n",
       "1               109.4       53102      124.24761           1771.0   \n",
       "2               110.6       43500      123.59781           1694.0   \n",
       "3               110.7       54405      134.50752           1735.0   \n",
       "4               110.7       65151      144.95212           1713.0   \n",
       "5               111.4       75404      144.15185           1635.0   \n",
       "\n",
       "   Sales Price  Oil Price  \n",
       "1      97900.0      17.75  \n",
       "2      97900.0      18.30  \n",
       "3     103400.0      18.68  \n",
       "4     103400.0      19.44  \n",
       "5     103400.0      20.07  "
      ]
     },
     "execution_count": 6,
     "metadata": {},
     "output_type": "execute_result"
    }
   ],
   "source": [
    "# Define features set\n",
    "X = df.copy()\n",
    "X = X.drop(\"Date\", axis=1)\n",
    "X = X.drop(\"Price Index\", axis=1)\n",
    "X = X.drop(\"Price Change\", axis=1)\n",
    "# drop first row\n",
    "X = X.iloc[1:]\n",
    "X.head()"
   ]
  },
  {
   "cell_type": "code",
   "execution_count": 7,
   "metadata": {},
   "outputs": [
    {
     "name": "stdout",
     "output_type": "stream",
     "text": [
      "(432, 11)\n",
      "Monthly Supply        0\n",
      "Permits               0\n",
      "Sentiment Index       0\n",
      "Construction          0\n",
      "Housing Starts        0\n",
      "Lumber Price Index    0\n",
      "Pair Count            0\n",
      "Mortgage Rate         0\n",
      "Units Completed       0\n",
      "Sales Price           0\n",
      "Oil Price             0\n",
      "dtype: int64\n"
     ]
    }
   ],
   "source": [
    "# checking the shape of X and if there are any null values\n",
    "print(X.shape)\n",
    "print(X.isnull().sum())"
   ]
  },
  {
   "attachments": {},
   "cell_type": "markdown",
   "metadata": {},
   "source": [
    "# Creating the target vector CSUSHPISA = S&P/Case-Shiller U.S. National Home Price Index (Index Jan 2000=100, Seasonally Adjusted)"
   ]
  },
  {
   "cell_type": "code",
   "execution_count": 8,
   "metadata": {},
   "outputs": [
    {
     "data": {
      "text/plain": [
       "array([[1],\n",
       "       [1],\n",
       "       [1],\n",
       "       [1],\n",
       "       [1]])"
      ]
     },
     "execution_count": 8,
     "metadata": {},
     "output_type": "execute_result"
    }
   ],
   "source": [
    "# Define target vector 'PRICE_CHANGE_UP_DOWN' as y\n",
    "y = df[\"Price Change\"].values.reshape(-1, 1)\n",
    "y = y[1:]\n",
    "y[:5]"
   ]
  },
  {
   "attachments": {},
   "cell_type": "markdown",
   "metadata": {},
   "source": [
    "# Splitting the data into training and testing sets"
   ]
  },
  {
   "cell_type": "code",
   "execution_count": 9,
   "metadata": {},
   "outputs": [],
   "source": [
    "# Splitting into Train and Test sets\n",
    "X_train, X_test, y_train, y_test = train_test_split(X, y, random_state=78)\n"
   ]
  },
  {
   "cell_type": "code",
   "execution_count": 10,
   "metadata": {},
   "outputs": [],
   "source": [
    "# Create a StandardScaler instance\n",
    "scaler = StandardScaler()"
   ]
  },
  {
   "cell_type": "code",
   "execution_count": 11,
   "metadata": {},
   "outputs": [],
   "source": [
    "# Fit the StandardScaler\n",
    "X_scaler = scaler.fit(X_train)"
   ]
  },
  {
   "cell_type": "code",
   "execution_count": 12,
   "metadata": {},
   "outputs": [
    {
     "data": {
      "text/plain": [
       "(108, 11)"
      ]
     },
     "execution_count": 12,
     "metadata": {},
     "output_type": "execute_result"
    }
   ],
   "source": [
    "# Scale the data\n",
    "X_train_scaled = X_scaler.transform(X_train)\n",
    "X_test_scaled = X_scaler.transform(X_test)\n",
    "X_test_scaled.shape"
   ]
  },
  {
   "attachments": {},
   "cell_type": "markdown",
   "metadata": {},
   "source": [
    "# Fitting the Random Forest model\n",
    "\n",
    "Having scaled the data, we can now fit the Random Forest model to the training data."
   ]
  },
  {
   "cell_type": "code",
   "execution_count": 13,
   "metadata": {},
   "outputs": [],
   "source": [
    "# create the random forrest classifier instance\n",
    "rf_model = RandomForestClassifier(n_estimators=200, random_state=78)\n",
    "# fit the model\n",
    "rf_model = rf_model.fit(X_train_scaled, y_train.ravel())"
   ]
  },
  {
   "attachments": {},
   "cell_type": "markdown",
   "metadata": {},
   "source": [
    "# Making predictions with the Random Forest model"
   ]
  },
  {
   "cell_type": "code",
   "execution_count": 14,
   "metadata": {},
   "outputs": [
    {
     "data": {
      "text/plain": [
       "array([1, 1, 1, 0, 0, 1, 1, 0, 1, 1, 1, 1, 1, 0, 0, 1, 1, 0, 1, 1, 1, 1,\n",
       "       1, 1, 1, 1, 1, 1, 1, 1, 1, 1, 1, 1, 0, 1, 0, 1, 1, 1, 0, 1, 0, 1,\n",
       "       1, 1, 1, 0, 1, 1, 1, 0, 1, 1, 1, 1, 1, 1, 1, 1, 0, 1, 0, 1, 1, 1,\n",
       "       1, 1, 1, 0, 0, 1, 1, 1, 1, 0, 0, 0, 1, 1, 1, 1, 1, 0, 0, 1, 1, 1,\n",
       "       1, 0, 1, 1, 1, 0, 1, 1, 0, 1, 0, 1, 1, 0, 0, 1, 1, 0, 0, 1])"
      ]
     },
     "execution_count": 14,
     "metadata": {},
     "output_type": "execute_result"
    }
   ],
   "source": [
    "# Making predictions using the testing data\n",
    "predictions = rf_model.predict(X_test_scaled)\n",
    "predictions"
   ]
  },
  {
   "cell_type": "code",
   "execution_count": 15,
   "metadata": {},
   "outputs": [
    {
     "name": "stdout",
     "output_type": "stream",
     "text": [
      "First 10 Predictions:   [1 1 1 0 0 1 1 0 1 1]\n",
      "First 10 Actual labels: [[1], [1], [1], [0], [1], [1], [1], [0], [1], [1]]\n"
     ]
    }
   ],
   "source": [
    "# compare predictions to actual values\n",
    "print(f\"First 10 Predictions:   {predictions[:10]}\")\n",
    "print(f\"First 10 Actual labels: {y_test[:10].tolist()}\")\n"
   ]
  },
  {
   "attachments": {},
   "cell_type": "markdown",
   "metadata": {},
   "source": [
    "# Evaluating the Random Forest model"
   ]
  },
  {
   "cell_type": "code",
   "execution_count": 16,
   "metadata": {},
   "outputs": [
    {
     "data": {
      "text/html": [
       "<div>\n",
       "<style scoped>\n",
       "    .dataframe tbody tr th:only-of-type {\n",
       "        vertical-align: middle;\n",
       "    }\n",
       "\n",
       "    .dataframe tbody tr th {\n",
       "        vertical-align: top;\n",
       "    }\n",
       "\n",
       "    .dataframe thead th {\n",
       "        text-align: right;\n",
       "    }\n",
       "</style>\n",
       "<table border=\"1\" class=\"dataframe\">\n",
       "  <thead>\n",
       "    <tr style=\"text-align: right;\">\n",
       "      <th></th>\n",
       "      <th>Prediction</th>\n",
       "      <th>Actual</th>\n",
       "      <th>Difference</th>\n",
       "      <th>Percent Difference</th>\n",
       "    </tr>\n",
       "  </thead>\n",
       "  <tbody>\n",
       "    <tr>\n",
       "      <th>0</th>\n",
       "      <td>1.0</td>\n",
       "      <td>1.0</td>\n",
       "      <td>0.0</td>\n",
       "      <td>0.0</td>\n",
       "    </tr>\n",
       "    <tr>\n",
       "      <th>1</th>\n",
       "      <td>1.0</td>\n",
       "      <td>1.0</td>\n",
       "      <td>0.0</td>\n",
       "      <td>0.0</td>\n",
       "    </tr>\n",
       "    <tr>\n",
       "      <th>2</th>\n",
       "      <td>1.0</td>\n",
       "      <td>1.0</td>\n",
       "      <td>0.0</td>\n",
       "      <td>0.0</td>\n",
       "    </tr>\n",
       "    <tr>\n",
       "      <th>3</th>\n",
       "      <td>0.0</td>\n",
       "      <td>0.0</td>\n",
       "      <td>0.0</td>\n",
       "      <td>NaN</td>\n",
       "    </tr>\n",
       "    <tr>\n",
       "      <th>4</th>\n",
       "      <td>0.0</td>\n",
       "      <td>1.0</td>\n",
       "      <td>1.0</td>\n",
       "      <td>100.0</td>\n",
       "    </tr>\n",
       "    <tr>\n",
       "      <th>5</th>\n",
       "      <td>1.0</td>\n",
       "      <td>1.0</td>\n",
       "      <td>0.0</td>\n",
       "      <td>0.0</td>\n",
       "    </tr>\n",
       "    <tr>\n",
       "      <th>6</th>\n",
       "      <td>1.0</td>\n",
       "      <td>1.0</td>\n",
       "      <td>0.0</td>\n",
       "      <td>0.0</td>\n",
       "    </tr>\n",
       "    <tr>\n",
       "      <th>7</th>\n",
       "      <td>0.0</td>\n",
       "      <td>0.0</td>\n",
       "      <td>0.0</td>\n",
       "      <td>NaN</td>\n",
       "    </tr>\n",
       "    <tr>\n",
       "      <th>8</th>\n",
       "      <td>1.0</td>\n",
       "      <td>1.0</td>\n",
       "      <td>0.0</td>\n",
       "      <td>0.0</td>\n",
       "    </tr>\n",
       "    <tr>\n",
       "      <th>9</th>\n",
       "      <td>1.0</td>\n",
       "      <td>1.0</td>\n",
       "      <td>0.0</td>\n",
       "      <td>0.0</td>\n",
       "    </tr>\n",
       "  </tbody>\n",
       "</table>\n",
       "</div>"
      ],
      "text/plain": [
       "   Prediction  Actual  Difference  Percent Difference\n",
       "0         1.0     1.0         0.0                 0.0\n",
       "1         1.0     1.0         0.0                 0.0\n",
       "2         1.0     1.0         0.0                 0.0\n",
       "3         0.0     0.0         0.0                 NaN\n",
       "4         0.0     1.0         1.0               100.0\n",
       "5         1.0     1.0         0.0                 0.0\n",
       "6         1.0     1.0         0.0                 0.0\n",
       "7         0.0     0.0         0.0                 NaN\n",
       "8         1.0     1.0         0.0                 0.0\n",
       "9         1.0     1.0         0.0                 0.0"
      ]
     },
     "execution_count": 16,
     "metadata": {},
     "output_type": "execute_result"
    }
   ],
   "source": [
    "# chart of predictions vs actual\n",
    "results_df = pd.DataFrame({\"Prediction\": predictions, \"Actual\": y_test.ravel()})\n",
    "# change the datatypes to float\n",
    "results_df = results_df.astype(\"float64\")\n",
    "# add a column for the difference between the prediction and actual\n",
    "results_df[\"Difference\"] = results_df[\"Actual\"] - results_df[\"Prediction\"]\n",
    "# add a column for the percent difference between the prediction and actual\n",
    "results_df[\"Percent Difference\"] = results_df[\"Difference\"] / results_df[\"Actual\"] * 100\n",
    "# find the highest percent difference\n",
    "results_df[\"Percent Difference\"].max()\n",
    "results_df.head(10)"
   ]
  },
  {
   "cell_type": "code",
   "execution_count": 17,
   "metadata": {},
   "outputs": [
    {
     "name": "stdout",
     "output_type": "stream",
     "text": [
      "Mean Absolute Error: 0.0\n"
     ]
    }
   ],
   "source": [
    "# calculate the mean absolute error (MAE)\n",
    "mae = results_df[\"Difference\"].mean()\n",
    "print(f\"Mean Absolute Error: {mae}\")\n"
   ]
  },
  {
   "cell_type": "code",
   "execution_count": 18,
   "metadata": {},
   "outputs": [
    {
     "name": "stdout",
     "output_type": "stream",
     "text": [
      "Mean Squared Error: 0.14814814814814814\n"
     ]
    }
   ],
   "source": [
    "# calculate the mean squared error (MSE)\n",
    "mse = results_df[\"Difference\"].apply(lambda x: x**2).mean()\n",
    "print(f\"Mean Squared Error: {mse}\")\n"
   ]
  },
  {
   "cell_type": "code",
   "execution_count": 19,
   "metadata": {},
   "outputs": [
    {
     "name": "stdout",
     "output_type": "stream",
     "text": [
      "Root Mean Squared Error: 0.3849001794597505\n"
     ]
    }
   ],
   "source": [
    "# calculate the root mean squared error (RMSE)\n",
    "rmse = mse**(0.5)\n",
    "print(f\"Root Mean Squared Error: {rmse}\")\n"
   ]
  },
  {
   "cell_type": "code",
   "execution_count": 20,
   "metadata": {},
   "outputs": [
    {
     "name": "stdout",
     "output_type": "stream",
     "text": [
      "Mean Absolute Percent Error: inf\n"
     ]
    }
   ],
   "source": [
    "# calculate the mean absolute percent error (MAPE)\n",
    "mape = results_df[\"Percent Difference\"].abs().mean()\n",
    "print(f\"Mean Absolute Percent Error: {mape}\")\n"
   ]
  },
  {
   "cell_type": "code",
   "execution_count": 21,
   "metadata": {},
   "outputs": [
    {
     "name": "stdout",
     "output_type": "stream",
     "text": [
      "Accuracy Score : 0.8518518518518519\n"
     ]
    }
   ],
   "source": [
    "# Evaluating the Random Forest model\n",
    "acc_score = accuracy_score(y_test, predictions)\n",
    "print(f\"Accuracy Score : {acc_score}\")\n"
   ]
  },
  {
   "attachments": {},
   "cell_type": "markdown",
   "metadata": {},
   "source": [
    "# Feature importance"
   ]
  },
  {
   "cell_type": "code",
   "execution_count": 22,
   "metadata": {},
   "outputs": [
    {
     "name": "stdout",
     "output_type": "stream",
     "text": [
      "Monthly Supply: (0.1721373606914495)\n",
      "Permits: (0.08342554200242382)\n",
      "Sentiment Index: (0.10940030249075952)\n",
      "Construction: (0.09984439239155676)\n",
      "Housing Starts: (0.09772540664771134)\n",
      "Lumber Price Index: (0.08535987853833328)\n",
      "Pair Count: (0.09753277450612159)\n",
      "Mortgage Rate: (0.07290067403909159)\n",
      "Units Completed: (0.05742682402468796)\n",
      "Sales Price: (0.054394821571870096)\n",
      "Oil Price: (0.0698520230959945)\n"
     ]
    }
   ],
   "source": [
    "# get the feature importance array\n",
    "importances = rf_model.feature_importances_\n",
    "# list of features\n",
    "feature_list = list(X.columns)\n",
    "# sort the features by their importance\n",
    "sorted(zip(rf_model.feature_importances_, feature_list), reverse=True)\n",
    "# print the feature importance\n",
    "for feature in zip(feature_list, rf_model.feature_importances_):\n",
    "    print(f\"{feature[0]}: ({feature[1]})\")\n",
    "    "
   ]
  },
  {
   "cell_type": "code",
   "execution_count": 24,
   "metadata": {},
   "outputs": [
    {
     "data": {
      "image/png": "[encoded data removed]",
      "text/plain": [
       "<Figure size 432x288 with 1 Axes>"
      ]
     },
     "metadata": {
      "needs_background": "light"
     },
     "output_type": "display_data"
    }
   ],
   "source": [
    "# add the feature importance to a dataframe\n",
    "feature_importance_df = pd.DataFrame({\"feature\": feature_list, \"importance\": importances})\n",
    "# sort the dataframe by the importance\n",
    "feature_importance_df = feature_importance_df.sort_values(\"importance\", ascending=False)\n",
    "# set the index to be the feature\n",
    "feature_importance_df = feature_importance_df.set_index(\"feature\", drop=True)\n",
    "# plot the feature importance\n",
    "feature_importance_df.plot(kind=\"bar\")\n",
    "plt.show()"
   ]
  },
  {
   "cell_type": "code",
   "execution_count": 26,
   "metadata": {},
   "outputs": [
    {
     "data": {
      "application/vnd.plotly.v1+json": {
       "config": {
        "plotlyServerURL": "https://plot.ly"
       },
       "data": [
        {
         "alignmentgroup": "True",
         "hovertemplate": "feature=%{x}<br>importance=%{marker.color}<extra></extra>",
         "legendgroup": "",
         "marker": {
          "color": [
           0.1721373606914495,
           0.10940030249075952,
           0.09984439239155676,
           0.09772540664771134,
           0.09753277450612159,
           0.08535987853833328,
           0.08342554200242382,
           0.07290067403909159,
           0.0698520230959945,
           0.05742682402468796,
           0.054394821571870096
          ],
          "coloraxis": "coloraxis",
          "pattern": {
           "shape": ""
          }
         },
         "name": "",
         "offsetgroup": "",
         "orientation": "v",
         "showlegend": false,
         "textposition": "auto",
         "type": "bar",
         "x": [
          "Monthly Supply",
          "Sentiment Index",
          "Construction",
          "Housing Starts",
          "Pair Count",
          "Lumber Price Index",
          "Permits",
          "Mortgage Rate",
          "Oil Price",
          "Units Completed",
          "Sales Price"
         ],
         "xaxis": "x",
         "y": [
          0.1721373606914495,
          0.10940030249075952,
          0.09984439239155676,
          0.09772540664771134,
          0.09753277450612159,
          0.08535987853833328,
          0.08342554200242382,
          0.07290067403909159,
          0.0698520230959945,
          0.05742682402468796,
          0.054394821571870096
         ],
         "yaxis": "y"
        }
       ],
       "layout": {
        "barmode": "relative",
        "coloraxis": {
         "colorbar": {
          "title": {
           "text": "importance"
          }
         },
         "colorscale": [
          [
           0,
           "#0d0887"
          ],
          [
           0.1111111111111111,
           "#46039f"
          ],
          [
           0.2222222222222222,
           "#7201a8"
          ],
          [
           0.3333333333333333,
           "#9c179e"
          ],
          [
           0.4444444444444444,
           "#bd3786"
          ],
          [
           0.5555555555555556,
           "#d8576b"
          ],
          [
           0.6666666666666666,
           "#ed7953"
          ],
          [
           0.7777777777777778,
           "#fb9f3a"
          ],
          [
           0.8888888888888888,
           "#fdca26"
          ],
          [
           1,
           "#f0f921"
          ]
         ]
        },
        "legend": {
         "tracegroupgap": 0
        },
        "template": {
         "data": {
          "bar": [
           {
            "error_x": {
             "color": "#2a3f5f"
            },
            "error_y": {
             "color": "#2a3f5f"
            },
            "marker": {
             "line": {
              "color": "#E5ECF6",
              "width": 0.5
             },
             "pattern": {
              "fillmode": "overlay",
              "size": 10,
              "solidity": 0.2
             }
            },
            "type": "bar"
           }
          ],
          "barpolar": [
           {
            "marker": {
             "line": {
              "color": "#E5ECF6",
              "width": 0.5
             },
             "pattern": {
              "fillmode": "overlay",
              "size": 10,
              "solidity": 0.2
             }
            },
            "type": "barpolar"
           }
          ],
          "carpet": [
           {
            "aaxis": {
             "endlinecolor": "#2a3f5f",
             "gridcolor": "white",
             "linecolor": "white",
             "minorgridcolor": "white",
             "startlinecolor": "#2a3f5f"
            },
            "baxis": {
             "endlinecolor": "#2a3f5f",
             "gridcolor": "white",
             "linecolor": "white",
             "minorgridcolor": "white",
             "startlinecolor": "#2a3f5f"
            },
            "type": "carpet"
           }
          ],
          "choropleth": [
           {
            "colorbar": {
             "outlinewidth": 0,
             "ticks": ""
            },
            "type": "choropleth"
           }
          ],
          "contour": [
           {
            "colorbar": {
             "outlinewidth": 0,
             "ticks": ""
            },
            "colorscale": [
             [
              0,
              "#0d0887"
             ],
             [
              0.1111111111111111,
              "#46039f"
             ],
             [
              0.2222222222222222,
              "#7201a8"
             ],
             [
              0.3333333333333333,
              "#9c179e"
             ],
             [
              0.4444444444444444,
              "#bd3786"
             ],
             [
              0.5555555555555556,
              "#d8576b"
             ],
             [
              0.6666666666666666,
              "#ed7953"
             ],
             [
              0.7777777777777778,
              "#fb9f3a"
             ],
             [
              0.8888888888888888,
              "#fdca26"
             ],
             [
              1,
              "#f0f921"
             ]
            ],
            "type": "contour"
           }
          ],
          "contourcarpet": [
           {
            "colorbar": {
             "outlinewidth": 0,
             "ticks": ""
            },
            "type": "contourcarpet"
           }
          ],
          "heatmap": [
           {
            "colorbar": {
             "outlinewidth": 0,
             "ticks": ""
            },
            "colorscale": [
             [
              0,
              "#0d0887"
             ],
             [
              0.1111111111111111,
              "#46039f"
             ],
             [
              0.2222222222222222,
              "#7201a8"
             ],
             [
              0.3333333333333333,
              "#9c179e"
             ],
             [
              0.4444444444444444,
              "#bd3786"
             ],
             [
              0.5555555555555556,
              "#d8576b"
             ],
             [
              0.6666666666666666,
              "#ed7953"
             ],
             [
              0.7777777777777778,
              "#fb9f3a"
             ],
             [
              0.8888888888888888,
              "#fdca26"
             ],
             [
              1,
              "#f0f921"
             ]
            ],
            "type": "heatmap"
           }
          ],
          "heatmapgl": [
           {
            "colorbar": {
             "outlinewidth": 0,
             "ticks": ""
            },
            "colorscale": [
             [
              0,
              "#0d0887"
             ],
             [
              0.1111111111111111,
              "#46039f"
             ],
             [
              0.2222222222222222,
              "#7201a8"
             ],
             [
              0.3333333333333333,
              "#9c179e"
             ],
             [
              0.4444444444444444,
              "#bd3786"
             ],
             [
              0.5555555555555556,
              "#d8576b"
             ],
             [
              0.6666666666666666,
              "#ed7953"
             ],
             [
              0.7777777777777778,
              "#fb9f3a"
             ],
             [
              0.8888888888888888,
              "#fdca26"
             ],
             [
              1,
              "#f0f921"
             ]
            ],
            "type": "heatmapgl"
           }
          ],
          "histogram": [
           {
            "marker": {
             "pattern": {
              "fillmode": "overlay",
              "size": 10,
              "solidity": 0.2
             }
            },
            "type": "histogram"
           }
          ],
          "histogram2d": [
           {
            "colorbar": {
             "outlinewidth": 0,
             "ticks": ""
            },
            "colorscale": [
             [
              0,
              "#0d0887"
             ],
             [
              0.1111111111111111,
              "#46039f"
             ],
             [
              0.2222222222222222,
              "#7201a8"
             ],
             [
              0.3333333333333333,
              "#9c179e"
             ],
             [
              0.4444444444444444,
              "#bd3786"
             ],
             [
              0.5555555555555556,
              "#d8576b"
             ],
             [
              0.6666666666666666,
              "#ed7953"
             ],
             [
              0.7777777777777778,
              "#fb9f3a"
             ],
             [
              0.8888888888888888,
              "#fdca26"
             ],
             [
              1,
              "#f0f921"
             ]
            ],
            "type": "histogram2d"
           }
          ],
          "histogram2dcontour": [
           {
            "colorbar": {
             "outlinewidth": 0,
             "ticks": ""
            },
            "colorscale": [
             [
              0,
              "#0d0887"
             ],
             [
              0.1111111111111111,
              "#46039f"
             ],
             [
              0.2222222222222222,
              "#7201a8"
             ],
             [
              0.3333333333333333,
              "#9c179e"
             ],
             [
              0.4444444444444444,
              "#bd3786"
             ],
             [
              0.5555555555555556,
              "#d8576b"
             ],
             [
              0.6666666666666666,
              "#ed7953"
             ],
             [
              0.7777777777777778,
              "#fb9f3a"
             ],
             [
              0.8888888888888888,
              "#fdca26"
             ],
             [
              1,
              "#f0f921"
             ]
            ],
            "type": "histogram2dcontour"
           }
          ],
          "mesh3d": [
           {
            "colorbar": {
             "outlinewidth": 0,
             "ticks": ""
            },
            "type": "mesh3d"
           }
          ],
          "parcoords": [
           {
            "line": {
             "colorbar": {
              "outlinewidth": 0,
              "ticks": ""
             }
            },
            "type": "parcoords"
           }
          ],
          "pie": [
           {
            "automargin": true,
            "type": "pie"
           }
          ],
          "scatter": [
           {
            "fillpattern": {
             "fillmode": "overlay",
             "size": 10,
             "solidity": 0.2
            },
            "type": "scatter"
           }
          ],
          "scatter3d": [
           {
            "line": {
             "colorbar": {
              "outlinewidth": 0,
              "ticks": ""
             }
            },
            "marker": {
             "colorbar": {
              "outlinewidth": 0,
              "ticks": ""
             }
            },
            "type": "scatter3d"
           }
          ],
          "scattercarpet": [
           {
            "marker": {
             "colorbar": {
              "outlinewidth": 0,
              "ticks": ""
             }
            },
            "type": "scattercarpet"
           }
          ],
          "scattergeo": [
           {
            "marker": {
             "colorbar": {
              "outlinewidth": 0,
              "ticks": ""
             }
            },
            "type": "scattergeo"
           }
          ],
          "scattergl": [
           {
            "marker": {
             "colorbar": {
              "outlinewidth": 0,
              "ticks": ""
             }
            },
            "type": "scattergl"
           }
          ],
          "scattermapbox": [
           {
            "marker": {
             "colorbar": {
              "outlinewidth": 0,
              "ticks": ""
             }
            },
            "type": "scattermapbox"
           }
          ],
          "scatterpolar": [
           {
            "marker": {
             "colorbar": {
              "outlinewidth": 0,
              "ticks": ""
             }
            },
            "type": "scatterpolar"
           }
          ],
          "scatterpolargl": [
           {
            "marker": {
             "colorbar": {
              "outlinewidth": 0,
              "ticks": ""
             }
            },
            "type": "scatterpolargl"
           }
          ],
          "scatterternary": [
           {
            "marker": {
             "colorbar": {
              "outlinewidth": 0,
              "ticks": ""
             }
            },
            "type": "scatterternary"
           }
          ],
          "surface": [
           {
            "colorbar": {
             "outlinewidth": 0,
             "ticks": ""
            },
            "colorscale": [
             [
              0,
              "#0d0887"
             ],
             [
              0.1111111111111111,
              "#46039f"
             ],
             [
              0.2222222222222222,
              "#7201a8"
             ],
             [
              0.3333333333333333,
              "#9c179e"
             ],
             [
              0.4444444444444444,
              "#bd3786"
             ],
             [
              0.5555555555555556,
              "#d8576b"
             ],
             [
              0.6666666666666666,
              "#ed7953"
             ],
             [
              0.7777777777777778,
              "#fb9f3a"
             ],
             [
              0.8888888888888888,
              "#fdca26"
             ],
             [
              1,
              "#f0f921"
             ]
            ],
            "type": "surface"
           }
          ],
          "table": [
           {
            "cells": {
             "fill": {
              "color": "#EBF0F8"
             },
             "line": {
              "color": "white"
             }
            },
            "header": {
             "fill": {
              "color": "#C8D4E3"
             },
             "line": {
              "color": "white"
             }
            },
            "type": "table"
           }
          ]
         },
         "layout": {
          "annotationdefaults": {
           "arrowcolor": "#2a3f5f",
           "arrowhead": 0,
           "arrowwidth": 1
          },
          "autotypenumbers": "strict",
          "coloraxis": {
           "colorbar": {
            "outlinewidth": 0,
            "ticks": ""
           }
          },
          "colorscale": {
           "diverging": [
            [
             0,
             "#8e0152"
            ],
            [
             0.1,
             "#c51b7d"
            ],
            [
             0.2,
             "#de77ae"
            ],
            [
             0.3,
             "#f1b6da"
            ],
            [
             0.4,
             "#fde0ef"
            ],
            [
             0.5,
             "#f7f7f7"
            ],
            [
             0.6,
             "#e6f5d0"
            ],
            [
             0.7,
             "#b8e186"
            ],
            [
             0.8,
             "#7fbc41"
            ],
            [
             0.9,
             "#4d9221"
            ],
            [
             1,
             "#276419"
            ]
           ],
           "sequential": [
            [
             0,
             "#0d0887"
            ],
            [
             0.1111111111111111,
             "#46039f"
            ],
            [
             0.2222222222222222,
             "#7201a8"
            ],
            [
             0.3333333333333333,
             "#9c179e"
            ],
            [
             0.4444444444444444,
             "#bd3786"
            ],
            [
             0.5555555555555556,
             "#d8576b"
            ],
            [
             0.6666666666666666,
             "#ed7953"
            ],
            [
             0.7777777777777778,
             "#fb9f3a"
            ],
            [
             0.8888888888888888,
             "#fdca26"
            ],
            [
             1,
             "#f0f921"
            ]
           ],
           "sequentialminus": [
            [
             0,
             "#0d0887"
            ],
            [
             0.1111111111111111,
             "#46039f"
            ],
            [
             0.2222222222222222,
             "#7201a8"
            ],
            [
             0.3333333333333333,
             "#9c179e"
            ],
            [
             0.4444444444444444,
             "#bd3786"
            ],
            [
             0.5555555555555556,
             "#d8576b"
            ],
            [
             0.6666666666666666,
             "#ed7953"
            ],
            [
             0.7777777777777778,
             "#fb9f3a"
            ],
            [
             0.8888888888888888,
             "#fdca26"
            ],
            [
             1,
             "#f0f921"
            ]
           ]
          },
          "colorway": [
           "#636efa",
           "#EF553B",
           "#00cc96",
           "#ab63fa",
           "#FFA15A",
           "#19d3f3",
           "#FF6692",
           "#B6E880",
           "#FF97FF",
           "#FECB52"
          ],
          "font": {
           "color": "#2a3f5f"
          },
          "geo": {
           "bgcolor": "white",
           "lakecolor": "white",
           "landcolor": "#E5ECF6",
           "showlakes": true,
           "showland": true,
           "subunitcolor": "white"
          },
          "hoverlabel": {
           "align": "left"
          },
          "hovermode": "closest",
          "mapbox": {
           "style": "light"
          },
          "paper_bgcolor": "white",
          "plot_bgcolor": "#E5ECF6",
          "polar": {
           "angularaxis": {
            "gridcolor": "white",
            "linecolor": "white",
            "ticks": ""
           },
           "bgcolor": "#E5ECF6",
           "radialaxis": {
            "gridcolor": "white",
            "linecolor": "white",
            "ticks": ""
           }
          },
          "scene": {
           "xaxis": {
            "backgroundcolor": "#E5ECF6",
            "gridcolor": "white",
            "gridwidth": 2,
            "linecolor": "white",
            "showbackground": true,
            "ticks": "",
            "zerolinecolor": "white"
           },
           "yaxis": {
            "backgroundcolor": "#E5ECF6",
            "gridcolor": "white",
            "gridwidth": 2,
            "linecolor": "white",
            "showbackground": true,
            "ticks": "",
            "zerolinecolor": "white"
           },
           "zaxis": {
            "backgroundcolor": "#E5ECF6",
            "gridcolor": "white",
            "gridwidth": 2,
            "linecolor": "white",
            "showbackground": true,
            "ticks": "",
            "zerolinecolor": "white"
           }
          },
          "shapedefaults": {
           "line": {
            "color": "#2a3f5f"
           }
          },
          "ternary": {
           "aaxis": {
            "gridcolor": "white",
            "linecolor": "white",
            "ticks": ""
           },
           "baxis": {
            "gridcolor": "white",
            "linecolor": "white",
            "ticks": ""
           },
           "bgcolor": "#E5ECF6",
           "caxis": {
            "gridcolor": "white",
            "linecolor": "white",
            "ticks": ""
           }
          },
          "title": {
           "x": 0.05
          },
          "xaxis": {
           "automargin": true,
           "gridcolor": "white",
           "linecolor": "white",
           "ticks": "",
           "title": {
            "standoff": 15
           },
           "zerolinecolor": "white",
           "zerolinewidth": 2
          },
          "yaxis": {
           "automargin": true,
           "gridcolor": "white",
           "linecolor": "white",
           "ticks": "",
           "title": {
            "standoff": 15
           },
           "zerolinecolor": "white",
           "zerolinewidth": 2
          }
         }
        },
        "title": {
         "text": "Feature Importance"
        },
        "xaxis": {
         "anchor": "y",
         "domain": [
          0,
          1
         ],
         "title": {
          "text": "feature"
         }
        },
        "yaxis": {
         "anchor": "x",
         "domain": [
          0,
          1
         ],
         "title": {
          "text": "importance"
         }
        }
       }
      }
     },
     "metadata": {},
     "output_type": "display_data"
    }
   ],
   "source": [
    "# use plotly to create a bar chart of the feature importance\n",
    "fig = px.bar(feature_importance_df, x=feature_importance_df.index, y=\"importance\", title=\"Feature Importance\", color=\"importance\")\n",
    "# save the plot as a png file\n",
    "fig.write_image(\"images/feature_importance_custom.png\")\n",
    "# show the plot\n",
    "fig.show()"
   ]
  },
  {
   "cell_type": "code",
   "execution_count": 25,
   "metadata": {},
   "outputs": [
    {
     "data": {
      "text/html": [
       "<div>\n",
       "<style scoped>\n",
       "    .dataframe tbody tr th:only-of-type {\n",
       "        vertical-align: middle;\n",
       "    }\n",
       "\n",
       "    .dataframe tbody tr th {\n",
       "        vertical-align: top;\n",
       "    }\n",
       "\n",
       "    .dataframe thead th {\n",
       "        text-align: right;\n",
       "    }\n",
       "</style>\n",
       "<table border=\"1\" class=\"dataframe\">\n",
       "  <thead>\n",
       "    <tr style=\"text-align: right;\">\n",
       "      <th></th>\n",
       "      <th>Predicted 0</th>\n",
       "      <th>Predicted 1</th>\n",
       "    </tr>\n",
       "  </thead>\n",
       "  <tbody>\n",
       "    <tr>\n",
       "      <th>Actual 0</th>\n",
       "      <td>21</td>\n",
       "      <td>8</td>\n",
       "    </tr>\n",
       "    <tr>\n",
       "      <th>Actual 1</th>\n",
       "      <td>8</td>\n",
       "      <td>71</td>\n",
       "    </tr>\n",
       "  </tbody>\n",
       "</table>\n",
       "</div>"
      ],
      "text/plain": [
       "          Predicted 0  Predicted 1\n",
       "Actual 0           21            8\n",
       "Actual 1            8           71"
      ]
     },
     "metadata": {},
     "output_type": "display_data"
    }
   ],
   "source": [
    "# create a confusion matrix\n",
    "cm = confusion_matrix(y_test, predictions)\n",
    "# create a dataframe from the confusion matrix\n",
    "cm_df = pd.DataFrame(\n",
    "    cm, index=[\"Actual 0\", \"Actual 1\"], columns=[\"Predicted 0\", \"Predicted 1\"]\n",
    ")\n",
    "# display the confusion matrix\n",
    "display(cm_df)\n"
   ]
  },
  {
   "cell_type": "code",
   "execution_count": 27,
   "metadata": {},
   "outputs": [
    {
     "name": "stdout",
     "output_type": "stream",
     "text": [
      "Classification Report\n",
      "              precision    recall  f1-score   support\n",
      "\n",
      "           0       0.72      0.72      0.72        29\n",
      "           1       0.90      0.90      0.90        79\n",
      "\n",
      "    accuracy                           0.85       108\n",
      "   macro avg       0.81      0.81      0.81       108\n",
      "weighted avg       0.85      0.85      0.85       108\n",
      "\n"
     ]
    }
   ],
   "source": [
    "# print the classification report\n",
    "print(\"Classification Report\")\n",
    "print(classification_report(y_test, predictions))"
   ]
  },
  {
   "cell_type": "code",
   "execution_count": 28,
   "metadata": {},
   "outputs": [],
   "source": [
    "# define a function to output images of tables\n",
    "def save_df_as_image(df, filename):\n",
    "    source = ColumnDataSource(df)\n",
    "    columns = [TableColumn(field=Ci, title=Ci) for Ci in df.columns]  # bokeh columns\n",
    "    # add index column\n",
    "    columns.insert(0, TableColumn(field=\"index\", title=\"index\"))\n",
    "    # use df index as index column\n",
    "    source.add(df.index, \"index\")\n",
    "    data_table = DataTable(columns=columns, source=source, width=800, height=280)\n",
    "    export_png(data_table, filename=filename)"
   ]
  },
  {
   "cell_type": "code",
   "execution_count": 29,
   "metadata": {},
   "outputs": [],
   "source": [
    "# save a table of the feature importance\n",
    "save_df_as_image(feature_importance_df, \"images/feature_importance_custom_table.png\")"
   ]
  },
  {
   "cell_type": "code",
   "execution_count": 30,
   "metadata": {},
   "outputs": [],
   "source": [
    "# save a table of the confusion matrix\n",
    "save_df_as_image(cm_df, \"images/confusion_matrix_custom_table.png\")"
   ]
  },
  {
   "cell_type": "code",
   "execution_count": 31,
   "metadata": {},
   "outputs": [],
   "source": [
    "# save a table of the classification report\n",
    "classification_report_df = pd.DataFrame(classification_report(y_test, predictions, output_dict=True)).transpose()\n",
    "save_df_as_image(classification_report_df, \"images/classification_report_custom_table.png\")"
   ]
  }
 ],
 "metadata": {
  "kernelspec": {
   "display_name": "PythonData",
   "language": "python",
   "name": "python3"
  },
  "language_info": {
   "codemirror_mode": {
    "name": "ipython",
    "version": 3
   },
   "file_extension": ".py",
   "mimetype": "text/x-python",
   "name": "python",
   "nbconvert_exporter": "python",
   "pygments_lexer": "ipython3",
   "version": "3.7.7"
  },
  "orig_nbformat": 4
 },
 "nbformat": 4,
 "nbformat_minor": 2
}
